{
 "cells": [
  {
   "cell_type": "code",
   "execution_count": 12,
   "id": "e473b2bf",
   "metadata": {
    "ExecuteTime": {
     "end_time": "2022-09-28T15:48:03.262855Z",
     "start_time": "2022-09-28T15:48:03.093971Z"
    },
    "execution": {
     "iopub.execute_input": "2023-03-21T16:20:53.832989Z",
     "iopub.status.busy": "2023-03-21T16:20:53.832376Z",
     "iopub.status.idle": "2023-03-21T16:20:53.840087Z",
     "shell.execute_reply": "2023-03-21T16:20:53.838963Z",
     "shell.execute_reply.started": "2023-03-21T16:20:53.832936Z"
    },
    "tags": []
   },
   "outputs": [],
   "source": [
    "import dryml\n",
    "from dryml import ObjectDef\n",
    "import numpy as np\n",
    "import tensorflow_datasets as tfds\n",
    "import tensorflow as tf\n",
    "import dryml.data.tf\n",
    "from dryml.data.tf import TFDataset"
   ]
  },
  {
   "cell_type": "markdown",
   "id": "e903351e-dd42-400e-9d5f-bcac740ee447",
   "metadata": {
    "ExecuteTime": {
     "end_time": "2022-09-23T21:35:56.279227Z",
     "start_time": "2022-09-23T21:35:56.275182Z"
    }
   },
   "source": [
    "# DRYML Tutorial 4 - `Trainable`s\n",
    "\n",
    "With `Object`s, `Repo`s, `Dataset`s, and `dryml.context`, we are now ready to do some machine learning!\n",
    "\n",
    "DRYML machine learning model components are all stored within the module `dryml.models`, the most important of which is `Trainable`. A `Trainable` is the base class which defines DRYML's machine learning API. Any 'trainable' object must inherit from `Trainable`. `dryml.models` also contains `Pipe` which is an analogue to an sklearn pipe. This allows us to chain `Trainable`s together forming a data pipeline.\n",
    "\n",
    "`Trainable` is a subclass of `Object` and that means any `Trainable` can be serialized and loaded later.\n",
    "\n",
    "DRYML provides basic support for major ML frameworks in submodules which you must import.\n",
    "* `dryml.models.tf` - tensorflow\n",
    "* `dryml.models.torch` - pytorch\n",
    "* `dryml.models.sklearn` - sklearn\n",
    "* `dryml.models.xgb` - xgboost\n",
    "\n",
    "Each submodule provides needed classes (Like a `Trainable` for example) which implement basic functionality for serialization, and training. While it is possible to build a monolithic class which implements all of these methods, it is recommended (and the base implementations do this) to use an approach more in line with the Entity Component System (ECS) pattern. In this pattern, `Object`s implement different functionality like training program or model architecture, and are combined in a larger `Object` (the `Trainable`). This larger object can then be customized with different components extending its functionality and reducing the number of classes you need to write.\n",
    "\n",
    "DRYML also provides support for common data transformations which can be incorporated into a processing pipeline. These are found in `dryml.data.transforms`. They are implemented as `Trainable`s which have been marked as 'trained' so they are skipped during the training process.\n",
    "\n",
    "We'll go over some of the sklearn, tensorflow, and pytorch classes as well as the `Trainable` API.\n",
    "\n",
    "First, let's enable all contexts for this notebook. (feel free to allocate a gpu if your machine has one) This will set up each framework for the rest of the session and will work for code like the following tensorflow code not contained within DRYML classes as well."
   ]
  },
  {
   "cell_type": "code",
   "execution_count": 2,
   "id": "b9ee2f46-7799-4551-b8b7-b4658f59df04",
   "metadata": {
    "ExecuteTime": {
     "end_time": "2022-09-26T18:36:44.742573Z",
     "start_time": "2022-09-26T18:36:44.191374Z"
    },
    "execution": {
     "iopub.execute_input": "2023-03-21T15:56:32.969817Z",
     "iopub.status.busy": "2023-03-21T15:56:32.969510Z",
     "iopub.status.idle": "2023-03-21T15:56:34.862110Z",
     "shell.execute_reply": "2023-03-21T15:56:34.861596Z",
     "shell.execute_reply.started": "2023-03-21T15:56:32.969796Z"
    },
    "tags": []
   },
   "outputs": [
    {
     "name": "stderr",
     "output_type": "stream",
     "text": [
      "2023-03-21 10:56:34.856475: I tensorflow/core/common_runtime/gpu/gpu_device.cc:1525] Created device /job:localhost/replica:0/task:0/device:GPU:0 with 6451 MB memory:  -> device: 0, name: NVIDIA GeForce GTX 1080, pci bus id: 0000:02:00.0, compute capability: 6.1\n"
     ]
    }
   ],
   "source": [
    "dryml.context.set_context({'default': {}, 'tf': {'gpu/0': 1.}, 'torch': {}})"
   ]
  },
  {
   "cell_type": "markdown",
   "id": "46953557-681a-4016-9f46-723b6ffa95b8",
   "metadata": {},
   "source": [
    "## Traditional ML training with using example\n",
    "\n",
    "Let's train a simple model on the traditional mnist digits dataset. We'll use the `tensorflow_datasets` module to get the data."
   ]
  },
  {
   "cell_type": "code",
   "execution_count": 5,
   "id": "42fb969a-5668-46ff-bb23-8dd5c28d9e56",
   "metadata": {
    "ExecuteTime": {
     "end_time": "2022-09-26T18:36:44.849654Z",
     "start_time": "2022-09-26T18:36:44.746142Z"
    },
    "execution": {
     "iopub.execute_input": "2023-03-21T15:59:41.895202Z",
     "iopub.status.busy": "2023-03-21T15:59:41.894655Z",
     "iopub.status.idle": "2023-03-21T15:59:42.119655Z",
     "shell.execute_reply": "2023-03-21T15:59:42.118984Z",
     "shell.execute_reply.started": "2023-03-21T15:59:41.895150Z"
    },
    "tags": []
   },
   "outputs": [],
   "source": [
    "# Load mnist data\n",
    "(ds_train, ds_test), ds_info = tfds.load(\n",
    "    'mnist',\n",
    "    split=['train', 'test'],\n",
    "    shuffle_files=True,\n",
    "    as_supervised=True,\n",
    "    with_info=True)"
   ]
  },
  {
   "cell_type": "code",
   "execution_count": 6,
   "id": "71144980-774b-4ee7-9149-6bbcca055f83",
   "metadata": {
    "ExecuteTime": {
     "end_time": "2022-09-26T18:36:45.349249Z",
     "start_time": "2022-09-26T18:36:45.314250Z"
    },
    "execution": {
     "iopub.execute_input": "2023-03-21T15:59:44.896256Z",
     "iopub.status.busy": "2023-03-21T15:59:44.895927Z",
     "iopub.status.idle": "2023-03-21T15:59:45.037295Z",
     "shell.execute_reply": "2023-03-21T15:59:45.036045Z",
     "shell.execute_reply.started": "2023-03-21T15:59:44.896229Z"
    },
    "tags": []
   },
   "outputs": [],
   "source": [
    "# Create a simple model with a couple dense layers\n",
    "mdl = tf.keras.Sequential([\n",
    "    tf.keras.layers.Conv2D(16, 3 , input_shape=(28, 28, 1), activation='relu'),\n",
    "    tf.keras.layers.Conv2D(16, 3, activation='relu'),\n",
    "    tf.keras.layers.Flatten(),\n",
    "    tf.keras.layers.Dense(10, activation='linear')\n",
    "])\n",
    "# prepare loss and optimizer\n",
    "mdl.compile(\n",
    "    loss=tf.keras.losses.SparseCategoricalCrossentropy(from_logits=True),\n",
    "    optimizer=tf.keras.optimizers.Adam(),\n",
    ")"
   ]
  },
  {
   "cell_type": "code",
   "execution_count": 7,
   "id": "acd1c4d4-4607-4870-92b2-7a22c8175039",
   "metadata": {
    "ExecuteTime": {
     "end_time": "2022-09-26T18:36:50.204387Z",
     "start_time": "2022-09-26T18:36:46.002929Z"
    },
    "execution": {
     "iopub.execute_input": "2023-03-21T15:59:46.832103Z",
     "iopub.status.busy": "2023-03-21T15:59:46.831582Z",
     "iopub.status.idle": "2023-03-21T15:59:59.120059Z",
     "shell.execute_reply": "2023-03-21T15:59:59.119439Z",
     "shell.execute_reply.started": "2023-03-21T15:59:46.832056Z"
    },
    "tags": []
   },
   "outputs": [
    {
     "name": "stderr",
     "output_type": "stream",
     "text": [
      "2023-03-21 10:59:53.806941: I tensorflow/stream_executor/cuda/cuda_dnn.cc:368] Loaded cuDNN version 8600\n"
     ]
    },
    {
     "name": "stdout",
     "output_type": "stream",
     "text": [
      "1875/1875 [==============================] - 12s 2ms/step - loss: 0.3416\n"
     ]
    },
    {
     "data": {
      "text/plain": [
       "<keras.callbacks.History at 0x7f591c034e50>"
      ]
     },
     "execution_count": 7,
     "metadata": {},
     "output_type": "execute_result"
    }
   ],
   "source": [
    "# train the model\n",
    "mdl.fit(ds_train.batch(32), epochs=1)"
   ]
  },
  {
   "cell_type": "code",
   "execution_count": 8,
   "id": "d6f8bf0a-5732-49ea-a498-07910480d3e4",
   "metadata": {
    "ExecuteTime": {
     "end_time": "2022-09-26T18:40:21.328620Z",
     "start_time": "2022-09-26T18:40:20.693435Z"
    },
    "execution": {
     "iopub.execute_input": "2023-03-21T15:59:59.121438Z",
     "iopub.status.busy": "2023-03-21T15:59:59.121256Z",
     "iopub.status.idle": "2023-03-21T15:59:59.757737Z",
     "shell.execute_reply": "2023-03-21T15:59:59.757120Z",
     "shell.execute_reply.started": "2023-03-21T15:59:59.121419Z"
    },
    "tags": []
   },
   "outputs": [
    {
     "name": "stdout",
     "output_type": "stream",
     "text": [
      "accuracy: 0.9639\n"
     ]
    }
   ],
   "source": [
    "# Compute model accuracy\n",
    "total_correct = 0\n",
    "total_num = 0\n",
    "for x, y in ds_test.batch(32):\n",
    "    y_pred = tf.argmax(mdl(x), axis=1).numpy()\n",
    "    total_correct += np.sum(y_pred == y.numpy())\n",
    "    total_num += y_pred.shape[0]\n",
    "\n",
    "print(f\"accuracy: {total_correct/total_num}\")"
   ]
  },
  {
   "cell_type": "markdown",
   "id": "9265abe7-13be-4a74-bb3e-2f74cf918af6",
   "metadata": {},
   "source": [
    "## Trainable API\n",
    "\n",
    "DRYML `Trainable` objects require the user to implement just four methods.\n",
    "\n",
    "* `prep_train(self)`: This method should perform any necessary preparation for an `Object` to be trained. This is needed in some ML frameworks for example pytorch and tensorflow.\n",
    "* `prep_eval(self)`: This method should perform any necessary preparation for an `Object` to be evaluated. This is needed in some ML frameworks.\n",
    "* `train(self, data, train_spec=None, train_callbacks=[])`: This method governs the training of the `Trainable`. The api here is meant to be resumable, as well as allow custom callbacks to be called at each step during the training process.\n",
    "* `eval(self, data)`: This method evaluates the model on the data. Typically, the model accepts a `Dataset`, and calls the `apply_X` method with an appropriate lambda function.\n",
    "\n",
    "## Basic tensorflow training with DRYML\n",
    "\n",
    "Now, how do we train such a model in DRYML? Well, we want to create a `Trainable` describing this workflow. DRYML offers some pre-built tensorflow functionality. We'll use the generic `Trainable`: `dryml.models.tf.keras.Trainable`. This takes a `model`, an `optimizer`, a `loss`, and a `train_fn`. So, `model` represents a tensorflow model and handles the loading/unloading of the network for compute mode, and save/restore of the object. The `optimizer` object contains a tensorflow optimizer, and `loss` contains a tensorflow loss. Finally, `train_fn` refers to a `dryml.models.tf.TrainFunction` object which defines the training method. The `train_fn` object can store hyperparameters about the training procedure, and `model` can save hyperparameters about the network. This means we can mix and match models and training methods without having to create new classes to contain them. Let's see this in action.\n",
    "\n",
    "We'll use `dryml.models.tf.keras.BasicTraining` which implements a basic training regime for keras models for `train_fn`, and we'll use `dryml.models.tf.keras.SequentialFunctionalModel` for the model."
   ]
  },
  {
   "cell_type": "code",
   "execution_count": 9,
   "id": "806a9167-80ae-4e7d-8da5-63845abc2d6e",
   "metadata": {
    "ExecuteTime": {
     "end_time": "2022-09-26T19:14:39.734809Z",
     "start_time": "2022-09-26T19:14:39.726994Z"
    },
    "execution": {
     "iopub.execute_input": "2023-03-21T16:18:07.595401Z",
     "iopub.status.busy": "2023-03-21T16:18:07.595083Z",
     "iopub.status.idle": "2023-03-21T16:18:07.683842Z",
     "shell.execute_reply": "2023-03-21T16:18:07.682495Z",
     "shell.execute_reply.started": "2023-03-21T16:18:07.595376Z"
    },
    "tags": []
   },
   "outputs": [],
   "source": [
    "import dryml.models.tf"
   ]
  },
  {
   "cell_type": "code",
   "execution_count": 10,
   "id": "94ec04d2-aa31-47ec-993f-89936b390f17",
   "metadata": {
    "ExecuteTime": {
     "end_time": "2022-09-26T20:04:58.563237Z",
     "start_time": "2022-09-26T20:04:58.557145Z"
    },
    "execution": {
     "iopub.execute_input": "2023-03-21T16:18:08.674673Z",
     "iopub.status.busy": "2023-03-21T16:18:08.673312Z",
     "iopub.status.idle": "2023-03-21T16:18:08.831700Z",
     "shell.execute_reply": "2023-03-21T16:18:08.831016Z",
     "shell.execute_reply.started": "2023-03-21T16:18:08.674618Z"
    },
    "tags": []
   },
   "outputs": [],
   "source": [
    "# Create Object to hold model\n",
    "model = dryml.models.tf.keras.SequentialFunctionalModel(\n",
    "    input_shape=(28, 28, 1),\n",
    "    layer_defs=[\n",
    "        ['Conv2D', {'filters': 16, 'kernel_size': 3, 'activation': 'relu'}],\n",
    "        ['Conv2D', {'filters': 16, 'kernel_size': 3, 'activation': 'relu'}],\n",
    "        ['Flatten', {}],\n",
    "        ['Dense', {'units': 10, 'activation': 'linear'}],\n",
    "    ]\n",
    ")\n",
    "\n",
    "# Create Object to hold the training algorithm\n",
    "train_fn = dryml.models.tf.keras.BasicTraining(\n",
    "    epochs=1\n",
    ")\n",
    "\n",
    "# Create final trainable\n",
    "mdl = dryml.models.tf.keras.Trainable(\n",
    "    model=model,\n",
    "    optimizer=dryml.models.tf.Wrapper(tf.keras.optimizers.Adam),\n",
    "    loss=dryml.models.tf.Wrapper(tf.keras.losses.SparseCategoricalCrossentropy, from_logits=True),\n",
    "    train_fn=train_fn,\n",
    ")"
   ]
  },
  {
   "cell_type": "code",
   "execution_count": 13,
   "id": "9c0fa655-577e-47d4-8061-063cac2e0948",
   "metadata": {
    "ExecuteTime": {
     "end_time": "2022-09-26T20:05:00.735957Z",
     "start_time": "2022-09-26T20:05:00.731467Z"
    },
    "execution": {
     "iopub.execute_input": "2023-03-21T16:20:58.784027Z",
     "iopub.status.busy": "2023-03-21T16:20:58.782704Z",
     "iopub.status.idle": "2023-03-21T16:20:58.790185Z",
     "shell.execute_reply": "2023-03-21T16:20:58.788809Z",
     "shell.execute_reply.started": "2023-03-21T16:20:58.783974Z"
    },
    "tags": []
   },
   "outputs": [],
   "source": [
    "# Create TFDatasets to wrap the mnist dataset\n",
    "train_ds = TFDataset(\n",
    "    ds_train,\n",
    "    supervised=True\n",
    ")\n",
    "\n",
    "test_ds = TFDataset(\n",
    "    ds_test,\n",
    "    supervised=True\n",
    ")"
   ]
  },
  {
   "cell_type": "code",
   "execution_count": 14,
   "id": "86a88b7f-a176-4cc9-8efd-b7adba2b2c64",
   "metadata": {
    "ExecuteTime": {
     "end_time": "2022-09-26T20:05:10.609047Z",
     "start_time": "2022-09-26T20:05:00.922477Z"
    },
    "execution": {
     "iopub.execute_input": "2023-03-21T16:21:00.643426Z",
     "iopub.status.busy": "2023-03-21T16:21:00.642833Z",
     "iopub.status.idle": "2023-03-21T16:21:12.122377Z",
     "shell.execute_reply": "2023-03-21T16:21:12.121591Z",
     "shell.execute_reply.started": "2023-03-21T16:21:00.643373Z"
    },
    "tags": []
   },
   "outputs": [
    {
     "name": "stdout",
     "output_type": "stream",
     "text": [
      "1500/1500 [==============================] - 6s 4ms/step - loss: 0.4371 - val_loss: 0.1258\n"
     ]
    }
   ],
   "source": [
    "# Prepare the model for training\n",
    "mdl.prep_train()\n",
    "# Train the model\n",
    "mdl.train(train_ds)"
   ]
  },
  {
   "cell_type": "code",
   "execution_count": 15,
   "id": "a4b73dda-0715-4ab4-8de1-c4af5519b830",
   "metadata": {
    "ExecuteTime": {
     "end_time": "2022-09-26T20:16:06.676682Z",
     "start_time": "2022-09-26T20:16:06.427423Z"
    },
    "execution": {
     "iopub.execute_input": "2023-03-21T16:21:12.124434Z",
     "iopub.status.busy": "2023-03-21T16:21:12.124102Z",
     "iopub.status.idle": "2023-03-21T16:21:14.106566Z",
     "shell.execute_reply": "2023-03-21T16:21:14.106057Z",
     "shell.execute_reply.started": "2023-03-21T16:21:12.124400Z"
    },
    "tags": []
   },
   "outputs": [
    {
     "name": "stdout",
     "output_type": "stream",
     "text": [
      "Model accuracy: 0.9663461538461539\n"
     ]
    }
   ],
   "source": [
    "# Compute accuracy of model, we eval, then use .numpy to transform them into numpy arrays we can compute on like before\n",
    "total_correct = 0\n",
    "total_num = 0\n",
    "for mdl_out, y in mdl.eval(test_ds.batch(batch_size=32)).numpy():\n",
    "    # We have to compute the argmax of the model to get the prediction labels\n",
    "    y_pred = np.argmax(mdl_out, axis=1)\n",
    "    # Now we can compute the accuracy\n",
    "    total_correct += np.sum(y_pred == y)\n",
    "    total_num += y_pred.shape[0]\n",
    "print(f\"Model accuracy: {total_correct/total_num}\")"
   ]
  },
  {
   "cell_type": "markdown",
   "id": "3d141f58-a466-4318-9523-7674dd53b50a",
   "metadata": {},
   "source": [
    "## `Pipe` and data processing\n",
    "\n",
    "Now, we had to do some extra processing there at the last step. That's where `Pipe` comes in handy. If we need to do some concrete steps to pre or post process the data, we can create more `Trainable`s (which may not need training) to do that processing. Let's create a `Pipe`, and add a `dryml.data.transforms.BestCat` `Trainable` after the model."
   ]
  },
  {
   "cell_type": "code",
   "execution_count": 16,
   "id": "bff045c0-5ce6-4488-b05e-0e4d207bee82",
   "metadata": {
    "ExecuteTime": {
     "end_time": "2022-09-26T20:36:52.037654Z",
     "start_time": "2022-09-26T20:36:52.032376Z"
    },
    "execution": {
     "iopub.execute_input": "2023-03-21T16:21:44.199902Z",
     "iopub.status.busy": "2023-03-21T16:21:44.199554Z",
     "iopub.status.idle": "2023-03-21T16:21:44.206644Z",
     "shell.execute_reply": "2023-03-21T16:21:44.205373Z",
     "shell.execute_reply.started": "2023-03-21T16:21:44.199872Z"
    },
    "tags": []
   },
   "outputs": [],
   "source": [
    "pipe = dryml.models.Pipe(\n",
    "    mdl,\n",
    "    dryml.data.transforms.BestCat()\n",
    ")"
   ]
  },
  {
   "cell_type": "code",
   "execution_count": 17,
   "id": "7c11e906-8851-42fd-bc8c-9b1e684d6f01",
   "metadata": {
    "ExecuteTime": {
     "end_time": "2022-09-26T20:37:19.612574Z",
     "start_time": "2022-09-26T20:37:19.385977Z"
    },
    "execution": {
     "iopub.execute_input": "2023-03-21T16:21:46.244288Z",
     "iopub.status.busy": "2023-03-21T16:21:46.243026Z",
     "iopub.status.idle": "2023-03-21T16:21:46.562353Z",
     "shell.execute_reply": "2023-03-21T16:21:46.561847Z",
     "shell.execute_reply.started": "2023-03-21T16:21:46.244235Z"
    },
    "tags": []
   },
   "outputs": [
    {
     "name": "stdout",
     "output_type": "stream",
     "text": [
      "Model accuracy: 0.9663461538461539\n"
     ]
    }
   ],
   "source": [
    "# Compute accuracy of model, we eval, then use .numpy to transform them into numpy arrays we can compute on like before\n",
    "total_correct = 0\n",
    "total_num = 0\n",
    "for y_pred, y in pipe.eval(test_ds.batch(batch_size=32)).numpy():\n",
    "    # Now we can compute the accuracy\n",
    "    total_correct += np.sum(y_pred == y)\n",
    "    total_num += y_pred.shape[0]\n",
    "print(f\"Model accuracy: {total_correct/total_num}\")"
   ]
  },
  {
   "cell_type": "markdown",
   "id": "2f4c3c2a-9d07-4152-b6d5-9076b827fa88",
   "metadata": {},
   "source": [
    "## DRYML metrics\n",
    "\n",
    "DRYML also provides a few common metrics which can be computed on a `Dataset`. DRYML provides a categorical accuracy metric we can just use!"
   ]
  },
  {
   "cell_type": "code",
   "execution_count": 18,
   "id": "1c5eb657-f954-446f-b7a2-c97120275826",
   "metadata": {
    "execution": {
     "iopub.execute_input": "2023-03-21T16:22:03.962962Z",
     "iopub.status.busy": "2023-03-21T16:22:03.962594Z",
     "iopub.status.idle": "2023-03-21T16:22:03.993474Z",
     "shell.execute_reply": "2023-03-21T16:22:03.991956Z",
     "shell.execute_reply.started": "2023-03-21T16:22:03.962931Z"
    },
    "tags": []
   },
   "outputs": [],
   "source": [
    "import dryml.metrics"
   ]
  },
  {
   "cell_type": "code",
   "execution_count": 19,
   "id": "8bf0bcfe-c668-43f1-96eb-c8522d3f4221",
   "metadata": {
    "ExecuteTime": {
     "end_time": "2022-09-26T20:41:52.548531Z",
     "start_time": "2022-09-26T20:41:52.269900Z"
    },
    "execution": {
     "iopub.execute_input": "2023-03-21T16:22:04.491103Z",
     "iopub.status.busy": "2023-03-21T16:22:04.490532Z",
     "iopub.status.idle": "2023-03-21T16:22:04.780942Z",
     "shell.execute_reply": "2023-03-21T16:22:04.780473Z",
     "shell.execute_reply.started": "2023-03-21T16:22:04.491050Z"
    },
    "tags": []
   },
   "outputs": [
    {
     "data": {
      "text/plain": [
       "0.9663461538461539"
      ]
     },
     "execution_count": 19,
     "metadata": {},
     "output_type": "execute_result"
    }
   ],
   "source": [
    "dryml.metrics.categorical_accuracy(pipe, test_ds)"
   ]
  },
  {
   "cell_type": "markdown",
   "id": "fb1e0468-b1c4-4590-ba51-d5328f90cd56",
   "metadata": {},
   "source": [
    "## Sklearn model\n",
    "\n",
    "Now that we've had some experience using DRYML `Trainable`s, Let's look at using an `sklearn` model using the reference implementations in `dryml.models.sklearn`. We'll use `sklearn.neighbors.KNeighborsClassifier` first. One thing to remember about these sklearn methods is that the data needs to have 2 dimensions, so we need to flatten the data before this gets to the model. Thankfully, we have the data transform `dryml.data.transforms.Flatten()`. We'll add that in front of the model in the `Pipe`. Notice how we didn't have to write much additional code to use a model in a different framework! We didn't even have to change our data input pipeline!"
   ]
  },
  {
   "cell_type": "code",
   "execution_count": 20,
   "id": "43aa6d43-9543-4057-ad41-f01f2a435827",
   "metadata": {
    "ExecuteTime": {
     "end_time": "2022-09-26T20:52:29.459379Z",
     "start_time": "2022-09-26T20:52:28.030637Z"
    },
    "execution": {
     "iopub.execute_input": "2023-03-21T16:25:15.730643Z",
     "iopub.status.busy": "2023-03-21T16:25:15.730314Z",
     "iopub.status.idle": "2023-03-21T16:25:23.758566Z",
     "shell.execute_reply": "2023-03-21T16:25:23.756876Z",
     "shell.execute_reply.started": "2023-03-21T16:25:15.730616Z"
    },
    "tags": []
   },
   "outputs": [],
   "source": [
    "import dryml.models.sklearn\n",
    "import sklearn.neighbors"
   ]
  },
  {
   "cell_type": "code",
   "execution_count": 21,
   "id": "1af09767-41e4-4fdb-a368-433dfbef79b3",
   "metadata": {
    "ExecuteTime": {
     "end_time": "2022-09-26T21:04:25.638812Z",
     "start_time": "2022-09-26T21:04:25.633802Z"
    },
    "execution": {
     "iopub.execute_input": "2023-03-21T16:25:35.302938Z",
     "iopub.status.busy": "2023-03-21T16:25:35.302384Z",
     "iopub.status.idle": "2023-03-21T16:25:35.315075Z",
     "shell.execute_reply": "2023-03-21T16:25:35.314217Z",
     "shell.execute_reply.started": "2023-03-21T16:25:35.302889Z"
    },
    "tags": []
   },
   "outputs": [],
   "source": [
    "# Build sklearn pipe\n",
    "\n",
    "model_2 = dryml.models.sklearn.ClassifierModel(\n",
    "    sklearn.neighbors.KNeighborsClassifier,\n",
    "    n_neighbors=5,\n",
    ")\n",
    "\n",
    "mdl2 = dryml.models.sklearn.Trainable(\n",
    "    model=model_2,\n",
    "    train_fn=dryml.models.sklearn.BasicTraining(num_examples=1000)\n",
    ")\n",
    "\n",
    "pipe2 = dryml.models.Pipe(\n",
    "    dryml.data.transforms.Flatten(),\n",
    "    mdl2,\n",
    "    dryml.data.transforms.BestCat(),\n",
    ")"
   ]
  },
  {
   "cell_type": "code",
   "execution_count": 22,
   "id": "f259aa62-b874-4bca-baae-1e12faeb94d0",
   "metadata": {
    "ExecuteTime": {
     "end_time": "2022-09-26T21:04:53.252291Z",
     "start_time": "2022-09-26T21:04:53.184107Z"
    },
    "execution": {
     "iopub.execute_input": "2023-03-21T16:25:36.358966Z",
     "iopub.status.busy": "2023-03-21T16:25:36.357646Z",
     "iopub.status.idle": "2023-03-21T16:25:36.475187Z",
     "shell.execute_reply": "2023-03-21T16:25:36.474552Z",
     "shell.execute_reply.started": "2023-03-21T16:25:36.358911Z"
    },
    "tags": []
   },
   "outputs": [],
   "source": [
    "# Train the pipe!\n",
    "pipe2.train(train_ds)"
   ]
  },
  {
   "cell_type": "code",
   "execution_count": 23,
   "id": "7909a1c7-7c50-4b03-aa22-d92134345b3d",
   "metadata": {
    "ExecuteTime": {
     "end_time": "2022-09-26T21:05:27.803509Z",
     "start_time": "2022-09-26T21:05:24.568855Z"
    },
    "execution": {
     "iopub.execute_input": "2023-03-21T16:25:37.563931Z",
     "iopub.status.busy": "2023-03-21T16:25:37.562838Z",
     "iopub.status.idle": "2023-03-21T16:25:40.284787Z",
     "shell.execute_reply": "2023-03-21T16:25:40.284096Z",
     "shell.execute_reply.started": "2023-03-21T16:25:37.563878Z"
    },
    "tags": []
   },
   "outputs": [
    {
     "data": {
      "text/plain": [
       "0.8818108974358975"
      ]
     },
     "execution_count": 23,
     "metadata": {},
     "output_type": "execute_result"
    }
   ],
   "source": [
    "# Instantly compute model accuracy!\n",
    "dryml.metrics.categorical_accuracy(pipe2, test_ds)"
   ]
  },
  {
   "cell_type": "markdown",
   "id": "4ab6ce81-3579-4a9a-9975-5c62b995bb8c",
   "metadata": {
    "tags": []
   },
   "source": [
    "## Wrap-up\n",
    "\n",
    "This lesson introduced the `Trainable`, the `Pipe`, and data transforms like `dryml.data.transforms.Flatten` and `dryml.data.transforms.BestCat`, and metrics like `dryml.metrics.categorical_accuracy`. While users are free to write monolithic `Trainable`s, they are encouraged to write in the ECS style where methods like training function are separated into reusable `Object`s."
   ]
  },
  {
   "cell_type": "code",
   "execution_count": null,
   "id": "45fe467f-80db-4cb6-a983-196cb61bca71",
   "metadata": {},
   "outputs": [],
   "source": []
  }
 ],
 "metadata": {
  "kernelspec": {
   "display_name": "Python [conda env:venv_dryml_dev]",
   "language": "python",
   "name": "conda-env-venv_dryml_dev-py"
  },
  "language_info": {
   "codemirror_mode": {
    "name": "ipython",
    "version": 3
   },
   "file_extension": ".py",
   "mimetype": "text/x-python",
   "name": "python",
   "nbconvert_exporter": "python",
   "pygments_lexer": "ipython3",
   "version": "3.8.13"
  }
 },
 "nbformat": 4,
 "nbformat_minor": 5
}
