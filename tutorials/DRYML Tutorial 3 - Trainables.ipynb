{
 "cells": [
  {
   "cell_type": "code",
   "execution_count": 1,
   "id": "2a5de0a7",
   "metadata": {
    "ExecuteTime": {
     "end_time": "2022-09-26T18:40:11.643262Z",
     "start_time": "2022-09-26T18:40:11.638831Z"
    },
    "execution": {
     "iopub.execute_input": "2023-02-21T19:50:48.515179Z",
     "iopub.status.busy": "2023-02-21T19:50:48.514924Z",
     "iopub.status.idle": "2023-02-21T19:50:56.472160Z",
     "shell.execute_reply": "2023-02-21T19:50:56.470268Z",
     "shell.execute_reply.started": "2023-02-21T19:50:48.515113Z"
    }
   },
   "outputs": [
    {
     "name": "stderr",
     "output_type": "stream",
     "text": [
      "/home/mkrafcz2/HAL_Projects/DRYML/venv_dryml/lib/python3.8/site-packages/scipy/__init__.py:146: UserWarning: A NumPy version >=1.16.5 and <1.23.0 is required for this version of SciPy (detected version 1.24.2\n",
      "  warnings.warn(f\"A NumPy version >={np_minversion} and <{np_maxversion}\"\n",
      "/home/mkrafcz2/HAL_Projects/DRYML/venv_dryml/lib/python3.8/site-packages/tqdm/auto.py:22: TqdmWarning: IProgress not found. Please update jupyter and ipywidgets. See https://ipywidgets.readthedocs.io/en/stable/user_install.html\n",
      "  from .autonotebook import tqdm as notebook_tqdm\n"
     ]
    }
   ],
   "source": [
    "import dryml\n",
    "import numpy as np\n",
    "import tensorflow as tf\n",
    "import tensorflow_datasets as tfds\n",
    "import dryml.data.tf\n",
    "from dryml.data.tf import TFDataset"
   ]
  },
  {
   "cell_type": "markdown",
   "id": "104900e0",
   "metadata": {
    "ExecuteTime": {
     "end_time": "2022-09-23T21:35:51.638501Z",
     "start_time": "2022-09-23T21:35:51.633534Z"
    }
   },
   "source": [
    "# DRYML Tutorial 3"
   ]
  },
  {
   "cell_type": "markdown",
   "id": "1a92c0d5",
   "metadata": {
    "ExecuteTime": {
     "end_time": "2022-09-23T21:35:56.279227Z",
     "start_time": "2022-09-23T21:35:56.275182Z"
    }
   },
   "source": [
    "## DRYML Trainables\n",
    "\n",
    "With `Object`s, `Repo`s, `Dataset`s, and `dryml.context`, we are now ready to do some machine learning!\n",
    "\n",
    "DRYML machine learning model components are all stored within `dryml.models`. Most important of which is `Trainable`. A `Trainable` is the base class which defines DRYML's machine learning API. Any 'trainable' object must inherit from `Trainable`. It also contains `Pipe` which is an analogue to an sklearn pipe. This allows us to chain `Trainable`s together forming a data pipeline.\n",
    "\n",
    "`Trainable` is a subclass of `Object` and that means any `Trainable` can be serialized and loaded later.\n",
    "\n",
    "DRYML provides basic support for major ML frameworks in submodules which you must import.\n",
    "* `dryml.models.tf` - tensorflow\n",
    "* `dryml.models.torch` - pytorch\n",
    "* `dryml.models.sklearn` - sklearn\n",
    "* `dryml.models.xgb` - xgboost\n",
    "\n",
    "Each submodule provides classes which implement basic functionality for serialization, and training. While it is possible to build a monolithic class which implements all of these methods, it is recommended (and the base implementations do this) to use an approach more in line with the Entity Component System (ECS) pattern. In this pattern, `Object`s implement different functionality like training program or model architecture, and are combined in a larger `Object` (the `Trainable`). This larger object can then be customized with different components extending its functionality and reducing the number of classes you need to write.\n",
    "\n",
    "We'll go over some of the sklearn, tensorflow, and pytorch classes as well as the `Trainable` API.\n",
    "\n",
    "First, let's enable all contexts for this notebook. (feel free to allocate a gpu if your machine has one)"
   ]
  },
  {
   "cell_type": "code",
   "execution_count": 3,
   "id": "ed73e45f",
   "metadata": {
    "ExecuteTime": {
     "end_time": "2022-09-26T18:36:44.742573Z",
     "start_time": "2022-09-26T18:36:44.191374Z"
    },
    "execution": {
     "iopub.execute_input": "2023-02-21T19:51:11.214894Z",
     "iopub.status.busy": "2023-02-21T19:51:11.214681Z",
     "iopub.status.idle": "2023-02-21T19:51:11.817835Z",
     "shell.execute_reply": "2023-02-21T19:51:11.815800Z",
     "shell.execute_reply.started": "2023-02-21T19:51:11.214869Z"
    },
    "tags": []
   },
   "outputs": [
    {
     "name": "stderr",
     "output_type": "stream",
     "text": [
      "2023-02-21 13:51:11.805306: I tensorflow/core/common_runtime/gpu/gpu_device.cc:1525] Created device /job:localhost/replica:0/task:0/device:GPU:0 with 13835 MB memory:  -> device: 0, name: Tesla V100-SXM2-16GB, pci bus id: 0004:05:00.0, compute capability: 7.0\n"
     ]
    }
   ],
   "source": [
    "dryml.context.set_context({'default': {}, 'tf': {'gpu/0': 1.}, 'torch': {}})"
   ]
  },
  {
   "cell_type": "markdown",
   "id": "042f4ab0",
   "metadata": {},
   "source": [
    "## Trainable API\n",
    "\n",
    "DRYML `Trainable` objects require the user to implement just four methods.\n",
    "\n",
    "* `prep_train(self)`: This method should perform any necessary preparation for an `Object` to be trained. This is needed in some ML frameworks for example pytorch.\n",
    "* `prep_eval(self)`: This method should perform any necessary prepareation for an `Object` to be evaluated. This is needed in some ML frameworks.\n",
    "* `train(self, data, train_spec=None, train_callbacks=[])`: This method governs the training of the `Trainable`. The api here is meant to be resumable, as well as allow custom callbacks to be called at each step during the training process.\n",
    "* `eval(self, data)`: This method evaluates the model on the data. Typically, the model accepts a `Dataset`, and calls the `apply_X` method with an appropriate lambda function."
   ]
  },
  {
   "cell_type": "markdown",
   "id": "c71769d9",
   "metadata": {},
   "source": [
    "## Traditional ML training with using example\n",
    "\n",
    "Let's train a simple model on the traditional mnist digits dataset. We'll use the `tensorflow_datasets` module to get the data."
   ]
  },
  {
   "cell_type": "code",
   "execution_count": 4,
   "id": "472b6738",
   "metadata": {
    "ExecuteTime": {
     "end_time": "2022-09-26T18:36:44.849654Z",
     "start_time": "2022-09-26T18:36:44.746142Z"
    },
    "execution": {
     "iopub.execute_input": "2023-02-21T19:51:15.752935Z",
     "iopub.status.busy": "2023-02-21T19:51:15.752720Z",
     "iopub.status.idle": "2023-02-21T19:51:16.226394Z",
     "shell.execute_reply": "2023-02-21T19:51:16.223247Z",
     "shell.execute_reply.started": "2023-02-21T19:51:15.752910Z"
    }
   },
   "outputs": [],
   "source": [
    "# Load mnist data\n",
    "(ds_train, ds_test), ds_info = tfds.load(\n",
    "    'mnist',\n",
    "    split=['train', 'test'],\n",
    "    shuffle_files=True,\n",
    "    as_supervised=True,\n",
    "    with_info=True)"
   ]
  },
  {
   "cell_type": "code",
   "execution_count": 5,
   "id": "20892a93",
   "metadata": {
    "ExecuteTime": {
     "end_time": "2022-09-26T18:36:45.349249Z",
     "start_time": "2022-09-26T18:36:45.314250Z"
    },
    "execution": {
     "iopub.execute_input": "2023-02-21T19:51:17.705081Z",
     "iopub.status.busy": "2023-02-21T19:51:17.704866Z",
     "iopub.status.idle": "2023-02-21T19:51:17.838722Z",
     "shell.execute_reply": "2023-02-21T19:51:17.835565Z",
     "shell.execute_reply.started": "2023-02-21T19:51:17.705056Z"
    }
   },
   "outputs": [],
   "source": [
    "# Create a simple model with a couple dense layers\n",
    "mdl = tf.keras.Sequential([\n",
    "    tf.keras.layers.Conv2D(16, 3 , input_shape=(28, 28, 1), activation='relu'),\n",
    "    tf.keras.layers.Conv2D(16, 3, activation='relu'),\n",
    "    tf.keras.layers.Flatten(),\n",
    "    tf.keras.layers.Dense(10, activation='linear')\n",
    "])\n",
    "# prepare loss and optimizer\n",
    "mdl.compile(\n",
    "    loss=tf.keras.losses.SparseCategoricalCrossentropy(from_logits=True),\n",
    "    optimizer=tf.keras.optimizers.Adam(),\n",
    ")"
   ]
  },
  {
   "cell_type": "code",
   "execution_count": 6,
   "id": "2edaa697",
   "metadata": {
    "ExecuteTime": {
     "end_time": "2022-09-26T18:36:50.204387Z",
     "start_time": "2022-09-26T18:36:46.002929Z"
    },
    "execution": {
     "iopub.execute_input": "2023-02-21T19:51:18.040992Z",
     "iopub.status.busy": "2023-02-21T19:51:18.040777Z",
     "iopub.status.idle": "2023-02-21T19:51:26.633394Z",
     "shell.execute_reply": "2023-02-21T19:51:26.632821Z",
     "shell.execute_reply.started": "2023-02-21T19:51:18.040968Z"
    }
   },
   "outputs": [
    {
     "name": "stderr",
     "output_type": "stream",
     "text": [
      "2023-02-21 13:51:19.885308: I tensorflow/stream_executor/cuda/cuda_dnn.cc:366] Loaded cuDNN version 8202\n"
     ]
    },
    {
     "name": "stdout",
     "output_type": "stream",
     "text": [
      "1875/1875 [==============================] - 8s 2ms/step - loss: 0.3947\n"
     ]
    },
    {
     "data": {
      "text/plain": [
       "<keras.callbacks.History at 0x7ffca8379550>"
      ]
     },
     "execution_count": 6,
     "metadata": {},
     "output_type": "execute_result"
    }
   ],
   "source": [
    "# train the model\n",
    "mdl.fit(ds_train.batch(32), epochs=1)"
   ]
  },
  {
   "cell_type": "code",
   "execution_count": 7,
   "id": "0c8294ae",
   "metadata": {
    "ExecuteTime": {
     "end_time": "2022-09-26T18:40:21.328620Z",
     "start_time": "2022-09-26T18:40:20.693435Z"
    },
    "execution": {
     "iopub.execute_input": "2023-02-21T19:51:32.716171Z",
     "iopub.status.busy": "2023-02-21T19:51:32.715956Z",
     "iopub.status.idle": "2023-02-21T19:51:33.533590Z",
     "shell.execute_reply": "2023-02-21T19:51:33.532998Z",
     "shell.execute_reply.started": "2023-02-21T19:51:32.716146Z"
    }
   },
   "outputs": [
    {
     "name": "stdout",
     "output_type": "stream",
     "text": [
      "accuracy: 0.9695\n"
     ]
    }
   ],
   "source": [
    "# Compute model accuracy\n",
    "total_correct = 0\n",
    "total_num = 0\n",
    "for x, y in ds_test.batch(32):\n",
    "    y_pred = tf.argmax(mdl(x), axis=1).numpy()\n",
    "    total_correct += np.sum(y_pred == y.numpy())\n",
    "    total_num += y_pred.shape[0]\n",
    "\n",
    "print(f\"accuracy: {total_correct/total_num}\")"
   ]
  },
  {
   "cell_type": "markdown",
   "id": "65c65361",
   "metadata": {},
   "source": [
    "## Basic tensorflow training with DRYML\n",
    "\n",
    "Now, how do we train such a model in DRYML? Well, we want to create a `Trainable` with the same capability. DRYML offers some pre-built tensorflow functionality. We'll use the generic `Trainable`: `dryml.models.tf.keras.Trainable`. This takes a `model`, an `optimizer`, a `loss`, and a `train_fn`. So, `model` represents a tensorflow model and handles the loading/unloading of the network for compute mode, and save/restore of the object. The `optimizer` object contains a tensorflow optimizer, and `loss` contains a tensorflow loss. Finally, `train_fn` refers to a `dryml.models.tf.TrainFunction` object which defines the training method. The `train_fn` object can store hyperparameters about the training procedure, and `model` can save hyperparameters about the network. This means we can mix and match models and training methods without having to create new classes to contain them. Let's see this in action.\n",
    "\n",
    "We'll use `dryml.models.tf.keras.BasicTraining` which implements a basic training regimine for keras models for `train_fn`, and we'll use `dryml.models.tf.keras.SequentialFunctionalModel` for the model."
   ]
  },
  {
   "cell_type": "code",
   "execution_count": 8,
   "id": "dff03318",
   "metadata": {
    "ExecuteTime": {
     "end_time": "2022-09-26T19:14:39.734809Z",
     "start_time": "2022-09-26T19:14:39.726994Z"
    },
    "execution": {
     "iopub.execute_input": "2023-02-21T19:51:36.368938Z",
     "iopub.status.busy": "2023-02-21T19:51:36.368684Z",
     "iopub.status.idle": "2023-02-21T19:51:36.608459Z",
     "shell.execute_reply": "2023-02-21T19:51:36.606446Z",
     "shell.execute_reply.started": "2023-02-21T19:51:36.368913Z"
    }
   },
   "outputs": [],
   "source": [
    "import dryml.models.tf"
   ]
  },
  {
   "cell_type": "code",
   "execution_count": 13,
   "id": "a920f978",
   "metadata": {
    "ExecuteTime": {
     "end_time": "2022-09-26T20:04:58.563237Z",
     "start_time": "2022-09-26T20:04:58.557145Z"
    },
    "execution": {
     "iopub.execute_input": "2023-02-21T20:01:24.287537Z",
     "iopub.status.busy": "2023-02-21T20:01:24.287276Z",
     "iopub.status.idle": "2023-02-21T20:01:24.301319Z",
     "shell.execute_reply": "2023-02-21T20:01:24.299467Z",
     "shell.execute_reply.started": "2023-02-21T20:01:24.287512Z"
    },
    "tags": []
   },
   "outputs": [],
   "source": [
    "# Create Object to hold model\n",
    "model = dryml.models.tf.keras.SequentialFunctionalModel(\n",
    "    input_shape=(28, 28, 1),\n",
    "    layer_defs=[\n",
    "        ['Conv2D', {'filters': 16, 'kernel_size': 3, 'activation': 'relu'}],\n",
    "        ['Conv2D', {'filters': 16, 'kernel_size': 3, 'activation': 'relu'}],\n",
    "        ['Flatten', {}],\n",
    "        ['Dense', {'units': 10, 'activation': 'linear'}],\n",
    "    ]\n",
    ")\n",
    "\n",
    "# Create Object to hold the training algorithm\n",
    "train_fn = dryml.models.tf.keras.BasicTraining(\n",
    "    epochs=1\n",
    ")\n",
    "\n",
    "# Create final trainable\n",
    "mdl = dryml.models.tf.keras.Trainable(\n",
    "    model=model,\n",
    "    optimizer=dryml.models.tf.Wrapper(tf.keras.optimizers.Adam),\n",
    "    loss=dryml.models.tf.Wrapper(tf.keras.losses.SparseCategoricalCrossentropy, from_logits=True),\n",
    "    train_fn=train_fn,\n",
    ")"
   ]
  },
  {
   "cell_type": "code",
   "execution_count": 14,
   "id": "548544c6",
   "metadata": {
    "ExecuteTime": {
     "end_time": "2022-09-26T20:05:00.735957Z",
     "start_time": "2022-09-26T20:05:00.731467Z"
    },
    "execution": {
     "iopub.execute_input": "2023-02-21T20:01:26.072202Z",
     "iopub.status.busy": "2023-02-21T20:01:26.071946Z",
     "iopub.status.idle": "2023-02-21T20:01:26.082149Z",
     "shell.execute_reply": "2023-02-21T20:01:26.077543Z",
     "shell.execute_reply.started": "2023-02-21T20:01:26.072176Z"
    },
    "tags": []
   },
   "outputs": [],
   "source": [
    "# Create TFDatasets to wrap the mnist dataset\n",
    "train_ds = TFDataset(\n",
    "    ds_train,\n",
    "    supervised=True\n",
    ")\n",
    "\n",
    "test_ds = TFDataset(\n",
    "    ds_test,\n",
    "    supervised=True\n",
    ")"
   ]
  },
  {
   "cell_type": "code",
   "execution_count": 15,
   "id": "ff25bcaa",
   "metadata": {
    "ExecuteTime": {
     "end_time": "2022-09-26T20:05:10.609047Z",
     "start_time": "2022-09-26T20:05:00.922477Z"
    },
    "execution": {
     "iopub.execute_input": "2023-02-21T20:01:26.640926Z",
     "iopub.status.busy": "2023-02-21T20:01:26.640674Z",
     "iopub.status.idle": "2023-02-21T20:01:38.871996Z",
     "shell.execute_reply": "2023-02-21T20:01:38.871314Z",
     "shell.execute_reply.started": "2023-02-21T20:01:26.640902Z"
    },
    "tags": []
   },
   "outputs": [
    {
     "name": "stdout",
     "output_type": "stream",
     "text": [
      "1500/1500 [==============================] - 5s 3ms/step - loss: 0.2933 - val_loss: 0.0952\n"
     ]
    }
   ],
   "source": [
    "# Prepare the model for training\n",
    "mdl.prep_train()\n",
    "# Train the model\n",
    "mdl.train(train_ds)"
   ]
  },
  {
   "cell_type": "code",
   "execution_count": 16,
   "id": "581ae7a4",
   "metadata": {
    "ExecuteTime": {
     "end_time": "2022-09-26T20:16:06.676682Z",
     "start_time": "2022-09-26T20:16:06.427423Z"
    },
    "execution": {
     "iopub.execute_input": "2023-02-21T20:01:38.873496Z",
     "iopub.status.busy": "2023-02-21T20:01:38.873273Z",
     "iopub.status.idle": "2023-02-21T20:01:43.012552Z",
     "shell.execute_reply": "2023-02-21T20:01:43.011956Z",
     "shell.execute_reply.started": "2023-02-21T20:01:38.873472Z"
    }
   },
   "outputs": [
    {
     "name": "stdout",
     "output_type": "stream",
     "text": [
      "Model accuracy: 0.9720552884615384\n"
     ]
    }
   ],
   "source": [
    "# Compute accuracy of model, we eval, then use .numpy to transform them into numpy arrays we can compute on like before\n",
    "total_correct = 0\n",
    "total_num = 0\n",
    "for mdl_out, y in mdl.eval(test_ds.batch(batch_size=32)).numpy():\n",
    "    # We have to compute the argmax of the model to get the prediction labels\n",
    "    y_pred = np.argmax(mdl_out, axis=1)\n",
    "    # Now we can compute the accuracy\n",
    "    total_correct += np.sum(y_pred == y)\n",
    "    total_num += y_pred.shape[0]\n",
    "print(f\"Model accuracy: {total_correct/total_num}\")"
   ]
  },
  {
   "cell_type": "markdown",
   "id": "65216436",
   "metadata": {},
   "source": [
    "## `Pipe` and data processing\n",
    "\n",
    "Now, we had to do some extra processing there at the last step. That's where `Pipe` comes in handy. If we need to do some concrete steps to pre or post process the data, we can create more `Trainable`s (which may not need training) to do that processing. Let's create a `Pipe`, and add a `dryml.data.transforms.BestCat` `Trainable` after the model."
   ]
  },
  {
   "cell_type": "code",
   "execution_count": 17,
   "id": "5158bd99",
   "metadata": {
    "ExecuteTime": {
     "end_time": "2022-09-26T20:36:52.037654Z",
     "start_time": "2022-09-26T20:36:52.032376Z"
    },
    "execution": {
     "iopub.execute_input": "2023-02-21T20:01:51.887604Z",
     "iopub.status.busy": "2023-02-21T20:01:51.887346Z",
     "iopub.status.idle": "2023-02-21T20:01:51.897980Z",
     "shell.execute_reply": "2023-02-21T20:01:51.894356Z",
     "shell.execute_reply.started": "2023-02-21T20:01:51.887578Z"
    }
   },
   "outputs": [],
   "source": [
    "pipe = dryml.models.Pipe(\n",
    "    mdl,\n",
    "    dryml.data.transforms.BestCat()\n",
    ")"
   ]
  },
  {
   "cell_type": "code",
   "execution_count": 18,
   "id": "2e572e9b",
   "metadata": {
    "ExecuteTime": {
     "end_time": "2022-09-26T20:37:19.612574Z",
     "start_time": "2022-09-26T20:37:19.385977Z"
    },
    "execution": {
     "iopub.execute_input": "2023-02-21T20:01:53.619808Z",
     "iopub.status.busy": "2023-02-21T20:01:53.619554Z",
     "iopub.status.idle": "2023-02-21T20:01:54.061963Z",
     "shell.execute_reply": "2023-02-21T20:01:54.061368Z",
     "shell.execute_reply.started": "2023-02-21T20:01:53.619782Z"
    }
   },
   "outputs": [
    {
     "name": "stdout",
     "output_type": "stream",
     "text": [
      "Model accuracy: 0.9720552884615384\n"
     ]
    }
   ],
   "source": [
    "# Compute accuracy of model, we eval, then use .numpy to transform them into numpy arrays we can compute on like before\n",
    "total_correct = 0\n",
    "total_num = 0\n",
    "for y_pred, y in pipe.eval(test_ds.batch(batch_size=32)).numpy():\n",
    "    # Now we can compute the accuracy\n",
    "    total_correct += np.sum(y_pred == y)\n",
    "    total_num += y_pred.shape[0]\n",
    "print(f\"Model accuracy: {total_correct/total_num}\")"
   ]
  },
  {
   "cell_type": "markdown",
   "id": "dc18ba78",
   "metadata": {},
   "source": [
    "## DRYML metrics\n",
    "\n",
    "DRYML also provides a few common metrics which can be computed on a `Dataset`. DRYML provides a categorical accuracy metric we can just use!"
   ]
  },
  {
   "cell_type": "code",
   "execution_count": 19,
   "id": "43d05242",
   "metadata": {
    "execution": {
     "iopub.execute_input": "2023-02-21T20:01:58.689244Z",
     "iopub.status.busy": "2023-02-21T20:01:58.689028Z",
     "iopub.status.idle": "2023-02-21T20:01:58.738923Z",
     "shell.execute_reply": "2023-02-21T20:01:58.737020Z",
     "shell.execute_reply.started": "2023-02-21T20:01:58.689219Z"
    }
   },
   "outputs": [],
   "source": [
    "import dryml.metrics"
   ]
  },
  {
   "cell_type": "code",
   "execution_count": 20,
   "id": "a2ddd77d",
   "metadata": {
    "ExecuteTime": {
     "end_time": "2022-09-26T20:41:52.548531Z",
     "start_time": "2022-09-26T20:41:52.269900Z"
    },
    "execution": {
     "iopub.execute_input": "2023-02-21T20:01:59.020309Z",
     "iopub.status.busy": "2023-02-21T20:01:59.020096Z",
     "iopub.status.idle": "2023-02-21T20:01:59.470386Z",
     "shell.execute_reply": "2023-02-21T20:01:59.469787Z",
     "shell.execute_reply.started": "2023-02-21T20:01:59.020284Z"
    }
   },
   "outputs": [
    {
     "data": {
      "text/plain": [
       "0.9720552884615384"
      ]
     },
     "execution_count": 20,
     "metadata": {},
     "output_type": "execute_result"
    }
   ],
   "source": [
    "dryml.metrics.categorical_accuracy(pipe, test_ds)"
   ]
  },
  {
   "cell_type": "markdown",
   "id": "df45d305",
   "metadata": {},
   "source": [
    "## Sklearn model\n",
    "\n",
    "Now that we've had some experience using DRYML `Trainable`s, Let's look at using an `sklearn` model using the reference implementations in `dryml.models.sklearn`. We'll use `sklearn.neighbors.KNeighborsClassifier` first. One thing to remember about these sklearn methods is that the data needs to have 2 dimensions, so we need to flatten the data before this gets to the model. Thankfully, we have the data transform `dryml.data.transforms.Flatten()`. We'll add that in front of the model in the `Pipe`."
   ]
  },
  {
   "cell_type": "code",
   "execution_count": 21,
   "id": "bbc36645",
   "metadata": {
    "ExecuteTime": {
     "end_time": "2022-09-26T20:52:29.459379Z",
     "start_time": "2022-09-26T20:52:28.030637Z"
    },
    "execution": {
     "iopub.execute_input": "2023-02-21T20:02:04.735159Z",
     "iopub.status.busy": "2023-02-21T20:02:04.734936Z",
     "iopub.status.idle": "2023-02-21T20:02:08.413089Z",
     "shell.execute_reply": "2023-02-21T20:02:08.412414Z",
     "shell.execute_reply.started": "2023-02-21T20:02:04.735134Z"
    }
   },
   "outputs": [],
   "source": [
    "import dryml.models.sklearn\n",
    "import sklearn.neighbors"
   ]
  },
  {
   "cell_type": "code",
   "execution_count": 22,
   "id": "e13b8141",
   "metadata": {
    "ExecuteTime": {
     "end_time": "2022-09-26T21:04:25.638812Z",
     "start_time": "2022-09-26T21:04:25.633802Z"
    },
    "execution": {
     "iopub.execute_input": "2023-02-21T20:02:08.414662Z",
     "iopub.status.busy": "2023-02-21T20:02:08.414460Z",
     "iopub.status.idle": "2023-02-21T20:02:08.424713Z",
     "shell.execute_reply": "2023-02-21T20:02:08.424136Z",
     "shell.execute_reply.started": "2023-02-21T20:02:08.414634Z"
    }
   },
   "outputs": [],
   "source": [
    "# Build sklearn pipe\n",
    "\n",
    "model_2 = dryml.models.sklearn.ClassifierModel(\n",
    "    sklearn.neighbors.KNeighborsClassifier,\n",
    "    n_neighbors=5,\n",
    ")\n",
    "\n",
    "mdl2 = dryml.models.sklearn.Trainable(\n",
    "    model=model_2,\n",
    "    train_fn=dryml.models.sklearn.BasicTraining(num_examples=1000)\n",
    ")\n",
    "\n",
    "pipe2 = dryml.models.Pipe(\n",
    "    dryml.data.transforms.Flatten(),\n",
    "    mdl2,\n",
    "    dryml.data.transforms.BestCat(),\n",
    ")"
   ]
  },
  {
   "cell_type": "code",
   "execution_count": 23,
   "id": "e654f193",
   "metadata": {
    "ExecuteTime": {
     "end_time": "2022-09-26T21:04:53.252291Z",
     "start_time": "2022-09-26T21:04:53.184107Z"
    },
    "execution": {
     "iopub.execute_input": "2023-02-21T20:02:08.425750Z",
     "iopub.status.busy": "2023-02-21T20:02:08.425562Z",
     "iopub.status.idle": "2023-02-21T20:02:08.562434Z",
     "shell.execute_reply": "2023-02-21T20:02:08.561757Z",
     "shell.execute_reply.started": "2023-02-21T20:02:08.425727Z"
    }
   },
   "outputs": [],
   "source": [
    "# Train the pipe!\n",
    "pipe2.train(train_ds)"
   ]
  },
  {
   "cell_type": "code",
   "execution_count": 24,
   "id": "9ca959a3",
   "metadata": {
    "ExecuteTime": {
     "end_time": "2022-09-26T21:05:27.803509Z",
     "start_time": "2022-09-26T21:05:24.568855Z"
    },
    "execution": {
     "iopub.execute_input": "2023-02-21T20:02:08.609927Z",
     "iopub.status.busy": "2023-02-21T20:02:08.609719Z",
     "iopub.status.idle": "2023-02-21T20:02:15.878873Z",
     "shell.execute_reply": "2023-02-21T20:02:15.876895Z",
     "shell.execute_reply.started": "2023-02-21T20:02:08.609903Z"
    }
   },
   "outputs": [
    {
     "data": {
      "text/plain": [
       "0.8818108974358975"
      ]
     },
     "execution_count": 24,
     "metadata": {},
     "output_type": "execute_result"
    }
   ],
   "source": [
    "# Instantly compute model accuracy!\n",
    "dryml.metrics.categorical_accuracy(pipe2, test_ds)"
   ]
  },
  {
   "cell_type": "markdown",
   "id": "048febf4",
   "metadata": {},
   "source": [
    "## Wrap-up\n",
    "\n",
    "This lesson introduced the `Trainable`, the `Pipe` `Trainable`, data transforms like `dryml.data.transforms.Flatten` and `dryml.data.transforms.BestCat`, and metrics like `dryml.metrics.categorical_accuracy`. While users are free to write monolithic `Trainable`s, they are encouraged to write in the ECS style where methods like training function are separated into reusable `Object`s."
   ]
  },
  {
   "cell_type": "code",
   "execution_count": null,
   "id": "e460bb08",
   "metadata": {},
   "outputs": [],
   "source": []
  }
 ],
 "metadata": {
  "kernelspec": {
   "display_name": "DRYML Development [conda env:venv_dryml]",
   "language": "python",
   "name": "conda-env-venv_dryml-py"
  },
  "language_info": {
   "codemirror_mode": {
    "name": "ipython",
    "version": 3
   },
   "file_extension": ".py",
   "mimetype": "text/x-python",
   "name": "python",
   "nbconvert_exporter": "python",
   "pygments_lexer": "ipython3",
   "version": "3.8.12"
  }
 },
 "nbformat": 4,
 "nbformat_minor": 5
}
