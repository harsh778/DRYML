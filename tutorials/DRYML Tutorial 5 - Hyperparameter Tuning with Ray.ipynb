{
 "cells": [
  {
   "cell_type": "markdown",
   "id": "2b2c0140",
   "metadata": {},
   "source": [
    "# DRYML Tutorial"
   ]
  },
  {
   "cell_type": "markdown",
   "id": "5cf97ce7",
   "metadata": {},
   "source": [
    "## Ray tune\n",
    "\n",
    "One primary use case for DRYML is hyperparameter tuning of your models. `ObjectDef` provides an easy way to define and construct models. The `train` method of trainables allows uniform training for all models, and DRYML provides a set of interface methods to easily run hyperparameters searches on your models.\n",
    "\n",
    "We'll briefly introduce `ray`, and write a simple hyperparameter tuning example.\n",
    "\n",
    "RAY is a platform for remote process execution. It creates a server which manages connected resources. Jobs can then be sent to those resources in the form of multiple processes confined to specific resources. This is ideal for hyperparameter tuning, and in fact RAY provides the `ray.tune` library for exactly this.\n",
    "\n",
    "This tutorial won't serve as a tutorial for ray, for that please consult the ray documentation available here: https://docs.ray.io/en/latest/index.html and here: https://docs.ray.io/en/latest/tune/index.html\n",
    "\n",
    "Let's start the ray server, and write a simple method for generating models."
   ]
  },
  {
   "cell_type": "code",
   "execution_count": 1,
   "id": "3a17d95f",
   "metadata": {
    "ExecuteTime": {
     "end_time": "2022-09-28T19:52:13.771204Z",
     "start_time": "2022-09-28T19:52:13.462565Z"
    }
   },
   "outputs": [],
   "source": [
    "import ray"
   ]
  },
  {
   "cell_type": "code",
   "execution_count": 2,
   "id": "90586f7a",
   "metadata": {
    "ExecuteTime": {
     "end_time": "2022-09-28T19:52:18.616795Z",
     "start_time": "2022-09-28T19:52:15.492923Z"
    }
   },
   "outputs": [
    {
     "data": {
      "text/plain": [
       "RayContext(dashboard_url='', python_version='3.8.13', ray_version='1.12.1', ray_commit='{{RAY_COMMIT_SHA}}', address_info={'node_ip_address': '192.168.2.31', 'raylet_ip_address': '192.168.2.31', 'redis_address': None, 'object_store_address': '/tmp/ray/session_2022-09-28_14-52-15_496739_876398/sockets/plasma_store', 'raylet_socket_name': '/tmp/ray/session_2022-09-28_14-52-15_496739_876398/sockets/raylet', 'webui_url': '', 'session_dir': '/tmp/ray/session_2022-09-28_14-52-15_496739_876398', 'metrics_export_port': 58261, 'gcs_address': '192.168.2.31:42538', 'address': '192.168.2.31:42538', 'node_id': '375af3c455875c2c6c0f91a7d97860faef42e97ab1c65a3a3e93200b'})"
      ]
     },
     "execution_count": 2,
     "metadata": {},
     "output_type": "execute_result"
    }
   ],
   "source": [
    "ray.init()"
   ]
  },
  {
   "cell_type": "markdown",
   "id": "cca3bb4a",
   "metadata": {},
   "source": [
    "## Define model generator\n",
    "\n",
    "def model_def_gen(params):"
   ]
  }
 ],
 "metadata": {
  "kernelspec": {
   "display_name": "Python [conda env:venv_dryml_dev]",
   "language": "python",
   "name": "conda-env-venv_dryml_dev-py"
  },
  "language_info": {
   "codemirror_mode": {
    "name": "ipython",
    "version": 3
   },
   "file_extension": ".py",
   "mimetype": "text/x-python",
   "name": "python",
   "nbconvert_exporter": "python",
   "pygments_lexer": "ipython3",
   "version": "3.8.13"
  }
 },
 "nbformat": 4,
 "nbformat_minor": 5
}
