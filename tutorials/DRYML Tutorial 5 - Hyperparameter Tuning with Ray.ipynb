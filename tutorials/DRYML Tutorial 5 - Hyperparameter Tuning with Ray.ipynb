{
 "cells": [
  {
   "cell_type": "markdown",
   "id": "2b2c0140",
   "metadata": {
    "tags": []
   },
   "source": [
    "# DRYML Tutorial"
   ]
  },
  {
   "cell_type": "markdown",
   "id": "5cf97ce7",
   "metadata": {},
   "source": [
    "## Ray tune\n",
    "\n",
    "One primary use case for DRYML is hyperparameter tuning of your models. `ObjectDef` provides an easy way to define and construct models. The `train` method of trainables allows uniform training for all models, and DRYML provides a set of interface methods to easily run hyperparameters searches on your models.\n",
    "\n",
    "We'll briefly introduce `ray`, and write a simple hyperparameter tuning example.\n",
    "\n",
    "RAY is a platform for remote process execution. It creates a server which manages connected resources. Jobs can then be sent to those resources in the form of multiple processes confined to specific resources. This is ideal for hyperparameter tuning, and in fact RAY provides the `ray.tune` library for exactly this.\n",
    "\n",
    "This tutorial won't serve as a tutorial for ray, for that please consult the ray documentation available here: https://docs.ray.io/en/latest/index.html and here: https://docs.ray.io/en/latest/tune/index.html\n",
    "\n",
    "Let's start the ray server, and write a simple method for generating models."
   ]
  },
  {
   "cell_type": "code",
   "execution_count": 1,
   "id": "3a17d95f",
   "metadata": {
    "ExecuteTime": {
     "end_time": "2022-10-04T22:17:44.924102Z",
     "start_time": "2022-10-04T22:17:44.920605Z"
    }
   },
   "outputs": [],
   "source": [
    "import ray"
   ]
  },
  {
   "cell_type": "code",
   "execution_count": 2,
   "id": "90586f7a",
   "metadata": {
    "ExecuteTime": {
     "end_time": "2022-10-04T22:17:51.406717Z",
     "start_time": "2022-10-04T22:17:45.326593Z"
    }
   },
   "outputs": [
    {
     "name": "stderr",
     "output_type": "stream",
     "text": [
      "2022-10-13 14:45:53,329\tINFO services.py:1412 -- View the Ray dashboard at \u001b[1m\u001b[32mhttp://127.0.0.1:8265\u001b[39m\u001b[22m\n"
     ]
    },
    {
     "data": {
      "text/plain": [
       "{'node_ip_address': '192.168.20.4',\n",
       " 'raylet_ip_address': '192.168.20.4',\n",
       " 'redis_address': None,\n",
       " 'object_store_address': '/tmp/ray/session_2022-10-13_14-45-46_593281_3296046/sockets/plasma_store',\n",
       " 'raylet_socket_name': '/tmp/ray/session_2022-10-13_14-45-46_593281_3296046/sockets/raylet',\n",
       " 'webui_url': '127.0.0.1:8265',\n",
       " 'session_dir': '/tmp/ray/session_2022-10-13_14-45-46_593281_3296046',\n",
       " 'metrics_export_port': 58012,\n",
       " 'gcs_address': '192.168.20.4:63946',\n",
       " 'address': '192.168.20.4:63946',\n",
       " 'node_id': 'd57470a9eb3eed63932ad86b49d612860fa422f8131f17b5e343bc2a'}"
      ]
     },
     "execution_count": 2,
     "metadata": {},
     "output_type": "execute_result"
    },
    {
     "name": "stderr",
     "output_type": "stream",
     "text": [
      "\u001b[2m\u001b[33m(raylet)\u001b[0m /home/mkrafcz2/HAL_Projects/DRYML/dryml_venv_opence_v1.6.1/lib/python3.9/site-packages/ray/dashboard/agent.py:163: DeprecationWarning: distutils Version classes are deprecated. Use packaging.version instead.\n",
      "\u001b[2m\u001b[33m(raylet)\u001b[0m   if LooseVersion(aiohttp.__version__) < LooseVersion(\"4.0.0\"):\n",
      "\u001b[2m\u001b[33m(raylet)\u001b[0m /home/mkrafcz2/HAL_Projects/DRYML/dryml_venv_opence_v1.6.1/lib/python3.9/site-packages/ray/dashboard/agent.py:163: DeprecationWarning: distutils Version classes are deprecated. Use packaging.version instead.\n",
      "\u001b[2m\u001b[33m(raylet)\u001b[0m   if LooseVersion(aiohttp.__version__) < LooseVersion(\"4.0.0\"):\n",
      "\u001b[2m\u001b[33m(raylet)\u001b[0m /home/mkrafcz2/HAL_Projects/DRYML/dryml_venv_opence_v1.6.1/lib/python3.9/site-packages/ray/dashboard/agent.py:163: DeprecationWarning: distutils Version classes are deprecated. Use packaging.version instead.\n",
      "\u001b[2m\u001b[33m(raylet)\u001b[0m   if LooseVersion(aiohttp.__version__) < LooseVersion(\"4.0.0\"):\n"
     ]
    }
   ],
   "source": [
    "ray.init(num_gpus=1, num_cpus=8)"
   ]
  },
  {
   "cell_type": "markdown",
   "id": "2d916042",
   "metadata": {},
   "source": [
    "## DRYML support\n",
    "\n",
    "DRYML provides support for `ray.tune` in the form of the `dryml.ray.tune.Trainer` class. This class defines a callable function compatible with the ray tune functional API. We just need to supply it with a special callable which can provide a few needed callable methods to setup and run the tune experiment.\n",
    "\n",
    "`dryml.ray.tune.Trainer` expects the arguments:\n",
    "* `name`: The name of the experiment to use\n",
    "* `prep_method`: The callable for creating the necessary callables for setting up the experiment. This must be picklable via `dill`.\n",
    "* `metrics`: A dictionary of metrics to compute after each step of training.\n",
    "\n",
    "Once created, the user can then design their tune experiment in the usual way, and pass the `Trainer` as the callable trainable method.\n",
    "\n",
    "We'll create a `prep_method` which can yield all needed callables for a simple experiment: How large a convolutional kernel is appropriate for a two layer convolutional model for classifying MNIST digits.\n",
    "\n",
    "## Define `prep_method`"
   ]
  },
  {
   "cell_type": "code",
   "execution_count": 3,
   "id": "29f81280",
   "metadata": {
    "ExecuteTime": {
     "end_time": "2022-10-04T22:28:14.145494Z",
     "start_time": "2022-10-04T22:28:14.128171Z"
    }
   },
   "outputs": [],
   "source": [
    "import dryml\n",
    "import os"
   ]
  },
  {
   "cell_type": "code",
   "execution_count": 4,
   "id": "88d8b994",
   "metadata": {
    "ExecuteTime": {
     "end_time": "2022-10-05T14:14:59.385952Z",
     "start_time": "2022-10-05T14:14:59.362362Z"
    }
   },
   "outputs": [],
   "source": [
    "# Name experiment so we can set model directory\n",
    "experiment_name = 'TF_ray_test'\n",
    "model_dir = os.path.realpath(os.path.join('./models', experiment_name))\n",
    "\n",
    "# A callable to create the train/test `Dataset`\n",
    "def data_gen():\n",
    "    import tensorflow_datasets as tfds\n",
    "    from dryml.data.tf import TFDataset\n",
    "    \n",
    "    # Check whether tensorflow support exists\n",
    "    # For the current GPU.\n",
    "    dryml.context.context_check({'tf': {}})\n",
    "    \n",
    "    (ds_train, ds_test), ds_info = tfds.load(\n",
    "        'mnist',\n",
    "        split=['train', 'test'],\n",
    "        shuffle_files=True,\n",
    "        as_supervised=True,\n",
    "        with_info=True)\n",
    "    \n",
    "    train_ds = TFDataset(\n",
    "        ds_train,\n",
    "        supervised=True\n",
    "    )\n",
    "    test_ds = TFDataset(\n",
    "        ds_test,\n",
    "        supervised=True\n",
    "    )\n",
    "    return {\n",
    "        'train': train_ds,\n",
    "        'test': test_ds,\n",
    "    }\n",
    "\n",
    "\n",
    "def prep_method():\n",
    "    # A callable to create a repo. This is needed to store completed models for later use.\n",
    "    def repo_gen():\n",
    "        return dryml.Repo(directory=model_dir, create=True)\n",
    "\n",
    "\n",
    "    # We need another callable since the input datasets have a context\n",
    "    # Requirement, we want the Trainer function to incorporate this\n",
    "    # requirement when building the compute context.\n",
    "    def data_ctx_gen():\n",
    "        return {'tf': {}}\n",
    "\n",
    "    # Model generator method which takes a config, and generates a model\n",
    "    # It also can take a repo keyword argument so already trained components\n",
    "    # Can be grabbed from the repo.\n",
    "    def model_gen(config, repo=None):\n",
    "        import dryml\n",
    "        import dryml.models\n",
    "        import dryml.models.tf\n",
    "        import tensorflow as tf\n",
    "        \n",
    "        # Grab the existing Best Category data transformation\n",
    "        best_cat_def = dryml.ObjectDef(dryml.data.transforms.BestCat)\n",
    "        best_step = repo.get(best_cat_def)\n",
    "        \n",
    "        kernel_size = int(config['kernel_size'])\n",
    "\n",
    "        filters = 32\n",
    "        n_layers = 2\n",
    "        layer_defs = []\n",
    "        for i in range(n_layers):\n",
    "            layer_defs.append(\n",
    "                ['Conv2D', {'filters': filters, 'kernel_size': kernel_size, 'activation': 'relu'}])\n",
    "        layer_defs.append(['Flatten', {}])\n",
    "        layer_defs.append(['Dense', {'units': 10, 'activation': 'linear'}])\n",
    "        \n",
    "        mdl_def = dryml.ObjectDef(\n",
    "            dryml.models.tf.keras.base.SequentialFunctionalModel,\n",
    "            input_shape=(28, 28, 1),\n",
    "            layer_defs=layer_defs,\n",
    "        )\n",
    "        \n",
    "        # Create model definition\n",
    "        mdl_def = dryml.ObjectDef(\n",
    "            dryml.models.Pipe,\n",
    "            dryml.ObjectDef(\n",
    "                dryml.models.tf.keras.Trainable,\n",
    "                # Model definition\n",
    "                model=mdl_def,\n",
    "                # Train method\n",
    "                train_fn=dryml.ObjectDef(\n",
    "                    dryml.models.tf.keras.base.BasicTraining,\n",
    "                    epochs=5,\n",
    "                ),\n",
    "                # Optimizer\n",
    "                optimizer=dryml.ObjectDef(\n",
    "                    dryml.models.tf.ObjectWrapper,\n",
    "                    tf.keras.optimizers.Adam,\n",
    "                ),\n",
    "                # Loss\n",
    "                loss=dryml.ObjectDef(\n",
    "                    dryml.models.tf.ObjectWrapper,\n",
    "                    tf.keras.losses.SparseCategoricalCrossentropy,\n",
    "                    obj_kwargs={\n",
    "                        'from_logits': True\n",
    "                    }\n",
    "                )\n",
    "            ),\n",
    "            best_step,\n",
    "        )\n",
    "        \n",
    "        ctx_reqs = {'tf': {'num_gpus': 1}}\n",
    "\n",
    "        # Return dictionary with the model and optionally, \n",
    "        return {\n",
    "            'model': mdl_def.build(repo=repo),\n",
    "            'ctx_reqs': ctx_reqs,\n",
    "        }\n",
    "\n",
    "    # Return dictionary with defined callables.\n",
    "    return {\n",
    "        'repo': repo_gen,\n",
    "        'data_ctx': data_ctx_gen,\n",
    "        'data': data_gen,\n",
    "        'model': model_gen,\n",
    "    }"
   ]
  },
  {
   "cell_type": "markdown",
   "id": "f46db9da",
   "metadata": {},
   "source": [
    "Next, let's prepare the `Repo` with needed objects and the `Repo` directory."
   ]
  },
  {
   "cell_type": "code",
   "execution_count": 5,
   "id": "8a92965a",
   "metadata": {
    "ExecuteTime": {
     "end_time": "2022-10-04T22:28:14.155316Z",
     "start_time": "2022-10-04T22:28:14.147747Z"
    }
   },
   "outputs": [
    {
     "name": "stderr",
     "output_type": "stream",
     "text": [
      "\u001b[2m\u001b[33m(raylet)\u001b[0m /home/mkrafcz2/HAL_Projects/DRYML/dryml_venv_opence_v1.6.1/lib/python3.9/site-packages/ray/dashboard/agent.py:163: DeprecationWarning: distutils Version classes are deprecated. Use packaging.version instead.\n",
      "\u001b[2m\u001b[33m(raylet)\u001b[0m   if LooseVersion(aiohttp.__version__) < LooseVersion(\"4.0.0\"):\n"
     ]
    }
   ],
   "source": [
    "# Let's create a repo pointing to the same directory.\n",
    "repo = dryml.Repo(directory=model_dir, create=True)\n",
    "\n",
    "# Create a Best Category trainable, and save it to the repo.\n",
    "best_cat_def = dryml.ObjectDef(dryml.data.transforms.BestCat)\n",
    "# Repo's get method has a special ability when `build_missing_def=True`.\n",
    "# If a non-concrete definition is not in the repo, one instance will be\n",
    "# created and stored in the repo.\n",
    "repo.get(best_cat_def, build_missing_def=True)\n",
    "\n",
    "# Save the objects\n",
    "repo.save()"
   ]
  },
  {
   "cell_type": "markdown",
   "id": "b26e3e5b",
   "metadata": {},
   "source": [
    "Now, let's design the tune experiment!"
   ]
  },
  {
   "cell_type": "code",
   "execution_count": 62,
   "id": "9dd3fc21",
   "metadata": {
    "ExecuteTime": {
     "end_time": "2022-10-04T22:28:14.166754Z",
     "start_time": "2022-10-04T22:28:14.157348Z"
    },
    "tags": []
   },
   "outputs": [
    {
     "name": "stderr",
     "output_type": "stream",
     "text": [
      "2022-10-13 15:41:24,731\tINFO registry.py:69 -- Detected unknown callable for trainable. Converting to class.\n"
     ]
    },
    {
     "ename": "ValueError",
     "evalue": "You called resume (True) when no checkpoint exists in local directory (/home/mkrafcz2/HAL_Projects/DRYML/tutorials/ray_results/TF_ray_test_2022-10-13_15-41-24). If you want to start a new experiment, use `resume=\"AUTO\"` or `resume=None`. If you expected an experiment to already exist, check if you supplied the correct `local_dir` to `tune.run()`.",
     "output_type": "error",
     "traceback": [
      "\u001b[0;31m---------------------------------------------------------------------------\u001b[0m",
      "\u001b[0;31mValueError\u001b[0m                                Traceback (most recent call last)",
      "\u001b[0;32m/tmp/ipykernel_3296046/4003708679.py\u001b[0m in \u001b[0;36m<cell line: 20>\u001b[0;34m()\u001b[0m\n\u001b[1;32m     18\u001b[0m )\n\u001b[1;32m     19\u001b[0m \u001b[0;34m\u001b[0m\u001b[0m\n\u001b[0;32m---> 20\u001b[0;31m analysis = tune.run(\n\u001b[0m\u001b[1;32m     21\u001b[0m     \u001b[0mmodel_trainer\u001b[0m\u001b[0;34m,\u001b[0m\u001b[0;34m\u001b[0m\u001b[0;34m\u001b[0m\u001b[0m\n\u001b[1;32m     22\u001b[0m     \u001b[0mconfig\u001b[0m\u001b[0;34m=\u001b[0m\u001b[0mconfig\u001b[0m\u001b[0;34m,\u001b[0m\u001b[0;34m\u001b[0m\u001b[0;34m\u001b[0m\u001b[0m\n",
      "\u001b[0;32m~/HAL_Projects/DRYML/dryml_venv_opence_v1.6.1/lib/python3.9/site-packages/ray/tune/tune.py\u001b[0m in \u001b[0;36mrun\u001b[0;34m(run_or_experiment, name, metric, mode, stop, time_budget_s, config, resources_per_trial, num_samples, local_dir, search_alg, scheduler, keep_checkpoints_num, checkpoint_score_attr, checkpoint_freq, checkpoint_at_end, verbose, progress_reporter, log_to_file, trial_name_creator, trial_dirname_creator, sync_config, export_formats, max_failures, fail_fast, restore, server_port, resume, reuse_actors, trial_executor, raise_on_failed_trial, callbacks, max_concurrent_trials, queue_trials, loggers, _remote)\u001b[0m\n\u001b[1;32m    531\u001b[0m         callbacks, sync_config, metric=metric, loggers=loggers)\n\u001b[1;32m    532\u001b[0m \u001b[0;34m\u001b[0m\u001b[0m\n\u001b[0;32m--> 533\u001b[0;31m     runner = TrialRunner(\n\u001b[0m\u001b[1;32m    534\u001b[0m         \u001b[0msearch_alg\u001b[0m\u001b[0;34m=\u001b[0m\u001b[0msearch_alg\u001b[0m\u001b[0;34m,\u001b[0m\u001b[0;34m\u001b[0m\u001b[0;34m\u001b[0m\u001b[0m\n\u001b[1;32m    535\u001b[0m         \u001b[0mscheduler\u001b[0m\u001b[0;34m=\u001b[0m\u001b[0mscheduler\u001b[0m\u001b[0;34m,\u001b[0m\u001b[0;34m\u001b[0m\u001b[0;34m\u001b[0m\u001b[0m\n",
      "\u001b[0;32m~/HAL_Projects/DRYML/dryml_venv_opence_v1.6.1/lib/python3.9/site-packages/ray/tune/trial_runner.py\u001b[0m in \u001b[0;36m__init__\u001b[0;34m(self, search_alg, scheduler, local_checkpoint_dir, remote_checkpoint_dir, sync_config, stopper, resume, server_port, fail_fast, checkpoint_period, trial_executor, callbacks, metric, driver_sync_trial_checkpoints)\u001b[0m\n\u001b[1;32m    346\u001b[0m         \u001b[0mself\u001b[0m\u001b[0;34m.\u001b[0m\u001b[0m_resumed\u001b[0m \u001b[0;34m=\u001b[0m \u001b[0;32mFalse\u001b[0m\u001b[0;34m\u001b[0m\u001b[0;34m\u001b[0m\u001b[0m\n\u001b[1;32m    347\u001b[0m \u001b[0;34m\u001b[0m\u001b[0m\n\u001b[0;32m--> 348\u001b[0;31m         if self._validate_resume(\n\u001b[0m\u001b[1;32m    349\u001b[0m                 \u001b[0mresume_type\u001b[0m\u001b[0;34m=\u001b[0m\u001b[0mresume\u001b[0m\u001b[0;34m,\u001b[0m\u001b[0;34m\u001b[0m\u001b[0;34m\u001b[0m\u001b[0m\n\u001b[1;32m    350\u001b[0m                 driver_sync_trial_checkpoints=driver_sync_trial_checkpoints):\n",
      "\u001b[0;32m~/HAL_Projects/DRYML/dryml_venv_opence_v1.6.1/lib/python3.9/site-packages/ray/tune/trial_runner.py\u001b[0m in \u001b[0;36m_validate_resume\u001b[0;34m(self, resume_type, driver_sync_trial_checkpoints)\u001b[0m\n\u001b[1;32m    493\u001b[0m         \u001b[0;32mif\u001b[0m \u001b[0mresume_type\u001b[0m \u001b[0;32min\u001b[0m \u001b[0;34m[\u001b[0m\u001b[0;32mTrue\u001b[0m\u001b[0;34m,\u001b[0m \u001b[0;34m\"LOCAL\"\u001b[0m\u001b[0;34m,\u001b[0m \u001b[0;34m\"PROMPT\"\u001b[0m\u001b[0;34m,\u001b[0m \u001b[0;34m\"ERRORED_ONLY\"\u001b[0m\u001b[0;34m]\u001b[0m\u001b[0;34m:\u001b[0m\u001b[0;34m\u001b[0m\u001b[0;34m\u001b[0m\u001b[0m\n\u001b[1;32m    494\u001b[0m             \u001b[0;32mif\u001b[0m \u001b[0;32mnot\u001b[0m \u001b[0mself\u001b[0m\u001b[0;34m.\u001b[0m\u001b[0mcheckpoint_exists\u001b[0m\u001b[0;34m(\u001b[0m\u001b[0mself\u001b[0m\u001b[0;34m.\u001b[0m\u001b[0m_local_checkpoint_dir\u001b[0m\u001b[0;34m)\u001b[0m\u001b[0;34m:\u001b[0m\u001b[0;34m\u001b[0m\u001b[0;34m\u001b[0m\u001b[0m\n\u001b[0;32m--> 495\u001b[0;31m                 raise ValueError(\n\u001b[0m\u001b[1;32m    496\u001b[0m                     \u001b[0;34mf\"You called resume ({resume_type}) when no checkpoint \"\u001b[0m\u001b[0;34m\u001b[0m\u001b[0;34m\u001b[0m\u001b[0m\n\u001b[1;32m    497\u001b[0m                     \u001b[0;34mf\"exists in local directory \"\u001b[0m\u001b[0;34m\u001b[0m\u001b[0;34m\u001b[0m\u001b[0m\n",
      "\u001b[0;31mValueError\u001b[0m: You called resume (True) when no checkpoint exists in local directory (/home/mkrafcz2/HAL_Projects/DRYML/tutorials/ray_results/TF_ray_test_2022-10-13_15-41-24). If you want to start a new experiment, use `resume=\"AUTO\"` or `resume=None`. If you expected an experiment to already exist, check if you supplied the correct `local_dir` to `tune.run()`."
     ]
    }
   ],
   "source": [
    "from ray import tune\n",
    "import dryml.ray\n",
    "import dryml.metrics\n",
    "import datetime\n",
    "\n",
    "local_dir = os.path.realpath(f'./ray_results')\n",
    "\n",
    "# Define study space\n",
    "config = {\n",
    "    'kernel_size': tune.randint(3,8),\n",
    "}\n",
    "\n",
    "# Create model trainer\n",
    "model_trainer = dryml.ray.tune.Tune1Trainer(\n",
    "    name=experiment_name,\n",
    "    prep_method=prep_method,\n",
    "    metrics={'accuracy': dryml.metrics.scalar.categorical_accuracy},\n",
    ")\n",
    "\n",
    "analysis = tune.run(\n",
    "    model_trainer,\n",
    "    config=config,\n",
    "    metric='accuracy',\n",
    "    mode='max',\n",
    "    resources_per_trial={'cpu': 8, 'gpu': 1},\n",
    "    num_samples=2,\n",
    "    keep_checkpoints_num=2,\n",
    "    local_dir=local_dir,\n",
    "    log_to_file=True,\n",
    "    reuse_actors=False,\n",
    "    fail_fast=True,\n",
    "    progress_reporter=tune.JupyterNotebookReporter(\n",
    "        True,\n",
    "        max_report_frequency=5,\n",
    "    ),\n",
    "    # resume=True, # Currently needs more experimentation to work properly\n",
    ")"
   ]
  },
  {
   "cell_type": "code",
   "execution_count": 33,
   "id": "e397e715-2b64-497a-b576-78a577ae7a1e",
   "metadata": {},
   "outputs": [
    {
     "data": {
      "text/html": [
       "<div>\n",
       "<style scoped>\n",
       "    .dataframe tbody tr th:only-of-type {\n",
       "        vertical-align: middle;\n",
       "    }\n",
       "\n",
       "    .dataframe tbody tr th {\n",
       "        vertical-align: top;\n",
       "    }\n",
       "\n",
       "    .dataframe thead th {\n",
       "        text-align: right;\n",
       "    }\n",
       "</style>\n",
       "<table border=\"1\" class=\"dataframe\">\n",
       "  <thead>\n",
       "    <tr style=\"text-align: right;\">\n",
       "      <th></th>\n",
       "      <th>accuracy</th>\n",
       "      <th>dry_id</th>\n",
       "      <th>done</th>\n",
       "      <th>time_this_iter_s</th>\n",
       "      <th>timesteps_total</th>\n",
       "      <th>episodes_total</th>\n",
       "      <th>training_iteration</th>\n",
       "      <th>experiment_id</th>\n",
       "      <th>date</th>\n",
       "      <th>timestamp</th>\n",
       "      <th>time_total_s</th>\n",
       "      <th>pid</th>\n",
       "      <th>hostname</th>\n",
       "      <th>node_ip</th>\n",
       "      <th>time_since_restore</th>\n",
       "      <th>timesteps_since_restore</th>\n",
       "      <th>iterations_since_restore</th>\n",
       "      <th>experiment_tag</th>\n",
       "      <th>config.kernel_size</th>\n",
       "    </tr>\n",
       "    <tr>\n",
       "      <th>trial_id</th>\n",
       "      <th></th>\n",
       "      <th></th>\n",
       "      <th></th>\n",
       "      <th></th>\n",
       "      <th></th>\n",
       "      <th></th>\n",
       "      <th></th>\n",
       "      <th></th>\n",
       "      <th></th>\n",
       "      <th></th>\n",
       "      <th></th>\n",
       "      <th></th>\n",
       "      <th></th>\n",
       "      <th></th>\n",
       "      <th></th>\n",
       "      <th></th>\n",
       "      <th></th>\n",
       "      <th></th>\n",
       "      <th></th>\n",
       "    </tr>\n",
       "  </thead>\n",
       "  <tbody>\n",
       "    <tr>\n",
       "      <th>c0912_00000</th>\n",
       "      <td>0.976863</td>\n",
       "      <td>434c6dfd-7aed-4eae-b2f8-631ebd512adf</td>\n",
       "      <td>True</td>\n",
       "      <td>2.365537</td>\n",
       "      <td>None</td>\n",
       "      <td>None</td>\n",
       "      <td>6</td>\n",
       "      <td>6027c150368f47a19e15f4ad60a325c9</td>\n",
       "      <td>2022-10-13_14-47-53</td>\n",
       "      <td>1665690473</td>\n",
       "      <td>70.254050</td>\n",
       "      <td>3296964</td>\n",
       "      <td>hal04</td>\n",
       "      <td>192.168.20.4</td>\n",
       "      <td>70.254050</td>\n",
       "      <td>0</td>\n",
       "      <td>6</td>\n",
       "      <td>0_kernel_size=6</td>\n",
       "      <td>6</td>\n",
       "    </tr>\n",
       "    <tr>\n",
       "      <th>c0912_00001</th>\n",
       "      <td>0.976963</td>\n",
       "      <td>53e9ecc4-0967-40af-8dc2-56b22d354b5a</td>\n",
       "      <td>True</td>\n",
       "      <td>2.332630</td>\n",
       "      <td>None</td>\n",
       "      <td>None</td>\n",
       "      <td>6</td>\n",
       "      <td>b0aa37dd5c9a44ceb51bb2695270ebce</td>\n",
       "      <td>2022-10-13_14-48-44</td>\n",
       "      <td>1665690524</td>\n",
       "      <td>47.492501</td>\n",
       "      <td>3296957</td>\n",
       "      <td>hal04</td>\n",
       "      <td>192.168.20.4</td>\n",
       "      <td>47.492501</td>\n",
       "      <td>0</td>\n",
       "      <td>6</td>\n",
       "      <td>1_kernel_size=6</td>\n",
       "      <td>6</td>\n",
       "    </tr>\n",
       "  </tbody>\n",
       "</table>\n",
       "</div>"
      ],
      "text/plain": [
       "             accuracy                                dry_id  done  \\\n",
       "trial_id                                                            \n",
       "c0912_00000  0.976863  434c6dfd-7aed-4eae-b2f8-631ebd512adf  True   \n",
       "c0912_00001  0.976963  53e9ecc4-0967-40af-8dc2-56b22d354b5a  True   \n",
       "\n",
       "             time_this_iter_s timesteps_total episodes_total  \\\n",
       "trial_id                                                       \n",
       "c0912_00000          2.365537            None           None   \n",
       "c0912_00001          2.332630            None           None   \n",
       "\n",
       "             training_iteration                     experiment_id  \\\n",
       "trial_id                                                            \n",
       "c0912_00000                   6  6027c150368f47a19e15f4ad60a325c9   \n",
       "c0912_00001                   6  b0aa37dd5c9a44ceb51bb2695270ebce   \n",
       "\n",
       "                            date   timestamp  time_total_s      pid hostname  \\\n",
       "trial_id                                                                       \n",
       "c0912_00000  2022-10-13_14-47-53  1665690473     70.254050  3296964    hal04   \n",
       "c0912_00001  2022-10-13_14-48-44  1665690524     47.492501  3296957    hal04   \n",
       "\n",
       "                  node_ip  time_since_restore  timesteps_since_restore  \\\n",
       "trial_id                                                                 \n",
       "c0912_00000  192.168.20.4           70.254050                        0   \n",
       "c0912_00001  192.168.20.4           47.492501                        0   \n",
       "\n",
       "             iterations_since_restore   experiment_tag  config.kernel_size  \n",
       "trial_id                                                                    \n",
       "c0912_00000                         6  0_kernel_size=6                   6  \n",
       "c0912_00001                         6  1_kernel_size=6                   6  "
      ]
     },
     "execution_count": 33,
     "metadata": {},
     "output_type": "execute_result"
    }
   ],
   "source": [
    "results_df"
   ]
  },
  {
   "cell_type": "code",
   "execution_count": 30,
   "id": "88d242db-2fd0-4e9f-ad27-4f5d59add892",
   "metadata": {},
   "outputs": [],
   "source": [
    "# Get the best trial by max accuracy\n",
    "results_df = analysis.results_df\n",
    "best_trial_id = results_df['accuracy'].idxmax()"
   ]
  },
  {
   "cell_type": "code",
   "execution_count": 54,
   "id": "d89cbd6d-b855-466b-9315-86c9bcaebc07",
   "metadata": {},
   "outputs": [
    {
     "data": {
      "text/plain": [
       "config.kernel_size    6\n",
       "Name: c0912_00001, dtype: object"
      ]
     },
     "execution_count": 54,
     "metadata": {},
     "output_type": "execute_result"
    }
   ],
   "source": [
    "# Get and show config of best trial\n",
    "best_trial_data = results_df.loc[best_trial_id]\n",
    "config_data = best_trial_data.loc[best_trial_data.index.str.contains('config')]\n",
    "config_data"
   ]
  },
  {
   "cell_type": "code",
   "execution_count": 56,
   "id": "6fbd5bdd-dde2-40ed-82af-eb48d802a7da",
   "metadata": {},
   "outputs": [
    {
     "name": "stdout",
     "output_type": "stream",
     "text": [
      "Accuracy: 0.9769631410256411\n",
      "id: 53e9ecc4-0967-40af-8dc2-56b22d354b5a\n"
     ]
    }
   ],
   "source": [
    "# Report accuracy and id\n",
    "print(f\"Accuracy: {best_trial_data.loc['accuracy']}\")\n",
    "best_model_id = best_trial_data.loc['dry_id'] \n",
    "print(f\"id: {best_model_id}\")"
   ]
  },
  {
   "cell_type": "code",
   "execution_count": 57,
   "id": "2faee8ba",
   "metadata": {
    "ExecuteTime": {
     "end_time": "2022-10-05T14:07:09.146947Z",
     "start_time": "2022-10-05T14:07:08.987242Z"
    }
   },
   "outputs": [],
   "source": [
    "# Refresh the repository\n",
    "repo.load_objects_from_directory()"
   ]
  },
  {
   "cell_type": "code",
   "execution_count": 58,
   "id": "3832cfa8",
   "metadata": {
    "ExecuteTime": {
     "end_time": "2022-10-05T14:07:23.553173Z",
     "start_time": "2022-10-05T14:07:23.495418Z"
    }
   },
   "outputs": [],
   "source": [
    "# Fetch the best performing model\n",
    "model = repo.get_obj_by_id(best_model_id)"
   ]
  },
  {
   "cell_type": "code",
   "execution_count": 59,
   "id": "95a577c5",
   "metadata": {
    "ExecuteTime": {
     "end_time": "2022-10-05T14:20:36.668288Z",
     "start_time": "2022-10-05T14:20:36.659413Z"
    }
   },
   "outputs": [],
   "source": [
    "# Lets define a method to test the model's accuracy\n",
    "@dryml.compute\n",
    "def test_model(model):\n",
    "    import dryml.metrics\n",
    "    import tensorflow_datasets as tfds\n",
    "    from dryml.data.tf import TFDataset\n",
    "\n",
    "    # Check whether tensorflow support exists\n",
    "    # For the current GPU.\n",
    "    dryml.context.context_check({'tf': {}})\n",
    "\n",
    "    (ds_test,) = tfds.load(\n",
    "        'mnist',\n",
    "        split=['test'],\n",
    "        shuffle_files=True,\n",
    "        as_supervised=True)\n",
    "\n",
    "    test_ds = TFDataset(\n",
    "        ds_test,\n",
    "        supervised=True\n",
    "    )\n",
    "\n",
    "    return dryml.metrics.scalar.categorical_accuracy(model, test_ds)"
   ]
  },
  {
   "cell_type": "code",
   "execution_count": 60,
   "id": "d5e54e79",
   "metadata": {
    "ExecuteTime": {
     "end_time": "2022-10-05T14:20:41.591207Z",
     "start_time": "2022-10-05T14:20:37.025047Z"
    }
   },
   "outputs": [
    {
     "data": {
      "text/plain": [
       "0.9769631410256411"
      ]
     },
     "execution_count": 60,
     "metadata": {},
     "output_type": "execute_result"
    }
   ],
   "source": [
    "# And verify recorded accuracy!\n",
    "test_model(model)"
   ]
  },
  {
   "cell_type": "code",
   "execution_count": null,
   "id": "cb1a6ce1",
   "metadata": {},
   "outputs": [],
   "source": []
  }
 ],
 "metadata": {
  "kernelspec": {
   "display_name": "dryml development opence v1.6.1 [conda env:dryml_venv_opence_v1.6.1]",
   "language": "python",
   "name": "conda-env-dryml_venv_opence_v1.6.1-py"
  },
  "language_info": {
   "codemirror_mode": {
    "name": "ipython",
    "version": 3
   },
   "file_extension": ".py",
   "mimetype": "text/x-python",
   "name": "python",
   "nbconvert_exporter": "python",
   "pygments_lexer": "ipython3",
   "version": "3.9.12"
  }
 },
 "nbformat": 4,
 "nbformat_minor": 5
}
