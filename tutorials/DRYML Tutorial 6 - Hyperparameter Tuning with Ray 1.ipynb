{
 "cells": [
  {
   "cell_type": "markdown",
   "id": "5cf97ce7",
   "metadata": {},
   "source": [
    "# DRYML Tutorial 6 - Hyperparameter Searches with `ray`\n",
    "\n",
    "## Ray tune\n",
    "\n",
    "One primary use case for DRYML is hyperparameter tuning of your models. With `ObjectDef` providing an easy way to define model templates, and the uniform training interface of trainables we can slot DRYML into the ray hyperparameter tuning process.\n",
    "\n",
    "We'll briefly introduce `ray`, and write a simple hyperparameter tuning example.\n",
    "\n",
    "RAY is a platform for remote process execution. It creates a server which manages connected resources. Jobs can then be sent to those resources in the form of multiple processes confined to specific resources. This is ideal for hyperparameter tuning, and in fact RAY provides the `ray.tune` library for exactly this.\n",
    "\n",
    "This tutorial won't serve as a tutorial for ray, for that please consult the ray documentation available here: https://docs.ray.io/en/latest/index.html and here: https://docs.ray.io/en/latest/tune/index.html\n",
    "\n",
    "Let's start the ray server, and write a simple method for generating models."
   ]
  },
  {
   "cell_type": "code",
   "execution_count": 2,
   "id": "3a17d95f",
   "metadata": {
    "ExecuteTime": {
     "end_time": "2022-10-04T22:17:44.924102Z",
     "start_time": "2022-10-04T22:17:44.920605Z"
    },
    "execution": {
     "iopub.execute_input": "2023-03-21T18:25:18.907728Z",
     "iopub.status.busy": "2023-03-21T18:25:18.907171Z",
     "iopub.status.idle": "2023-03-21T18:25:24.760076Z",
     "shell.execute_reply": "2023-03-21T18:25:24.758669Z",
     "shell.execute_reply.started": "2023-03-21T18:25:18.907676Z"
    },
    "tags": []
   },
   "outputs": [],
   "source": [
    "import ray"
   ]
  },
  {
   "cell_type": "code",
   "execution_count": 3,
   "id": "90586f7a",
   "metadata": {
    "ExecuteTime": {
     "end_time": "2022-10-04T22:17:51.406717Z",
     "start_time": "2022-10-04T22:17:45.326593Z"
    },
    "execution": {
     "iopub.execute_input": "2023-03-21T18:25:24.763621Z",
     "iopub.status.busy": "2023-03-21T18:25:24.762450Z",
     "iopub.status.idle": "2023-03-21T18:25:30.725297Z",
     "shell.execute_reply": "2023-03-21T18:25:30.724758Z",
     "shell.execute_reply.started": "2023-03-21T18:25:24.763567Z"
    },
    "tags": []
   },
   "outputs": [
    {
     "name": "stderr",
     "output_type": "stream",
     "text": [
      "2023-03-21 13:25:29,956\tINFO worker.py:1518 -- Started a local Ray instance.\n"
     ]
    },
    {
     "data": {
      "text/html": [
       "<div>\n",
       "    <div style=\"margin-left: 50px;display: flex;flex-direction: row;align-items: center\">\n",
       "        <h3 style=\"color: var(--jp-ui-font-color0)\">Ray</h3>\n",
       "        <svg version=\"1.1\" id=\"ray\" width=\"3em\" viewBox=\"0 0 144.5 144.6\" style=\"margin-left: 3em;margin-right: 3em\">\n",
       "            <g id=\"layer-1\">\n",
       "                <path fill=\"#00a2e9\" class=\"st0\" d=\"M97.3,77.2c-3.8-1.1-6.2,0.9-8.3,5.1c-3.5,6.8-9.9,9.9-17.4,9.6S58,88.1,54.8,81.2c-1.4-3-3-4-6.3-4.1\n",
       "                    c-5.6-0.1-9.9,0.1-13.1,6.4c-3.8,7.6-13.6,10.2-21.8,7.6C5.2,88.4-0.4,80.5,0,71.7c0.1-8.4,5.7-15.8,13.8-18.2\n",
       "                    c8.4-2.6,17.5,0.7,22.3,8c1.3,1.9,1.3,5.2,3.6,5.6c3.9,0.6,8,0.2,12,0.2c1.8,0,1.9-1.6,2.4-2.8c3.5-7.8,9.7-11.8,18-11.9\n",
       "                    c8.2-0.1,14.4,3.9,17.8,11.4c1.3,2.8,2.9,3.6,5.7,3.3c1-0.1,2,0.1,3,0c2.8-0.5,6.4,1.7,8.1-2.7s-2.3-5.5-4.1-7.5\n",
       "                    c-5.1-5.7-10.9-10.8-16.1-16.3C84,38,81.9,37.1,78,38.3C66.7,42,56.2,35.7,53,24.1C50.3,14,57.3,2.8,67.7,0.5\n",
       "                    C78.4-2,89,4.7,91.5,15.3c0.1,0.3,0.1,0.5,0.2,0.8c0.7,3.4,0.7,6.9-0.8,9.8c-1.7,3.2-0.8,5,1.5,7.2c6.7,6.5,13.3,13,19.8,19.7\n",
       "                    c1.8,1.8,3,2.1,5.5,1.2c9.1-3.4,17.9-0.6,23.4,7c4.8,6.9,4.6,16.1-0.4,22.9c-5.4,7.2-14.2,9.9-23.1,6.5c-2.3-0.9-3.5-0.6-5.1,1.1\n",
       "                    c-6.7,6.9-13.6,13.7-20.5,20.4c-1.8,1.8-2.5,3.2-1.4,5.9c3.5,8.7,0.3,18.6-7.7,23.6c-7.9,5-18.2,3.8-24.8-2.9\n",
       "                    c-6.4-6.4-7.4-16.2-2.5-24.3c4.9-7.8,14.5-11,23.1-7.8c3,1.1,4.7,0.5,6.9-1.7C91.7,98.4,98,92.3,104.2,86c1.6-1.6,4.1-2.7,2.6-6.2\n",
       "                    c-1.4-3.3-3.8-2.5-6.2-2.6C99.8,77.2,98.9,77.2,97.3,77.2z M72.1,29.7c5.5,0.1,9.9-4.3,10-9.8c0-0.1,0-0.2,0-0.3\n",
       "                    C81.8,14,77,9.8,71.5,10.2c-5,0.3-9,4.2-9.3,9.2c-0.2,5.5,4,10.1,9.5,10.3C71.8,29.7,72,29.7,72.1,29.7z M72.3,62.3\n",
       "                    c-5.4-0.1-9.9,4.2-10.1,9.7c0,0.2,0,0.3,0,0.5c0.2,5.4,4.5,9.7,9.9,10c5.1,0.1,9.9-4.7,10.1-9.8c0.2-5.5-4-10-9.5-10.3\n",
       "                    C72.6,62.3,72.4,62.3,72.3,62.3z M115,72.5c0.1,5.4,4.5,9.7,9.8,9.9c5.6-0.2,10-4.8,10-10.4c-0.2-5.4-4.6-9.7-10-9.7\n",
       "                    c-5.3-0.1-9.8,4.2-9.9,9.5C115,72.1,115,72.3,115,72.5z M19.5,62.3c-5.4,0.1-9.8,4.4-10,9.8c-0.1,5.1,5.2,10.4,10.2,10.3\n",
       "                    c5.6-0.2,10-4.9,9.8-10.5c-0.1-5.4-4.5-9.7-9.9-9.6C19.6,62.3,19.5,62.3,19.5,62.3z M71.8,134.6c5.9,0.2,10.3-3.9,10.4-9.6\n",
       "                    c0.5-5.5-3.6-10.4-9.1-10.8c-5.5-0.5-10.4,3.6-10.8,9.1c0,0.5,0,0.9,0,1.4c-0.2,5.3,4,9.8,9.3,10\n",
       "                    C71.6,134.6,71.7,134.6,71.8,134.6z\"/>\n",
       "            </g>\n",
       "        </svg>\n",
       "        <table>\n",
       "            <tr>\n",
       "                <td style=\"text-align: left\"><b>Python version:</b></td>\n",
       "                <td style=\"text-align: left\"><b>3.8.13</b></td>\n",
       "            </tr>\n",
       "            <tr>\n",
       "                <td style=\"text-align: left\"><b>Ray version:</b></td>\n",
       "                <td style=\"text-align: left\"><b> 2.0.0</b></td>\n",
       "            </tr>\n",
       "            \n",
       "        </table>\n",
       "    </div>\n",
       "</div>\n"
      ],
      "text/plain": [
       "RayContext(dashboard_url='', python_version='3.8.13', ray_version='2.0.0', ray_commit='{{RAY_COMMIT_SHA}}', address_info={'node_ip_address': '192.168.2.31', 'raylet_ip_address': '192.168.2.31', 'redis_address': None, 'object_store_address': '/tmp/ray/session_2023-03-21_13-25-24_829627_2393539/sockets/plasma_store', 'raylet_socket_name': '/tmp/ray/session_2023-03-21_13-25-24_829627_2393539/sockets/raylet', 'webui_url': '', 'session_dir': '/tmp/ray/session_2023-03-21_13-25-24_829627_2393539', 'metrics_export_port': 42083, 'gcs_address': '192.168.2.31:65307', 'address': '192.168.2.31:65307', 'dashboard_agent_listen_port': 52365, 'node_id': '9b3be568978fdba06629efe811af07deb73d3057c0974ba850817e16'})"
      ]
     },
     "execution_count": 3,
     "metadata": {},
     "output_type": "execute_result"
    },
    {
     "name": "stderr",
     "output_type": "stream",
     "text": [
      "*** SIGTERM received at time=1679423286 on cpu 11 ***\n",
      "PC: @     0x7f288e4ca1b6  (unknown)  epoll_wait\n",
      "    @     0x7f288e3faf50  (unknown)  (unknown)\n",
      "[2023-03-21 13:28:06,692 E 2393539 2393539] logging.cc:361: *** SIGTERM received at time=1679423286 on cpu 11 ***\n",
      "[2023-03-21 13:28:06,692 E 2393539 2393539] logging.cc:361: PC: @     0x7f288e4ca1b6  (unknown)  epoll_wait\n",
      "[2023-03-21 13:28:06,692 E 2393539 2393539] logging.cc:361:     @     0x7f288e3faf50  (unknown)  (unknown)\n"
     ]
    }
   ],
   "source": [
    "ray.init(num_gpus=1, num_cpus=8)"
   ]
  },
  {
   "cell_type": "markdown",
   "id": "2d916042",
   "metadata": {},
   "source": [
    "## DRYML support\n",
    "\n",
    "DRYML provides support for `ray.tune` in the form of the `dryml.ray.tune.Trainer` class. This class defines a callable function compatible with the ray tune functional API. We just need to supply it with a special callable which can provide a few needed callable methods to setup and run the tune experiment.\n",
    "\n",
    "`dryml.ray.tune.Trainer` expects the arguments:\n",
    "* `name`: The name of the experiment to use\n",
    "* `prep_method`: The callable for creating the necessary callables for setting up the experiment. This must be picklable via `dill`.\n",
    "* `metrics`: A dictionary of metrics to compute after each step of training.\n",
    "\n",
    "Once created, the user can then design their tune experiment in the usual way, and pass the `Trainer` as the callable trainable method.\n",
    "\n",
    "We'll create a `prep_method` which can yield all needed callables for a simple experiment: How large a convolutional kernel is appropriate for a two layer convolutional model for classifying MNIST digits.\n",
    "\n",
    "## Define `prep_method`"
   ]
  },
  {
   "cell_type": "code",
   "execution_count": 3,
   "id": "29f81280",
   "metadata": {
    "ExecuteTime": {
     "end_time": "2022-10-04T22:28:14.145494Z",
     "start_time": "2022-10-04T22:28:14.128171Z"
    },
    "execution": {
     "iopub.execute_input": "2023-02-21T21:01:55.473439Z",
     "iopub.status.busy": "2023-02-21T21:01:55.473263Z",
     "iopub.status.idle": "2023-02-21T21:01:55.640148Z",
     "shell.execute_reply": "2023-02-21T21:01:55.637729Z",
     "shell.execute_reply.started": "2023-02-21T21:01:55.473414Z"
    },
    "tags": []
   },
   "outputs": [],
   "source": [
    "import dryml\n",
    "import os"
   ]
  },
  {
   "cell_type": "code",
   "execution_count": 4,
   "id": "88d8b994",
   "metadata": {
    "ExecuteTime": {
     "end_time": "2022-10-05T14:14:59.385952Z",
     "start_time": "2022-10-05T14:14:59.362362Z"
    },
    "execution": {
     "iopub.execute_input": "2023-02-21T21:01:55.643805Z",
     "iopub.status.busy": "2023-02-21T21:01:55.643571Z",
     "iopub.status.idle": "2023-02-21T21:01:55.662567Z",
     "shell.execute_reply": "2023-02-21T21:01:55.661982Z",
     "shell.execute_reply.started": "2023-02-21T21:01:55.643779Z"
    },
    "tags": []
   },
   "outputs": [],
   "source": [
    "# Name experiment so we can set model directory\n",
    "experiment_name = 'TF_ray_test'\n",
    "model_dir = os.path.realpath(os.path.join('./models', experiment_name))\n",
    "\n",
    "# A callable to create the train/test `Dataset`\n",
    "def data_gen():\n",
    "    import tensorflow_datasets as tfds\n",
    "    from dryml.data.tf import TFDataset\n",
    "    \n",
    "    # Check whether tensorflow support exists\n",
    "    # For the current GPU.\n",
    "    dryml.context.context_check({'tf': {}})\n",
    "    \n",
    "    (ds_train, ds_test), ds_info = tfds.load(\n",
    "        'mnist',\n",
    "        split=['train', 'test'],\n",
    "        shuffle_files=True,\n",
    "        as_supervised=True,\n",
    "        with_info=True)\n",
    "    \n",
    "    train_ds = TFDataset(\n",
    "        ds_train,\n",
    "        supervised=True\n",
    "    )\n",
    "    test_ds = TFDataset(\n",
    "        ds_test,\n",
    "        supervised=True\n",
    "    )\n",
    "    return {\n",
    "        'train': train_ds,\n",
    "        'test': test_ds,\n",
    "    }\n",
    "\n",
    "\n",
    "def prep_method():\n",
    "    # A callable to create a repo. This is needed to store completed models for later use.\n",
    "    def repo_gen():\n",
    "        return dryml.Repo(directory=model_dir, create=True)\n",
    "\n",
    "\n",
    "    # We need another callable since the input datasets have a context\n",
    "    # Requirement, we want the Trainer function to incorporate this\n",
    "    # requirement when building the compute context.\n",
    "    def data_ctx_gen():\n",
    "        return {'tf': {}}\n",
    "\n",
    "    # Model generator method which takes a config, and generates a model\n",
    "    # It also can take a repo keyword argument so already trained components\n",
    "    # Can be grabbed from the repo.\n",
    "    def model_gen(config, repo=None):\n",
    "        import dryml\n",
    "        import dryml.models\n",
    "        import dryml.models.tf\n",
    "        import tensorflow as tf\n",
    "        \n",
    "        # Grab the existing Best Category data transformation\n",
    "        best_cat_def = dryml.ObjectDef(dryml.data.transforms.BestCat)\n",
    "        best_step = repo.get(best_cat_def)\n",
    "        \n",
    "        kernel_size = int(config['kernel_size'])\n",
    "\n",
    "        filters = 32\n",
    "        n_layers = 2\n",
    "        layer_defs = []\n",
    "        for i in range(n_layers):\n",
    "            layer_defs.append(\n",
    "                ['Conv2D', {'filters': filters, 'kernel_size': kernel_size, 'activation': 'relu'}])\n",
    "        layer_defs.append(['Flatten', {}])\n",
    "        layer_defs.append(['Dense', {'units': 10, 'activation': 'linear'}])\n",
    "        \n",
    "        mdl_def = dryml.ObjectDef(\n",
    "            dryml.models.tf.keras.base.SequentialFunctionalModel,\n",
    "            input_shape=(28, 28, 1),\n",
    "            layer_defs=layer_defs,\n",
    "        )\n",
    "        \n",
    "        # Create model definition\n",
    "        mdl_def = dryml.ObjectDef(\n",
    "            dryml.models.Pipe,\n",
    "            dryml.ObjectDef(\n",
    "                dryml.models.tf.keras.Trainable,\n",
    "                # Model definition\n",
    "                model=mdl_def,\n",
    "                # Train method\n",
    "                train_fn=dryml.ObjectDef(\n",
    "                    dryml.models.tf.keras.base.BasicTraining,\n",
    "                    epochs=5,\n",
    "                ),\n",
    "                # Optimizer\n",
    "                optimizer=dryml.ObjectDef(\n",
    "                    dryml.models.tf.Wrapper,\n",
    "                    tf.keras.optimizers.Adam,\n",
    "                ),\n",
    "                # Loss\n",
    "                loss=dryml.ObjectDef(\n",
    "                    dryml.models.tf.Wrapper,\n",
    "                    tf.keras.losses.SparseCategoricalCrossentropy,\n",
    "                    from_logits=True\n",
    "                )\n",
    "            ),\n",
    "            best_step,\n",
    "        )\n",
    "        \n",
    "        ctx_reqs = {'tf': {'num_gpus': 1}}\n",
    "\n",
    "        # Return dictionary with the model and optionally, \n",
    "        return {\n",
    "            'model': mdl_def.build(repo=repo),\n",
    "            'ctx_reqs': ctx_reqs,\n",
    "        }\n",
    "\n",
    "    # Return dictionary with defined callables.\n",
    "    return {\n",
    "        'repo': repo_gen,\n",
    "        'data_ctx': data_ctx_gen,\n",
    "        'data': data_gen,\n",
    "        'model': model_gen,\n",
    "    }"
   ]
  },
  {
   "cell_type": "markdown",
   "id": "f46db9da",
   "metadata": {},
   "source": [
    "Next, let's prepare the `Repo` with needed objects and the `Repo` directory."
   ]
  },
  {
   "cell_type": "code",
   "execution_count": 5,
   "id": "8a92965a",
   "metadata": {
    "ExecuteTime": {
     "end_time": "2022-10-04T22:28:14.155316Z",
     "start_time": "2022-10-04T22:28:14.147747Z"
    },
    "execution": {
     "iopub.execute_input": "2023-02-21T21:01:55.663574Z",
     "iopub.status.busy": "2023-02-21T21:01:55.663397Z",
     "iopub.status.idle": "2023-02-21T21:01:55.691187Z",
     "shell.execute_reply": "2023-02-21T21:01:55.690608Z",
     "shell.execute_reply.started": "2023-02-21T21:01:55.663549Z"
    },
    "tags": []
   },
   "outputs": [],
   "source": [
    "# Let's create a repo pointing to the same directory.\n",
    "repo = dryml.Repo(directory=model_dir, create=True)\n",
    "\n",
    "# Create a Best Category trainable, and save it to the repo.\n",
    "best_cat_def = dryml.ObjectDef(dryml.data.transforms.BestCat)\n",
    "# Repo's get method has a special ability when `build_missing_def=True`.\n",
    "# If a non-concrete definition is not in the repo, one instance will be\n",
    "# created and stored in the repo.\n",
    "repo.get(best_cat_def, build_missing_def=True)\n",
    "\n",
    "# Save the objects\n",
    "repo.save()"
   ]
  },
  {
   "cell_type": "markdown",
   "id": "b26e3e5b",
   "metadata": {},
   "source": [
    "Now, let's design the tune experiment!"
   ]
  },
  {
   "cell_type": "code",
   "execution_count": 6,
   "id": "9dd3fc21",
   "metadata": {
    "ExecuteTime": {
     "end_time": "2022-10-04T22:28:14.166754Z",
     "start_time": "2022-10-04T22:28:14.157348Z"
    },
    "execution": {
     "iopub.execute_input": "2023-02-21T21:02:45.933361Z",
     "iopub.status.busy": "2023-02-21T21:02:45.933143Z",
     "iopub.status.idle": "2023-02-21T21:04:15.893269Z",
     "shell.execute_reply": "2023-02-21T21:04:15.892704Z",
     "shell.execute_reply.started": "2023-02-21T21:02:45.933336Z"
    },
    "tags": []
   },
   "outputs": [
    {
     "data": {
      "text/html": [
       "== Status ==<br>Current time: 2023-02-21 15:04:15 (running for 00:01:28.81)<br>Memory usage on this node: 51.8/311.5 GiB<br>Using FIFO scheduling algorithm.<br>Resources requested: 0/8 CPUs, 0/1 GPUs, 0.0/185.09 GiB heap, 0.0/83.32 GiB objects (0.0/1.0 accelerator_type:V100)<br>Current best trial: 17b5d_00000 with accuracy=0.9737580128205128 and parameters={'kernel_size': 3}<br>Result logdir: /home/mkrafcz2/HAL_Projects/DRYML/tutorials/ray_results/TF_ray_test_2023-02-21_15-02-46<br>Number of trials: 2/2 (2 TERMINATED)<br><table>\n",
       "<thead>\n",
       "<tr><th>Trial name             </th><th>status    </th><th>loc                 </th><th style=\"text-align: right;\">  kernel_size</th><th style=\"text-align: right;\">  iter</th><th style=\"text-align: right;\">  total time (s)</th><th style=\"text-align: right;\">  accuracy</th></tr>\n",
       "</thead>\n",
       "<tbody>\n",
       "<tr><td>TF_ray_test_17b5d_00000</td><td>TERMINATED</td><td>192.168.20.6:4185204</td><td style=\"text-align: right;\">            3</td><td style=\"text-align: right;\">     6</td><td style=\"text-align: right;\">         40.3327</td><td style=\"text-align: right;\">  0.973758</td></tr>\n",
       "<tr><td>TF_ray_test_17b5d_00001</td><td>TERMINATED</td><td>192.168.20.6:4186752</td><td style=\"text-align: right;\">            6</td><td style=\"text-align: right;\">     6</td><td style=\"text-align: right;\">         43.6363</td><td style=\"text-align: right;\">  0.972556</td></tr>\n",
       "</tbody>\n",
       "</table><br><br>"
      ],
      "text/plain": [
       "<IPython.core.display.HTML object>"
      ]
     },
     "metadata": {},
     "output_type": "display_data"
    },
    {
     "name": "stderr",
     "output_type": "stream",
     "text": [
      "2023-02-21 15:04:15,881\tINFO tune.py:701 -- Total run time: 88.96 seconds (88.81 seconds for the tuning loop).\n"
     ]
    }
   ],
   "source": [
    "from ray import tune\n",
    "import dryml.ray\n",
    "import dryml.metrics\n",
    "import datetime\n",
    "\n",
    "local_dir = os.path.realpath(f'./ray_results')\n",
    "\n",
    "# Define study space\n",
    "config = {\n",
    "    'kernel_size': tune.randint(3,8),\n",
    "}\n",
    "\n",
    "# Create model trainer\n",
    "model_trainer = dryml.ray.tune.Tune1Trainer(\n",
    "    name=experiment_name,\n",
    "    prep_method=prep_method,\n",
    "    metrics={'accuracy': dryml.metrics.scalar.categorical_accuracy},\n",
    ")\n",
    "\n",
    "analysis = tune.run(\n",
    "    model_trainer,\n",
    "    config=config,\n",
    "    metric='accuracy',\n",
    "    mode='max',\n",
    "    resources_per_trial={'cpu': 8, 'gpu': 1},\n",
    "    num_samples=2,\n",
    "    keep_checkpoints_num=2,\n",
    "    local_dir=local_dir,\n",
    "    log_to_file=True,\n",
    "    reuse_actors=False,\n",
    "    fail_fast=True,\n",
    "    progress_reporter=tune.JupyterNotebookReporter(\n",
    "        True,\n",
    "        max_report_frequency=5,\n",
    "    ),\n",
    "    # resume=True, # Currently needs more experimentation to work properly\n",
    ")"
   ]
  },
  {
   "cell_type": "code",
   "execution_count": 8,
   "id": "88d242db-2fd0-4e9f-ad27-4f5d59add892",
   "metadata": {
    "execution": {
     "iopub.execute_input": "2023-02-21T21:04:51.797742Z",
     "iopub.status.busy": "2023-02-21T21:04:51.797528Z",
     "iopub.status.idle": "2023-02-21T21:04:51.814885Z",
     "shell.execute_reply": "2023-02-21T21:04:51.812678Z",
     "shell.execute_reply.started": "2023-02-21T21:04:51.797716Z"
    }
   },
   "outputs": [
    {
     "name": "stderr",
     "output_type": "stream",
     "text": [
      "/home/mkrafcz2/HAL_Projects/DRYML/venv_dryml/lib/python3.8/site-packages/ray/tune/analysis/experiment_analysis.py:301: UserWarning: Dataframes will use '/' instead of '.' to delimit nested result keys in future versions of Ray. For forward compatibility, set the environment variable TUNE_RESULT_DELIM='/'\n",
      "  warnings.warn(\n"
     ]
    }
   ],
   "source": [
    "# Get the best trial by max accuracy\n",
    "results_df = analysis.results_df\n",
    "best_trial_id = results_df['accuracy'].idxmax()"
   ]
  },
  {
   "cell_type": "code",
   "execution_count": 9,
   "id": "4446a64f-adb5-47ae-9fa0-c1d53e0467d9",
   "metadata": {
    "execution": {
     "iopub.execute_input": "2023-02-21T21:05:05.761148Z",
     "iopub.status.busy": "2023-02-21T21:05:05.760932Z",
     "iopub.status.idle": "2023-02-21T21:05:05.814032Z",
     "shell.execute_reply": "2023-02-21T21:05:05.812393Z",
     "shell.execute_reply.started": "2023-02-21T21:05:05.761122Z"
    }
   },
   "outputs": [
    {
     "data": {
      "text/html": [
       "<div>\n",
       "<style scoped>\n",
       "    .dataframe tbody tr th:only-of-type {\n",
       "        vertical-align: middle;\n",
       "    }\n",
       "\n",
       "    .dataframe tbody tr th {\n",
       "        vertical-align: top;\n",
       "    }\n",
       "\n",
       "    .dataframe thead th {\n",
       "        text-align: right;\n",
       "    }\n",
       "</style>\n",
       "<table border=\"1\" class=\"dataframe\">\n",
       "  <thead>\n",
       "    <tr style=\"text-align: right;\">\n",
       "      <th></th>\n",
       "      <th>accuracy</th>\n",
       "      <th>dry_id</th>\n",
       "      <th>done</th>\n",
       "      <th>time_this_iter_s</th>\n",
       "      <th>timesteps_total</th>\n",
       "      <th>episodes_total</th>\n",
       "      <th>training_iteration</th>\n",
       "      <th>experiment_id</th>\n",
       "      <th>date</th>\n",
       "      <th>timestamp</th>\n",
       "      <th>time_total_s</th>\n",
       "      <th>pid</th>\n",
       "      <th>hostname</th>\n",
       "      <th>node_ip</th>\n",
       "      <th>time_since_restore</th>\n",
       "      <th>timesteps_since_restore</th>\n",
       "      <th>iterations_since_restore</th>\n",
       "      <th>warmup_time</th>\n",
       "      <th>experiment_tag</th>\n",
       "      <th>config.kernel_size</th>\n",
       "    </tr>\n",
       "    <tr>\n",
       "      <th>trial_id</th>\n",
       "      <th></th>\n",
       "      <th></th>\n",
       "      <th></th>\n",
       "      <th></th>\n",
       "      <th></th>\n",
       "      <th></th>\n",
       "      <th></th>\n",
       "      <th></th>\n",
       "      <th></th>\n",
       "      <th></th>\n",
       "      <th></th>\n",
       "      <th></th>\n",
       "      <th></th>\n",
       "      <th></th>\n",
       "      <th></th>\n",
       "      <th></th>\n",
       "      <th></th>\n",
       "      <th></th>\n",
       "      <th></th>\n",
       "      <th></th>\n",
       "    </tr>\n",
       "  </thead>\n",
       "  <tbody>\n",
       "    <tr>\n",
       "      <th>17b5d_00000</th>\n",
       "      <td>0.973758</td>\n",
       "      <td>cdc796d7-e227-4782-8d6f-40f1eebcf43f</td>\n",
       "      <td>True</td>\n",
       "      <td>0.920265</td>\n",
       "      <td>None</td>\n",
       "      <td>None</td>\n",
       "      <td>6</td>\n",
       "      <td>1d90aba3a0604099bf7c862f9791a8c8</td>\n",
       "      <td>2023-02-21_15-03-29</td>\n",
       "      <td>1677013409</td>\n",
       "      <td>40.332708</td>\n",
       "      <td>4185204</td>\n",
       "      <td>hal06</td>\n",
       "      <td>192.168.20.6</td>\n",
       "      <td>40.332708</td>\n",
       "      <td>0</td>\n",
       "      <td>6</td>\n",
       "      <td>0.004792</td>\n",
       "      <td>0_kernel_size=3</td>\n",
       "      <td>3</td>\n",
       "    </tr>\n",
       "    <tr>\n",
       "      <th>17b5d_00001</th>\n",
       "      <td>0.972556</td>\n",
       "      <td>f917488b-06ee-404f-88e5-2353f4015da7</td>\n",
       "      <td>True</td>\n",
       "      <td>1.417008</td>\n",
       "      <td>None</td>\n",
       "      <td>None</td>\n",
       "      <td>6</td>\n",
       "      <td>b9c052c5dbfd46b6967139f1aef41a15</td>\n",
       "      <td>2023-02-21_15-04-15</td>\n",
       "      <td>1677013455</td>\n",
       "      <td>43.636255</td>\n",
       "      <td>4186752</td>\n",
       "      <td>hal06</td>\n",
       "      <td>192.168.20.6</td>\n",
       "      <td>43.636255</td>\n",
       "      <td>0</td>\n",
       "      <td>6</td>\n",
       "      <td>0.004236</td>\n",
       "      <td>1_kernel_size=6</td>\n",
       "      <td>6</td>\n",
       "    </tr>\n",
       "  </tbody>\n",
       "</table>\n",
       "</div>"
      ],
      "text/plain": [
       "             accuracy                                dry_id  done  \\\n",
       "trial_id                                                            \n",
       "17b5d_00000  0.973758  cdc796d7-e227-4782-8d6f-40f1eebcf43f  True   \n",
       "17b5d_00001  0.972556  f917488b-06ee-404f-88e5-2353f4015da7  True   \n",
       "\n",
       "             time_this_iter_s timesteps_total episodes_total  \\\n",
       "trial_id                                                       \n",
       "17b5d_00000          0.920265            None           None   \n",
       "17b5d_00001          1.417008            None           None   \n",
       "\n",
       "             training_iteration                     experiment_id  \\\n",
       "trial_id                                                            \n",
       "17b5d_00000                   6  1d90aba3a0604099bf7c862f9791a8c8   \n",
       "17b5d_00001                   6  b9c052c5dbfd46b6967139f1aef41a15   \n",
       "\n",
       "                            date   timestamp  time_total_s      pid hostname  \\\n",
       "trial_id                                                                       \n",
       "17b5d_00000  2023-02-21_15-03-29  1677013409     40.332708  4185204    hal06   \n",
       "17b5d_00001  2023-02-21_15-04-15  1677013455     43.636255  4186752    hal06   \n",
       "\n",
       "                  node_ip  time_since_restore  timesteps_since_restore  \\\n",
       "trial_id                                                                 \n",
       "17b5d_00000  192.168.20.6           40.332708                        0   \n",
       "17b5d_00001  192.168.20.6           43.636255                        0   \n",
       "\n",
       "             iterations_since_restore  warmup_time   experiment_tag  \\\n",
       "trial_id                                                              \n",
       "17b5d_00000                         6     0.004792  0_kernel_size=3   \n",
       "17b5d_00001                         6     0.004236  1_kernel_size=6   \n",
       "\n",
       "             config.kernel_size  \n",
       "trial_id                         \n",
       "17b5d_00000                   3  \n",
       "17b5d_00001                   6  "
      ]
     },
     "execution_count": 9,
     "metadata": {},
     "output_type": "execute_result"
    }
   ],
   "source": [
    "results_df"
   ]
  },
  {
   "cell_type": "code",
   "execution_count": 10,
   "id": "d89cbd6d-b855-466b-9315-86c9bcaebc07",
   "metadata": {
    "execution": {
     "iopub.execute_input": "2023-02-21T21:05:26.920142Z",
     "iopub.status.busy": "2023-02-21T21:05:26.919927Z",
     "iopub.status.idle": "2023-02-21T21:05:26.929768Z",
     "shell.execute_reply": "2023-02-21T21:05:26.927977Z",
     "shell.execute_reply.started": "2023-02-21T21:05:26.920116Z"
    }
   },
   "outputs": [
    {
     "data": {
      "text/plain": [
       "config.kernel_size    3\n",
       "Name: 17b5d_00000, dtype: object"
      ]
     },
     "execution_count": 10,
     "metadata": {},
     "output_type": "execute_result"
    }
   ],
   "source": [
    "# Get and show config of best trial\n",
    "best_trial_data = results_df.loc[best_trial_id]\n",
    "config_data = best_trial_data.loc[best_trial_data.index.str.contains('config')]\n",
    "config_data"
   ]
  },
  {
   "cell_type": "code",
   "execution_count": 11,
   "id": "6fbd5bdd-dde2-40ed-82af-eb48d802a7da",
   "metadata": {
    "execution": {
     "iopub.execute_input": "2023-02-21T21:05:31.055221Z",
     "iopub.status.busy": "2023-02-21T21:05:31.055006Z",
     "iopub.status.idle": "2023-02-21T21:05:31.060232Z",
     "shell.execute_reply": "2023-02-21T21:05:31.058831Z",
     "shell.execute_reply.started": "2023-02-21T21:05:31.055195Z"
    }
   },
   "outputs": [
    {
     "name": "stdout",
     "output_type": "stream",
     "text": [
      "Accuracy: 0.9737580128205128\n",
      "id: cdc796d7-e227-4782-8d6f-40f1eebcf43f\n"
     ]
    }
   ],
   "source": [
    "# Report accuracy and id\n",
    "print(f\"Accuracy: {best_trial_data.loc['accuracy']}\")\n",
    "best_model_id = best_trial_data.loc['dry_id'] \n",
    "print(f\"id: {best_model_id}\")"
   ]
  },
  {
   "cell_type": "code",
   "execution_count": 12,
   "id": "2faee8ba",
   "metadata": {
    "ExecuteTime": {
     "end_time": "2022-10-05T14:07:09.146947Z",
     "start_time": "2022-10-05T14:07:08.987242Z"
    },
    "execution": {
     "iopub.execute_input": "2023-02-21T21:05:47.904681Z",
     "iopub.status.busy": "2023-02-21T21:05:47.904463Z",
     "iopub.status.idle": "2023-02-21T21:05:50.179009Z",
     "shell.execute_reply": "2023-02-21T21:05:50.178389Z",
     "shell.execute_reply.started": "2023-02-21T21:05:47.904655Z"
    }
   },
   "outputs": [
    {
     "name": "stderr",
     "output_type": "stream",
     "text": [
      "/home/mkrafcz2/HAL_Projects/DRYML/venv_dryml/lib/python3.8/site-packages/scipy/__init__.py:146: UserWarning: A NumPy version >=1.16.5 and <1.23.0 is required for this version of SciPy (detected version 1.24.2\n",
      "  warnings.warn(f\"A NumPy version >={np_minversion} and <{np_maxversion}\"\n"
     ]
    }
   ],
   "source": [
    "# Refresh the repository\n",
    "repo.load_objects_from_directory()"
   ]
  },
  {
   "cell_type": "code",
   "execution_count": 13,
   "id": "3832cfa8",
   "metadata": {
    "ExecuteTime": {
     "end_time": "2022-10-05T14:07:23.553173Z",
     "start_time": "2022-10-05T14:07:23.495418Z"
    },
    "execution": {
     "iopub.execute_input": "2023-02-21T21:05:52.464896Z",
     "iopub.status.busy": "2023-02-21T21:05:52.464684Z",
     "iopub.status.idle": "2023-02-21T21:05:52.507396Z",
     "shell.execute_reply": "2023-02-21T21:05:52.505556Z",
     "shell.execute_reply.started": "2023-02-21T21:05:52.464870Z"
    }
   },
   "outputs": [],
   "source": [
    "# Fetch the best performing model\n",
    "model = repo.get_obj_by_id(best_model_id)"
   ]
  },
  {
   "cell_type": "code",
   "execution_count": 14,
   "id": "95a577c5",
   "metadata": {
    "ExecuteTime": {
     "end_time": "2022-10-05T14:20:36.668288Z",
     "start_time": "2022-10-05T14:20:36.659413Z"
    },
    "execution": {
     "iopub.execute_input": "2023-02-21T21:05:54.032589Z",
     "iopub.status.busy": "2023-02-21T21:05:54.032377Z",
     "iopub.status.idle": "2023-02-21T21:05:54.038293Z",
     "shell.execute_reply": "2023-02-21T21:05:54.037765Z",
     "shell.execute_reply.started": "2023-02-21T21:05:54.032564Z"
    }
   },
   "outputs": [],
   "source": [
    "# Lets define a method to test the model's accuracy\n",
    "@dryml.compute\n",
    "def test_model(model):\n",
    "    import dryml.metrics\n",
    "    import tensorflow_datasets as tfds\n",
    "    from dryml.data.tf import TFDataset\n",
    "\n",
    "    # Check whether tensorflow support exists\n",
    "    # For the current GPU.\n",
    "    dryml.context.context_check({'tf': {}})\n",
    "\n",
    "    (ds_test,) = tfds.load(\n",
    "        'mnist',\n",
    "        split=['test'],\n",
    "        shuffle_files=True,\n",
    "        as_supervised=True)\n",
    "\n",
    "    test_ds = TFDataset(\n",
    "        ds_test,\n",
    "        supervised=True\n",
    "    )\n",
    "\n",
    "    return dryml.metrics.scalar.categorical_accuracy(model, test_ds)"
   ]
  },
  {
   "cell_type": "code",
   "execution_count": 15,
   "id": "d5e54e79",
   "metadata": {
    "ExecuteTime": {
     "end_time": "2022-10-05T14:20:41.591207Z",
     "start_time": "2022-10-05T14:20:37.025047Z"
    },
    "execution": {
     "iopub.execute_input": "2023-02-21T21:05:55.047323Z",
     "iopub.status.busy": "2023-02-21T21:05:55.047108Z",
     "iopub.status.idle": "2023-02-21T21:06:03.427337Z",
     "shell.execute_reply": "2023-02-21T21:06:03.426809Z",
     "shell.execute_reply.started": "2023-02-21T21:05:55.047297Z"
    }
   },
   "outputs": [
    {
     "name": "stderr",
     "output_type": "stream",
     "text": [
      "/home/mkrafcz2/HAL_Projects/DRYML/venv_dryml/lib/python3.8/site-packages/scipy/__init__.py:146: UserWarning: A NumPy version >=1.16.5 and <1.23.0 is required for this version of SciPy (detected version 1.24.2\n",
      "  warnings.warn(f\"A NumPy version >={np_minversion} and <{np_maxversion}\"\n"
     ]
    },
    {
     "data": {
      "text/plain": [
       "0.9737580128205128"
      ]
     },
     "execution_count": 15,
     "metadata": {},
     "output_type": "execute_result"
    }
   ],
   "source": [
    "# And verify recorded accuracy!\n",
    "test_model(model)"
   ]
  },
  {
   "cell_type": "code",
   "execution_count": null,
   "id": "cb1a6ce1",
   "metadata": {},
   "outputs": [],
   "source": []
  }
 ],
 "metadata": {
  "kernelspec": {
   "display_name": "Python [conda env:venv_dryml_dev]",
   "language": "python",
   "name": "conda-env-venv_dryml_dev-py"
  },
  "language_info": {
   "codemirror_mode": {
    "name": "ipython",
    "version": 3
   },
   "file_extension": ".py",
   "mimetype": "text/x-python",
   "name": "python",
   "nbconvert_exporter": "python",
   "pygments_lexer": "ipython3",
   "version": "3.8.13"
  }
 },
 "nbformat": 4,
 "nbformat_minor": 5
}
