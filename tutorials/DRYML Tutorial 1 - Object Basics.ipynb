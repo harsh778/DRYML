{
 "cells": [
  {
   "cell_type": "code",
   "execution_count": 1,
   "id": "600dd547",
   "metadata": {
    "ExecuteTime": {
     "end_time": "2022-09-22T21:14:43.328577Z",
     "start_time": "2022-09-22T21:14:42.547116Z"
    },
    "execution": {
     "iopub.execute_input": "2023-03-20T19:38:34.870755Z",
     "iopub.status.busy": "2023-03-20T19:38:34.869686Z",
     "iopub.status.idle": "2023-03-20T19:38:35.055901Z",
     "shell.execute_reply": "2023-03-20T19:38:35.055064Z",
     "shell.execute_reply.started": "2023-03-20T19:38:34.870685Z"
    },
    "tags": []
   },
   "outputs": [],
   "source": [
    "import numpy as np\n",
    "from dryml import Object, save_object, load_object, Repo, Selector\n",
    "import dill"
   ]
  },
  {
   "cell_type": "markdown",
   "id": "8e005664-d237-43ff-8056-d3b45b15bef5",
   "metadata": {},
   "source": [
    "# DRYML Tutorial 1\n",
    "\n",
    "The first and most important classes in DRYML are `Object` and `ObjectDef`. These form a foundation on which automatic class serialization is based. `Objects` store metadata about themselves required to recreate the object. `ObjectDef`s represent *just* the metadata. The following diagram provides a visual representation of these two classes.\n",
    "\n",
    "<img src=\"images/Object_1.svg\">"
   ]
  },
  {
   "cell_type": "markdown",
   "id": "90590977",
   "metadata": {},
   "source": [
    "## DRYML `Object` Basics\n",
    "\n",
    "`Object` is the base class for python objects we want to serialize. The starting point to utilizing DRYML's machinery is to make a class inherit from `Object`. Once a class inherits `Object`, it remembers how it was created, and can produce an `ObjectDef` of itself. Suppose we have some plain data we want to serialize, Let's create a new `Object` class to house it.\n",
    "\n",
    "> Caveat: DRYML `Object`s use a special metaclass called `Meta` which handles the saving of constructor arguments. `Meta` handles the creation of proper `__init__` methods which do this, and enforce an order for calling superclass consturctors. You should not call a super class's constructor within your `__init__` methods. `Meta` will handle that."
   ]
  },
  {
   "cell_type": "markdown",
   "id": "efdc9c44",
   "metadata": {
    "ExecuteTime": {
     "end_time": "2022-09-22T16:18:48.846882Z",
     "start_time": "2022-09-22T16:18:48.842643Z"
    },
    "tags": []
   },
   "source": [
    "### `Object` definition and construction"
   ]
  },
  {
   "cell_type": "code",
   "execution_count": 2,
   "id": "c7bd4d00",
   "metadata": {
    "ExecuteTime": {
     "start_time": "2022-09-26T22:08:33.547Z"
    },
    "execution": {
     "iopub.execute_input": "2023-03-20T19:38:35.059822Z",
     "iopub.status.busy": "2023-03-20T19:38:35.059649Z",
     "iopub.status.idle": "2023-03-20T19:38:35.064188Z",
     "shell.execute_reply": "2023-03-20T19:38:35.063690Z",
     "shell.execute_reply.started": "2023-03-20T19:38:35.059798Z"
    },
    "tags": []
   },
   "outputs": [],
   "source": [
    "# We create a new very simple class just to remember data\n",
    "# in its arguments\n",
    "class Data(Object):\n",
    "    def __init__(self, data):\n",
    "        pass"
   ]
  },
  {
   "cell_type": "code",
   "execution_count": 3,
   "id": "6aec8a18",
   "metadata": {
    "ExecuteTime": {
     "end_time": "2022-09-22T21:14:51.840574Z",
     "start_time": "2022-09-22T21:14:51.835328Z"
    },
    "execution": {
     "iopub.execute_input": "2023-03-20T19:38:35.452072Z",
     "iopub.status.busy": "2023-03-20T19:38:35.451736Z",
     "iopub.status.idle": "2023-03-20T19:38:35.457016Z",
     "shell.execute_reply": "2023-03-20T19:38:35.456292Z",
     "shell.execute_reply.started": "2023-03-20T19:38:35.452044Z"
    },
    "tags": []
   },
   "outputs": [],
   "source": [
    "# Construct a new instance of Data\n",
    "imp_obj = Data([1, 2, 3, 4, 5])"
   ]
  },
  {
   "cell_type": "markdown",
   "id": "78f82a04",
   "metadata": {},
   "source": [
    "Now, `imp_obj` is an `Object` which carries information regarding the arguments used to construct it. This is available in two attributes, `dry_args` which stores the non-keyword arguments used, and `dry_kwargs` which stores the keyword arguments. Let's have a look at those."
   ]
  },
  {
   "cell_type": "code",
   "execution_count": 4,
   "id": "3d11378b",
   "metadata": {
    "ExecuteTime": {
     "end_time": "2022-09-22T21:14:53.015260Z",
     "start_time": "2022-09-22T21:14:52.996509Z"
    },
    "execution": {
     "iopub.execute_input": "2023-03-20T19:38:36.093232Z",
     "iopub.status.busy": "2023-03-20T19:38:36.092666Z",
     "iopub.status.idle": "2023-03-20T19:38:36.113825Z",
     "shell.execute_reply": "2023-03-20T19:38:36.112557Z",
     "shell.execute_reply.started": "2023-03-20T19:38:36.093179Z"
    },
    "tags": []
   },
   "outputs": [
    {
     "data": {
      "text/plain": [
       "([1, 2, 3, 4, 5],)"
      ]
     },
     "execution_count": 4,
     "metadata": {},
     "output_type": "execute_result"
    }
   ],
   "source": [
    "# Check if imp_obj remembers its arguments\n",
    "imp_obj.dry_args"
   ]
  },
  {
   "cell_type": "code",
   "execution_count": 5,
   "id": "5c5b04a2",
   "metadata": {
    "ExecuteTime": {
     "end_time": "2022-09-22T21:14:53.649117Z",
     "start_time": "2022-09-22T21:14:53.642062Z"
    },
    "execution": {
     "iopub.execute_input": "2023-03-20T19:38:36.299056Z",
     "iopub.status.busy": "2023-03-20T19:38:36.298493Z",
     "iopub.status.idle": "2023-03-20T19:38:36.307332Z",
     "shell.execute_reply": "2023-03-20T19:38:36.306158Z",
     "shell.execute_reply.started": "2023-03-20T19:38:36.299005Z"
    },
    "tags": []
   },
   "outputs": [
    {
     "data": {
      "text/plain": [
       "{'dry_id': '892c1223-af85-4771-8abe-2e228f940964',\n",
       " 'dry_metadata': {'description': '', 'creation_time': 1679341115.453845}}"
      ]
     },
     "execution_count": 5,
     "metadata": {},
     "output_type": "execute_result"
    }
   ],
   "source": [
    "# Check if imp_obj remembers its keyword arguments\n",
    "imp_obj.dry_kwargs"
   ]
  },
  {
   "cell_type": "markdown",
   "id": "8e87c859",
   "metadata": {},
   "source": [
    "Interesting! there are keyword arguments here even though we didn't specify any! That's the `Object`'s `dry_id` which is used to uniquely identify the `Object`, and the `Object`'s `dry_metadata` meant to store any data you might find useful for later selection. The constructor which `Meta` and `Object` build for you automatically create the id, and populate some simple metadata if you don't specify it explicitly.\n",
    "> Such uniquely identifying information is necessary when we want to create multiple neural networks which have the same hyperparameters (such as how many layers, and units/filters for the layers, as well as the training procedure, for example how many epochs to train the neural network.). Most neural network frameworks initialize a network's parameters by sampling from a random distribution. This means we can create copies of a given network and achieve different results after training. So, training multiple copies of a given network can give us an idea about how reliably a given network is able to train to a certain performance level, and if we train multiple networks, we can pick exactly the 'best' network by using it's `dry_id`."
   ]
  },
  {
   "cell_type": "markdown",
   "id": "56b01f94",
   "metadata": {},
   "source": [
    "### `ObjectDef` - Object Definitions"
   ]
  },
  {
   "cell_type": "markdown",
   "id": "04974b16",
   "metadata": {},
   "source": [
    "By executing `.definition()` on an `Object` we get an `ObjectDef` object which just contains the metadata about the object. `ObjectDef` acts as a factory through its method `.build()` which generates new `Objects` matching the definition it contains. It also acts as a minimal metadata 'banner' of an underlying `Object`. This enables the automatic creation of objects without user intervention, as well as searching and matching objects which may contain lots of data without loading the whole object from disk.\n",
    "\n",
    "Users can create generic `ObjectDef`s without an id, which create new instances of the same underlying object. Useful for studying robustness in machine learning model training.\n",
    "\n",
    "Let's take a look at `imp_obj`'s definition.\n",
    "\n",
    "> Why does DRYML have both `Object` _as well as_ `ObjectDef`? Well, `ObjectDef`s are guaranteed to only contain hyperparmeter information. Large datasets will not be passed in through arguments to an `Object`'s constructor so these large datasets do exist in `ObjectDef`. This allows us to be certain we aren't polluting our memory with large objects such as numpy arrays until we are ready to do so."
   ]
  },
  {
   "cell_type": "code",
   "execution_count": 6,
   "id": "4681e217",
   "metadata": {
    "ExecuteTime": {
     "end_time": "2022-09-22T21:14:56.011762Z",
     "start_time": "2022-09-22T21:14:56.003831Z"
    },
    "execution": {
     "iopub.execute_input": "2023-03-20T19:38:37.222570Z",
     "iopub.status.busy": "2023-03-20T19:38:37.221367Z",
     "iopub.status.idle": "2023-03-20T19:38:37.231275Z",
     "shell.execute_reply": "2023-03-20T19:38:37.230227Z",
     "shell.execute_reply.started": "2023-03-20T19:38:37.222515Z"
    },
    "tags": []
   },
   "outputs": [
    {
     "data": {
      "text/plain": [
       "{'cls': <class '__main__.Data'>, 'dry_mut': False, 'dry_args': ([1, 2, 3, 4, 5],), 'dry_kwargs': {'dry_id': '892c1223-af85-4771-8abe-2e228f940964', 'dry_metadata': {'description': '', 'creation_time': 1679341115.453845}}}"
      ]
     },
     "execution_count": 6,
     "metadata": {},
     "output_type": "execute_result"
    }
   ],
   "source": [
    "imp_obj.definition()"
   ]
  },
  {
   "cell_type": "markdown",
   "id": "f256006b",
   "metadata": {},
   "source": [
    "### `Object` - Serialize/Deserialize"
   ]
  },
  {
   "cell_type": "markdown",
   "id": "d3b16b29",
   "metadata": {},
   "source": [
    "We can now serialize (save) it to disk, as well as load it from disk. There are multiple ways to do this, Each `Object` implements a `save_self` method which takes a filepath or file-like object which the `Object` is serialized to. DRYML also provides the `save_object` method which takes any `Object` and saves it to a filepath or file-like object.\n",
    "\n",
    "Similarly, we can now load the object from a filepath or filelike object using the provided `load_object` method."
   ]
  },
  {
   "cell_type": "code",
   "execution_count": 7,
   "id": "254fe679",
   "metadata": {
    "ExecuteTime": {
     "end_time": "2022-09-22T21:14:58.313939Z",
     "start_time": "2022-09-22T21:14:58.298199Z"
    },
    "execution": {
     "iopub.execute_input": "2023-03-20T19:38:38.120108Z",
     "iopub.status.busy": "2023-03-20T19:38:38.119538Z",
     "iopub.status.idle": "2023-03-20T19:38:38.138275Z",
     "shell.execute_reply": "2023-03-20T19:38:38.136856Z",
     "shell.execute_reply.started": "2023-03-20T19:38:38.120056Z"
    },
    "tags": []
   },
   "outputs": [
    {
     "data": {
      "text/plain": [
       "True"
      ]
     },
     "execution_count": 7,
     "metadata": {},
     "output_type": "execute_result"
    }
   ],
   "source": [
    "# We tell the object to save itself to a specific file\n",
    "imp_obj.save_self('imp_obj.dry')"
   ]
  },
  {
   "cell_type": "code",
   "execution_count": 8,
   "id": "eee45494",
   "metadata": {
    "ExecuteTime": {
     "end_time": "2022-09-22T21:14:58.984049Z",
     "start_time": "2022-09-22T21:14:58.976589Z"
    },
    "execution": {
     "iopub.execute_input": "2023-03-20T19:38:38.449189Z",
     "iopub.status.busy": "2023-03-20T19:38:38.448782Z",
     "iopub.status.idle": "2023-03-20T19:38:38.457478Z",
     "shell.execute_reply": "2023-03-20T19:38:38.456433Z",
     "shell.execute_reply.started": "2023-03-20T19:38:38.449162Z"
    },
    "tags": []
   },
   "outputs": [],
   "source": [
    "# We can now load a new copy of this object from disk by using the `load_object` method.\n",
    "new_obj = load_object('imp_obj.dry')"
   ]
  },
  {
   "cell_type": "markdown",
   "id": "e36e66b2",
   "metadata": {},
   "source": [
    "`imp_obj` and `new_obj` are nearly indistinguishable! They contain the same data!  Let's look at each object's `.data` attribute and see.\n",
    "> Caveat: While `imp_obj` and `new_obj` are very similar, they are still different objects from python's perspective."
   ]
  },
  {
   "cell_type": "code",
   "execution_count": 9,
   "id": "016034c3",
   "metadata": {
    "ExecuteTime": {
     "end_time": "2022-09-22T21:15:01.027276Z",
     "start_time": "2022-09-22T21:15:01.019412Z"
    },
    "execution": {
     "iopub.execute_input": "2023-03-20T19:38:38.988208Z",
     "iopub.status.busy": "2023-03-20T19:38:38.987621Z",
     "iopub.status.idle": "2023-03-20T19:38:38.996781Z",
     "shell.execute_reply": "2023-03-20T19:38:38.995386Z",
     "shell.execute_reply.started": "2023-03-20T19:38:38.988156Z"
    },
    "tags": []
   },
   "outputs": [
    {
     "name": "stdout",
     "output_type": "stream",
     "text": [
      "[1, 2, 3, 4, 5]\n",
      "[1, 2, 3, 4, 5]\n"
     ]
    }
   ],
   "source": [
    "print(imp_obj.dry_args[0])\n",
    "print(new_obj.dry_args[0])\n",
    "assert imp_obj.dry_args[0] == new_obj.dry_args[0]"
   ]
  },
  {
   "cell_type": "markdown",
   "id": "3fd43b4f",
   "metadata": {},
   "source": [
    "### `Object` -  Storing data"
   ]
  },
  {
   "cell_type": "markdown",
   "id": "7b04a260",
   "metadata": {},
   "source": [
    "Now, let's try storing some data which isn't part of the object's hyperparameters. In this case, we need to implement a couple methods to properly save and load the data. The `save_object_imp` method implements that class's logic for serializing it's internal state. Similarly, the `load_object_imp` implements the class's logic for loading it's data from the serialized file. Both methods are given a `zipfile.ZipFile` object in which to store/load its data. For now, DRYML serializes data using a zipfile. Let's show the updated class diagram with those new methods.\n",
    "\n",
    "<img src=\"images/Object_2.svg\">\n",
    "\n",
    "To give you a better idea of whats going on here, Have a look at these two sequence diagram for an `Object` which the user has inherited to define new classes. First, is a diagram for Load. Notice how for loading, we first traverse down to the base class `Object`, then load object material progressively starting with classes that are closer to `Object` as classes higher up in the inheritance chain may require base class objects to be ready before they can load their data.\n",
    "\n",
    "<img src=\"images/Object_Load_2.svg\">\n",
    "\n",
    "Second is the diagram for Save. We can see here that first, the highest levels in the inheritance hierarchy save their data first.\n",
    "\n",
    "<img src=\"images/Object_Save_2.svg\">"
   ]
  },
  {
   "cell_type": "code",
   "execution_count": 10,
   "id": "4a8b8286",
   "metadata": {
    "ExecuteTime": {
     "end_time": "2022-09-22T21:15:03.170106Z",
     "start_time": "2022-09-22T21:15:03.161553Z"
    },
    "execution": {
     "iopub.execute_input": "2023-03-20T19:38:40.298724Z",
     "iopub.status.busy": "2023-03-20T19:38:40.298156Z",
     "iopub.status.idle": "2023-03-20T19:38:40.309261Z",
     "shell.execute_reply": "2023-03-20T19:38:40.307928Z",
     "shell.execute_reply.started": "2023-03-20T19:38:40.298672Z"
    },
    "tags": []
   },
   "outputs": [],
   "source": [
    "# Define the new Object type\n",
    "class Array(Object):\n",
    "    def __init__(self, array_shape=(32, 32)):\n",
    "        # Initialize the array in the constructor\n",
    "        self.data = np.zeros(array_shape)\n",
    "    \n",
    "    def save_object_imp(self, file):\n",
    "        # Here we define how dryml should save data to disk\n",
    "        with file.open('data.pkl', 'w') as f:\n",
    "            f.write(dill.dumps(self.data))\n",
    "        return True\n",
    "\n",
    "    def load_object_imp(self, file):\n",
    "        # Here we define how dryml should load data from disk.\n",
    "        with file.open('data.pkl') as f:\n",
    "            self.data = dill.loads(f.read())\n",
    "        return True"
   ]
  },
  {
   "cell_type": "markdown",
   "id": "f48ed038-8ecb-4b0b-acc3-9d932ddb8077",
   "metadata": {},
   "source": [
    "To make it a bit clearer how each of these methods fits into the procedure of loading and saving an `Object`, we have a sequence diagram."
   ]
  },
  {
   "cell_type": "code",
   "execution_count": 11,
   "id": "03ce95a4",
   "metadata": {
    "ExecuteTime": {
     "end_time": "2022-09-22T21:15:03.853761Z",
     "start_time": "2022-09-22T21:15:03.848646Z"
    },
    "execution": {
     "iopub.execute_input": "2023-03-20T19:38:41.148198Z",
     "iopub.status.busy": "2023-03-20T19:38:41.147627Z",
     "iopub.status.idle": "2023-03-20T19:38:41.154239Z",
     "shell.execute_reply": "2023-03-20T19:38:41.153379Z",
     "shell.execute_reply.started": "2023-03-20T19:38:41.148147Z"
    },
    "tags": []
   },
   "outputs": [],
   "source": [
    "# Create the object\n",
    "arr_obj = Array(array_shape=(8, 8))"
   ]
  },
  {
   "cell_type": "code",
   "execution_count": 12,
   "id": "7ac805e0",
   "metadata": {
    "ExecuteTime": {
     "end_time": "2022-09-22T21:15:04.494462Z",
     "start_time": "2022-09-22T21:15:04.488683Z"
    },
    "execution": {
     "iopub.execute_input": "2023-03-20T19:38:41.458681Z",
     "iopub.status.busy": "2023-03-20T19:38:41.458408Z",
     "iopub.status.idle": "2023-03-20T19:38:41.465284Z",
     "shell.execute_reply": "2023-03-20T19:38:41.464019Z",
     "shell.execute_reply.started": "2023-03-20T19:38:41.458658Z"
    },
    "tags": []
   },
   "outputs": [
    {
     "data": {
      "text/plain": [
       "(8, 8)"
      ]
     },
     "execution_count": 12,
     "metadata": {},
     "output_type": "execute_result"
    }
   ],
   "source": [
    "# The object contains a numpy array with the specified shape.\n",
    "arr_obj.data.shape"
   ]
  },
  {
   "cell_type": "markdown",
   "id": "62054e28",
   "metadata": {},
   "source": [
    "### Modifying object state\n",
    "\n",
    "We can now modify the state of this object, and save it to disk."
   ]
  },
  {
   "cell_type": "code",
   "execution_count": 13,
   "id": "b1c12cad",
   "metadata": {
    "ExecuteTime": {
     "end_time": "2022-09-22T21:15:05.857754Z",
     "start_time": "2022-09-22T21:15:05.852785Z"
    },
    "execution": {
     "iopub.execute_input": "2023-03-20T19:38:42.348326Z",
     "iopub.status.busy": "2023-03-20T19:38:42.347702Z",
     "iopub.status.idle": "2023-03-20T19:38:42.354766Z",
     "shell.execute_reply": "2023-03-20T19:38:42.353450Z",
     "shell.execute_reply.started": "2023-03-20T19:38:42.348263Z"
    },
    "tags": []
   },
   "outputs": [],
   "source": [
    "arr_obj.data[0,0] = 50"
   ]
  },
  {
   "cell_type": "code",
   "execution_count": 14,
   "id": "edd84295",
   "metadata": {
    "ExecuteTime": {
     "end_time": "2022-09-22T21:15:06.574100Z",
     "start_time": "2022-09-22T21:15:06.556781Z"
    },
    "execution": {
     "iopub.execute_input": "2023-03-20T19:38:42.724985Z",
     "iopub.status.busy": "2023-03-20T19:38:42.724386Z",
     "iopub.status.idle": "2023-03-20T19:38:42.744282Z",
     "shell.execute_reply": "2023-03-20T19:38:42.742996Z",
     "shell.execute_reply.started": "2023-03-20T19:38:42.724931Z"
    },
    "tags": []
   },
   "outputs": [
    {
     "data": {
      "text/plain": [
       "True"
      ]
     },
     "execution_count": 14,
     "metadata": {},
     "output_type": "execute_result"
    }
   ],
   "source": [
    "save_object(arr_obj, 'test_obj.dry')"
   ]
  },
  {
   "cell_type": "markdown",
   "id": "34856cff",
   "metadata": {},
   "source": [
    "Let's pretend we're trying to load this object from disk now, and check that the correct data gets loaded."
   ]
  },
  {
   "cell_type": "code",
   "execution_count": 15,
   "id": "90f6223f",
   "metadata": {
    "ExecuteTime": {
     "end_time": "2022-09-22T21:15:08.153556Z",
     "start_time": "2022-09-22T21:15:08.147245Z"
    },
    "execution": {
     "iopub.execute_input": "2023-03-20T19:38:43.547602Z",
     "iopub.status.busy": "2023-03-20T19:38:43.547020Z",
     "iopub.status.idle": "2023-03-20T19:38:43.554926Z",
     "shell.execute_reply": "2023-03-20T19:38:43.554129Z",
     "shell.execute_reply.started": "2023-03-20T19:38:43.547550Z"
    },
    "tags": []
   },
   "outputs": [],
   "source": [
    "arr_obj_loaded = load_object('test_obj.dry')"
   ]
  },
  {
   "cell_type": "code",
   "execution_count": 16,
   "id": "52c57782",
   "metadata": {
    "ExecuteTime": {
     "end_time": "2022-09-22T21:15:16.133538Z",
     "start_time": "2022-09-22T21:15:16.130261Z"
    },
    "execution": {
     "iopub.execute_input": "2023-03-20T19:38:43.873569Z",
     "iopub.status.busy": "2023-03-20T19:38:43.872999Z",
     "iopub.status.idle": "2023-03-20T19:38:43.879595Z",
     "shell.execute_reply": "2023-03-20T19:38:43.878630Z",
     "shell.execute_reply.started": "2023-03-20T19:38:43.873517Z"
    },
    "tags": []
   },
   "outputs": [],
   "source": [
    "assert np.all(arr_obj.data == arr_obj_loaded.data)"
   ]
  },
  {
   "cell_type": "markdown",
   "id": "b9175631",
   "metadata": {},
   "source": [
    "Great! Let's take a look at the object's definitions"
   ]
  },
  {
   "cell_type": "code",
   "execution_count": 17,
   "id": "c5b7c2a6",
   "metadata": {
    "ExecuteTime": {
     "end_time": "2022-09-22T21:15:19.498253Z",
     "start_time": "2022-09-22T21:15:19.492058Z"
    },
    "execution": {
     "iopub.execute_input": "2023-03-20T19:38:44.853962Z",
     "iopub.status.busy": "2023-03-20T19:38:44.853363Z",
     "iopub.status.idle": "2023-03-20T19:38:44.861633Z",
     "shell.execute_reply": "2023-03-20T19:38:44.860830Z",
     "shell.execute_reply.started": "2023-03-20T19:38:44.853910Z"
    },
    "tags": []
   },
   "outputs": [
    {
     "data": {
      "text/plain": [
       "{'cls': <class '__main__.Array'>, 'dry_mut': False, 'dry_args': (), 'dry_kwargs': {'array_shape': (8, 8), 'dry_id': '05258189-db5f-47cf-b928-57b2f29dc079', 'dry_metadata': {'description': '', 'creation_time': 1679341121.1506178}}}"
      ]
     },
     "execution_count": 17,
     "metadata": {},
     "output_type": "execute_result"
    }
   ],
   "source": [
    "arr_obj.definition()"
   ]
  },
  {
   "cell_type": "code",
   "execution_count": 18,
   "id": "b46342eb",
   "metadata": {
    "ExecuteTime": {
     "end_time": "2022-09-22T21:15:20.491151Z",
     "start_time": "2022-09-22T21:15:20.484739Z"
    },
    "execution": {
     "iopub.execute_input": "2023-03-20T19:38:45.106236Z",
     "iopub.status.busy": "2023-03-20T19:38:45.105647Z",
     "iopub.status.idle": "2023-03-20T19:38:45.114463Z",
     "shell.execute_reply": "2023-03-20T19:38:45.113285Z",
     "shell.execute_reply.started": "2023-03-20T19:38:45.106186Z"
    },
    "tags": []
   },
   "outputs": [
    {
     "data": {
      "text/plain": [
       "{'cls': <class '__main__.Array'>, 'dry_mut': False, 'dry_args': (), 'dry_kwargs': {'array_shape': (8, 8), 'dry_id': '05258189-db5f-47cf-b928-57b2f29dc079', 'dry_metadata': {'description': '', 'creation_time': 1679341121.1506178}}}"
      ]
     },
     "execution_count": 18,
     "metadata": {},
     "output_type": "execute_result"
    }
   ],
   "source": [
    "arr_obj_loaded.definition()"
   ]
  },
  {
   "cell_type": "markdown",
   "id": "cf8c0cb5",
   "metadata": {},
   "source": [
    "However, constructing these `Object`s from an `ObjectDef` won't recover the data we modified!"
   ]
  },
  {
   "cell_type": "code",
   "execution_count": 19,
   "id": "5df8c02d",
   "metadata": {
    "ExecuteTime": {
     "end_time": "2022-09-22T21:15:26.589593Z",
     "start_time": "2022-09-22T21:15:26.585998Z"
    },
    "execution": {
     "iopub.execute_input": "2023-03-20T19:38:46.006078Z",
     "iopub.status.busy": "2023-03-20T19:38:46.005511Z",
     "iopub.status.idle": "2023-03-20T19:38:46.012896Z",
     "shell.execute_reply": "2023-03-20T19:38:46.011589Z",
     "shell.execute_reply.started": "2023-03-20T19:38:46.006026Z"
    },
    "tags": []
   },
   "outputs": [],
   "source": [
    "new_arr_obj = arr_obj.definition().build()"
   ]
  },
  {
   "cell_type": "code",
   "execution_count": 20,
   "id": "dccc1156",
   "metadata": {
    "ExecuteTime": {
     "end_time": "2022-09-22T21:15:27.241672Z",
     "start_time": "2022-09-22T21:15:27.235552Z"
    },
    "execution": {
     "iopub.execute_input": "2023-03-20T19:38:46.475656Z",
     "iopub.status.busy": "2023-03-20T19:38:46.475173Z",
     "iopub.status.idle": "2023-03-20T19:38:46.481410Z",
     "shell.execute_reply": "2023-03-20T19:38:46.480436Z",
     "shell.execute_reply.started": "2023-03-20T19:38:46.475625Z"
    },
    "tags": []
   },
   "outputs": [
    {
     "name": "stdout",
     "output_type": "stream",
     "text": [
      "50.0\n",
      "0.0\n"
     ]
    }
   ],
   "source": [
    "print(arr_obj.data[0,0])\n",
    "print(new_arr_obj.data[0,0])"
   ]
  },
  {
   "cell_type": "markdown",
   "id": "1b15f426-d5ee-4d4d-bc94-ffecc5d15758",
   "metadata": {},
   "source": [
    "### Nested `Object`s\n",
    "\n",
    "`Object`s can take other `Object`s as arguments. This allows us to build more complex `Object`s out of components which we can reuse for other tasks! Let's create a nested `Object` and see how it works! We'll just store an `Array` object within a `Data` object since both of those have been defined in this session."
   ]
  },
  {
   "cell_type": "code",
   "execution_count": 21,
   "id": "8a425bba-e8e0-4de2-8939-7be51485dc53",
   "metadata": {
    "execution": {
     "iopub.execute_input": "2023-03-20T19:38:47.442624Z",
     "iopub.status.busy": "2023-03-20T19:38:47.442046Z",
     "iopub.status.idle": "2023-03-20T19:38:47.449196Z",
     "shell.execute_reply": "2023-03-20T19:38:47.447962Z",
     "shell.execute_reply.started": "2023-03-20T19:38:47.442572Z"
    },
    "tags": []
   },
   "outputs": [],
   "source": [
    "arr_data_container = Data(arr_obj)"
   ]
  },
  {
   "cell_type": "code",
   "execution_count": 22,
   "id": "0b8c6dd7-a090-4c0e-8247-b5d297a52e34",
   "metadata": {
    "execution": {
     "iopub.execute_input": "2023-03-20T19:38:47.966124Z",
     "iopub.status.busy": "2023-03-20T19:38:47.965547Z",
     "iopub.status.idle": "2023-03-20T19:38:47.972589Z",
     "shell.execute_reply": "2023-03-20T19:38:47.971353Z",
     "shell.execute_reply.started": "2023-03-20T19:38:47.966072Z"
    },
    "tags": []
   },
   "outputs": [],
   "source": [
    "# Verify the container we wrote has the right value\n",
    "assert(arr_data_container.dry_args[0].data[0,0] == 50.0)"
   ]
  },
  {
   "cell_type": "code",
   "execution_count": 23,
   "id": "f5b2ff7c-b83a-456b-826e-d48eea8f044c",
   "metadata": {
    "execution": {
     "iopub.execute_input": "2023-03-20T19:38:48.336519Z",
     "iopub.status.busy": "2023-03-20T19:38:48.335953Z",
     "iopub.status.idle": "2023-03-20T19:38:48.363179Z",
     "shell.execute_reply": "2023-03-20T19:38:48.362188Z",
     "shell.execute_reply.started": "2023-03-20T19:38:48.336466Z"
    },
    "tags": []
   },
   "outputs": [
    {
     "data": {
      "text/plain": [
       "True"
      ]
     },
     "execution_count": 23,
     "metadata": {},
     "output_type": "execute_result"
    }
   ],
   "source": [
    "# Now we can write this container to disk, and reload it.\n",
    "# Objects are saved recursively within the same file.\n",
    "arr_data_container.save_self('test2.dry')"
   ]
  },
  {
   "cell_type": "code",
   "execution_count": 24,
   "id": "b21d2594-13c9-46c4-af46-e54106038c33",
   "metadata": {
    "execution": {
     "iopub.execute_input": "2023-03-20T19:38:48.683417Z",
     "iopub.status.busy": "2023-03-20T19:38:48.682842Z",
     "iopub.status.idle": "2023-03-20T19:38:48.695239Z",
     "shell.execute_reply": "2023-03-20T19:38:48.693797Z",
     "shell.execute_reply.started": "2023-03-20T19:38:48.683366Z"
    },
    "tags": []
   },
   "outputs": [],
   "source": [
    "# Now we can load the object from disk.\n",
    "# The object is created recursively first creating the ArrayObject\n",
    "# then creating the Data object.\n",
    "arr_data_container_2 = load_object('test2.dry')\n",
    "assert(arr_data_container_2.dry_args[0].data[0,0] == 50.0)"
   ]
  },
  {
   "cell_type": "markdown",
   "id": "9cc8518a",
   "metadata": {
    "ExecuteTime": {
     "end_time": "2022-09-22T19:01:45.858909Z",
     "start_time": "2022-09-22T19:01:45.855022Z"
    }
   },
   "source": [
    "## `Repo` - The `Object` store, `Selector` - The `Object` finder\n",
    "\n",
    "A major problem with ML workflows is the management of different versions of trained models. A common scene is a directory filled with sub-directories each cordoning off models of a certain variety. This leads often to either heavily nested directories, or directory names that are long and convoluted, specifying most properties of the network uniquely for the project a practictioner is working on. DRYML approaches this problem with the `Repo` object which stores either a reference to where the object is stored on disk (an `ObjectFile`) or `Object`s themselves within a python dictionary indexed by the `Object`s `dry_id`.\n",
    "\n",
    "By itself, `Repo` isn't super useful beyond managing where `Object`s eventually get written to disk. However DRYML defines another object `Selector`. `Selector` defines a callable object which can be passed an `Object`, `ObjectDef`, or `ObjectFile` and say whether it 'matches' the selector's criteria. `Selector` is similar to python's `slice` object which acts to grab a subset from an array or other collection object. With `Selector`, `Repo` transforms into an `Object` store from which we can grab specific `Object`s or classes of `Object`s.\n",
    "\n",
    "Here's a general diagram describing this:\n",
    "\n",
    "<img src=\"images/Repo_Selector_1.svg\">\n",
    "\n",
    "Let's see this in action. Let's say we want to store many different kinds of `Array` objects like we defined earlier. But for a given analysis later, we're only interested in `Array`s with a specific shape."
   ]
  },
  {
   "cell_type": "code",
   "execution_count": 25,
   "id": "c9df5682",
   "metadata": {
    "ExecuteTime": {
     "end_time": "2022-09-22T21:15:29.719601Z",
     "start_time": "2022-09-22T21:15:29.715318Z"
    },
    "execution": {
     "iopub.execute_input": "2023-03-20T19:38:49.901244Z",
     "iopub.status.busy": "2023-03-20T19:38:49.900676Z",
     "iopub.status.idle": "2023-03-20T19:38:49.907260Z",
     "shell.execute_reply": "2023-03-20T19:38:49.905987Z",
     "shell.execute_reply.started": "2023-03-20T19:38:49.901193Z"
    },
    "tags": []
   },
   "outputs": [],
   "source": [
    "# Create the repo\n",
    "repo = Repo()"
   ]
  },
  {
   "cell_type": "markdown",
   "id": "380a22ed",
   "metadata": {},
   "source": [
    "To add an object to the `Repo`, we use the `add_object` method."
   ]
  },
  {
   "cell_type": "code",
   "execution_count": 26,
   "id": "46562929",
   "metadata": {
    "ExecuteTime": {
     "end_time": "2022-09-22T21:15:31.062824Z",
     "start_time": "2022-09-22T21:15:31.043174Z"
    },
    "execution": {
     "iopub.execute_input": "2023-03-20T19:38:50.708466Z",
     "iopub.status.busy": "2023-03-20T19:38:50.707907Z",
     "iopub.status.idle": "2023-03-20T19:38:50.733161Z",
     "shell.execute_reply": "2023-03-20T19:38:50.731766Z",
     "shell.execute_reply.started": "2023-03-20T19:38:50.708416Z"
    },
    "tags": []
   },
   "outputs": [],
   "source": [
    "# Generate several arrays of different shapes and add them to the store.\n",
    "num_gen = 10\n",
    "size_progression = [8, 10, 20, 100]\n",
    "for s in size_progression:\n",
    "    array_shape = (s,s)\n",
    "    for i in range(num_gen):\n",
    "        obj = Array(array_shape=array_shape)\n",
    "        obj.data = np.random.random(array_shape)\n",
    "        repo.add_object(obj)"
   ]
  },
  {
   "cell_type": "markdown",
   "id": "906d6c04",
   "metadata": {},
   "source": [
    "We can see how many objects are currently stored by calling `len` on the `repo` object."
   ]
  },
  {
   "cell_type": "code",
   "execution_count": 27,
   "id": "1a06d8c8",
   "metadata": {
    "ExecuteTime": {
     "end_time": "2022-09-22T21:15:32.339313Z",
     "start_time": "2022-09-22T21:15:32.332387Z"
    },
    "execution": {
     "iopub.execute_input": "2023-03-20T19:38:51.541942Z",
     "iopub.status.busy": "2023-03-20T19:38:51.541378Z",
     "iopub.status.idle": "2023-03-20T19:38:51.550511Z",
     "shell.execute_reply": "2023-03-20T19:38:51.549247Z",
     "shell.execute_reply.started": "2023-03-20T19:38:51.541891Z"
    },
    "tags": []
   },
   "outputs": [
    {
     "data": {
      "text/plain": [
       "40"
      ]
     },
     "execution_count": 27,
     "metadata": {},
     "output_type": "execute_result"
    }
   ],
   "source": [
    "len(repo)"
   ]
  },
  {
   "cell_type": "markdown",
   "id": "dff34cb3",
   "metadata": {},
   "source": [
    "Imagine we were in a new notebook accessing these objects, There are tons of objects, so how do we quickly get the one's we're interested in? That's where the `Selector` comes in. Let's make a `Selector` to get arrays with shape `(20, 20)`, and use the `get` method of `Repo` to grab only those `Objects` matching the `Selector`."
   ]
  },
  {
   "cell_type": "code",
   "execution_count": 28,
   "id": "86e4bb7d",
   "metadata": {
    "ExecuteTime": {
     "end_time": "2022-09-22T21:15:34.104265Z",
     "start_time": "2022-09-22T21:15:34.099042Z"
    },
    "execution": {
     "iopub.execute_input": "2023-03-20T19:38:52.273101Z",
     "iopub.status.busy": "2023-03-20T19:38:52.272528Z",
     "iopub.status.idle": "2023-03-20T19:38:52.278287Z",
     "shell.execute_reply": "2023-03-20T19:38:52.277360Z",
     "shell.execute_reply.started": "2023-03-20T19:38:52.273049Z"
    },
    "tags": []
   },
   "outputs": [],
   "source": [
    "sel = Selector(cls=Array, kwargs={'array_shape': (20, 20)})"
   ]
  },
  {
   "cell_type": "code",
   "execution_count": 29,
   "id": "b9f1071a",
   "metadata": {
    "ExecuteTime": {
     "end_time": "2022-09-22T21:15:34.969023Z",
     "start_time": "2022-09-22T21:15:34.963953Z"
    },
    "execution": {
     "iopub.execute_input": "2023-03-20T19:38:53.397231Z",
     "iopub.status.busy": "2023-03-20T19:38:53.396190Z",
     "iopub.status.idle": "2023-03-20T19:38:53.402624Z",
     "shell.execute_reply": "2023-03-20T19:38:53.402053Z",
     "shell.execute_reply.started": "2023-03-20T19:38:53.397180Z"
    },
    "tags": []
   },
   "outputs": [],
   "source": [
    "selected_objs = repo.get(sel)"
   ]
  },
  {
   "cell_type": "code",
   "execution_count": 30,
   "id": "b83a0372",
   "metadata": {
    "ExecuteTime": {
     "end_time": "2022-09-22T21:15:36.764088Z",
     "start_time": "2022-09-22T21:15:36.755688Z"
    },
    "execution": {
     "iopub.execute_input": "2023-03-20T19:38:53.404027Z",
     "iopub.status.busy": "2023-03-20T19:38:53.403858Z",
     "iopub.status.idle": "2023-03-20T19:38:53.419523Z",
     "shell.execute_reply": "2023-03-20T19:38:53.418931Z",
     "shell.execute_reply.started": "2023-03-20T19:38:53.404010Z"
    },
    "tags": []
   },
   "outputs": [
    {
     "data": {
      "text/plain": [
       "[(20, 20),\n",
       " (20, 20),\n",
       " (20, 20),\n",
       " (20, 20),\n",
       " (20, 20),\n",
       " (20, 20),\n",
       " (20, 20),\n",
       " (20, 20),\n",
       " (20, 20),\n",
       " (20, 20)]"
      ]
     },
     "execution_count": 30,
     "metadata": {},
     "output_type": "execute_result"
    }
   ],
   "source": [
    "# We can check and see we only have objects with shape (20, 20)!\n",
    "list(map(lambda o: o.data.shape, selected_objs))"
   ]
  },
  {
   "cell_type": "markdown",
   "id": "5824576b",
   "metadata": {},
   "source": [
    "Great! So we can get specific `Objects` matching the selector! Notice however, that I didn't specify any `args` and, I also didn't specify `dry_id` in `kwargs`. This is because the `Selector` doesn't attempt to match keys which are missing from the `Selector`. This means, when we don't specify `dry_id`, it will return all `Objects` matching other parts of the `Selector`s requirements.\n",
    "\n",
    "Now, suppose we know the `dry_id` of the specific object we're interested in, we can create a `Selector` which will only match the object with that `dry_id`. We can also use the `get_obj_by_id` method of `repo` and supply the `dry_id` directly."
   ]
  },
  {
   "cell_type": "code",
   "execution_count": 31,
   "id": "d5fd916b",
   "metadata": {
    "ExecuteTime": {
     "end_time": "2022-09-22T21:15:38.361863Z",
     "start_time": "2022-09-22T21:15:38.353684Z"
    },
    "execution": {
     "iopub.execute_input": "2023-03-20T19:38:54.406024Z",
     "iopub.status.busy": "2023-03-20T19:38:54.404821Z",
     "iopub.status.idle": "2023-03-20T19:38:54.415510Z",
     "shell.execute_reply": "2023-03-20T19:38:54.414246Z",
     "shell.execute_reply.started": "2023-03-20T19:38:54.405968Z"
    },
    "tags": []
   },
   "outputs": [
    {
     "name": "stdout",
     "output_type": "stream",
     "text": [
      "140269816539312\n"
     ]
    },
    {
     "data": {
      "text/plain": [
       "'1cf7f00f-30f3-4d3a-8201-358c0e229b09'"
      ]
     },
     "execution_count": 31,
     "metadata": {},
     "output_type": "execute_result"
    }
   ],
   "source": [
    "print(id(selected_objs[0]))\n",
    "id_of_interest = selected_objs[0].dry_id\n",
    "id_of_interest"
   ]
  },
  {
   "cell_type": "code",
   "execution_count": 32,
   "id": "8e70f811",
   "metadata": {
    "ExecuteTime": {
     "end_time": "2022-09-22T21:15:39.842447Z",
     "start_time": "2022-09-22T21:15:39.834108Z"
    },
    "execution": {
     "iopub.execute_input": "2023-03-20T19:38:54.988616Z",
     "iopub.status.busy": "2023-03-20T19:38:54.988047Z",
     "iopub.status.idle": "2023-03-20T19:38:54.998491Z",
     "shell.execute_reply": "2023-03-20T19:38:54.997264Z",
     "shell.execute_reply.started": "2023-03-20T19:38:54.988563Z"
    },
    "tags": []
   },
   "outputs": [
    {
     "data": {
      "text/plain": [
       "140269816539312"
      ]
     },
     "execution_count": 32,
     "metadata": {},
     "output_type": "execute_result"
    }
   ],
   "source": [
    "# We can create a selector which will only match against `dry_id`, we look at the python id of the object\n",
    "# to verify it's the same object.\n",
    "specific_selector = Selector(None, kwargs={'dry_id': id_of_interest})\n",
    "id(repo.get(specific_selector))"
   ]
  },
  {
   "cell_type": "code",
   "execution_count": 33,
   "id": "2b465b9d",
   "metadata": {
    "ExecuteTime": {
     "end_time": "2022-09-22T21:15:42.522337Z",
     "start_time": "2022-09-22T21:15:42.515737Z"
    },
    "execution": {
     "iopub.execute_input": "2023-03-20T19:38:55.544061Z",
     "iopub.status.busy": "2023-03-20T19:38:55.542824Z",
     "iopub.status.idle": "2023-03-20T19:38:55.553149Z",
     "shell.execute_reply": "2023-03-20T19:38:55.551761Z",
     "shell.execute_reply.started": "2023-03-20T19:38:55.544004Z"
    },
    "tags": []
   },
   "outputs": [
    {
     "data": {
      "text/plain": [
       "140269816539312"
      ]
     },
     "execution_count": 33,
     "metadata": {},
     "output_type": "execute_result"
    }
   ],
   "source": [
    "# We can also try to get it directly if we have an id,\n",
    "id(repo.get_obj_by_id(id_of_interest))"
   ]
  },
  {
   "cell_type": "markdown",
   "id": "b2294b1a",
   "metadata": {},
   "source": [
    "## Wrap-up\n",
    "\n",
    "The discussed functionalities of `Object`, `ObjectDef`, `Repo`, and `Selector` form the important core operating functionality of the DRYML library. All `Object`s track their constructor parameters (aka. hyperparameters) allowing reconstruction of the object without user intervention. `ObjectDef`s give the user a 'factory' system for creating new `Object`s matching a certain set of hyper parameters. `Repo`s and `Selectors` give the user the power to manage numerous `Object`s in a sane and coherent manner.\n",
    "\n",
    "Importantly, the functionality of `Object` and all of it's friends is independent of ML, and can be used in other contexts just as easily! Most components of DRYML are meant to be usable outside of the patterns described for common use in DRYML."
   ]
  },
  {
   "cell_type": "code",
   "execution_count": null,
   "id": "3dcb076d",
   "metadata": {},
   "outputs": [],
   "source": []
  }
 ],
 "metadata": {
  "kernelspec": {
   "display_name": "Python [conda env:venv_dryml_dev]",
   "language": "python",
   "name": "conda-env-venv_dryml_dev-py"
  },
  "language_info": {
   "codemirror_mode": {
    "name": "ipython",
    "version": 3
   },
   "file_extension": ".py",
   "mimetype": "text/x-python",
   "name": "python",
   "nbconvert_exporter": "python",
   "pygments_lexer": "ipython3",
   "version": "3.8.13"
  }
 },
 "nbformat": 4,
 "nbformat_minor": 5
}
