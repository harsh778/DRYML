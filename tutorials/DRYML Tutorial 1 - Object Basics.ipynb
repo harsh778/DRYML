{
 "cells": [
  {
   "cell_type": "code",
   "execution_count": 1,
   "id": "600dd547",
   "metadata": {
    "ExecuteTime": {
     "end_time": "2022-09-22T21:14:43.328577Z",
     "start_time": "2022-09-22T21:14:42.547116Z"
    },
    "execution": {
     "iopub.execute_input": "2023-03-22T15:46:09.795247Z",
     "iopub.status.busy": "2023-03-22T15:46:09.795065Z",
     "iopub.status.idle": "2023-03-22T15:46:10.026586Z",
     "shell.execute_reply": "2023-03-22T15:46:10.024751Z",
     "shell.execute_reply.started": "2023-03-22T15:46:09.795197Z"
    },
    "tags": []
   },
   "outputs": [],
   "source": [
    "import numpy as np\n",
    "from dryml import Object, save_object, load_object, Repo, Selector\n",
    "import dill"
   ]
  },
  {
   "cell_type": "markdown",
   "id": "8e005664-d237-43ff-8056-d3b45b15bef5",
   "metadata": {},
   "source": [
    "# DRYML Tutorial 1\n",
    "\n",
    "The first and most important classes in DRYML are `Object` and `ObjectDef`. These form a foundation on which automatic class serialization is based. `Objects` store metadata about themselves required to recreate the object. `ObjectDef`s represent *just* the metadata. The following diagram provides a visual representation of these two classes.\n",
    "\n",
    "<img src=\"images/Object_1.svg\">"
   ]
  },
  {
   "cell_type": "markdown",
   "id": "90590977",
   "metadata": {},
   "source": [
    "## DRYML `Object` Basics\n",
    "\n",
    "`Object` is the base class for python objects we want to serialize. Once a class inherits `Object`, it remembers how it was created, and can produce an `ObjectDef` of itself. Suppose we have some plain data we want to serialize, Let's create a new `Object` class to house it.\n",
    "\n",
    "> Caveat: DRYML `Object`s use a special metaclass called `Meta` which handles the saving of constructor arguments. `Meta` handles the creation of proper `__init__` methods which do this, and enforce an order for calling superclass consturctors. You should not call a super class's constructor within your `__init__` methods. `Meta` will handle that.\n",
    "\n",
    "### `Object` definition and construction"
   ]
  },
  {
   "cell_type": "code",
   "execution_count": 2,
   "id": "c7bd4d00",
   "metadata": {
    "ExecuteTime": {
     "start_time": "2022-09-26T22:08:33.547Z"
    },
    "execution": {
     "iopub.execute_input": "2023-03-22T15:46:10.027793Z",
     "iopub.status.busy": "2023-03-22T15:46:10.027650Z",
     "iopub.status.idle": "2023-03-22T15:46:10.034692Z",
     "shell.execute_reply": "2023-03-22T15:46:10.032955Z",
     "shell.execute_reply.started": "2023-03-22T15:46:10.027774Z"
    },
    "tags": []
   },
   "outputs": [],
   "source": [
    "# We create a new very simple class just to remember data\n",
    "# in its arguments\n",
    "class Data(Object):\n",
    "    def __init__(self, data):\n",
    "        pass"
   ]
  },
  {
   "cell_type": "code",
   "execution_count": 3,
   "id": "6aec8a18",
   "metadata": {
    "ExecuteTime": {
     "end_time": "2022-09-22T21:14:51.840574Z",
     "start_time": "2022-09-22T21:14:51.835328Z"
    },
    "execution": {
     "iopub.execute_input": "2023-03-22T15:46:10.035440Z",
     "iopub.status.busy": "2023-03-22T15:46:10.035300Z",
     "iopub.status.idle": "2023-03-22T15:46:10.060652Z",
     "shell.execute_reply": "2023-03-22T15:46:10.058931Z",
     "shell.execute_reply.started": "2023-03-22T15:46:10.035420Z"
    },
    "tags": []
   },
   "outputs": [],
   "source": [
    "# Construct a new instance of Data\n",
    "obj = Data([1, 2, 3, 4, 5])"
   ]
  },
  {
   "cell_type": "markdown",
   "id": "78f82a04",
   "metadata": {},
   "source": [
    "Now, `obj` is an `Object` which carries information regarding the arguments used to construct it. This is available in two attributes, `dry_args` which stores the non-keyword arguments used, and `dry_kwargs` which stores the keyword arguments. Let's have a look at those."
   ]
  },
  {
   "cell_type": "code",
   "execution_count": 4,
   "id": "3d11378b",
   "metadata": {
    "ExecuteTime": {
     "end_time": "2022-09-22T21:14:53.015260Z",
     "start_time": "2022-09-22T21:14:52.996509Z"
    },
    "execution": {
     "iopub.execute_input": "2023-03-22T15:46:10.061896Z",
     "iopub.status.busy": "2023-03-22T15:46:10.061756Z",
     "iopub.status.idle": "2023-03-22T15:46:10.084975Z",
     "shell.execute_reply": "2023-03-22T15:46:10.083340Z",
     "shell.execute_reply.started": "2023-03-22T15:46:10.061877Z"
    },
    "tags": []
   },
   "outputs": [
    {
     "data": {
      "text/plain": [
       "([1, 2, 3, 4, 5],)"
      ]
     },
     "execution_count": 4,
     "metadata": {},
     "output_type": "execute_result"
    }
   ],
   "source": [
    "# Check if imp_obj remembers its arguments\n",
    "obj.dry_args"
   ]
  },
  {
   "cell_type": "code",
   "execution_count": 5,
   "id": "5c5b04a2",
   "metadata": {
    "ExecuteTime": {
     "end_time": "2022-09-22T21:14:53.649117Z",
     "start_time": "2022-09-22T21:14:53.642062Z"
    },
    "execution": {
     "iopub.execute_input": "2023-03-22T15:46:10.085697Z",
     "iopub.status.busy": "2023-03-22T15:46:10.085554Z",
     "iopub.status.idle": "2023-03-22T15:46:10.104133Z",
     "shell.execute_reply": "2023-03-22T15:46:10.102412Z",
     "shell.execute_reply.started": "2023-03-22T15:46:10.085677Z"
    },
    "tags": []
   },
   "outputs": [
    {
     "data": {
      "text/plain": [
       "{'dry_id': 'a95e5883-51fb-4c80-b7f2-e0818baf5ff2',\n",
       " 'dry_metadata': {'description': '', 'creation_time': 1679499970.0564768}}"
      ]
     },
     "execution_count": 5,
     "metadata": {},
     "output_type": "execute_result"
    }
   ],
   "source": [
    "# Check if imp_obj remembers its keyword arguments\n",
    "obj.dry_kwargs"
   ]
  },
  {
   "cell_type": "markdown",
   "id": "8e87c859",
   "metadata": {},
   "source": [
    "Interesting! there are keyword arguments here even though we didn't specify any! That's the `Object`'s `dry_id` which is used to uniquely identify the `Object`, and the `Object`'s `dry_metadata` meant to store any data you might find useful for later selection. The constructor which `Meta` and `Object` build for you automatically creates the id, and populates some simple metadata like a descripiton and creation time if you don't specify it explicitly.\n",
    "> Such uniquely identifying information is necessary when we want to create multiple neural networks which have the same hyperparameters (such as how many layers, and units/filters for the layers, as well as the training procedure, for example how many epochs to train the neural network.). Most neural network frameworks initialize a network's parameters by sampling from a random distribution. This means we can create copies of a given network and achieve different results after training. So, training multiple copies of a given network can give us an idea about how reliably a given network is able to train to a certain performance level, and if we train multiple networks, we can pick exactly the 'best' network by using it's `dry_id`.\n",
    "\n",
    "We can print the timestamp in a more familiar format like this:"
   ]
  },
  {
   "cell_type": "code",
   "execution_count": 6,
   "id": "27c9b37c-7f25-49bb-804b-b83dc5c0d9b5",
   "metadata": {
    "execution": {
     "iopub.execute_input": "2023-03-22T15:46:10.104932Z",
     "iopub.status.busy": "2023-03-22T15:46:10.104794Z",
     "iopub.status.idle": "2023-03-22T15:46:10.119885Z",
     "shell.execute_reply": "2023-03-22T15:46:10.119436Z",
     "shell.execute_reply.started": "2023-03-22T15:46:10.104913Z"
    },
    "tags": []
   },
   "outputs": [
    {
     "name": "stdout",
     "output_type": "stream",
     "text": [
      "2023-03-22 10:46:10.056477\n"
     ]
    }
   ],
   "source": [
    "import datetime\n",
    "print(datetime.datetime.fromtimestamp(obj.dry_kwargs['dry_metadata']['creation_time']))"
   ]
  },
  {
   "cell_type": "markdown",
   "id": "56b01f94",
   "metadata": {},
   "source": [
    "### `ObjectDef` - Object Definitions\n",
    "\n",
    "By executing `.definition()` on an `Object` we get an `ObjectDef` object which just contains the metadata about the object. `ObjectDef` acts as a factory through its method `.build()` which generates new `Objects` matching the definition it contains. It also acts as a minimal metadata 'banner' of an underlying `Object`. This enables the automatic creation of objects without user intervention, as well as searching and matching objects which may contain lots of data without loading the whole object from disk.\n",
    "\n",
    "Users can create generic `ObjectDef`s without an id, which create new instances of the same underlying object. Useful for studying robustness in machine learning model training.\n",
    "\n",
    "Let's take a look at `obj`'s definition.\n",
    "\n",
    "> Why does DRYML have both `Object` _as well as_ `ObjectDef`? Well, `ObjectDef`s are guaranteed to only contain hyperparmeter information. Large datasets will not be passed in through arguments to an `Object`'s constructor so these large datasets do exist in `ObjectDef`. This allows us to be certain we aren't polluting our memory with large objects such as numpy arrays until we are ready to do so."
   ]
  },
  {
   "cell_type": "code",
   "execution_count": 7,
   "id": "4681e217",
   "metadata": {
    "ExecuteTime": {
     "end_time": "2022-09-22T21:14:56.011762Z",
     "start_time": "2022-09-22T21:14:56.003831Z"
    },
    "execution": {
     "iopub.execute_input": "2023-03-22T15:46:10.120669Z",
     "iopub.status.busy": "2023-03-22T15:46:10.120528Z",
     "iopub.status.idle": "2023-03-22T15:46:10.133207Z",
     "shell.execute_reply": "2023-03-22T15:46:10.132784Z",
     "shell.execute_reply.started": "2023-03-22T15:46:10.120649Z"
    },
    "tags": []
   },
   "outputs": [
    {
     "data": {
      "text/plain": [
       "{'cls': <class '__main__.Data'>, 'dry_mut': False, 'dry_args': ([1, 2, 3, 4, 5],), 'dry_kwargs': {'dry_id': 'a95e5883-51fb-4c80-b7f2-e0818baf5ff2', 'dry_metadata': {'description': '', 'creation_time': 1679499970.0564768}}}"
      ]
     },
     "execution_count": 7,
     "metadata": {},
     "output_type": "execute_result"
    }
   ],
   "source": [
    "obj.definition()"
   ]
  },
  {
   "cell_type": "markdown",
   "id": "88419789-733d-4446-a531-8ae822efd9b7",
   "metadata": {},
   "source": [
    "We can use the definition of `obj` as a factory to build a new 'copy'. Because `obj` doesn't store any data inside, it will be essentially indistinguishable because the definition includes all metadata about the object including its `dry_id`."
   ]
  },
  {
   "cell_type": "code",
   "execution_count": 8,
   "id": "5b3f8f1b-5c2e-47e4-85dd-8b813334d8d1",
   "metadata": {
    "execution": {
     "iopub.execute_input": "2023-03-22T15:46:10.133982Z",
     "iopub.status.busy": "2023-03-22T15:46:10.133844Z",
     "iopub.status.idle": "2023-03-22T15:46:10.148781Z",
     "shell.execute_reply": "2023-03-22T15:46:10.148363Z",
     "shell.execute_reply.started": "2023-03-22T15:46:10.133963Z"
    },
    "tags": []
   },
   "outputs": [],
   "source": [
    "# Use obj's definition to build a copy\n",
    "copy_obj = obj.definition().build()"
   ]
  },
  {
   "cell_type": "code",
   "execution_count": 9,
   "id": "a47ecbc0-0c62-4bb3-bd40-d296568a3fb0",
   "metadata": {
    "execution": {
     "iopub.execute_input": "2023-03-22T15:46:10.149565Z",
     "iopub.status.busy": "2023-03-22T15:46:10.149427Z",
     "iopub.status.idle": "2023-03-22T15:46:10.166547Z",
     "shell.execute_reply": "2023-03-22T15:46:10.166103Z",
     "shell.execute_reply.started": "2023-03-22T15:46:10.149546Z"
    },
    "tags": []
   },
   "outputs": [],
   "source": [
    "# Check that the definitions between the two objects are the same\n",
    "assert(obj.definition() == copy_obj.definition())\n",
    "# Check that they are different objects\n",
    "assert(id(obj) != id(copy_obj))"
   ]
  },
  {
   "cell_type": "markdown",
   "id": "1b53720a-38dd-4176-a2b2-1b19b73ca9bf",
   "metadata": {},
   "source": [
    "We can edit the definition though to remove the unique id, or we can use `ObjectDef`'s method `get_cat_def` to get a 'category' definition where unique metadata about the object is stripped. Currently this includes `dry_id` and `dry_metadata`."
   ]
  },
  {
   "cell_type": "code",
   "execution_count": 10,
   "id": "0c4722c3-58ca-4f29-b41c-5f671dd982f7",
   "metadata": {
    "execution": {
     "iopub.execute_input": "2023-03-22T15:46:10.168827Z",
     "iopub.status.busy": "2023-03-22T15:46:10.168687Z",
     "iopub.status.idle": "2023-03-22T15:46:10.182555Z",
     "shell.execute_reply": "2023-03-22T15:46:10.182119Z",
     "shell.execute_reply.started": "2023-03-22T15:46:10.168808Z"
    },
    "tags": []
   },
   "outputs": [],
   "source": [
    "obj_def = obj.definition()"
   ]
  },
  {
   "cell_type": "code",
   "execution_count": 11,
   "id": "beb436bb-38f1-44a4-bf5f-0e9dad802688",
   "metadata": {
    "execution": {
     "iopub.execute_input": "2023-03-22T15:46:10.183345Z",
     "iopub.status.busy": "2023-03-22T15:46:10.183208Z",
     "iopub.status.idle": "2023-03-22T15:46:10.198564Z",
     "shell.execute_reply": "2023-03-22T15:46:10.198144Z",
     "shell.execute_reply.started": "2023-03-22T15:46:10.183326Z"
    },
    "tags": []
   },
   "outputs": [
    {
     "data": {
      "text/plain": [
       "{'cls': <class '__main__.Data'>, 'dry_mut': False, 'dry_args': ([1, 2, 3, 4, 5],), 'dry_kwargs': {'dry_id': 'a95e5883-51fb-4c80-b7f2-e0818baf5ff2', 'dry_metadata': {'description': '', 'creation_time': 1679499970.0564768}}}"
      ]
     },
     "execution_count": 11,
     "metadata": {},
     "output_type": "execute_result"
    }
   ],
   "source": [
    "obj_def"
   ]
  },
  {
   "cell_type": "code",
   "execution_count": 12,
   "id": "6034f0e7-036b-425b-8dba-8621910abd0f",
   "metadata": {
    "execution": {
     "iopub.execute_input": "2023-03-22T15:46:10.199339Z",
     "iopub.status.busy": "2023-03-22T15:46:10.199202Z",
     "iopub.status.idle": "2023-03-22T15:46:10.215490Z",
     "shell.execute_reply": "2023-03-22T15:46:10.213923Z",
     "shell.execute_reply.started": "2023-03-22T15:46:10.199320Z"
    },
    "tags": []
   },
   "outputs": [],
   "source": [
    "obj_cat_def = obj_def.get_cat_def()"
   ]
  },
  {
   "cell_type": "code",
   "execution_count": 13,
   "id": "ca5e7fbe-b596-4924-a9ae-4c33a1b3a5dc",
   "metadata": {
    "execution": {
     "iopub.execute_input": "2023-03-22T15:46:10.216290Z",
     "iopub.status.busy": "2023-03-22T15:46:10.216154Z",
     "iopub.status.idle": "2023-03-22T15:46:10.230376Z",
     "shell.execute_reply": "2023-03-22T15:46:10.228658Z",
     "shell.execute_reply.started": "2023-03-22T15:46:10.216272Z"
    }
   },
   "outputs": [],
   "source": [
    "copy_obj_2 = obj_cat_def.build()"
   ]
  },
  {
   "cell_type": "code",
   "execution_count": 14,
   "id": "c7ceb7ca-5bc2-4491-9626-6bfee9dc6bdd",
   "metadata": {
    "execution": {
     "iopub.execute_input": "2023-03-22T15:46:10.231026Z",
     "iopub.status.busy": "2023-03-22T15:46:10.230893Z",
     "iopub.status.idle": "2023-03-22T15:46:10.246397Z",
     "shell.execute_reply": "2023-03-22T15:46:10.245972Z",
     "shell.execute_reply.started": "2023-03-22T15:46:10.231007Z"
    }
   },
   "outputs": [
    {
     "data": {
      "text/plain": [
       "{'cls': <class '__main__.Data'>, 'dry_mut': False, 'dry_args': ([1, 2, 3, 4, 5],), 'dry_kwargs': {'dry_id': '9f296523-0550-48cf-973c-d7351c76e0be', 'dry_metadata': {'description': '', 'creation_time': 1679499970.226403}}}"
      ]
     },
     "execution_count": 14,
     "metadata": {},
     "output_type": "execute_result"
    }
   ],
   "source": [
    "# This time we can see the object has new creation time and unique id!\n",
    "copy_obj_2"
   ]
  },
  {
   "cell_type": "markdown",
   "id": "f256006b",
   "metadata": {},
   "source": [
    "### `Object` - Serialize/Deserialize\n",
    "\n",
    "We can now serialize (save) it to disk, as well as load it from disk. There are multiple ways to do this, Each `Object` implements a `save_self` method which takes a filepath or file-like object which the `Object` is serialized to. DRYML also provides the `save_object` method which takes any `Object` and saves it to a filepath or file-like object.\n",
    "\n",
    "Similarly, we can now load the object from a filepath or filelike object using the provided `load_object` method."
   ]
  },
  {
   "cell_type": "code",
   "execution_count": 15,
   "id": "254fe679",
   "metadata": {
    "ExecuteTime": {
     "end_time": "2022-09-22T21:14:58.313939Z",
     "start_time": "2022-09-22T21:14:58.298199Z"
    },
    "execution": {
     "iopub.execute_input": "2023-03-22T15:46:10.247166Z",
     "iopub.status.busy": "2023-03-22T15:46:10.247028Z",
     "iopub.status.idle": "2023-03-22T15:46:10.275312Z",
     "shell.execute_reply": "2023-03-22T15:46:10.274880Z",
     "shell.execute_reply.started": "2023-03-22T15:46:10.247146Z"
    },
    "tags": []
   },
   "outputs": [
    {
     "data": {
      "text/plain": [
       "True"
      ]
     },
     "execution_count": 15,
     "metadata": {},
     "output_type": "execute_result"
    }
   ],
   "source": [
    "# We tell the object to save itself to a specific file\n",
    "obj.save_self('obj.dry')"
   ]
  },
  {
   "cell_type": "code",
   "execution_count": 16,
   "id": "eee45494",
   "metadata": {
    "ExecuteTime": {
     "end_time": "2022-09-22T21:14:58.984049Z",
     "start_time": "2022-09-22T21:14:58.976589Z"
    },
    "execution": {
     "iopub.execute_input": "2023-03-22T15:46:10.276124Z",
     "iopub.status.busy": "2023-03-22T15:46:10.275983Z",
     "iopub.status.idle": "2023-03-22T15:46:10.281825Z",
     "shell.execute_reply": "2023-03-22T15:46:10.281388Z",
     "shell.execute_reply.started": "2023-03-22T15:46:10.276105Z"
    },
    "tags": []
   },
   "outputs": [],
   "source": [
    "# We can now load a new copy of this object from disk by using the `load_object` method.\n",
    "new_obj = load_object('obj.dry')"
   ]
  },
  {
   "cell_type": "markdown",
   "id": "e36e66b2",
   "metadata": {},
   "source": [
    "`obj` and `new_obj` are nearly indistinguishable! They contain the same data!  Let's look at each object's `.data` attribute and see.\n",
    "> Caveat: While `obj` and `new_obj` are very similar, they are still different objects from python's perspective."
   ]
  },
  {
   "cell_type": "code",
   "execution_count": 17,
   "id": "016034c3",
   "metadata": {
    "ExecuteTime": {
     "end_time": "2022-09-22T21:15:01.027276Z",
     "start_time": "2022-09-22T21:15:01.019412Z"
    },
    "execution": {
     "iopub.execute_input": "2023-03-22T15:46:10.282619Z",
     "iopub.status.busy": "2023-03-22T15:46:10.282481Z",
     "iopub.status.idle": "2023-03-22T15:46:10.299172Z",
     "shell.execute_reply": "2023-03-22T15:46:10.298724Z",
     "shell.execute_reply.started": "2023-03-22T15:46:10.282600Z"
    },
    "tags": []
   },
   "outputs": [
    {
     "name": "stdout",
     "output_type": "stream",
     "text": [
      "[1, 2, 3, 4, 5]\n",
      "[1, 2, 3, 4, 5]\n"
     ]
    }
   ],
   "source": [
    "print(obj.dry_args[0])\n",
    "print(new_obj.dry_args[0])\n",
    "assert obj.dry_args[0] == new_obj.dry_args[0]"
   ]
  },
  {
   "cell_type": "markdown",
   "id": "7b04a260",
   "metadata": {},
   "source": [
    "### `Object` -  Storing data\n",
    "\n",
    "Now, let's try storing some data which isn't part of the object's hyperparameters. In this case, we need to implement a couple methods to properly save and load the data. The `save_object_imp` method implements that class's logic for serializing it's internal state. Similarly, the `load_object_imp` implements the class's logic for loading it's data from the serialized file. Both methods are given a `zipfile.ZipFile` object in which to store/load its data. For now, DRYML serializes data using a zipfile. Let's show the updated class diagram with those new methods.\n",
    "\n",
    "<img src=\"images/Object_2.svg\">\n",
    "\n",
    "To give you a better idea of whats going on here, Have a look at these two sequence diagram for an `Object` which the user has inherited to define new classes. First, is a diagram for Load. Notice how for loading, we first traverse down to the base class `Object`, then load object material progressively starting with classes that are closer to `Object` as classes higher up in the inheritance chain may require base class objects to be ready before they can load their data.\n",
    "\n",
    "<img src=\"images/Object_Load_2.svg\">\n",
    "\n",
    "Second is the diagram for Save. We can see here that first, the highest levels in the inheritance hierarchy save their data first.\n",
    "\n",
    "<img src=\"images/Object_Save_2.svg\">"
   ]
  },
  {
   "cell_type": "code",
   "execution_count": 18,
   "id": "4a8b8286",
   "metadata": {
    "ExecuteTime": {
     "end_time": "2022-09-22T21:15:03.170106Z",
     "start_time": "2022-09-22T21:15:03.161553Z"
    },
    "execution": {
     "iopub.execute_input": "2023-03-22T15:46:10.299975Z",
     "iopub.status.busy": "2023-03-22T15:46:10.299835Z",
     "iopub.status.idle": "2023-03-22T15:46:10.314720Z",
     "shell.execute_reply": "2023-03-22T15:46:10.314268Z",
     "shell.execute_reply.started": "2023-03-22T15:46:10.299956Z"
    },
    "tags": []
   },
   "outputs": [],
   "source": [
    "# Define the new Object type\n",
    "class Array(Object):\n",
    "    def __init__(self, array_shape=(32, 32)):\n",
    "        # Initialize the array in the constructor\n",
    "        self.data = np.zeros(array_shape)\n",
    "    \n",
    "    def save_object_imp(self, file):\n",
    "        # Here we define how dryml should save data to disk\n",
    "        with file.open('data.pkl', 'w') as f:\n",
    "            f.write(dill.dumps(self.data))\n",
    "        return True\n",
    "\n",
    "    def load_object_imp(self, file):\n",
    "        # Here we define how dryml should load data from disk.\n",
    "        with file.open('data.pkl') as f:\n",
    "            self.data = dill.loads(f.read())\n",
    "        return True"
   ]
  },
  {
   "cell_type": "markdown",
   "id": "f48ed038-8ecb-4b0b-acc3-9d932ddb8077",
   "metadata": {},
   "source": [
    "To make it a bit clearer how each of these methods fits into the procedure of loading and saving an `Object`, we have a sequence diagram."
   ]
  },
  {
   "cell_type": "code",
   "execution_count": 19,
   "id": "03ce95a4",
   "metadata": {
    "ExecuteTime": {
     "end_time": "2022-09-22T21:15:03.853761Z",
     "start_time": "2022-09-22T21:15:03.848646Z"
    },
    "execution": {
     "iopub.execute_input": "2023-03-22T15:46:10.315480Z",
     "iopub.status.busy": "2023-03-22T15:46:10.315344Z",
     "iopub.status.idle": "2023-03-22T15:46:10.331964Z",
     "shell.execute_reply": "2023-03-22T15:46:10.330323Z",
     "shell.execute_reply.started": "2023-03-22T15:46:10.315461Z"
    },
    "tags": []
   },
   "outputs": [],
   "source": [
    "# Create the object\n",
    "arr_obj = Array(array_shape=(8, 8))"
   ]
  },
  {
   "cell_type": "code",
   "execution_count": 20,
   "id": "7ac805e0",
   "metadata": {
    "ExecuteTime": {
     "end_time": "2022-09-22T21:15:04.494462Z",
     "start_time": "2022-09-22T21:15:04.488683Z"
    },
    "execution": {
     "iopub.execute_input": "2023-03-22T15:46:10.332632Z",
     "iopub.status.busy": "2023-03-22T15:46:10.332492Z",
     "iopub.status.idle": "2023-03-22T15:46:10.345687Z",
     "shell.execute_reply": "2023-03-22T15:46:10.345247Z",
     "shell.execute_reply.started": "2023-03-22T15:46:10.332612Z"
    },
    "tags": []
   },
   "outputs": [
    {
     "data": {
      "text/plain": [
       "(8, 8)"
      ]
     },
     "execution_count": 20,
     "metadata": {},
     "output_type": "execute_result"
    }
   ],
   "source": [
    "# The object contains a numpy array with the specified shape.\n",
    "arr_obj.data.shape"
   ]
  },
  {
   "cell_type": "markdown",
   "id": "62054e28",
   "metadata": {},
   "source": [
    "### Modifying object state\n",
    "\n",
    "We can now modify the state of this object, and save it to disk."
   ]
  },
  {
   "cell_type": "code",
   "execution_count": 21,
   "id": "b1c12cad",
   "metadata": {
    "ExecuteTime": {
     "end_time": "2022-09-22T21:15:05.857754Z",
     "start_time": "2022-09-22T21:15:05.852785Z"
    },
    "execution": {
     "iopub.execute_input": "2023-03-22T15:46:10.346529Z",
     "iopub.status.busy": "2023-03-22T15:46:10.346304Z",
     "iopub.status.idle": "2023-03-22T15:46:10.359724Z",
     "shell.execute_reply": "2023-03-22T15:46:10.359281Z",
     "shell.execute_reply.started": "2023-03-22T15:46:10.346509Z"
    },
    "tags": []
   },
   "outputs": [],
   "source": [
    "arr_obj.data[0,0] = 50"
   ]
  },
  {
   "cell_type": "code",
   "execution_count": 22,
   "id": "edd84295",
   "metadata": {
    "ExecuteTime": {
     "end_time": "2022-09-22T21:15:06.574100Z",
     "start_time": "2022-09-22T21:15:06.556781Z"
    },
    "execution": {
     "iopub.execute_input": "2023-03-22T15:46:10.360502Z",
     "iopub.status.busy": "2023-03-22T15:46:10.360364Z",
     "iopub.status.idle": "2023-03-22T15:46:10.384614Z",
     "shell.execute_reply": "2023-03-22T15:46:10.384167Z",
     "shell.execute_reply.started": "2023-03-22T15:46:10.360483Z"
    },
    "tags": []
   },
   "outputs": [
    {
     "data": {
      "text/plain": [
       "True"
      ]
     },
     "execution_count": 22,
     "metadata": {},
     "output_type": "execute_result"
    }
   ],
   "source": [
    "save_object(arr_obj, 'test_obj.dry')"
   ]
  },
  {
   "cell_type": "markdown",
   "id": "34856cff",
   "metadata": {},
   "source": [
    "Let's pretend we're trying to load this object from disk now, and check that the correct data gets loaded."
   ]
  },
  {
   "cell_type": "code",
   "execution_count": 23,
   "id": "90f6223f",
   "metadata": {
    "ExecuteTime": {
     "end_time": "2022-09-22T21:15:08.153556Z",
     "start_time": "2022-09-22T21:15:08.147245Z"
    },
    "execution": {
     "iopub.execute_input": "2023-03-22T15:46:10.385383Z",
     "iopub.status.busy": "2023-03-22T15:46:10.385245Z",
     "iopub.status.idle": "2023-03-22T15:46:10.392130Z",
     "shell.execute_reply": "2023-03-22T15:46:10.391696Z",
     "shell.execute_reply.started": "2023-03-22T15:46:10.385363Z"
    },
    "tags": []
   },
   "outputs": [],
   "source": [
    "arr_obj_loaded = load_object('test_obj.dry')"
   ]
  },
  {
   "cell_type": "code",
   "execution_count": 24,
   "id": "52c57782",
   "metadata": {
    "ExecuteTime": {
     "end_time": "2022-09-22T21:15:16.133538Z",
     "start_time": "2022-09-22T21:15:16.130261Z"
    },
    "execution": {
     "iopub.execute_input": "2023-03-22T15:46:10.392928Z",
     "iopub.status.busy": "2023-03-22T15:46:10.392790Z",
     "iopub.status.idle": "2023-03-22T15:46:10.409043Z",
     "shell.execute_reply": "2023-03-22T15:46:10.407969Z",
     "shell.execute_reply.started": "2023-03-22T15:46:10.392909Z"
    },
    "tags": []
   },
   "outputs": [],
   "source": [
    "assert np.all(arr_obj.data == arr_obj_loaded.data)"
   ]
  },
  {
   "cell_type": "markdown",
   "id": "b9175631",
   "metadata": {},
   "source": [
    "Great! Let's take a look at the object's definitions"
   ]
  },
  {
   "cell_type": "code",
   "execution_count": 25,
   "id": "c5b7c2a6",
   "metadata": {
    "ExecuteTime": {
     "end_time": "2022-09-22T21:15:19.498253Z",
     "start_time": "2022-09-22T21:15:19.492058Z"
    },
    "execution": {
     "iopub.execute_input": "2023-03-22T15:46:10.409869Z",
     "iopub.status.busy": "2023-03-22T15:46:10.409729Z",
     "iopub.status.idle": "2023-03-22T15:46:10.421173Z",
     "shell.execute_reply": "2023-03-22T15:46:10.420752Z",
     "shell.execute_reply.started": "2023-03-22T15:46:10.409850Z"
    },
    "tags": []
   },
   "outputs": [
    {
     "data": {
      "text/plain": [
       "{'cls': <class '__main__.Array'>, 'dry_mut': False, 'dry_args': (), 'dry_kwargs': {'array_shape': (8, 8), 'dry_id': '9169716a-5a8c-4d2d-a829-197e35d9e8be', 'dry_metadata': {'description': '', 'creation_time': 1679499970.3281107}}}"
      ]
     },
     "execution_count": 25,
     "metadata": {},
     "output_type": "execute_result"
    }
   ],
   "source": [
    "arr_obj.definition()"
   ]
  },
  {
   "cell_type": "code",
   "execution_count": 26,
   "id": "b46342eb",
   "metadata": {
    "ExecuteTime": {
     "end_time": "2022-09-22T21:15:20.491151Z",
     "start_time": "2022-09-22T21:15:20.484739Z"
    },
    "execution": {
     "iopub.execute_input": "2023-03-22T15:46:10.421976Z",
     "iopub.status.busy": "2023-03-22T15:46:10.421836Z",
     "iopub.status.idle": "2023-03-22T15:46:10.438185Z",
     "shell.execute_reply": "2023-03-22T15:46:10.437741Z",
     "shell.execute_reply.started": "2023-03-22T15:46:10.421957Z"
    },
    "tags": []
   },
   "outputs": [
    {
     "data": {
      "text/plain": [
       "{'cls': <class '__main__.Array'>, 'dry_mut': False, 'dry_args': (), 'dry_kwargs': {'array_shape': (8, 8), 'dry_id': '9169716a-5a8c-4d2d-a829-197e35d9e8be', 'dry_metadata': {'description': '', 'creation_time': 1679499970.3281107}}}"
      ]
     },
     "execution_count": 26,
     "metadata": {},
     "output_type": "execute_result"
    }
   ],
   "source": [
    "arr_obj_loaded.definition()"
   ]
  },
  {
   "cell_type": "markdown",
   "id": "cf8c0cb5",
   "metadata": {},
   "source": [
    "However, constructing these `Object`s from an `ObjectDef` won't recover the data we modified!"
   ]
  },
  {
   "cell_type": "code",
   "execution_count": 27,
   "id": "5df8c02d",
   "metadata": {
    "ExecuteTime": {
     "end_time": "2022-09-22T21:15:26.589593Z",
     "start_time": "2022-09-22T21:15:26.585998Z"
    },
    "execution": {
     "iopub.execute_input": "2023-03-22T15:46:10.439002Z",
     "iopub.status.busy": "2023-03-22T15:46:10.438862Z",
     "iopub.status.idle": "2023-03-22T15:46:10.450980Z",
     "shell.execute_reply": "2023-03-22T15:46:10.449927Z",
     "shell.execute_reply.started": "2023-03-22T15:46:10.438983Z"
    },
    "tags": []
   },
   "outputs": [],
   "source": [
    "new_arr_obj = arr_obj.definition().build()"
   ]
  },
  {
   "cell_type": "code",
   "execution_count": 28,
   "id": "dccc1156",
   "metadata": {
    "ExecuteTime": {
     "end_time": "2022-09-22T21:15:27.241672Z",
     "start_time": "2022-09-22T21:15:27.235552Z"
    },
    "execution": {
     "iopub.execute_input": "2023-03-22T15:46:10.454286Z",
     "iopub.status.busy": "2023-03-22T15:46:10.454142Z",
     "iopub.status.idle": "2023-03-22T15:46:10.468576Z",
     "shell.execute_reply": "2023-03-22T15:46:10.468116Z",
     "shell.execute_reply.started": "2023-03-22T15:46:10.454267Z"
    },
    "tags": []
   },
   "outputs": [
    {
     "name": "stdout",
     "output_type": "stream",
     "text": [
      "50.0\n",
      "0.0\n"
     ]
    }
   ],
   "source": [
    "print(arr_obj.data[0,0])\n",
    "print(new_arr_obj.data[0,0])"
   ]
  },
  {
   "cell_type": "markdown",
   "id": "1b15f426-d5ee-4d4d-bc94-ffecc5d15758",
   "metadata": {},
   "source": [
    "### Nested `Object`s\n",
    "\n",
    "`Object`s can take other `Object`s as arguments. This allows us to build more complex `Object`s out of components which we can reuse for other tasks! Let's create a nested `Object` and see how it works! We'll just store an `Array` object within a `Data` object since both of those have been defined in this session."
   ]
  },
  {
   "cell_type": "code",
   "execution_count": 29,
   "id": "8a425bba-e8e0-4de2-8939-7be51485dc53",
   "metadata": {
    "execution": {
     "iopub.execute_input": "2023-03-22T15:46:10.469381Z",
     "iopub.status.busy": "2023-03-22T15:46:10.469216Z",
     "iopub.status.idle": "2023-03-22T15:46:10.483801Z",
     "shell.execute_reply": "2023-03-22T15:46:10.483365Z",
     "shell.execute_reply.started": "2023-03-22T15:46:10.469358Z"
    },
    "tags": []
   },
   "outputs": [],
   "source": [
    "arr_data_container = Data(arr_obj)"
   ]
  },
  {
   "cell_type": "code",
   "execution_count": 30,
   "id": "0b8c6dd7-a090-4c0e-8247-b5d297a52e34",
   "metadata": {
    "execution": {
     "iopub.execute_input": "2023-03-22T15:46:10.484607Z",
     "iopub.status.busy": "2023-03-22T15:46:10.484452Z",
     "iopub.status.idle": "2023-03-22T15:46:10.499551Z",
     "shell.execute_reply": "2023-03-22T15:46:10.499091Z",
     "shell.execute_reply.started": "2023-03-22T15:46:10.484588Z"
    },
    "tags": []
   },
   "outputs": [],
   "source": [
    "# Verify the container we wrote has the right value\n",
    "assert(arr_data_container.dry_args[0].data[0,0] == 50.0)"
   ]
  },
  {
   "cell_type": "code",
   "execution_count": 31,
   "id": "f5b2ff7c-b83a-456b-826e-d48eea8f044c",
   "metadata": {
    "execution": {
     "iopub.execute_input": "2023-03-22T15:46:10.500329Z",
     "iopub.status.busy": "2023-03-22T15:46:10.500189Z",
     "iopub.status.idle": "2023-03-22T15:46:10.525574Z",
     "shell.execute_reply": "2023-03-22T15:46:10.525126Z",
     "shell.execute_reply.started": "2023-03-22T15:46:10.500310Z"
    },
    "tags": []
   },
   "outputs": [
    {
     "data": {
      "text/plain": [
       "True"
      ]
     },
     "execution_count": 31,
     "metadata": {},
     "output_type": "execute_result"
    }
   ],
   "source": [
    "# Now we can write this container to disk, and reload it.\n",
    "# Objects are saved recursively within the same file.\n",
    "arr_data_container.save_self('test2.dry')"
   ]
  },
  {
   "cell_type": "code",
   "execution_count": 32,
   "id": "b21d2594-13c9-46c4-af46-e54106038c33",
   "metadata": {
    "execution": {
     "iopub.execute_input": "2023-03-22T15:46:10.526416Z",
     "iopub.status.busy": "2023-03-22T15:46:10.526193Z",
     "iopub.status.idle": "2023-03-22T15:46:10.532688Z",
     "shell.execute_reply": "2023-03-22T15:46:10.532239Z",
     "shell.execute_reply.started": "2023-03-22T15:46:10.526395Z"
    },
    "tags": []
   },
   "outputs": [],
   "source": [
    "# Now we can load the object from disk.\n",
    "# The object is created recursively first creating the ArrayObject\n",
    "# then creating the Data object.\n",
    "arr_data_container_2 = load_object('test2.dry')\n",
    "assert(arr_data_container_2.dry_args[0].data[0,0] == 50.0)"
   ]
  },
  {
   "cell_type": "markdown",
   "id": "9cc8518a",
   "metadata": {
    "ExecuteTime": {
     "end_time": "2022-09-22T19:01:45.858909Z",
     "start_time": "2022-09-22T19:01:45.855022Z"
    },
    "tags": []
   },
   "source": [
    "## `Repo` - The `Object` store, `Selector` - The `Object` finder\n",
    "\n",
    "A major problem with ML workflows is the management of different versions of trained models. A common scene is a directory filled with sub-directories each cordoning off models of a certain variety. This leads often to either heavily nested directories, or directory names that are long and convoluted, specifying most properties of the network uniquely for the project a practictioner is working on. DRYML approaches this problem with the `Repo` object which stores either a reference to where the object is stored on disk (an `ObjectFile`) or `Object`s themselves within a python dictionary indexed by the `Object`s `dry_id`.\n",
    "\n",
    "By itself, `Repo` isn't super useful beyond managing where `Object`s eventually get written to disk. However DRYML defines another object `Selector`. `Selector` defines a callable object which can be passed an `Object`, `ObjectDef`, or `ObjectFile` and say whether it 'matches' the selector's criteria. `Selector` is similar to python's `slice` object which acts to grab a subset from an array or other collection object. With `Selector`, `Repo` transforms into an `Object` store from which we can grab specific `Object`s or classes of `Object`s.\n",
    "\n",
    "Here's a general diagram describing this:\n",
    "\n",
    "<img src=\"images/Repo_Selector_1.svg\">\n",
    "\n",
    "Let's see this in action. Let's say we want to store many different kinds of `Array` objects like we defined earlier. But for a given analysis later, we're only interested in `Array`s with a specific shape."
   ]
  },
  {
   "cell_type": "code",
   "execution_count": 33,
   "id": "c9df5682",
   "metadata": {
    "ExecuteTime": {
     "end_time": "2022-09-22T21:15:29.719601Z",
     "start_time": "2022-09-22T21:15:29.715318Z"
    },
    "execution": {
     "iopub.execute_input": "2023-03-22T15:46:10.533464Z",
     "iopub.status.busy": "2023-03-22T15:46:10.533325Z",
     "iopub.status.idle": "2023-03-22T15:46:10.544794Z",
     "shell.execute_reply": "2023-03-22T15:46:10.544335Z",
     "shell.execute_reply.started": "2023-03-22T15:46:10.533445Z"
    },
    "tags": []
   },
   "outputs": [],
   "source": [
    "# Create the repo\n",
    "repo = Repo()"
   ]
  },
  {
   "cell_type": "markdown",
   "id": "380a22ed",
   "metadata": {},
   "source": [
    "To add an object to the `Repo`, we use the `add_object` method."
   ]
  },
  {
   "cell_type": "code",
   "execution_count": 34,
   "id": "46562929",
   "metadata": {
    "ExecuteTime": {
     "end_time": "2022-09-22T21:15:31.062824Z",
     "start_time": "2022-09-22T21:15:31.043174Z"
    },
    "execution": {
     "iopub.execute_input": "2023-03-22T15:46:10.545653Z",
     "iopub.status.busy": "2023-03-22T15:46:10.545499Z",
     "iopub.status.idle": "2023-03-22T15:46:10.565466Z",
     "shell.execute_reply": "2023-03-22T15:46:10.565005Z",
     "shell.execute_reply.started": "2023-03-22T15:46:10.545632Z"
    },
    "tags": []
   },
   "outputs": [],
   "source": [
    "# Generate several arrays of different shapes and add them to the store.\n",
    "num_gen = 10\n",
    "size_progression = [8, 10, 20, 100]\n",
    "for s in size_progression:\n",
    "    array_shape = (s,s)\n",
    "    for i in range(num_gen):\n",
    "        obj = Array(array_shape=array_shape)\n",
    "        obj.data = np.random.random(array_shape)\n",
    "        repo.add_object(obj)"
   ]
  },
  {
   "cell_type": "markdown",
   "id": "906d6c04",
   "metadata": {},
   "source": [
    "We can see how many objects are currently stored by calling `len` on the `repo` object."
   ]
  },
  {
   "cell_type": "code",
   "execution_count": 35,
   "id": "1a06d8c8",
   "metadata": {
    "ExecuteTime": {
     "end_time": "2022-09-22T21:15:32.339313Z",
     "start_time": "2022-09-22T21:15:32.332387Z"
    },
    "execution": {
     "iopub.execute_input": "2023-03-22T15:46:10.566266Z",
     "iopub.status.busy": "2023-03-22T15:46:10.566113Z",
     "iopub.status.idle": "2023-03-22T15:46:10.575006Z",
     "shell.execute_reply": "2023-03-22T15:46:10.574559Z",
     "shell.execute_reply.started": "2023-03-22T15:46:10.566246Z"
    },
    "tags": []
   },
   "outputs": [
    {
     "data": {
      "text/plain": [
       "40"
      ]
     },
     "execution_count": 35,
     "metadata": {},
     "output_type": "execute_result"
    }
   ],
   "source": [
    "len(repo)"
   ]
  },
  {
   "cell_type": "markdown",
   "id": "dff34cb3",
   "metadata": {},
   "source": [
    "Imagine we were in a new notebook accessing these objects, There are tons of objects, so how do we quickly get the one's we're interested in? That's where the `Selector` comes in. Let's make a `Selector` to get arrays with shape `(20, 20)`, and use the `get` method of `Repo` to grab only those `Objects` matching the `Selector`."
   ]
  },
  {
   "cell_type": "code",
   "execution_count": 36,
   "id": "86e4bb7d",
   "metadata": {
    "ExecuteTime": {
     "end_time": "2022-09-22T21:15:34.104265Z",
     "start_time": "2022-09-22T21:15:34.099042Z"
    },
    "execution": {
     "iopub.execute_input": "2023-03-22T15:46:10.575775Z",
     "iopub.status.busy": "2023-03-22T15:46:10.575637Z",
     "iopub.status.idle": "2023-03-22T15:46:10.588724Z",
     "shell.execute_reply": "2023-03-22T15:46:10.588283Z",
     "shell.execute_reply.started": "2023-03-22T15:46:10.575756Z"
    },
    "tags": []
   },
   "outputs": [],
   "source": [
    "sel = Selector(cls=Array, kwargs={'array_shape': (20, 20)})"
   ]
  },
  {
   "cell_type": "code",
   "execution_count": 37,
   "id": "b9f1071a",
   "metadata": {
    "ExecuteTime": {
     "end_time": "2022-09-22T21:15:34.969023Z",
     "start_time": "2022-09-22T21:15:34.963953Z"
    },
    "execution": {
     "iopub.execute_input": "2023-03-22T15:46:10.589586Z",
     "iopub.status.busy": "2023-03-22T15:46:10.589435Z",
     "iopub.status.idle": "2023-03-22T15:46:10.601794Z",
     "shell.execute_reply": "2023-03-22T15:46:10.601331Z",
     "shell.execute_reply.started": "2023-03-22T15:46:10.589565Z"
    },
    "tags": []
   },
   "outputs": [],
   "source": [
    "selected_objs = repo.get(sel)"
   ]
  },
  {
   "cell_type": "code",
   "execution_count": 38,
   "id": "b83a0372",
   "metadata": {
    "ExecuteTime": {
     "end_time": "2022-09-22T21:15:36.764088Z",
     "start_time": "2022-09-22T21:15:36.755688Z"
    },
    "execution": {
     "iopub.execute_input": "2023-03-22T15:46:10.602590Z",
     "iopub.status.busy": "2023-03-22T15:46:10.602450Z",
     "iopub.status.idle": "2023-03-22T15:46:10.616103Z",
     "shell.execute_reply": "2023-03-22T15:46:10.615661Z",
     "shell.execute_reply.started": "2023-03-22T15:46:10.602571Z"
    },
    "tags": []
   },
   "outputs": [
    {
     "data": {
      "text/plain": [
       "[(20, 20),\n",
       " (20, 20),\n",
       " (20, 20),\n",
       " (20, 20),\n",
       " (20, 20),\n",
       " (20, 20),\n",
       " (20, 20),\n",
       " (20, 20),\n",
       " (20, 20),\n",
       " (20, 20)]"
      ]
     },
     "execution_count": 38,
     "metadata": {},
     "output_type": "execute_result"
    }
   ],
   "source": [
    "# We can check and see we only have objects with shape (20, 20)!\n",
    "list(map(lambda o: o.data.shape, selected_objs))"
   ]
  },
  {
   "cell_type": "markdown",
   "id": "5824576b",
   "metadata": {},
   "source": [
    "Great! So we can get specific `Objects` matching the selector! Notice however, that I didn't specify any `args` and, I also didn't specify `dry_id` in `kwargs`. This is because the `Selector` doesn't attempt to match keys which are missing from the `Selector`. This means, when we don't specify `dry_id`, it will return all `Objects` matching other parts of the `Selector`s requirements.\n",
    "\n",
    "Now, suppose we know the `dry_id` of the specific object we're interested in, we can create a `Selector` which will only match the object with that `dry_id`. We can also use the `get_obj_by_id` method of `repo` and supply the `dry_id` directly."
   ]
  },
  {
   "cell_type": "code",
   "execution_count": 39,
   "id": "d5fd916b",
   "metadata": {
    "ExecuteTime": {
     "end_time": "2022-09-22T21:15:38.361863Z",
     "start_time": "2022-09-22T21:15:38.353684Z"
    },
    "execution": {
     "iopub.execute_input": "2023-03-22T15:46:10.616899Z",
     "iopub.status.busy": "2023-03-22T15:46:10.616761Z",
     "iopub.status.idle": "2023-03-22T15:46:10.626362Z",
     "shell.execute_reply": "2023-03-22T15:46:10.625922Z",
     "shell.execute_reply.started": "2023-03-22T15:46:10.616880Z"
    },
    "tags": []
   },
   "outputs": [
    {
     "name": "stdout",
     "output_type": "stream",
     "text": [
      "140735947550384\n"
     ]
    },
    {
     "data": {
      "text/plain": [
       "'49d00515-4db7-42f0-ae39-ea5c68ad4e61'"
      ]
     },
     "execution_count": 39,
     "metadata": {},
     "output_type": "execute_result"
    }
   ],
   "source": [
    "print(id(selected_objs[0]))\n",
    "id_of_interest = selected_objs[0].dry_id\n",
    "id_of_interest"
   ]
  },
  {
   "cell_type": "code",
   "execution_count": 40,
   "id": "8e70f811",
   "metadata": {
    "ExecuteTime": {
     "end_time": "2022-09-22T21:15:39.842447Z",
     "start_time": "2022-09-22T21:15:39.834108Z"
    },
    "execution": {
     "iopub.execute_input": "2023-03-22T15:46:10.627214Z",
     "iopub.status.busy": "2023-03-22T15:46:10.627034Z",
     "iopub.status.idle": "2023-03-22T15:46:10.632540Z",
     "shell.execute_reply": "2023-03-22T15:46:10.632097Z",
     "shell.execute_reply.started": "2023-03-22T15:46:10.627195Z"
    },
    "tags": []
   },
   "outputs": [
    {
     "data": {
      "text/plain": [
       "140735947550384"
      ]
     },
     "execution_count": 40,
     "metadata": {},
     "output_type": "execute_result"
    }
   ],
   "source": [
    "# We can create a selector which will only match against `dry_id`, we look at the python id of the object\n",
    "# to verify it's the same object.\n",
    "specific_selector = Selector(None, kwargs={'dry_id': id_of_interest})\n",
    "id(repo.get(specific_selector))"
   ]
  },
  {
   "cell_type": "code",
   "execution_count": 41,
   "id": "2b465b9d",
   "metadata": {
    "ExecuteTime": {
     "end_time": "2022-09-22T21:15:42.522337Z",
     "start_time": "2022-09-22T21:15:42.515737Z"
    },
    "execution": {
     "iopub.execute_input": "2023-03-22T15:46:10.633315Z",
     "iopub.status.busy": "2023-03-22T15:46:10.633176Z",
     "iopub.status.idle": "2023-03-22T15:46:10.640452Z",
     "shell.execute_reply": "2023-03-22T15:46:10.640000Z",
     "shell.execute_reply.started": "2023-03-22T15:46:10.633296Z"
    },
    "tags": []
   },
   "outputs": [
    {
     "data": {
      "text/plain": [
       "140735947550384"
      ]
     },
     "execution_count": 41,
     "metadata": {},
     "output_type": "execute_result"
    }
   ],
   "source": [
    "# We can also try to get it directly if we have an id,\n",
    "id(repo.get_obj_by_id(id_of_interest))"
   ]
  },
  {
   "cell_type": "markdown",
   "id": "b2294b1a",
   "metadata": {},
   "source": [
    "## Wrap-up\n",
    "\n",
    "The discussed functionalities of `Object`, `ObjectDef`, `Repo`, and `Selector` form the important core operating functionality of the DRYML library. All `Object`s track their constructor parameters (aka. hyperparameters) allowing reconstruction of the object without user intervention. `ObjectDef`s give the user a 'factory' system for creating new `Object`s matching a certain set of hyper parameters. `Repo`s and `Selectors` give the user the power to manage numerous `Object`s in a sane and coherent manner.\n",
    "\n",
    "Importantly, the functionality of `Object` and all of it's friends is independent of ML, and can be used in other contexts just as easily! Most components of DRYML are meant to be usable outside of the patterns described for common use in DRYML."
   ]
  },
  {
   "cell_type": "code",
   "execution_count": null,
   "id": "b3ca95e4-9252-494f-9294-b1022391ee4a",
   "metadata": {},
   "outputs": [],
   "source": []
  }
 ],
 "metadata": {
  "kernelspec": {
   "display_name": "OpenCE 1.6.1 DRYML Dev [conda env:.conda-opence-v1.6.1-drymldev]",
   "language": "python",
   "name": "conda-env-.conda-opence-v1.6.1-drymldev-py"
  },
  "language_info": {
   "codemirror_mode": {
    "name": "ipython",
    "version": 3
   },
   "file_extension": ".py",
   "mimetype": "text/x-python",
   "name": "python",
   "nbconvert_exporter": "python",
   "pygments_lexer": "ipython3",
   "version": "3.9.12"
  }
 },
 "nbformat": 4,
 "nbformat_minor": 5
}
