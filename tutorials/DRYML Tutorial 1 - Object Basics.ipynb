{
 "cells": [
  {
   "cell_type": "code",
   "execution_count": 1,
   "id": "600dd547",
   "metadata": {
    "ExecuteTime": {
     "end_time": "2022-09-22T21:14:43.328577Z",
     "start_time": "2022-09-22T21:14:42.547116Z"
    }
   },
   "outputs": [],
   "source": [
    "import numpy as np\n",
    "from dryml import Object, save_object, load_object, Repo, Selector\n",
    "import dill"
   ]
  },
  {
   "cell_type": "markdown",
   "id": "5d7c8b75",
   "metadata": {},
   "source": [
    "# DRYML Tutorial 1"
   ]
  },
  {
   "cell_type": "markdown",
   "id": "90590977",
   "metadata": {},
   "source": [
    "## DRYML `Object` Basics\n",
    "\n",
    "The `Object` is the basic class for python objects we want to serialize. Suppose we have some plain data we want to serialize, Let's create a new `Object` class to house it.\n",
    "\n",
    "> Caveat: DRYML `Object`s use a special metaclass called `Meta` which handles the saving of constructor arguments. `Meta` handles the creation of proper `__init__` methods which do this, and enforce an order for calling superclass consturctors. You should not call a super class's constructor within your `__init__` methods. `Meat` will handle that."
   ]
  },
  {
   "cell_type": "markdown",
   "id": "efdc9c44",
   "metadata": {
    "ExecuteTime": {
     "end_time": "2022-09-22T16:18:48.846882Z",
     "start_time": "2022-09-22T16:18:48.842643Z"
    }
   },
   "source": [
    "### `Object` definition and construction"
   ]
  },
  {
   "cell_type": "code",
   "execution_count": null,
   "id": "c7bd4d00",
   "metadata": {
    "ExecuteTime": {
     "start_time": "2022-09-26T22:08:33.547Z"
    }
   },
   "outputs": [],
   "source": [
    "class Data(Object):\n",
    "    def __init__(self, data):\n",
    "        pass"
   ]
  },
  {
   "cell_type": "code",
   "execution_count": 4,
   "id": "6aec8a18",
   "metadata": {
    "ExecuteTime": {
     "end_time": "2022-09-22T21:14:51.840574Z",
     "start_time": "2022-09-22T21:14:51.835328Z"
    }
   },
   "outputs": [],
   "source": [
    "imp_obj = Data([1, 2, 3, 4, 5])"
   ]
  },
  {
   "cell_type": "markdown",
   "id": "78f82a04",
   "metadata": {},
   "source": [
    "Now, `imp_obj` is an `Object` which carries information regarding the arguments used to construct it. This is available in two attributes, `dry_args` which stores the non-keyword arguments used, and `dry_kwargs` which stores the keyword arguments. Let's have a look at those."
   ]
  },
  {
   "cell_type": "code",
   "execution_count": 5,
   "id": "3d11378b",
   "metadata": {
    "ExecuteTime": {
     "end_time": "2022-09-22T21:14:53.015260Z",
     "start_time": "2022-09-22T21:14:52.996509Z"
    }
   },
   "outputs": [
    {
     "data": {
      "text/plain": [
       "([1, 2, 3, 4, 5],)"
      ]
     },
     "execution_count": 5,
     "metadata": {},
     "output_type": "execute_result"
    }
   ],
   "source": [
    "imp_obj.dry_args"
   ]
  },
  {
   "cell_type": "code",
   "execution_count": 6,
   "id": "5c5b04a2",
   "metadata": {
    "ExecuteTime": {
     "end_time": "2022-09-22T21:14:53.649117Z",
     "start_time": "2022-09-22T21:14:53.642062Z"
    }
   },
   "outputs": [
    {
     "data": {
      "text/plain": [
       "{'dry_id': '252fa7fe-8fdf-45de-beaa-df9e4553e1e6'}"
      ]
     },
     "execution_count": 6,
     "metadata": {},
     "output_type": "execute_result"
    }
   ],
   "source": [
    "imp_obj.dry_kwargs"
   ]
  },
  {
   "cell_type": "markdown",
   "id": "8e87c859",
   "metadata": {},
   "source": [
    "Interesting! there's a keyword argument here even though we didn't specify any! That's the `Object`'s `dry_id` which is used to uniquely identify the `Object`. The constructor which `Meta` and `Object` build for you automatically create such an id if you don't specify it directly.\n",
    "> Such uniquely identifying information is necessary when we want to create multiple neural networks which have the same hyperparameters (such as how many layers, and units/filters for the layers, as well as the training procedure, for example how many epochs to train the neural network.). Most neural network frameworks initialize a network's parameters by sampling from a random distribution. This means we can create copies of a given network and achieve different results after training. So, training multiple copies of a given network can give us an idea about how reliably a given network is able to train to a certain performance level, and if we train multiple networks, we can pick exactly the 'best' network by using it's `dry_id`."
   ]
  },
  {
   "cell_type": "markdown",
   "id": "56b01f94",
   "metadata": {},
   "source": [
    "### `ObjectDef` - Object Definitions"
   ]
  },
  {
   "cell_type": "markdown",
   "id": "04974b16",
   "metadata": {},
   "source": [
    "Why would we need this information? It's to allow the automatic creation of objects without user intervention. DRYML `Object`s have another attribute called `definition` This method produces an `ObjectDef` object which contains all necessary information to build a new `Object` nearly identical to a given `Object`, and it allows the user to create a generic object definition. The user can then call the `build` method on that definition, and DRYML will construct a new object matching that definition. Let's take a look at `imp_obj`'s definition.\n",
    "\n",
    "> Why does DRYML have both `Object` _as well as_ `ObjectDef`? Well, `ObjectDef`s are guaranteed to only contain hyperparmeter information. Any contained datasets within the eventual object do not exist yet. This allows us to be certain we aren't polluting our memory with large objects such as numpy arrays until we are ready to do so."
   ]
  },
  {
   "cell_type": "code",
   "execution_count": 7,
   "id": "4681e217",
   "metadata": {
    "ExecuteTime": {
     "end_time": "2022-09-22T21:14:56.011762Z",
     "start_time": "2022-09-22T21:14:56.003831Z"
    }
   },
   "outputs": [
    {
     "data": {
      "text/plain": [
       "{'cls': <class '__main__.Data'>, 'dry_mut': False, 'dry_args': ([1, 2, 3, 4, 5],), 'dry_kwargs': {'dry_id': '252fa7fe-8fdf-45de-beaa-df9e4553e1e6'}}"
      ]
     },
     "execution_count": 7,
     "metadata": {},
     "output_type": "execute_result"
    }
   ],
   "source": [
    "imp_obj.definition()"
   ]
  },
  {
   "cell_type": "markdown",
   "id": "f256006b",
   "metadata": {},
   "source": [
    "### `Object` - Serialize/Deserialize"
   ]
  },
  {
   "cell_type": "markdown",
   "id": "d3b16b29",
   "metadata": {},
   "source": [
    "We can now serialize (save) it to disk, as well as load it from disk. There are multiple ways to do this, Each `Object` implements a `save_self` method which takes a filepath or file-like object which the `Object` is serialized to. DRYML also provides the `save_object` method which takes any `Object` and saves it to a filepath or file-like object.\n",
    "\n",
    "Similarly, we can now load the object from a filepath or filelike object using the provided `load_object` method."
   ]
  },
  {
   "cell_type": "code",
   "execution_count": 8,
   "id": "254fe679",
   "metadata": {
    "ExecuteTime": {
     "end_time": "2022-09-22T21:14:58.313939Z",
     "start_time": "2022-09-22T21:14:58.298199Z"
    }
   },
   "outputs": [
    {
     "data": {
      "text/plain": [
       "True"
      ]
     },
     "execution_count": 8,
     "metadata": {},
     "output_type": "execute_result"
    }
   ],
   "source": [
    "# We tell the object to save itself to a specific file\n",
    "imp_obj.save_self('imp_obj.dry')"
   ]
  },
  {
   "cell_type": "code",
   "execution_count": 9,
   "id": "eee45494",
   "metadata": {
    "ExecuteTime": {
     "end_time": "2022-09-22T21:14:58.984049Z",
     "start_time": "2022-09-22T21:14:58.976589Z"
    }
   },
   "outputs": [],
   "source": [
    "# We can now load a new copy of this object from disk by using the `load_object` method.\n",
    "new_obj = load_object('imp_obj.dry')"
   ]
  },
  {
   "cell_type": "markdown",
   "id": "e36e66b2",
   "metadata": {},
   "source": [
    "`imp_obj` and `new_obj` are nearly indistinguishable! They contain the same data!  Let's look at each object's `.data` attribute and see.\n",
    "> Caveat: While `imp_obj` and `new_obj` are very similar, they are still different objects from python's perspective."
   ]
  },
  {
   "cell_type": "code",
   "execution_count": 10,
   "id": "016034c3",
   "metadata": {
    "ExecuteTime": {
     "end_time": "2022-09-22T21:15:01.027276Z",
     "start_time": "2022-09-22T21:15:01.019412Z"
    }
   },
   "outputs": [
    {
     "name": "stdout",
     "output_type": "stream",
     "text": [
      "[1, 2, 3, 4, 5]\n",
      "[1, 2, 3, 4, 5]\n"
     ]
    }
   ],
   "source": [
    "print(imp_obj.dry_args[0])\n",
    "print(new_obj.dry_args[0])\n",
    "assert imp_obj.dry_args[0] == new_obj.dry_args[0]"
   ]
  },
  {
   "cell_type": "markdown",
   "id": "3fd43b4f",
   "metadata": {},
   "source": [
    "### `Object` -  Storing data"
   ]
  },
  {
   "cell_type": "markdown",
   "id": "7b04a260",
   "metadata": {},
   "source": [
    "Now, let's try storing some data which isn't part of the object's hyperparameters. In this case, we need to implement a couple methods to properly save and load the data. The `save_object_imp` method implements that class's logic for serializing it's internal state. Similarly, the `load_object_imp` implements the class's logic for loading it's data from the serialized file. Both methods are given a `zipfile.ZipFile` object in which to store/load its data. For now, DRYML serializes data using a zipfile."
   ]
  },
  {
   "cell_type": "code",
   "execution_count": 11,
   "id": "4a8b8286",
   "metadata": {
    "ExecuteTime": {
     "end_time": "2022-09-22T21:15:03.170106Z",
     "start_time": "2022-09-22T21:15:03.161553Z"
    }
   },
   "outputs": [],
   "source": [
    "# Define the new Object type\n",
    "class Array(Object):\n",
    "    def __init__(self, array_shape=(32, 32)):\n",
    "        self.data = np.zeros(array_shape)\n",
    "    \n",
    "    def save_object_imp(self, file):\n",
    "        with file.open('data.pkl', 'w') as f:\n",
    "            f.write(dill.dumps(self.data))\n",
    "        return True\n",
    "\n",
    "    def load_object_imp(self, file):\n",
    "        with file.open('data.pkl') as f:\n",
    "            self.data = dill.loads(f.read())\n",
    "        return True"
   ]
  },
  {
   "cell_type": "code",
   "execution_count": 12,
   "id": "03ce95a4",
   "metadata": {
    "ExecuteTime": {
     "end_time": "2022-09-22T21:15:03.853761Z",
     "start_time": "2022-09-22T21:15:03.848646Z"
    }
   },
   "outputs": [],
   "source": [
    "# Create the object\n",
    "arr_obj = Array(array_shape=(8, 8))"
   ]
  },
  {
   "cell_type": "code",
   "execution_count": 13,
   "id": "7ac805e0",
   "metadata": {
    "ExecuteTime": {
     "end_time": "2022-09-22T21:15:04.494462Z",
     "start_time": "2022-09-22T21:15:04.488683Z"
    }
   },
   "outputs": [
    {
     "data": {
      "text/plain": [
       "(8, 8)"
      ]
     },
     "execution_count": 13,
     "metadata": {},
     "output_type": "execute_result"
    }
   ],
   "source": [
    "# The object contains a numpy array with the specified shape.\n",
    "arr_obj.data.shape"
   ]
  },
  {
   "cell_type": "markdown",
   "id": "62054e28",
   "metadata": {},
   "source": [
    "### Modifying object state\n",
    "\n",
    "We can now modify the state of this object, and save it to disk."
   ]
  },
  {
   "cell_type": "code",
   "execution_count": 14,
   "id": "b1c12cad",
   "metadata": {
    "ExecuteTime": {
     "end_time": "2022-09-22T21:15:05.857754Z",
     "start_time": "2022-09-22T21:15:05.852785Z"
    }
   },
   "outputs": [],
   "source": [
    "arr_obj.data[0,0] = 50"
   ]
  },
  {
   "cell_type": "code",
   "execution_count": 15,
   "id": "edd84295",
   "metadata": {
    "ExecuteTime": {
     "end_time": "2022-09-22T21:15:06.574100Z",
     "start_time": "2022-09-22T21:15:06.556781Z"
    }
   },
   "outputs": [
    {
     "data": {
      "text/plain": [
       "True"
      ]
     },
     "execution_count": 15,
     "metadata": {},
     "output_type": "execute_result"
    }
   ],
   "source": [
    "save_object(arr_obj, 'test_obj.dry')"
   ]
  },
  {
   "cell_type": "markdown",
   "id": "34856cff",
   "metadata": {},
   "source": [
    "Let's pretend we're trying to load this object from disk now, and check that the correct data gets loaded."
   ]
  },
  {
   "cell_type": "code",
   "execution_count": 16,
   "id": "90f6223f",
   "metadata": {
    "ExecuteTime": {
     "end_time": "2022-09-22T21:15:08.153556Z",
     "start_time": "2022-09-22T21:15:08.147245Z"
    }
   },
   "outputs": [],
   "source": [
    "arr_obj_loaded = load_object('test_obj.dry')"
   ]
  },
  {
   "cell_type": "code",
   "execution_count": 18,
   "id": "52c57782",
   "metadata": {
    "ExecuteTime": {
     "end_time": "2022-09-22T21:15:16.133538Z",
     "start_time": "2022-09-22T21:15:16.130261Z"
    }
   },
   "outputs": [],
   "source": [
    "assert np.all(arr_obj.data == arr_obj_loaded.data)"
   ]
  },
  {
   "cell_type": "markdown",
   "id": "b9175631",
   "metadata": {},
   "source": [
    "Great! Let's take a look at the object's definitions"
   ]
  },
  {
   "cell_type": "code",
   "execution_count": 19,
   "id": "c5b7c2a6",
   "metadata": {
    "ExecuteTime": {
     "end_time": "2022-09-22T21:15:19.498253Z",
     "start_time": "2022-09-22T21:15:19.492058Z"
    }
   },
   "outputs": [
    {
     "data": {
      "text/plain": [
       "{'cls': <class '__main__.Array'>, 'dry_mut': False, 'dry_args': (), 'dry_kwargs': {'array_shape': (8, 8), 'dry_id': 'b87ed684-45e1-4e1a-8e3a-724fcb57387d'}}"
      ]
     },
     "execution_count": 19,
     "metadata": {},
     "output_type": "execute_result"
    }
   ],
   "source": [
    "arr_obj.definition()"
   ]
  },
  {
   "cell_type": "code",
   "execution_count": 20,
   "id": "b46342eb",
   "metadata": {
    "ExecuteTime": {
     "end_time": "2022-09-22T21:15:20.491151Z",
     "start_time": "2022-09-22T21:15:20.484739Z"
    }
   },
   "outputs": [
    {
     "data": {
      "text/plain": [
       "{'cls': <class '__main__.Array'>, 'dry_mut': False, 'dry_args': (), 'dry_kwargs': {'array_shape': (8, 8), 'dry_id': 'b87ed684-45e1-4e1a-8e3a-724fcb57387d'}}"
      ]
     },
     "execution_count": 20,
     "metadata": {},
     "output_type": "execute_result"
    }
   ],
   "source": [
    "arr_obj_loaded.definition()"
   ]
  },
  {
   "cell_type": "markdown",
   "id": "cf8c0cb5",
   "metadata": {},
   "source": [
    "However, constructing these `Object`s from an `ObjectDef` won't recover the data we modified!"
   ]
  },
  {
   "cell_type": "code",
   "execution_count": 21,
   "id": "5df8c02d",
   "metadata": {
    "ExecuteTime": {
     "end_time": "2022-09-22T21:15:26.589593Z",
     "start_time": "2022-09-22T21:15:26.585998Z"
    }
   },
   "outputs": [],
   "source": [
    "new_arr_obj = arr_obj.definition().build()"
   ]
  },
  {
   "cell_type": "code",
   "execution_count": 22,
   "id": "dccc1156",
   "metadata": {
    "ExecuteTime": {
     "end_time": "2022-09-22T21:15:27.241672Z",
     "start_time": "2022-09-22T21:15:27.235552Z"
    }
   },
   "outputs": [
    {
     "name": "stdout",
     "output_type": "stream",
     "text": [
      "50.0\n",
      "0.0\n"
     ]
    }
   ],
   "source": [
    "print(arr_obj.data[0,0])\n",
    "print(new_arr_obj.data[0,0])"
   ]
  },
  {
   "cell_type": "markdown",
   "id": "9cc8518a",
   "metadata": {
    "ExecuteTime": {
     "end_time": "2022-09-22T19:01:45.858909Z",
     "start_time": "2022-09-22T19:01:45.855022Z"
    }
   },
   "source": [
    "## `Repo` - The `Object` store, `Selector` - The `Object` finder\n",
    "\n",
    "A major problem with ML workflows is the management of different versions of trained models. A common scene is a directory filled with sub-directories each cordoning off models of a certain variety. This leads often to either heavily nested directories, or directory names that are long and convoluted, specifying most properties of the network uniquely for the project a practictioner is working on. DRYML approaches this problem with the `Repo` object which stores either a reference to where the object is stored on disk (an `ObjectFile`) or `Object`s themselves within a python dictionary indexed by the `Object`s `dry_id`.\n",
    "\n",
    "By itself, `Repo` isn't super useful beyond managing where `Object`s eventually get written to disk. However DRYML defines another object `Selector`. `Selector` defines a callable object which can be passed an `Object`, `ObjectDef`, or `ObjectFile` and say whether it 'matches' the selector's criteria. `Selector` is similar to python's `slice` object which acts to grab a subset from an array or other collection object. With `Selector`, `Repo` transforms into an `Object` store from which we can grab specific `Object`s or classes of `Object`s.\n",
    "\n",
    "Let's see this in action. Let's say we want to store many different kinds of `Array` objects like we defined earlier. But for a given analysis later, we're only interested in `Array`s with a specific shape."
   ]
  },
  {
   "cell_type": "code",
   "execution_count": 23,
   "id": "c9df5682",
   "metadata": {
    "ExecuteTime": {
     "end_time": "2022-09-22T21:15:29.719601Z",
     "start_time": "2022-09-22T21:15:29.715318Z"
    }
   },
   "outputs": [],
   "source": [
    "# Create the repo\n",
    "repo = Repo()"
   ]
  },
  {
   "cell_type": "markdown",
   "id": "380a22ed",
   "metadata": {},
   "source": [
    "To add an object to the `Repo`, we use the `add_object` method."
   ]
  },
  {
   "cell_type": "code",
   "execution_count": 24,
   "id": "46562929",
   "metadata": {
    "ExecuteTime": {
     "end_time": "2022-09-22T21:15:31.062824Z",
     "start_time": "2022-09-22T21:15:31.043174Z"
    }
   },
   "outputs": [],
   "source": [
    "# Generate several arrays of different shapes and add them to the store.\n",
    "num_gen = 10\n",
    "size_progression = [8, 10, 20, 100]\n",
    "for s in size_progression:\n",
    "    array_shape = (s,s)\n",
    "    for i in range(num_gen):\n",
    "        obj = Array(array_shape=array_shape)\n",
    "        obj.data = np.random.random(array_shape)\n",
    "        repo.add_object(obj)"
   ]
  },
  {
   "cell_type": "markdown",
   "id": "906d6c04",
   "metadata": {},
   "source": [
    "We can see how many objects are currently stored by calling `len` on the `repo` object."
   ]
  },
  {
   "cell_type": "code",
   "execution_count": 25,
   "id": "1a06d8c8",
   "metadata": {
    "ExecuteTime": {
     "end_time": "2022-09-22T21:15:32.339313Z",
     "start_time": "2022-09-22T21:15:32.332387Z"
    }
   },
   "outputs": [
    {
     "data": {
      "text/plain": [
       "40"
      ]
     },
     "execution_count": 25,
     "metadata": {},
     "output_type": "execute_result"
    }
   ],
   "source": [
    "len(repo)"
   ]
  },
  {
   "cell_type": "markdown",
   "id": "dff34cb3",
   "metadata": {},
   "source": [
    "Imagine we were in a new notebook accessing these objects, There are tons of objects, so how do we quickly get the one's we're interested in? That's where the `Selector` comes in. Let's make a `Selector` to get arrays with shape `(20, 20)`, and use the `get` method of `Repo` to grab only those `Objects` matching the `Selector`."
   ]
  },
  {
   "cell_type": "code",
   "execution_count": 26,
   "id": "86e4bb7d",
   "metadata": {
    "ExecuteTime": {
     "end_time": "2022-09-22T21:15:34.104265Z",
     "start_time": "2022-09-22T21:15:34.099042Z"
    }
   },
   "outputs": [],
   "source": [
    "sel = Selector(cls=Array, kwargs={'array_shape': (20, 20)})"
   ]
  },
  {
   "cell_type": "code",
   "execution_count": 27,
   "id": "b9f1071a",
   "metadata": {
    "ExecuteTime": {
     "end_time": "2022-09-22T21:15:34.969023Z",
     "start_time": "2022-09-22T21:15:34.963953Z"
    }
   },
   "outputs": [],
   "source": [
    "selected_objs = repo.get(sel)"
   ]
  },
  {
   "cell_type": "code",
   "execution_count": 28,
   "id": "b83a0372",
   "metadata": {
    "ExecuteTime": {
     "end_time": "2022-09-22T21:15:36.764088Z",
     "start_time": "2022-09-22T21:15:36.755688Z"
    }
   },
   "outputs": [
    {
     "data": {
      "text/plain": [
       "[(20, 20),\n",
       " (20, 20),\n",
       " (20, 20),\n",
       " (20, 20),\n",
       " (20, 20),\n",
       " (20, 20),\n",
       " (20, 20),\n",
       " (20, 20),\n",
       " (20, 20),\n",
       " (20, 20)]"
      ]
     },
     "execution_count": 28,
     "metadata": {},
     "output_type": "execute_result"
    }
   ],
   "source": [
    "# We can check and see we only have objects with shape (20, 20)!\n",
    "list(map(lambda o: o.data.shape, selected_objs))"
   ]
  },
  {
   "cell_type": "markdown",
   "id": "5824576b",
   "metadata": {},
   "source": [
    "Great! So we can get specific `Objects` matching the selector! Notice however, that I didn't specify any `args` and, I also didn't specify `dry_id` in `kwargs`. This is because the `Selector` doesn't attempt to match keys which are missing from the `Selector`. This means, when we don't specify `dry_id`, it will return all `Objects` matching other parts of the `Selector`s requirements.\n",
    "\n",
    "Now, suppose we know the `dry_id` of the specific object we're interested in, we can create a `Selector` which will only match the object with that `dry_id`. We can also use the `get_obj_by_id` method of `repo` and supply the `dry_id` directly."
   ]
  },
  {
   "cell_type": "code",
   "execution_count": 29,
   "id": "d5fd916b",
   "metadata": {
    "ExecuteTime": {
     "end_time": "2022-09-22T21:15:38.361863Z",
     "start_time": "2022-09-22T21:15:38.353684Z"
    }
   },
   "outputs": [
    {
     "name": "stdout",
     "output_type": "stream",
     "text": [
      "140467178754640\n"
     ]
    },
    {
     "data": {
      "text/plain": [
       "'c15b7701-3346-4c20-b0f9-171e85decafc'"
      ]
     },
     "execution_count": 29,
     "metadata": {},
     "output_type": "execute_result"
    }
   ],
   "source": [
    "print(id(selected_objs[0]))\n",
    "id_of_interest = selected_objs[0].dry_id\n",
    "id_of_interest"
   ]
  },
  {
   "cell_type": "code",
   "execution_count": 30,
   "id": "8e70f811",
   "metadata": {
    "ExecuteTime": {
     "end_time": "2022-09-22T21:15:39.842447Z",
     "start_time": "2022-09-22T21:15:39.834108Z"
    }
   },
   "outputs": [
    {
     "data": {
      "text/plain": [
       "140467178754640"
      ]
     },
     "execution_count": 30,
     "metadata": {},
     "output_type": "execute_result"
    }
   ],
   "source": [
    "# We can create a selector which will only match against `dry_id`, we look at the python id of the object\n",
    "# to verify it's the same object.\n",
    "specific_selector = Selector(None, kwargs={'dry_id': id_of_interest})\n",
    "id(repo.get(specific_selector))"
   ]
  },
  {
   "cell_type": "code",
   "execution_count": 31,
   "id": "2b465b9d",
   "metadata": {
    "ExecuteTime": {
     "end_time": "2022-09-22T21:15:42.522337Z",
     "start_time": "2022-09-22T21:15:42.515737Z"
    }
   },
   "outputs": [
    {
     "data": {
      "text/plain": [
       "140467178754640"
      ]
     },
     "execution_count": 31,
     "metadata": {},
     "output_type": "execute_result"
    }
   ],
   "source": [
    "# We can also try to get it directly if we have an id,\n",
    "id(repo.get_obj_by_id(id_of_interest))"
   ]
  },
  {
   "cell_type": "markdown",
   "id": "b2294b1a",
   "metadata": {},
   "source": [
    "## Wrap-up\n",
    "\n",
    "The discussed functionalities of `Object`, `ObjectDef`, `Repo`, and `Selector` form the important core operating functionality of the DRYML library. All `Object`s track their constructor parameters (aka. hyperparameters) allowing reconstruction of the object without user intervention. `ObjectDef`s give the user a 'factory' system for creating new `Object`s matching a certain set of hyper parameters. `Repo`s and `Selectors` give the user the power to manage numerous `Object`s in a sane and coherent manner.\n",
    "\n",
    "Importantly, the functionality of `Object` and all of it's friends is independent of ML, and can be used in other contexts just as easily! Most components of DRYML are meant to be usable outside of the patterns described for common use in DRYML."
   ]
  },
  {
   "cell_type": "code",
   "execution_count": null,
   "id": "3dcb076d",
   "metadata": {},
   "outputs": [],
   "source": []
  }
 ],
 "metadata": {
  "kernelspec": {
   "display_name": "Python [conda env:venv_dryml_dev]",
   "language": "python",
   "name": "conda-env-venv_dryml_dev-py"
  },
  "language_info": {
   "codemirror_mode": {
    "name": "ipython",
    "version": 3
   },
   "file_extension": ".py",
   "mimetype": "text/x-python",
   "name": "python",
   "nbconvert_exporter": "python",
   "pygments_lexer": "ipython3",
   "version": "3.8.13"
  }
 },
 "nbformat": 4,
 "nbformat_minor": 5
}
