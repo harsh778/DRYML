{
 "cells": [
  {
   "cell_type": "code",
   "execution_count": 1,
   "id": "fd5a1faf-de3c-4e19-8e78-09007e241c43",
   "metadata": {
    "execution": {
     "iopub.execute_input": "2023-03-21T18:08:03.090082Z",
     "iopub.status.busy": "2023-03-21T18:08:03.089429Z",
     "iopub.status.idle": "2023-03-21T18:08:03.302642Z",
     "shell.execute_reply": "2023-03-21T18:08:03.301698Z",
     "shell.execute_reply.started": "2023-03-21T18:08:03.089946Z"
    },
    "tags": []
   },
   "outputs": [],
   "source": [
    "import dryml\n",
    "from dryml import ObjectDef\n",
    "import numpy as np"
   ]
  },
  {
   "cell_type": "markdown",
   "id": "ec2881c1-2d7c-4c74-a030-ffa1e7e22f32",
   "metadata": {},
   "source": [
    "# DRYML Tutorial 5 - Model Generation\n",
    "\n",
    "We have `Object`s, `ObjectDef`s, `Repo`s, `context`, and `Trainable`s. We've also seen some default implemented data transformations in `dryml.data.transforms`, and some metrics in `dryml.metrics`. Not all ML problems require huge models on the scale of GPT-3. Sometimes we have a smallish dataset and smallish models. In these cases it can be useful to check model statistics. For instance, how often does a model achieve a given accuracy? Is the model finicky and sometimes train well and other times terribly? We'll use DRYML's `ObjectDef` factories to define model classes and then generate new copies. We will then train and check the model accuracy and see how much that accuracy varies!\n",
    "\n",
    "## Experiment setup\n",
    "\n",
    "First, we need to set up some utility methods which we will use. `gen_dataset` is a nice function for creating the datasets we need. Then `train_model` and `test_model` are small functions encapsulating the training and testing step which is the same for all `Trainables`."
   ]
  },
  {
   "cell_type": "code",
   "execution_count": 2,
   "id": "f1a7b9a1-6e69-468e-88f5-a9dede053e24",
   "metadata": {
    "ExecuteTime": {
     "end_time": "2022-09-28T15:13:37.391357Z",
     "start_time": "2022-09-28T15:13:37.383778Z"
    },
    "execution": {
     "iopub.execute_input": "2023-03-21T18:08:04.329594Z",
     "iopub.status.busy": "2023-03-21T18:08:04.329144Z",
     "iopub.status.idle": "2023-03-21T18:08:04.336734Z",
     "shell.execute_reply": "2023-03-21T18:08:04.335925Z",
     "shell.execute_reply.started": "2023-03-21T18:08:04.329565Z"
    },
    "tags": []
   },
   "outputs": [
    {
     "name": "stdout",
     "output_type": "stream",
     "text": [
      "Overwriting temp_mod.py\n"
     ]
    }
   ],
   "source": [
    "%%writefile temp_mod.py\n",
    "# We use the %%writefile cell magic because dryml compute processes use `spawn` and will need to access the definition of\n",
    "# gen_dataset\n",
    "\n",
    "# Create function to generate the datasets for later use\n",
    "def gen_dataset():\n",
    "    # import some names\n",
    "    import dryml\n",
    "    import tensorflow_datasets as tfds\n",
    "    from dryml.data.tf import TFDataset\n",
    "\n",
    "    # Check that the context has tensorflow ability, but don't get specific.\n",
    "    dryml.context.context_check({'tf': {}})\n",
    "\n",
    "    (ds_train, ds_test), ds_info = tfds.load(\n",
    "        'mnist',\n",
    "        split=['train', 'test'],\n",
    "        shuffle_files=True,\n",
    "        as_supervised=True,\n",
    "        with_info=True)\n",
    "    \n",
    "    train_ds = TFDataset(\n",
    "        ds_train,\n",
    "        supervised=True,\n",
    "    )\n",
    "    \n",
    "    test_ds = TFDataset(\n",
    "        ds_test,\n",
    "        supervised=True,\n",
    "    )\n",
    "    \n",
    "    return train_ds, test_ds"
   ]
  },
  {
   "cell_type": "code",
   "execution_count": 3,
   "id": "aa8b2180-b2a4-454d-a8ca-faf288ff3ce1",
   "metadata": {
    "ExecuteTime": {
     "end_time": "2022-09-28T15:13:37.406198Z",
     "start_time": "2022-09-28T15:13:37.392998Z"
    },
    "execution": {
     "iopub.execute_input": "2023-03-21T18:08:04.899376Z",
     "iopub.status.busy": "2023-03-21T18:08:04.899130Z",
     "iopub.status.idle": "2023-03-21T18:08:04.904588Z",
     "shell.execute_reply": "2023-03-21T18:08:04.903695Z",
     "shell.execute_reply.started": "2023-03-21T18:08:04.899355Z"
    },
    "tags": []
   },
   "outputs": [],
   "source": [
    "# Create function to train a model.\n",
    "# We use ctx_update_objs=True to indicate any objects we give the method should be updated with their\n",
    "# state at the end of the method.\n",
    "@dryml.compute_context(ctx_update_objs=True)\n",
    "def train_model(model):\n",
    "    from temp_mod import gen_dataset\n",
    "    train_ds, _ = gen_dataset()\n",
    "\n",
    "    model.prep_train()\n",
    "    model.train(train_ds)\n",
    "\n",
    "\n",
    "# Create function to test model\n",
    "# Since this method doesn't change the models, we don't have to update them after calling it.\n",
    "@dryml.compute\n",
    "def test_model(model):\n",
    "    from dryml.metrics import categorical_accuracy\n",
    "    from temp_mod import gen_dataset\n",
    "    _, test_ds = gen_dataset()\n",
    "\n",
    "    model.prep_eval()\n",
    "    return categorical_accuracy(model, test_ds)"
   ]
  },
  {
   "cell_type": "markdown",
   "id": "87fe31f1-3dd2-4b25-a758-29ec9a08a836",
   "metadata": {},
   "source": [
    "## Create ML Models\n",
    "\n",
    "Now we'll create a few model classes using `ObjectDef`s. We'll then use `ObjectDef.build` to create instances of these models."
   ]
  },
  {
   "cell_type": "code",
   "execution_count": 4,
   "id": "055cfac8-5d57-47e1-9d9e-e5442fb634cc",
   "metadata": {
    "ExecuteTime": {
     "end_time": "2022-09-28T15:13:37.649601Z",
     "start_time": "2022-09-28T15:13:37.408080Z"
    },
    "execution": {
     "iopub.execute_input": "2023-03-21T18:08:05.613474Z",
     "iopub.status.busy": "2023-03-21T18:08:05.612840Z",
     "iopub.status.idle": "2023-03-21T18:08:05.918538Z",
     "shell.execute_reply": "2023-03-21T18:08:05.917908Z",
     "shell.execute_reply.started": "2023-03-21T18:08:05.613418Z"
    },
    "tags": []
   },
   "outputs": [],
   "source": [
    "import dryml.models\n",
    "import dryml.data\n",
    "import dryml.models.sklearn\n",
    "import sklearn.neighbors"
   ]
  },
  {
   "cell_type": "code",
   "execution_count": 5,
   "id": "14eeb04a-27f3-4cb7-904c-6f5f6cb89df2",
   "metadata": {
    "ExecuteTime": {
     "end_time": "2022-09-28T15:13:37.654888Z",
     "start_time": "2022-09-28T15:13:37.651633Z"
    },
    "execution": {
     "iopub.execute_input": "2023-03-21T18:08:06.029363Z",
     "iopub.status.busy": "2023-03-21T18:08:06.028992Z",
     "iopub.status.idle": "2023-03-21T18:08:06.034056Z",
     "shell.execute_reply": "2023-03-21T18:08:06.033153Z",
     "shell.execute_reply.started": "2023-03-21T18:08:06.029341Z"
    },
    "tags": []
   },
   "outputs": [],
   "source": [
    "# Let's define some common processing steps so we don't have to build full definitions for them every time.\n",
    "flatten_def = ObjectDef(dryml.data.transforms.Flatten)\n",
    "best_cat_def = ObjectDef(dryml.data.transforms.BestCat)"
   ]
  },
  {
   "cell_type": "code",
   "execution_count": 6,
   "id": "98480f8e-e270-453a-9ebe-80ade3d4a1f1",
   "metadata": {
    "ExecuteTime": {
     "end_time": "2022-09-28T15:13:37.670551Z",
     "start_time": "2022-09-28T15:13:37.656183Z"
    },
    "execution": {
     "iopub.execute_input": "2023-03-21T18:08:06.449297Z",
     "iopub.status.busy": "2023-03-21T18:08:06.448768Z",
     "iopub.status.idle": "2023-03-21T18:08:06.455748Z",
     "shell.execute_reply": "2023-03-21T18:08:06.454722Z",
     "shell.execute_reply.started": "2023-03-21T18:08:06.449263Z"
    },
    "tags": []
   },
   "outputs": [],
   "source": [
    "# First, we'll build an sklearn model.\n",
    "sklearn_mdl_def = ObjectDef(\n",
    "    dryml.models.Pipe,\n",
    "    flatten_def,\n",
    "    ObjectDef(\n",
    "        dryml.models.sklearn.Trainable,\n",
    "        model=ObjectDef(\n",
    "            dryml.models.sklearn.ClassifierModel,\n",
    "            sklearn.neighbors.KNeighborsClassifier,\n",
    "            n_neighbors=10,\n",
    "        ),\n",
    "        train_fn=ObjectDef(\n",
    "            dryml.models.sklearn.BasicTraining,\n",
    "            num_examples=500,\n",
    "            shuffle=True,\n",
    "            shuffle_buffer_size=5000,\n",
    "        )\n",
    "    ),\n",
    "    best_cat_def,\n",
    ")"
   ]
  },
  {
   "cell_type": "code",
   "execution_count": 7,
   "id": "343dffb4-51f5-446e-906d-e4ea7fbfe5f0",
   "metadata": {
    "ExecuteTime": {
     "end_time": "2022-09-28T15:13:46.291810Z",
     "start_time": "2022-09-28T15:13:37.671802Z"
    },
    "execution": {
     "iopub.execute_input": "2023-03-21T18:08:07.239848Z",
     "iopub.status.busy": "2023-03-21T18:08:07.239264Z",
     "iopub.status.idle": "2023-03-21T18:08:15.860914Z",
     "shell.execute_reply": "2023-03-21T18:08:15.859271Z",
     "shell.execute_reply.started": "2023-03-21T18:08:07.239793Z"
    },
    "tags": []
   },
   "outputs": [
    {
     "name": "stderr",
     "output_type": "stream",
     "text": [
      "2023-03-21 13:08:09.760413: W tensorflow/core/kernels/data/cache_dataset_ops.cc:768] The calling iterator did not fully read the dataset being cached. In order to avoid unexpected truncation of the dataset, the partially cached contents of the dataset  will be discarded. This can happen if you have an input pipeline similar to `dataset.cache().take(k).repeat()`. You should use `dataset.take(k).cache().repeat()` instead.\n"
     ]
    },
    {
     "data": {
      "text/plain": [
       "0.7913661858974359"
      ]
     },
     "execution_count": 7,
     "metadata": {},
     "output_type": "execute_result"
    }
   ],
   "source": [
    "# Now, we can generate, train and test a model.\n",
    "simple_tf_reqs = {'tf': {}}\n",
    "temp_model = sklearn_mdl_def.build()\n",
    "train_model(temp_model, call_context_reqs=simple_tf_reqs)\n",
    "test_model(temp_model, call_context_reqs=simple_tf_reqs)"
   ]
  },
  {
   "cell_type": "markdown",
   "id": "1823f5ff-0c76-43e7-b2e7-0ac557e207b6",
   "metadata": {},
   "source": [
    "## Repeated Model Generation\n",
    "\n",
    "Now, let's write a function which takes a definition, trains some number of models, tests them and returns the trained models as well as the mean accuracy and accuracy deviation."
   ]
  },
  {
   "cell_type": "code",
   "execution_count": 8,
   "id": "cfb21149-cc6b-4d91-a237-14340d4561aa",
   "metadata": {
    "ExecuteTime": {
     "end_time": "2022-09-28T15:13:46.304125Z",
     "start_time": "2022-09-28T15:13:46.295809Z"
    },
    "execution": {
     "iopub.execute_input": "2023-03-21T18:08:15.864376Z",
     "iopub.status.busy": "2023-03-21T18:08:15.863881Z",
     "iopub.status.idle": "2023-03-21T18:08:15.872252Z",
     "shell.execute_reply": "2023-03-21T18:08:15.871407Z",
     "shell.execute_reply.started": "2023-03-21T18:08:15.864319Z"
    },
    "tags": []
   },
   "outputs": [],
   "source": [
    "def train_multiple(model_def=None, num_to_train=None, ctx_reqs=None):\n",
    "    models = []\n",
    "    accuracies = []\n",
    "    for i in range(num_to_train):\n",
    "        new_model = model_def.build()\n",
    "        train_model(new_model, call_context_reqs=ctx_reqs)\n",
    "        acc = test_model(new_model, call_context_reqs=ctx_reqs)\n",
    "        accuracies.append(acc)\n",
    "        models.append(new_model)\n",
    "\n",
    "    return models, accuracies"
   ]
  },
  {
   "cell_type": "code",
   "execution_count": 9,
   "id": "d379a9e8-ac5a-4491-a7e9-1d0333908c67",
   "metadata": {
    "ExecuteTime": {
     "end_time": "2022-09-28T15:13:46.316625Z",
     "start_time": "2022-09-28T15:13:46.307607Z"
    },
    "execution": {
     "iopub.execute_input": "2023-03-21T18:08:15.874280Z",
     "iopub.status.busy": "2023-03-21T18:08:15.873579Z",
     "iopub.status.idle": "2023-03-21T18:08:15.887560Z",
     "shell.execute_reply": "2023-03-21T18:08:15.886755Z",
     "shell.execute_reply.started": "2023-03-21T18:08:15.874232Z"
    },
    "tags": []
   },
   "outputs": [],
   "source": [
    "num_to_train = 5"
   ]
  },
  {
   "cell_type": "code",
   "execution_count": 10,
   "id": "e0338093-a4d8-4452-a2cc-f924c3848626",
   "metadata": {
    "ExecuteTime": {
     "end_time": "2022-09-28T15:14:28.951657Z",
     "start_time": "2022-09-28T15:13:46.323632Z"
    },
    "execution": {
     "iopub.execute_input": "2023-03-21T18:08:15.890423Z",
     "iopub.status.busy": "2023-03-21T18:08:15.889965Z",
     "iopub.status.idle": "2023-03-21T18:08:58.751677Z",
     "shell.execute_reply": "2023-03-21T18:08:58.749910Z",
     "shell.execute_reply.started": "2023-03-21T18:08:15.890378Z"
    },
    "tags": []
   },
   "outputs": [
    {
     "name": "stderr",
     "output_type": "stream",
     "text": [
      "2023-03-21 13:08:18.403041: W tensorflow/core/kernels/data/cache_dataset_ops.cc:768] The calling iterator did not fully read the dataset being cached. In order to avoid unexpected truncation of the dataset, the partially cached contents of the dataset  will be discarded. This can happen if you have an input pipeline similar to `dataset.cache().take(k).repeat()`. You should use `dataset.take(k).cache().repeat()` instead.\n",
      "2023-03-21 13:08:27.055553: W tensorflow/core/kernels/data/cache_dataset_ops.cc:768] The calling iterator did not fully read the dataset being cached. In order to avoid unexpected truncation of the dataset, the partially cached contents of the dataset  will be discarded. This can happen if you have an input pipeline similar to `dataset.cache().take(k).repeat()`. You should use `dataset.take(k).cache().repeat()` instead.\n",
      "2023-03-21 13:08:35.592609: W tensorflow/core/kernels/data/cache_dataset_ops.cc:768] The calling iterator did not fully read the dataset being cached. In order to avoid unexpected truncation of the dataset, the partially cached contents of the dataset  will be discarded. This can happen if you have an input pipeline similar to `dataset.cache().take(k).repeat()`. You should use `dataset.take(k).cache().repeat()` instead.\n",
      "2023-03-21 13:08:44.187643: W tensorflow/core/kernels/data/cache_dataset_ops.cc:768] The calling iterator did not fully read the dataset being cached. In order to avoid unexpected truncation of the dataset, the partially cached contents of the dataset  will be discarded. This can happen if you have an input pipeline similar to `dataset.cache().take(k).repeat()`. You should use `dataset.take(k).cache().repeat()` instead.\n",
      "2023-03-21 13:08:52.855529: W tensorflow/core/kernels/data/cache_dataset_ops.cc:768] The calling iterator did not fully read the dataset being cached. In order to avoid unexpected truncation of the dataset, the partially cached contents of the dataset  will be discarded. This can happen if you have an input pipeline similar to `dataset.cache().take(k).repeat()`. You should use `dataset.take(k).cache().repeat()` instead.\n"
     ]
    }
   ],
   "source": [
    "sklearn_models, sklearn_accuracies = train_multiple(\n",
    "    model_def=sklearn_mdl_def,\n",
    "    num_to_train=num_to_train,\n",
    "    ctx_reqs={'tf': {}})"
   ]
  },
  {
   "cell_type": "code",
   "execution_count": 11,
   "id": "12697e7a-6c2e-4ea4-8403-fc76aed08e48",
   "metadata": {
    "ExecuteTime": {
     "end_time": "2022-09-28T15:14:28.959260Z",
     "start_time": "2022-09-28T15:14:28.954798Z"
    },
    "execution": {
     "iopub.execute_input": "2023-03-21T18:08:58.754621Z",
     "iopub.status.busy": "2023-03-21T18:08:58.754099Z",
     "iopub.status.idle": "2023-03-21T18:08:58.762223Z",
     "shell.execute_reply": "2023-03-21T18:08:58.761143Z",
     "shell.execute_reply.started": "2023-03-21T18:08:58.754565Z"
    },
    "tags": []
   },
   "outputs": [
    {
     "name": "stdout",
     "output_type": "stream",
     "text": [
      "sklearn accuracy: 0.8202524038461538+/-0.007999187119697661\n"
     ]
    }
   ],
   "source": [
    "# compute accuracy mean/stddev\n",
    "print(f\"sklearn accuracy: {np.mean(sklearn_accuracies)}+/-{np.std(sklearn_accuracies)}\")"
   ]
  },
  {
   "cell_type": "markdown",
   "id": "1b877636-b744-4366-b497-2f73ead806ca",
   "metadata": {},
   "source": [
    "### Training multiple tensorflow models"
   ]
  },
  {
   "cell_type": "code",
   "execution_count": 12,
   "id": "63dc350d-a8b7-4341-96a9-64150e978a9e",
   "metadata": {
    "ExecuteTime": {
     "end_time": "2022-09-28T15:14:30.285545Z",
     "start_time": "2022-09-28T15:14:28.962032Z"
    },
    "execution": {
     "iopub.execute_input": "2023-03-21T18:08:58.764586Z",
     "iopub.status.busy": "2023-03-21T18:08:58.763820Z",
     "iopub.status.idle": "2023-03-21T18:09:00.129181Z",
     "shell.execute_reply": "2023-03-21T18:09:00.128495Z",
     "shell.execute_reply.started": "2023-03-21T18:08:58.764537Z"
    },
    "tags": []
   },
   "outputs": [],
   "source": [
    "import tensorflow as tf\n",
    "import dryml.models.tf"
   ]
  },
  {
   "cell_type": "code",
   "execution_count": 13,
   "id": "3b09b714-1a01-4c30-9cab-1c0b1d6d2ca5",
   "metadata": {
    "ExecuteTime": {
     "end_time": "2022-09-28T15:14:30.292564Z",
     "start_time": "2022-09-28T15:14:30.287411Z"
    },
    "execution": {
     "iopub.execute_input": "2023-03-21T18:09:00.131020Z",
     "iopub.status.busy": "2023-03-21T18:09:00.130706Z",
     "iopub.status.idle": "2023-03-21T18:09:00.138060Z",
     "shell.execute_reply": "2023-03-21T18:09:00.137522Z",
     "shell.execute_reply.started": "2023-03-21T18:09:00.131001Z"
    },
    "tags": []
   },
   "outputs": [],
   "source": [
    "# Now the same thing but with tensorflow instead\n",
    "\n",
    "mdl_def = ObjectDef(\n",
    "    dryml.models.tf.keras.SequentialFunctionalModel,\n",
    "    input_shape=(28, 28, 1),\n",
    "    layer_defs=[\n",
    "        ['Conv2D', {'filters': 16, 'kernel_size': 3, 'activation': 'relu'}],\n",
    "        ['Conv2D', {'filters': 16, 'kernel_size': 3, 'activation': 'relu'}],\n",
    "        ['Flatten', {}],\n",
    "        ['Dense', {'units': 10, 'activation': 'linear'}],\n",
    "    ]\n",
    ")\n",
    "tf_mdl_def = ObjectDef(\n",
    "    dryml.models.Pipe,\n",
    "    ObjectDef(\n",
    "        dryml.models.tf.keras.Trainable,\n",
    "        model=mdl_def,\n",
    "        train_fn=ObjectDef(\n",
    "            dryml.models.tf.keras.BasicTraining,\n",
    "            epochs=2\n",
    "        ),\n",
    "        optimizer=ObjectDef(\n",
    "            dryml.models.tf.Wrapper,\n",
    "            tf.keras.optimizers.Adam,\n",
    "        ),\n",
    "        loss=ObjectDef(\n",
    "            dryml.models.tf.Wrapper,\n",
    "            tf.keras.losses.SparseCategoricalCrossentropy,\n",
    "            from_logits=True,\n",
    "        )\n",
    "    ),\n",
    "    ObjectDef(\n",
    "        dryml.data.transforms.BestCat\n",
    "    )\n",
    ")"
   ]
  },
  {
   "cell_type": "code",
   "execution_count": 14,
   "id": "5f9ea6fc-95d5-448f-bd2c-12eb8926dc80",
   "metadata": {
    "ExecuteTime": {
     "end_time": "2022-09-28T15:16:35.555982Z",
     "start_time": "2022-09-28T15:14:30.293847Z"
    },
    "execution": {
     "iopub.execute_input": "2023-03-21T18:09:00.138930Z",
     "iopub.status.busy": "2023-03-21T18:09:00.138753Z",
     "iopub.status.idle": "2023-03-21T18:11:15.821421Z",
     "shell.execute_reply": "2023-03-21T18:11:15.819857Z",
     "shell.execute_reply.started": "2023-03-21T18:09:00.138912Z"
    },
    "tags": []
   },
   "outputs": [
    {
     "name": "stderr",
     "output_type": "stream",
     "text": [
      "2023-03-21 13:09:02.387892: I tensorflow/core/common_runtime/gpu/gpu_device.cc:1525] Created device /job:localhost/replica:0/task:0/device:GPU:0 with 6451 MB memory:  -> device: 0, name: NVIDIA GeForce GTX 1080, pci bus id: 0000:02:00.0, compute capability: 6.1\n"
     ]
    },
    {
     "name": "stdout",
     "output_type": "stream",
     "text": [
      "Epoch 1/2\n"
     ]
    },
    {
     "name": "stderr",
     "output_type": "stream",
     "text": [
      "2023-03-21 13:09:09.302346: I tensorflow/stream_executor/cuda/cuda_dnn.cc:368] Loaded cuDNN version 8600\n"
     ]
    },
    {
     "name": "stdout",
     "output_type": "stream",
     "text": [
      "1500/1500 [==============================] - 6s 3ms/step - loss: 0.4123 - val_loss: 0.1084\n",
      "Epoch 2/2\n",
      "1500/1500 [==============================] - 5s 3ms/step - loss: 0.0622 - val_loss: 0.1137\n"
     ]
    },
    {
     "name": "stderr",
     "output_type": "stream",
     "text": [
      "2023-03-21 13:09:24.583323: I tensorflow/core/common_runtime/gpu/gpu_device.cc:1525] Created device /job:localhost/replica:0/task:0/device:GPU:0 with 6451 MB memory:  -> device: 0, name: NVIDIA GeForce GTX 1080, pci bus id: 0000:02:00.0, compute capability: 6.1\n",
      "2023-03-21 13:09:29.620173: I tensorflow/core/common_runtime/gpu/gpu_device.cc:1525] Created device /job:localhost/replica:0/task:0/device:GPU:0 with 6451 MB memory:  -> device: 0, name: NVIDIA GeForce GTX 1080, pci bus id: 0000:02:00.0, compute capability: 6.1\n"
     ]
    },
    {
     "name": "stdout",
     "output_type": "stream",
     "text": [
      "Epoch 1/2\n"
     ]
    },
    {
     "name": "stderr",
     "output_type": "stream",
     "text": [
      "2023-03-21 13:09:36.407716: I tensorflow/stream_executor/cuda/cuda_dnn.cc:368] Loaded cuDNN version 8600\n"
     ]
    },
    {
     "name": "stdout",
     "output_type": "stream",
     "text": [
      "1500/1500 [==============================] - 6s 3ms/step - loss: 0.3458 - val_loss: 0.1143\n",
      "Epoch 2/2\n",
      "1500/1500 [==============================] - 5s 3ms/step - loss: 0.0672 - val_loss: 0.0939\n"
     ]
    },
    {
     "name": "stderr",
     "output_type": "stream",
     "text": [
      "2023-03-21 13:09:51.283950: I tensorflow/core/common_runtime/gpu/gpu_device.cc:1525] Created device /job:localhost/replica:0/task:0/device:GPU:0 with 6451 MB memory:  -> device: 0, name: NVIDIA GeForce GTX 1080, pci bus id: 0000:02:00.0, compute capability: 6.1\n",
      "2023-03-21 13:09:56.394467: I tensorflow/core/common_runtime/gpu/gpu_device.cc:1525] Created device /job:localhost/replica:0/task:0/device:GPU:0 with 6449 MB memory:  -> device: 0, name: NVIDIA GeForce GTX 1080, pci bus id: 0000:02:00.0, compute capability: 6.1\n"
     ]
    },
    {
     "name": "stdout",
     "output_type": "stream",
     "text": [
      "Epoch 1/2\n"
     ]
    },
    {
     "name": "stderr",
     "output_type": "stream",
     "text": [
      "2023-03-21 13:10:03.271286: I tensorflow/stream_executor/cuda/cuda_dnn.cc:368] Loaded cuDNN version 8600\n"
     ]
    },
    {
     "name": "stdout",
     "output_type": "stream",
     "text": [
      "1500/1500 [==============================] - 6s 3ms/step - loss: 0.2889 - val_loss: 0.1462\n",
      "Epoch 2/2\n",
      "1500/1500 [==============================] - 5s 3ms/step - loss: 0.0691 - val_loss: 0.1265\n"
     ]
    },
    {
     "name": "stderr",
     "output_type": "stream",
     "text": [
      "2023-03-21 13:10:18.430828: I tensorflow/core/common_runtime/gpu/gpu_device.cc:1525] Created device /job:localhost/replica:0/task:0/device:GPU:0 with 6451 MB memory:  -> device: 0, name: NVIDIA GeForce GTX 1080, pci bus id: 0000:02:00.0, compute capability: 6.1\n",
      "2023-03-21 13:10:23.589308: I tensorflow/core/common_runtime/gpu/gpu_device.cc:1525] Created device /job:localhost/replica:0/task:0/device:GPU:0 with 6451 MB memory:  -> device: 0, name: NVIDIA GeForce GTX 1080, pci bus id: 0000:02:00.0, compute capability: 6.1\n"
     ]
    },
    {
     "name": "stdout",
     "output_type": "stream",
     "text": [
      "Epoch 1/2\n"
     ]
    },
    {
     "name": "stderr",
     "output_type": "stream",
     "text": [
      "2023-03-21 13:10:30.439488: I tensorflow/stream_executor/cuda/cuda_dnn.cc:368] Loaded cuDNN version 8600\n"
     ]
    },
    {
     "name": "stdout",
     "output_type": "stream",
     "text": [
      "1500/1500 [==============================] - 6s 3ms/step - loss: 0.3611 - val_loss: 0.1123\n",
      "Epoch 2/2\n",
      "1500/1500 [==============================] - 5s 4ms/step - loss: 0.0742 - val_loss: 0.1110\n"
     ]
    },
    {
     "name": "stderr",
     "output_type": "stream",
     "text": [
      "2023-03-21 13:10:46.005559: I tensorflow/core/common_runtime/gpu/gpu_device.cc:1525] Created device /job:localhost/replica:0/task:0/device:GPU:0 with 6451 MB memory:  -> device: 0, name: NVIDIA GeForce GTX 1080, pci bus id: 0000:02:00.0, compute capability: 6.1\n",
      "2023-03-21 13:10:51.010208: I tensorflow/core/common_runtime/gpu/gpu_device.cc:1525] Created device /job:localhost/replica:0/task:0/device:GPU:0 with 6451 MB memory:  -> device: 0, name: NVIDIA GeForce GTX 1080, pci bus id: 0000:02:00.0, compute capability: 6.1\n"
     ]
    },
    {
     "name": "stdout",
     "output_type": "stream",
     "text": [
      "Epoch 1/2\n"
     ]
    },
    {
     "name": "stderr",
     "output_type": "stream",
     "text": [
      "2023-03-21 13:10:58.014511: I tensorflow/stream_executor/cuda/cuda_dnn.cc:368] Loaded cuDNN version 8600\n"
     ]
    },
    {
     "name": "stdout",
     "output_type": "stream",
     "text": [
      "1500/1500 [==============================] - 6s 3ms/step - loss: 0.3159 - val_loss: 0.1109\n",
      "Epoch 2/2\n",
      "1500/1500 [==============================] - 5s 3ms/step - loss: 0.0632 - val_loss: 0.1017\n"
     ]
    },
    {
     "name": "stderr",
     "output_type": "stream",
     "text": [
      "2023-03-21 13:11:12.854189: I tensorflow/core/common_runtime/gpu/gpu_device.cc:1525] Created device /job:localhost/replica:0/task:0/device:GPU:0 with 6451 MB memory:  -> device: 0, name: NVIDIA GeForce GTX 1080, pci bus id: 0000:02:00.0, compute capability: 6.1\n"
     ]
    }
   ],
   "source": [
    "tf_models, tf_accuracies = train_multiple(\n",
    "    model_def=tf_mdl_def,\n",
    "    num_to_train=num_to_train,\n",
    "    ctx_reqs={'tf': {'gpu/0': 1.}}\n",
    ")"
   ]
  },
  {
   "cell_type": "code",
   "execution_count": 15,
   "id": "33983324-e5bd-4e43-ac12-f5a24f404b3d",
   "metadata": {
    "ExecuteTime": {
     "end_time": "2022-09-28T15:16:35.565959Z",
     "start_time": "2022-09-28T15:16:35.560017Z"
    },
    "execution": {
     "iopub.execute_input": "2023-03-21T18:13:05.164811Z",
     "iopub.status.busy": "2023-03-21T18:13:05.164204Z",
     "iopub.status.idle": "2023-03-21T18:13:05.172930Z",
     "shell.execute_reply": "2023-03-21T18:13:05.171685Z",
     "shell.execute_reply.started": "2023-03-21T18:13:05.164750Z"
    },
    "tags": []
   },
   "outputs": [
    {
     "name": "stdout",
     "output_type": "stream",
     "text": [
      "tf accuracy: 0.9712339743589744+/-0.0033444528000809116\n"
     ]
    }
   ],
   "source": [
    "# compute accuracy mean/stddev\n",
    "print(f\"tf accuracy: {np.mean(tf_accuracies)}+/-{np.std(tf_accuracies)}\")"
   ]
  },
  {
   "cell_type": "markdown",
   "id": "d702e753-2a88-4ac3-b6c7-55af80fd2ce8",
   "metadata": {},
   "source": [
    "### Training multiple tensorflow models\n",
    "\n",
    "And now, let's have a look at a similar pytorch model, We'll have to add another step to change the order of the indicies of the data since pytorch expects data in nchw format while tensorflow uses nhwc format. We'll also have to add a `TorchDevice` transformation to make sure the data is on the cpu."
   ]
  },
  {
   "cell_type": "code",
   "execution_count": 16,
   "id": "45004864-966f-411b-9d2d-cf33a646ab79",
   "metadata": {
    "ExecuteTime": {
     "end_time": "2022-09-28T15:16:36.098023Z",
     "start_time": "2022-09-28T15:16:35.568707Z"
    },
    "execution": {
     "iopub.execute_input": "2023-03-21T18:13:27.482378Z",
     "iopub.status.busy": "2023-03-21T18:13:27.481759Z",
     "iopub.status.idle": "2023-03-21T18:13:28.054171Z",
     "shell.execute_reply": "2023-03-21T18:13:28.053321Z",
     "shell.execute_reply.started": "2023-03-21T18:13:27.482323Z"
    },
    "tags": []
   },
   "outputs": [
    {
     "name": "stderr",
     "output_type": "stream",
     "text": [
      "/data0/matthew/Software/NCSA/DRYML/venv_dryml_dev/lib/python3.8/site-packages/tqdm/auto.py:22: TqdmWarning: IProgress not found. Please update jupyter and ipywidgets. See https://ipywidgets.readthedocs.io/en/stable/user_install.html\n",
      "  from .autonotebook import tqdm as notebook_tqdm\n"
     ]
    }
   ],
   "source": [
    "import dryml.models.torch\n",
    "import dryml.data.torch\n",
    "import torch"
   ]
  },
  {
   "cell_type": "code",
   "execution_count": 17,
   "id": "27a3313e-8f6f-4b0b-86b2-a2d6ee835647",
   "metadata": {
    "ExecuteTime": {
     "end_time": "2022-09-28T15:16:36.105738Z",
     "start_time": "2022-09-28T15:16:36.099446Z"
    },
    "execution": {
     "iopub.execute_input": "2023-03-21T18:13:34.501194Z",
     "iopub.status.busy": "2023-03-21T18:13:34.500884Z",
     "iopub.status.idle": "2023-03-21T18:13:34.510283Z",
     "shell.execute_reply": "2023-03-21T18:13:34.509036Z",
     "shell.execute_reply.started": "2023-03-21T18:13:34.501167Z"
    },
    "tags": []
   },
   "outputs": [],
   "source": [
    "mdl_def = ObjectDef(\n",
    "    dryml.models.torch.generic.Sequential,\n",
    "    layer_defs=[\n",
    "        [torch.nn.LazyConv2d, (16, 3), {}],\n",
    "        [torch.nn.ReLU, (), {}],\n",
    "        [torch.nn.LazyConv2d, (16, 3), {}],\n",
    "        [torch.nn.ReLU, (), {}],\n",
    "        [torch.nn.Flatten, (), {}],\n",
    "        [torch.nn.LazyLinear, (10,), {}],\n",
    "    ]\n",
    ")\n",
    "torch_mdl_def = ObjectDef(\n",
    "    dryml.models.Pipe,\n",
    "    ObjectDef(\n",
    "        dryml.data.transforms.Transpose,\n",
    "        axes=(2, 0, 1)\n",
    "    ),\n",
    "    ObjectDef(\n",
    "        dryml.data.transforms.Cast,\n",
    "        dtype='float32'\n",
    "    ),\n",
    "    ObjectDef(\n",
    "        dryml.models.torch.generic.Trainable,\n",
    "        model=mdl_def,\n",
    "        train_fn=ObjectDef(\n",
    "            dryml.models.torch.generic.BasicTraining,\n",
    "            optimizer=ObjectDef(\n",
    "                dryml.models.torch.generic.TorchOptimizer,\n",
    "                torch.optim.Adam,\n",
    "                mdl_def,\n",
    "            ),\n",
    "            loss=ObjectDef(\n",
    "                dryml.models.torch.base.Wrapper,\n",
    "                torch.nn.CrossEntropyLoss\n",
    "            )\n",
    "        )\n",
    "    ),\n",
    "    ObjectDef(\n",
    "        dryml.data.torch.transforms.TorchDevice,\n",
    "        device='cpu'\n",
    "    ),\n",
    "    ObjectDef(\n",
    "        dryml.data.transforms.BestCat\n",
    "    )\n",
    ")"
   ]
  },
  {
   "cell_type": "code",
   "execution_count": 18,
   "id": "fd5f57cb-b564-4052-b056-523c23bcef13",
   "metadata": {
    "ExecuteTime": {
     "end_time": "2022-09-28T15:19:52.461230Z",
     "start_time": "2022-09-28T15:16:36.107088Z"
    },
    "execution": {
     "iopub.execute_input": "2023-03-21T18:13:36.332610Z",
     "iopub.status.busy": "2023-03-21T18:13:36.331333Z",
     "iopub.status.idle": "2023-03-21T18:17:04.798328Z",
     "shell.execute_reply": "2023-03-21T18:17:04.796768Z",
     "shell.execute_reply.started": "2023-03-21T18:13:36.332548Z"
    },
    "tags": []
   },
   "outputs": [
    {
     "name": "stderr",
     "output_type": "stream",
     "text": [
      "/data0/matthew/Software/NCSA/DRYML/venv_dryml_dev/lib/python3.8/site-packages/torch/nn/modules/lazy.py:178: UserWarning: Lazy modules are a new feature under heavy development so changes to the API or functionality can happen at any moment.\n",
      "  warnings.warn('Lazy modules are a new feature under heavy development '\n",
      "100%|██████████| 1875/1875 [00:26<00:00, 71.56it/s, loss=0.00657] \n"
     ]
    },
    {
     "name": "stdout",
     "output_type": "stream",
     "text": [
      "Epoch 1 - Average Loss: 0.006567619765359753\n"
     ]
    },
    {
     "name": "stderr",
     "output_type": "stream",
     "text": [
      "/data0/matthew/Software/NCSA/DRYML/venv_dryml_dev/lib/python3.8/site-packages/torch/nn/modules/lazy.py:178: UserWarning: Lazy modules are a new feature under heavy development so changes to the API or functionality can happen at any moment.\n",
      "  warnings.warn('Lazy modules are a new feature under heavy development '\n",
      "/data0/matthew/Software/NCSA/DRYML/venv_dryml_dev/lib/python3.8/site-packages/torch/nn/modules/lazy.py:178: UserWarning: Lazy modules are a new feature under heavy development so changes to the API or functionality can happen at any moment.\n",
      "  warnings.warn('Lazy modules are a new feature under heavy development '\n",
      "100%|██████████| 1875/1875 [00:17<00:00, 107.94it/s, loss=0.00794]\n"
     ]
    },
    {
     "name": "stdout",
     "output_type": "stream",
     "text": [
      "Epoch 1 - Average Loss: 0.007935961455556875\n"
     ]
    },
    {
     "name": "stderr",
     "output_type": "stream",
     "text": [
      "/data0/matthew/Software/NCSA/DRYML/venv_dryml_dev/lib/python3.8/site-packages/torch/nn/modules/lazy.py:178: UserWarning: Lazy modules are a new feature under heavy development so changes to the API or functionality can happen at any moment.\n",
      "  warnings.warn('Lazy modules are a new feature under heavy development '\n",
      "/data0/matthew/Software/NCSA/DRYML/venv_dryml_dev/lib/python3.8/site-packages/torch/nn/modules/lazy.py:178: UserWarning: Lazy modules are a new feature under heavy development so changes to the API or functionality can happen at any moment.\n",
      "  warnings.warn('Lazy modules are a new feature under heavy development '\n",
      "100%|██████████| 1875/1875 [00:17<00:00, 108.28it/s, loss=0.00838]"
     ]
    },
    {
     "name": "stdout",
     "output_type": "stream",
     "text": [
      "Epoch 1 - Average Loss: 0.008377148411712066\n"
     ]
    },
    {
     "name": "stderr",
     "output_type": "stream",
     "text": [
      "\n",
      "/data0/matthew/Software/NCSA/DRYML/venv_dryml_dev/lib/python3.8/site-packages/torch/nn/modules/lazy.py:178: UserWarning: Lazy modules are a new feature under heavy development so changes to the API or functionality can happen at any moment.\n",
      "  warnings.warn('Lazy modules are a new feature under heavy development '\n",
      "/data0/matthew/Software/NCSA/DRYML/venv_dryml_dev/lib/python3.8/site-packages/torch/nn/modules/lazy.py:178: UserWarning: Lazy modules are a new feature under heavy development so changes to the API or functionality can happen at any moment.\n",
      "  warnings.warn('Lazy modules are a new feature under heavy development '\n",
      "100%|██████████| 1875/1875 [00:17<00:00, 108.61it/s, loss=0.00575]"
     ]
    },
    {
     "name": "stdout",
     "output_type": "stream",
     "text": [
      "Epoch 1 - Average Loss: 0.005752048491392634\n"
     ]
    },
    {
     "name": "stderr",
     "output_type": "stream",
     "text": [
      "\n",
      "/data0/matthew/Software/NCSA/DRYML/venv_dryml_dev/lib/python3.8/site-packages/torch/nn/modules/lazy.py:178: UserWarning: Lazy modules are a new feature under heavy development so changes to the API or functionality can happen at any moment.\n",
      "  warnings.warn('Lazy modules are a new feature under heavy development '\n",
      "/data0/matthew/Software/NCSA/DRYML/venv_dryml_dev/lib/python3.8/site-packages/torch/nn/modules/lazy.py:178: UserWarning: Lazy modules are a new feature under heavy development so changes to the API or functionality can happen at any moment.\n",
      "  warnings.warn('Lazy modules are a new feature under heavy development '\n",
      "100%|██████████| 1875/1875 [00:17<00:00, 107.04it/s, loss=0.00984]\n"
     ]
    },
    {
     "name": "stdout",
     "output_type": "stream",
     "text": [
      "Epoch 1 - Average Loss: 0.00984412503488517\n"
     ]
    },
    {
     "name": "stderr",
     "output_type": "stream",
     "text": [
      "/data0/matthew/Software/NCSA/DRYML/venv_dryml_dev/lib/python3.8/site-packages/torch/nn/modules/lazy.py:178: UserWarning: Lazy modules are a new feature under heavy development so changes to the API or functionality can happen at any moment.\n",
      "  warnings.warn('Lazy modules are a new feature under heavy development '\n"
     ]
    }
   ],
   "source": [
    "torch_models, torch_accuracies = train_multiple( model_def=torch_mdl_def,\n",
    "    num_to_train=num_to_train,\n",
    "    # We need to provide 'tf' with some resources because the input datasets are in tensorflow.                                                \n",
    "    ctx_reqs={'tf': {}, 'torch': {'gpu/0': 1.}}\n",
    ")"
   ]
  },
  {
   "cell_type": "code",
   "execution_count": 21,
   "id": "a741c26e-9462-44db-acab-2a5b868b3b80",
   "metadata": {
    "ExecuteTime": {
     "end_time": "2022-09-28T15:19:52.467139Z",
     "start_time": "2022-09-28T15:19:52.463190Z"
    },
    "execution": {
     "iopub.execute_input": "2023-03-21T18:17:08.616849Z",
     "iopub.status.busy": "2023-03-21T18:17:08.616249Z",
     "iopub.status.idle": "2023-03-21T18:17:08.623673Z",
     "shell.execute_reply": "2023-03-21T18:17:08.622909Z",
     "shell.execute_reply.started": "2023-03-21T18:17:08.616794Z"
    },
    "tags": []
   },
   "outputs": [
    {
     "name": "stdout",
     "output_type": "stream",
     "text": [
      "torch accuracy: 0.9667067307692309+/-0.006175462626772834\n"
     ]
    }
   ],
   "source": [
    "# compute accuracy mean/stddev\n",
    "print(f\"torch accuracy: {np.mean(torch_accuracies)}+/-{np.std(torch_accuracies)}\")"
   ]
  },
  {
   "cell_type": "markdown",
   "id": "21f5a637-b315-4454-889d-e3cb784b99ea",
   "metadata": {},
   "source": [
    "# Wrap-up\n",
    "\n",
    "We inspected used DRYML's `ObjectDef` to create model templates, then generated models and used `context` to train models in isolated sub-processes preventing GPUs from being locked up by one framework. Once trained, we could compute statistics about these models to learn a little bit more about how well they perform. A model's performance can be due to any of the components that make up the `Trainable` including the training function, and optimizer for example."
   ]
  },
  {
   "cell_type": "code",
   "execution_count": null,
   "id": "bd53c5f7-d12b-43a1-a68c-067ac1372ba1",
   "metadata": {},
   "outputs": [],
   "source": []
  }
 ],
 "metadata": {
  "kernelspec": {
   "display_name": "Python [conda env:venv_dryml_dev]",
   "language": "python",
   "name": "conda-env-venv_dryml_dev-py"
  },
  "language_info": {
   "codemirror_mode": {
    "name": "ipython",
    "version": 3
   },
   "file_extension": ".py",
   "mimetype": "text/x-python",
   "name": "python",
   "nbconvert_exporter": "python",
   "pygments_lexer": "ipython3",
   "version": "3.8.13"
  }
 },
 "nbformat": 4,
 "nbformat_minor": 5
}
