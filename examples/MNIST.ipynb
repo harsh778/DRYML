{
 "cells": [
  {
   "cell_type": "markdown",
   "id": "648cab59-a229-47ce-85ca-2a4463f8077e",
   "metadata": {},
   "source": [
    "# MNIST Digits Dataset\n",
    "\n",
    "In this example, we'll show several different models operating on the MNIST digits dataset. We use the customized `MNISTDigitsWorkshop`, `Workshop` type to define needed auxillary methods. Importantly the `data_prep` method which produces a `Dataset` with the train and test set we need."
   ]
  },
  {
   "cell_type": "code",
   "execution_count": 91,
   "id": "0e197cb5",
   "metadata": {
    "ExecuteTime": {
     "end_time": "2022-09-06T20:33:56.219518Z",
     "start_time": "2022-09-06T20:33:45.008980Z"
    },
    "execution": {
     "iopub.execute_input": "2022-11-21T22:43:28.687885Z",
     "iopub.status.busy": "2022-11-21T22:43:28.687656Z",
     "iopub.status.idle": "2022-11-21T22:43:28.692600Z",
     "shell.execute_reply": "2022-11-21T22:43:28.691911Z",
     "shell.execute_reply.started": "2022-11-21T22:43:28.687866Z"
    },
    "tags": []
   },
   "outputs": [],
   "source": [
    "import tensorflow as tf\n",
    "import torch\n",
    "import numpy as np\n",
    "\n",
    "import dryml\n",
    "import dryml.context\n",
    "import dryml.models.torch\n",
    "import dryml.models.tf\n",
    "import dryml.data.torch\n",
    "import dryml.examples.mnist_digits as dry_digits\n",
    "import sklearn.neighbors\n",
    "import dryml.models.sklearn\n",
    "import dryml.models.xgb"
   ]
  },
  {
   "cell_type": "markdown",
   "id": "c326819b",
   "metadata": {},
   "source": [
    "## Local analysis Prep\n",
    "\n",
    "We define a training method to allow remote process training."
   ]
  },
  {
   "cell_type": "code",
   "execution_count": 2,
   "id": "fabece2a-fb20-4fe2-a3cd-1851b5657500",
   "metadata": {
    "execution": {
     "iopub.execute_input": "2022-11-21T20:14:18.212815Z",
     "iopub.status.busy": "2022-11-21T20:14:18.212429Z",
     "iopub.status.idle": "2022-11-21T20:14:18.217278Z",
     "shell.execute_reply": "2022-11-21T20:14:18.216149Z",
     "shell.execute_reply.started": "2022-11-21T20:14:18.212791Z"
    },
    "tags": []
   },
   "outputs": [],
   "source": [
    "work_dir = './models'"
   ]
  },
  {
   "cell_type": "code",
   "execution_count": 3,
   "id": "87e0a8b7-21c2-4729-b1ed-0daabca7ac87",
   "metadata": {
    "execution": {
     "iopub.execute_input": "2022-11-21T20:14:19.532338Z",
     "iopub.status.busy": "2022-11-21T20:14:19.532043Z",
     "iopub.status.idle": "2022-11-21T20:14:19.536397Z",
     "shell.execute_reply": "2022-11-21T20:14:19.535783Z",
     "shell.execute_reply.started": "2022-11-21T20:14:19.532310Z"
    },
    "tags": []
   },
   "outputs": [],
   "source": [
    "@dryml.compute\n",
    "def test_method(trainable):\n",
    "    import dryml.examples.mnist_digits as dry_digits\n",
    "    import dryml.metrics\n",
    "    \n",
    "    repo = dry_digits.MNISTDigitsWorkshop()\n",
    "    repo.data_prep()\n",
    "    \n",
    "    return dryml.metrics.scalar.categorical_accuracy(trainable, repo.test_ds)"
   ]
  },
  {
   "cell_type": "code",
   "execution_count": 42,
   "id": "4c24be56-fc03-467e-9d48-4024586cebc3",
   "metadata": {
    "execution": {
     "iopub.execute_input": "2022-11-21T20:43:06.956890Z",
     "iopub.status.busy": "2022-11-21T20:43:06.956656Z",
     "iopub.status.idle": "2022-11-21T20:43:06.962767Z",
     "shell.execute_reply": "2022-11-21T20:43:06.962124Z",
     "shell.execute_reply.started": "2022-11-21T20:43:06.956870Z"
    },
    "tags": []
   },
   "outputs": [],
   "source": [
    "@dryml.context.compute_context(ctx_update_objs=True)\n",
    "def train_method(trainable):\n",
    "    import dryml.examples.mnist_digits as dry_digits\n",
    "    import dryml.metrics\n",
    "    repo = dry_digits.MNISTDigitsWorkshop()\n",
    "    repo.data_prep()\n",
    "\n",
    "    trainable.prep_train()\n",
    "    trainable.train(repo.train_ds)\n",
    "    \n",
    "    return dryml.metrics.scalar.categorical_accuracy(trainable, repo.test_ds)"
   ]
  },
  {
   "cell_type": "code",
   "execution_count": 5,
   "id": "fd2ca826",
   "metadata": {
    "ExecuteTime": {
     "end_time": "2022-09-06T20:34:04.416206Z",
     "start_time": "2022-09-06T20:34:03.432236Z"
    },
    "execution": {
     "iopub.execute_input": "2022-11-21T20:14:39.881833Z",
     "iopub.status.busy": "2022-11-21T20:14:39.880940Z",
     "iopub.status.idle": "2022-11-21T20:14:39.900203Z",
     "shell.execute_reply": "2022-11-21T20:14:39.899441Z",
     "shell.execute_reply.started": "2022-11-21T20:14:39.881772Z"
    },
    "tags": []
   },
   "outputs": [],
   "source": [
    "shop = dry_digits.MNISTDigitsWorkshop(work_dir='./models')"
   ]
  },
  {
   "cell_type": "code",
   "execution_count": 6,
   "id": "68656729-fa22-47a6-8cf5-031950e68d2d",
   "metadata": {
    "execution": {
     "iopub.execute_input": "2022-11-21T20:14:40.567185Z",
     "iopub.status.busy": "2022-11-21T20:14:40.566889Z",
     "iopub.status.idle": "2022-11-21T20:14:40.572874Z",
     "shell.execute_reply": "2022-11-21T20:14:40.571830Z",
     "shell.execute_reply.started": "2022-11-21T20:14:40.567165Z"
    },
    "tags": []
   },
   "outputs": [],
   "source": [
    "# Create a necessary preprocessing step for most models to be successful\n",
    "def normalize_img(x, y):\n",
    "    return tf.cast(x, dtype=tf.float32)/255., tf.cast(y, dtype=tf.int32)\n",
    "img_prep = dryml.data.tf.FuncMap.from_function(normalize_img)"
   ]
  },
  {
   "cell_type": "code",
   "execution_count": 7,
   "id": "d1965a0e-8eea-4620-b221-7cf42c0a7555",
   "metadata": {
    "execution": {
     "iopub.execute_input": "2022-11-21T20:14:41.183423Z",
     "iopub.status.busy": "2022-11-21T20:14:41.182961Z",
     "iopub.status.idle": "2022-11-21T20:14:41.187199Z",
     "shell.execute_reply": "2022-11-21T20:14:41.186350Z",
     "shell.execute_reply.started": "2022-11-21T20:14:41.183400Z"
    },
    "tags": []
   },
   "outputs": [],
   "source": [
    "# Let's make a dictionary to save the trained models so we can measure them later\n",
    "model_dict = {}"
   ]
  },
  {
   "cell_type": "markdown",
   "id": "359fd989",
   "metadata": {},
   "source": [
    "# pytorch\n",
    "\n",
    "First, we'll do a couple of pytorch models.\n",
    "\n",
    "## Simple 2d convolutional model\n",
    "\n",
    "First, we'll do a simple 2d convolutional model."
   ]
  },
  {
   "cell_type": "code",
   "execution_count": 8,
   "id": "74c7c33d",
   "metadata": {
    "ExecuteTime": {
     "end_time": "2022-09-06T20:34:04.578382Z",
     "start_time": "2022-09-06T20:34:04.575440Z"
    },
    "execution": {
     "iopub.execute_input": "2022-11-21T20:14:42.811970Z",
     "iopub.status.busy": "2022-11-21T20:14:42.811065Z",
     "iopub.status.idle": "2022-11-21T20:14:42.816652Z",
     "shell.execute_reply": "2022-11-21T20:14:42.815696Z",
     "shell.execute_reply.started": "2022-11-21T20:14:42.811920Z"
    },
    "tags": []
   },
   "outputs": [],
   "source": [
    "import torch\n",
    "import dryml.models.torch\n",
    "import dryml.data.torch\n",
    "import dryml.data.transforms"
   ]
  },
  {
   "cell_type": "code",
   "execution_count": 43,
   "id": "21af6120",
   "metadata": {
    "ExecuteTime": {
     "end_time": "2022-09-06T20:34:04.620194Z",
     "start_time": "2022-09-06T20:34:04.579624Z"
    },
    "execution": {
     "iopub.execute_input": "2022-11-21T20:43:14.163640Z",
     "iopub.status.busy": "2022-11-21T20:43:14.163082Z",
     "iopub.status.idle": "2022-11-21T20:43:14.173449Z",
     "shell.execute_reply": "2022-11-21T20:43:14.172929Z",
     "shell.execute_reply.started": "2022-11-21T20:43:14.163608Z"
    },
    "tags": []
   },
   "outputs": [],
   "source": [
    "model = dryml.models.torch.generic.Sequential(\n",
    "    layer_defs = [\n",
    "        [ torch.nn.LazyConv2d, (32, 3), {} ],\n",
    "        [ torch.nn.ReLU, (), {}],\n",
    "        [ torch.nn.LazyConv2d, (32, 3), {} ],\n",
    "        [ torch.nn.Flatten, (), {}],\n",
    "        [ torch.nn.LazyLinear, (10,), {}],\n",
    "    ]\n",
    ")\n",
    "\n",
    "trainable = dryml.models.torch.generic.Trainable(\n",
    "    model=model,\n",
    "    train_fn=dryml.models.torch.generic.BasicTraining(\n",
    "        epochs=3,\n",
    "        optimizer = dryml.models.torch.generic.TorchOptimizer(torch.optim.Adam, model),\n",
    "        loss = dryml.models.torch.Wrapper(torch.nn.CrossEntropyLoss),\n",
    "    ),\n",
    ")\n",
    "\n",
    "torch_model_1 = dryml.models.Pipe(\n",
    "    dryml.data.transforms.Cast(mode='X', dtype='float32'),\n",
    "    dryml.data.transforms.Transpose(mode='X', axes=(2, 0, 1)),\n",
    "    trainable,\n",
    "    dryml.data.transforms.BestCat(),\n",
    "    dryml.data.torch.transforms.TorchDevice(device='cpu')\n",
    ")"
   ]
  },
  {
   "cell_type": "code",
   "execution_count": 44,
   "id": "37dfc93e-dee0-4480-9373-e0dbcec5e217",
   "metadata": {
    "execution": {
     "iopub.execute_input": "2022-11-21T20:43:14.274856Z",
     "iopub.status.busy": "2022-11-21T20:43:14.274507Z",
     "iopub.status.idle": "2022-11-21T20:44:21.419575Z",
     "shell.execute_reply": "2022-11-21T20:44:21.418989Z",
     "shell.execute_reply.started": "2022-11-21T20:43:14.274836Z"
    },
    "tags": []
   },
   "outputs": [
    {
     "name": "stderr",
     "output_type": "stream",
     "text": [
      "/data0/matthew/Software/NCSA/DRYML/venv_dryml_dev/lib/python3.8/site-packages/torch/nn/modules/lazy.py:178: UserWarning: Lazy modules are a new feature under heavy development so changes to the API or functionality can happen at any moment.\n",
      "  warnings.warn('Lazy modules are a new feature under heavy development '\n",
      "100%|██████████| 1875/1875 [00:17<00:00, 107.56it/s, loss=0.0521]\n",
      "  1%|          | 10/1875 [00:00<00:19, 94.25it/s, loss=0.0162]"
     ]
    },
    {
     "name": "stdout",
     "output_type": "stream",
     "text": [
      "Epoch 1 - Average Loss: 0.05208663081971193\n"
     ]
    },
    {
     "name": "stderr",
     "output_type": "stream",
     "text": [
      "100%|██████████| 1875/1875 [00:15<00:00, 117.96it/s, loss=0.00733]\n",
      "  0%|          | 0/1875 [00:00<?, ?it/s, loss=0.0059] "
     ]
    },
    {
     "name": "stdout",
     "output_type": "stream",
     "text": [
      "Epoch 2 - Average Loss: 0.007329490900244894\n"
     ]
    },
    {
     "name": "stderr",
     "output_type": "stream",
     "text": [
      "100%|██████████| 1875/1875 [00:15<00:00, 117.32it/s, loss=0.00554]"
     ]
    },
    {
     "name": "stdout",
     "output_type": "stream",
     "text": [
      "Epoch 3 - Average Loss: 0.00554444462057637\n"
     ]
    },
    {
     "name": "stderr",
     "output_type": "stream",
     "text": [
      "\n"
     ]
    },
    {
     "data": {
      "text/plain": [
       "0.9701522435897436"
      ]
     },
     "execution_count": 44,
     "metadata": {},
     "output_type": "execute_result"
    }
   ],
   "source": [
    "train_method(torch_model_1, call_context_reqs={'tf': {}, 'torch': {'gpu/0': 1.}})"
   ]
  },
  {
   "cell_type": "code",
   "execution_count": 66,
   "id": "951d5927-d7f7-4a5a-aa0e-19e79b0bbce7",
   "metadata": {
    "execution": {
     "iopub.execute_input": "2022-11-21T22:05:53.035730Z",
     "iopub.status.busy": "2022-11-21T22:05:53.035262Z",
     "iopub.status.idle": "2022-11-21T22:05:53.038158Z",
     "shell.execute_reply": "2022-11-21T22:05:53.037697Z",
     "shell.execute_reply.started": "2022-11-21T22:05:53.035709Z"
    },
    "tags": []
   },
   "outputs": [],
   "source": [
    "model_dict['torch_simple_2layer_conv2d'] = {\n",
    "    'model': torch_model_1,\n",
    "    'label': 'Simple 2 layer convolutional (PyTorch)',\n",
    "}"
   ]
  },
  {
   "cell_type": "markdown",
   "id": "7af49c1a-46f4-4622-b296-2fe92ddd707c",
   "metadata": {},
   "source": [
    "## Pytorch Lenet5\n",
    "\n",
    "Let's create a lenet5 pytorch model, and use the `ModelWrapper` to use it directly with `dryml`."
   ]
  },
  {
   "cell_type": "code",
   "execution_count": 12,
   "id": "adc8c8f8-1306-456f-98a0-ed7f059f7ac5",
   "metadata": {
    "execution": {
     "iopub.execute_input": "2022-11-21T20:16:26.011868Z",
     "iopub.status.busy": "2022-11-21T20:16:26.011583Z",
     "iopub.status.idle": "2022-11-21T20:16:26.016107Z",
     "shell.execute_reply": "2022-11-21T20:16:26.015590Z",
     "shell.execute_reply.started": "2022-11-21T20:16:26.011848Z"
    },
    "tags": []
   },
   "outputs": [
    {
     "name": "stdout",
     "output_type": "stream",
     "text": [
      "Overwriting torchlenet5_temp.py\n"
     ]
    }
   ],
   "source": [
    "%%writefile torchlenet5_temp.py\n",
    "\n",
    "import torch\n",
    "\n",
    "# From medium post:\n",
    "# https://towardsdatascience.com/implementing-yann-lecuns-lenet-5-in-pytorch-5e05a0911320\n",
    "class TorchLenet5(torch.nn.Module):\n",
    "    def __init__(self, n_classes):\n",
    "        super().__init__()\n",
    "        \n",
    "        self.feature_extractor = torch.nn.Sequential(\n",
    "            torch.nn.Conv2d(in_channels=1, out_channels=6, kernel_size=5, stride=1),\n",
    "            torch.nn.Tanh(),\n",
    "            torch.nn.AvgPool2d(kernel_size=2),\n",
    "            torch.nn.Conv2d(in_channels=6, out_channels=16, kernel_size=5, stride=1),\n",
    "            torch.nn.Tanh(),\n",
    "            torch.nn.AvgPool2d(kernel_size=2),\n",
    "            torch.nn.Conv2d(in_channels=16, out_channels=120, kernel_size=5, stride=1),\n",
    "            torch.nn.Tanh(),\n",
    "        )\n",
    "        \n",
    "        self.classifier = torch.nn.Sequential(\n",
    "            torch.nn.Linear(in_features=120, out_features=84),\n",
    "            torch.nn.Tanh(),\n",
    "            torch.nn.Linear(in_features=84, out_features=n_classes),\n",
    "        )\n",
    "    \n",
    "    def forward(self, x):\n",
    "        x = self.feature_extractor(x)\n",
    "        x = torch.flatten(x, start_dim=1)\n",
    "        logits = self.classifier(x)\n",
    "        #probs = torch.nn.functional.softmax(x, dim=1)\n",
    "        return logits"
   ]
  },
  {
   "cell_type": "code",
   "execution_count": 13,
   "id": "e51ebdcc-81f8-4062-8370-7de2b79642d8",
   "metadata": {
    "execution": {
     "iopub.execute_input": "2022-11-21T20:16:27.332485Z",
     "iopub.status.busy": "2022-11-21T20:16:27.332055Z",
     "iopub.status.idle": "2022-11-21T20:16:27.377074Z",
     "shell.execute_reply": "2022-11-21T20:16:27.376185Z",
     "shell.execute_reply.started": "2022-11-21T20:16:27.332461Z"
    },
    "tags": []
   },
   "outputs": [],
   "source": [
    "from torchlenet5_temp import TorchLenet5"
   ]
  },
  {
   "cell_type": "code",
   "execution_count": 14,
   "id": "196fb27c-d2e7-4651-b8d5-e8d8cf223131",
   "metadata": {
    "execution": {
     "iopub.execute_input": "2022-11-21T20:16:28.854460Z",
     "iopub.status.busy": "2022-11-21T20:16:28.854158Z",
     "iopub.status.idle": "2022-11-21T20:16:28.860058Z",
     "shell.execute_reply": "2022-11-21T20:16:28.858713Z",
     "shell.execute_reply.started": "2022-11-21T20:16:28.854430Z"
    },
    "tags": []
   },
   "outputs": [],
   "source": [
    "# We also need to create a resize operation so the image is the appropriate\n",
    "# size when it arrives at the model.\n",
    "\n",
    "def resize_img(img):\n",
    "    return tf.image.resize(img, [32, 32], method='bilinear')\n",
    "resize_step = dryml.data.tf.transforms.FuncXMap.from_function(resize_img)"
   ]
  },
  {
   "cell_type": "code",
   "execution_count": 15,
   "id": "f5d68480-7c83-42e5-86c2-47cc06c7beec",
   "metadata": {
    "execution": {
     "iopub.execute_input": "2022-11-21T20:16:30.578952Z",
     "iopub.status.busy": "2022-11-21T20:16:30.578713Z",
     "iopub.status.idle": "2022-11-21T20:16:30.582638Z",
     "shell.execute_reply": "2022-11-21T20:16:30.582071Z",
     "shell.execute_reply.started": "2022-11-21T20:16:30.578933Z"
    },
    "tags": []
   },
   "outputs": [],
   "source": [
    "# Permute operation\n",
    "channels_first_step = dryml.data.transforms.Transpose(axes=(2, 0, 1))"
   ]
  },
  {
   "cell_type": "code",
   "execution_count": 46,
   "id": "978b2b95-df6c-462e-a3c6-f7771c2218a7",
   "metadata": {
    "execution": {
     "iopub.execute_input": "2022-11-21T20:44:21.424786Z",
     "iopub.status.busy": "2022-11-21T20:44:21.424597Z",
     "iopub.status.idle": "2022-11-21T20:44:21.441328Z",
     "shell.execute_reply": "2022-11-21T20:44:21.440752Z",
     "shell.execute_reply.started": "2022-11-21T20:44:21.424768Z"
    },
    "tags": []
   },
   "outputs": [],
   "source": [
    "# We can now build and train a pipeline containing this model!\n",
    "torch_lenet5_mdl = dryml.models.torch.generic.ModelWrapper(\n",
    "    TorchLenet5,\n",
    "    10\n",
    ")\n",
    "\n",
    "torch_lenet5_trainable = dryml.models.torch.generic.Trainable(\n",
    "    model=torch_lenet5_mdl,\n",
    "    train_fn=dryml.models.torch.generic.BasicTraining(\n",
    "        optimizer=dryml.models.torch.generic.TorchOptimizer(\n",
    "            torch.optim.Adam,\n",
    "            torch_lenet5_mdl\n",
    "        ),\n",
    "        loss=dryml.models.torch.Wrapper(\n",
    "            torch.nn.CrossEntropyLoss\n",
    "        ),\n",
    "        epochs=5\n",
    "    )\n",
    ")"
   ]
  },
  {
   "cell_type": "code",
   "execution_count": 47,
   "id": "07cab22a-a0d9-4a39-af04-a770fad68185",
   "metadata": {
    "execution": {
     "iopub.execute_input": "2022-11-21T20:44:21.442791Z",
     "iopub.status.busy": "2022-11-21T20:44:21.442610Z",
     "iopub.status.idle": "2022-11-21T20:44:21.448817Z",
     "shell.execute_reply": "2022-11-21T20:44:21.448235Z",
     "shell.execute_reply.started": "2022-11-21T20:44:21.442773Z"
    },
    "tags": []
   },
   "outputs": [],
   "source": [
    "# We need to change the device of the final result\n",
    "to_cpu = dryml.data.torch.transforms.TorchDevice(device='cpu')\n",
    "\n",
    "torch_lenet5_pipe = dryml.models.Pipe(\n",
    "    resize_step,\n",
    "    img_prep,\n",
    "    channels_first_step,\n",
    "    dryml.data.transforms.Cast(mode='Y', dtype='int64'),\n",
    "    torch_lenet5_trainable,\n",
    "    dryml.data.transforms.BestCat(),\n",
    "    to_cpu\n",
    ")"
   ]
  },
  {
   "cell_type": "code",
   "execution_count": 48,
   "id": "6c34b2ba-c1df-482b-9785-a9d6a00b46ce",
   "metadata": {
    "execution": {
     "iopub.execute_input": "2022-11-21T20:44:21.450639Z",
     "iopub.status.busy": "2022-11-21T20:44:21.450071Z",
     "iopub.status.idle": "2022-11-21T20:46:13.225413Z",
     "shell.execute_reply": "2022-11-21T20:46:13.224283Z",
     "shell.execute_reply.started": "2022-11-21T20:44:21.450607Z"
    },
    "tags": []
   },
   "outputs": [
    {
     "name": "stderr",
     "output_type": "stream",
     "text": [
      "100%|██████████| 1875/1875 [00:18<00:00, 98.95it/s, loss=0.00735] \n",
      "  0%|          | 7/1875 [00:00<00:26, 69.66it/s, loss=0.00259]"
     ]
    },
    {
     "name": "stdout",
     "output_type": "stream",
     "text": [
      "Epoch 1 - Average Loss: 0.007348409230766508\n"
     ]
    },
    {
     "name": "stderr",
     "output_type": "stream",
     "text": [
      "100%|██████████| 1875/1875 [00:18<00:00, 102.50it/s, loss=0.00272]\n",
      "  0%|          | 0/1875 [00:00<?, ?it/s, loss=0.00137] "
     ]
    },
    {
     "name": "stdout",
     "output_type": "stream",
     "text": [
      "Epoch 2 - Average Loss: 0.002719182376524744\n"
     ]
    },
    {
     "name": "stderr",
     "output_type": "stream",
     "text": [
      "100%|██████████| 1875/1875 [00:18<00:00, 103.21it/s, loss=0.00188]\n",
      "  0%|          | 0/1875 [00:00<?, ?it/s, loss=0.00123] "
     ]
    },
    {
     "name": "stdout",
     "output_type": "stream",
     "text": [
      "Epoch 3 - Average Loss: 0.0018814885082111383\n"
     ]
    },
    {
     "name": "stderr",
     "output_type": "stream",
     "text": [
      "100%|██████████| 1875/1875 [00:18<00:00, 102.04it/s, loss=0.00141]\n",
      "  0%|          | 7/1875 [00:00<00:27, 67.68it/s, loss=0.00106]"
     ]
    },
    {
     "name": "stdout",
     "output_type": "stream",
     "text": [
      "Epoch 4 - Average Loss: 0.0014061697780518444\n"
     ]
    },
    {
     "name": "stderr",
     "output_type": "stream",
     "text": [
      "100%|██████████| 1875/1875 [00:17<00:00, 106.54it/s, loss=0.0011] "
     ]
    },
    {
     "name": "stdout",
     "output_type": "stream",
     "text": [
      "Epoch 5 - Average Loss: 0.0010957789681652987\n"
     ]
    },
    {
     "name": "stderr",
     "output_type": "stream",
     "text": [
      "\n"
     ]
    },
    {
     "data": {
      "text/plain": [
       "0.9785657051282052"
      ]
     },
     "execution_count": 48,
     "metadata": {},
     "output_type": "execute_result"
    }
   ],
   "source": [
    "train_method(torch_lenet5_pipe, call_context_reqs={'tf': {}, 'torch': {'gpu/0': 1.}})"
   ]
  },
  {
   "cell_type": "code",
   "execution_count": 68,
   "id": "97792e6d-7870-48fa-8a61-3a3341708079",
   "metadata": {
    "execution": {
     "iopub.execute_input": "2022-11-21T22:08:36.541951Z",
     "iopub.status.busy": "2022-11-21T22:08:36.541436Z",
     "iopub.status.idle": "2022-11-21T22:08:36.546552Z",
     "shell.execute_reply": "2022-11-21T22:08:36.545562Z",
     "shell.execute_reply.started": "2022-11-21T22:08:36.541903Z"
    },
    "tags": []
   },
   "outputs": [],
   "source": [
    "model_dict['torch_lenet5'] = {\n",
    "    'model': torch_lenet5_pipe,\n",
    "    'label': 'Lenet-5 (PyTorch)',\n",
    "}"
   ]
  },
  {
   "cell_type": "markdown",
   "id": "33e79fad",
   "metadata": {},
   "source": [
    "## Sklearn Test\n",
    "\n",
    "Let's create a nearest neighbor version"
   ]
  },
  {
   "cell_type": "code",
   "execution_count": 20,
   "id": "45e6794b-7671-428d-b75e-aa0eab61cd09",
   "metadata": {
    "execution": {
     "iopub.execute_input": "2022-11-21T20:18:24.264654Z",
     "iopub.status.busy": "2022-11-21T20:18:24.263817Z",
     "iopub.status.idle": "2022-11-21T20:18:24.271289Z",
     "shell.execute_reply": "2022-11-21T20:18:24.270752Z",
     "shell.execute_reply.started": "2022-11-21T20:18:24.264578Z"
    },
    "tags": []
   },
   "outputs": [],
   "source": [
    "sklearn_knn_10_2000_bt = dryml.models.sklearn.Trainable(\n",
    "    model=dryml.models.sklearn.ClassifierModel(\n",
    "        sklearn.neighbors.KNeighborsClassifier,\n",
    "        n_neighbors=10,\n",
    "        algorithm='ball_tree'\n",
    "    ),\n",
    "    train_fn=dryml.models.sklearn.BasicTraining(\n",
    "        num_examples=2000, shuffle=True, shuffle_buffer_size=20000\n",
    "    ),\n",
    ")"
   ]
  },
  {
   "cell_type": "code",
   "execution_count": 50,
   "id": "ccbabf2f-dc23-4187-b938-a1df9837878b",
   "metadata": {
    "execution": {
     "iopub.execute_input": "2022-11-21T20:46:13.230854Z",
     "iopub.status.busy": "2022-11-21T20:46:13.230481Z",
     "iopub.status.idle": "2022-11-21T20:46:13.245559Z",
     "shell.execute_reply": "2022-11-21T20:46:13.244980Z",
     "shell.execute_reply.started": "2022-11-21T20:46:13.230835Z"
    },
    "tags": []
   },
   "outputs": [],
   "source": [
    "sklearn_pipe = dryml.models.Pipe(\n",
    "    img_prep,\n",
    "    dryml.data.transforms.Flatten(),\n",
    "    sklearn_knn_10_2000_bt,\n",
    "    dryml.data.transforms.BestCat(),\n",
    ")"
   ]
  },
  {
   "cell_type": "code",
   "execution_count": 51,
   "id": "403db2ca-192e-41eb-8600-bbd8bca4752c",
   "metadata": {
    "execution": {
     "iopub.execute_input": "2022-11-21T20:46:13.246562Z",
     "iopub.status.busy": "2022-11-21T20:46:13.246297Z",
     "iopub.status.idle": "2022-11-21T20:46:34.792014Z",
     "shell.execute_reply": "2022-11-21T20:46:34.791295Z",
     "shell.execute_reply.started": "2022-11-21T20:46:13.246540Z"
    },
    "tags": []
   },
   "outputs": [
    {
     "name": "stderr",
     "output_type": "stream",
     "text": [
      "2022-11-21 14:46:16.646859: W tensorflow/core/kernels/data/cache_dataset_ops.cc:768] The calling iterator did not fully read the dataset being cached. In order to avoid unexpected truncation of the dataset, the partially cached contents of the dataset  will be discarded. This can happen if you have an input pipeline similar to `dataset.cache().take(k).repeat()`. You should use `dataset.take(k).cache().repeat()` instead.\n"
     ]
    },
    {
     "data": {
      "text/plain": [
       "0.9019431089743589"
      ]
     },
     "execution_count": 51,
     "metadata": {},
     "output_type": "execute_result"
    }
   ],
   "source": [
    "train_method(sklearn_pipe, call_context_reqs={'tf': {}})"
   ]
  },
  {
   "cell_type": "code",
   "execution_count": 69,
   "id": "aa22551c-8aed-4265-830c-0451ee5b9923",
   "metadata": {
    "execution": {
     "iopub.execute_input": "2022-11-21T22:09:20.172294Z",
     "iopub.status.busy": "2022-11-21T22:09:20.171734Z",
     "iopub.status.idle": "2022-11-21T22:09:20.177447Z",
     "shell.execute_reply": "2022-11-21T22:09:20.176792Z",
     "shell.execute_reply.started": "2022-11-21T22:09:20.172245Z"
    },
    "tags": []
   },
   "outputs": [],
   "source": [
    "model_dict['sklearn_knn_10_2000'] = {\n",
    "    'model': sklearn_pipe,\n",
    "    'label': 'K-NN 10 Neighbors (2000 points)',\n",
    "}"
   ]
  },
  {
   "cell_type": "markdown",
   "id": "b20af1d9",
   "metadata": {},
   "source": [
    "## XGB Test"
   ]
  },
  {
   "cell_type": "code",
   "execution_count": 24,
   "id": "59558eb4-2fb6-4c18-8ec4-5a44030c6f12",
   "metadata": {
    "execution": {
     "iopub.execute_input": "2022-11-21T20:23:05.094043Z",
     "iopub.status.busy": "2022-11-21T20:23:05.093813Z",
     "iopub.status.idle": "2022-11-21T20:23:05.098631Z",
     "shell.execute_reply": "2022-11-21T20:23:05.098051Z",
     "shell.execute_reply.started": "2022-11-21T20:23:05.094024Z"
    },
    "tags": []
   },
   "outputs": [],
   "source": [
    "xgb_2000_mdl = dryml.models.sklearn.Trainable(\n",
    "    model=dryml.models.xgb.ClassifierModel(),\n",
    "    train_fn=dryml.models.sklearn.BasicTraining(\n",
    "        num_examples=2000, shuffle=True, shuffle_buffer_size=20000\n",
    "    ),\n",
    ")"
   ]
  },
  {
   "cell_type": "code",
   "execution_count": 25,
   "id": "4736739e",
   "metadata": {
    "ExecuteTime": {
     "end_time": "2022-08-12T18:19:34.966634Z",
     "start_time": "2022-08-12T18:19:34.957657Z"
    },
    "execution": {
     "iopub.execute_input": "2022-11-21T20:23:05.336875Z",
     "iopub.status.busy": "2022-11-21T20:23:05.336383Z",
     "iopub.status.idle": "2022-11-21T20:23:05.340139Z",
     "shell.execute_reply": "2022-11-21T20:23:05.339644Z",
     "shell.execute_reply.started": "2022-11-21T20:23:05.336845Z"
    },
    "tags": []
   },
   "outputs": [],
   "source": [
    "xgb_pipe = dryml.models.Pipe(\n",
    "    dryml.data.transforms.Flatten(),\n",
    "    xgb_2000_mdl,\n",
    "    dryml.data.transforms.BestCat())"
   ]
  },
  {
   "cell_type": "code",
   "execution_count": 53,
   "id": "38ebc4be",
   "metadata": {
    "ExecuteTime": {
     "end_time": "2022-08-12T18:23:31.614583Z",
     "start_time": "2022-08-12T18:19:37.681390Z"
    },
    "execution": {
     "iopub.execute_input": "2022-11-21T20:46:34.798729Z",
     "iopub.status.busy": "2022-11-21T20:46:34.798495Z",
     "iopub.status.idle": "2022-11-21T20:46:55.789557Z",
     "shell.execute_reply": "2022-11-21T20:46:55.788814Z",
     "shell.execute_reply.started": "2022-11-21T20:46:34.798709Z"
    },
    "tags": []
   },
   "outputs": [
    {
     "name": "stderr",
     "output_type": "stream",
     "text": [
      "2022-11-21 14:46:38.158913: W tensorflow/core/kernels/data/cache_dataset_ops.cc:768] The calling iterator did not fully read the dataset being cached. In order to avoid unexpected truncation of the dataset, the partially cached contents of the dataset  will be discarded. This can happen if you have an input pipeline similar to `dataset.cache().take(k).repeat()`. You should use `dataset.take(k).cache().repeat()` instead.\n"
     ]
    },
    {
     "name": "stdout",
     "output_type": "stream",
     "text": [
      "[14:46:38] WARNING: /home/conda/feedstock_root/build_artifacts/xgboost-split_1645117766796/work/src/learner.cc:1115: Starting in XGBoost 1.3.0, the default evaluation metric used with the objective 'multi:softprob' was changed from 'merror' to 'mlogloss'. Explicitly set eval_metric if you'd like to restore the old behavior.\n"
     ]
    },
    {
     "name": "stderr",
     "output_type": "stream",
     "text": [
      "/data0/matthew/Software/NCSA/DRYML/venv_dryml_dev/lib/python3.8/site-packages/xgboost/compat.py:36: FutureWarning: pandas.Int64Index is deprecated and will be removed from pandas in a future version. Use pandas.Index with the appropriate dtype instead.\n",
      "  from pandas import MultiIndex, Int64Index\n",
      "/data0/matthew/Software/NCSA/DRYML/venv_dryml_dev/lib/python3.8/site-packages/xgboost/sklearn.py:1224: UserWarning: The use of label encoder in XGBClassifier is deprecated and will be removed in a future release. To remove this warning, do the following: 1) Pass option use_label_encoder=False when constructing XGBClassifier object; and 2) Encode your labels (y) as integers starting with 0, i.e. 0, 1, 2, ..., [num_class - 1].\n",
      "  warnings.warn(label_encoder_deprecation_msg, UserWarning)\n"
     ]
    },
    {
     "data": {
      "text/plain": [
       "0.9122596153846154"
      ]
     },
     "execution_count": 53,
     "metadata": {},
     "output_type": "execute_result"
    }
   ],
   "source": [
    "train_method(xgb_pipe, call_context_reqs={'tf': {}})"
   ]
  },
  {
   "cell_type": "code",
   "execution_count": 70,
   "id": "ae314814",
   "metadata": {
    "execution": {
     "iopub.execute_input": "2022-11-21T22:09:51.203402Z",
     "iopub.status.busy": "2022-11-21T22:09:51.203172Z",
     "iopub.status.idle": "2022-11-21T22:09:51.206571Z",
     "shell.execute_reply": "2022-11-21T22:09:51.206077Z",
     "shell.execute_reply.started": "2022-11-21T22:09:51.203379Z"
    },
    "tags": []
   },
   "outputs": [],
   "source": [
    "model_dict['xgb'] = {\n",
    "    'model': xgb_pipe,\n",
    "    'label': 'XGB (2000 points)',\n",
    "}"
   ]
  },
  {
   "cell_type": "markdown",
   "id": "57eab020-9db6-4d4b-b907-ed6379243dc4",
   "metadata": {},
   "source": [
    "## Tensorflow convolutional transformer"
   ]
  },
  {
   "cell_type": "code",
   "execution_count": 98,
   "id": "92992bde-507d-48d9-bf45-c3a62d77706f",
   "metadata": {
    "execution": {
     "iopub.execute_input": "2022-11-21T22:50:04.029686Z",
     "iopub.status.busy": "2022-11-21T22:50:04.029451Z",
     "iopub.status.idle": "2022-11-21T22:50:04.035808Z",
     "shell.execute_reply": "2022-11-21T22:50:04.035077Z",
     "shell.execute_reply.started": "2022-11-21T22:50:04.029666Z"
    },
    "tags": []
   },
   "outputs": [
    {
     "name": "stdout",
     "output_type": "stream",
     "text": [
      "Overwriting conv_transformer_test.py\n"
     ]
    }
   ],
   "source": [
    "%%writefile conv_transformer_test.py\n",
    "\n",
    "import tensorflow as tf\n",
    "import numpy as np\n",
    "\n",
    "# Define the scaled dotproduct attention\n",
    "class ScaledDotProductAttention(tf.keras.layers.Layer):\n",
    "    def __init__(self, qk_dim=None, v_dim=None, **kwargs):\n",
    "        super().__init__(**kwargs)\n",
    "        if v_dim is None and qk_dim is not None:\n",
    "            v_dim = qk_dim\n",
    "        self.scale_factor = np.sqrt(qk_dim)\n",
    "        self.query_layer = tf.keras.layers.Dense(qk_dim)\n",
    "        self.key_layer = tf.keras.layers.Dense(qk_dim)\n",
    "        self.value_layer = tf.keras.layers.Dense(v_dim)\n",
    "    \n",
    "    def call(self, inputs):\n",
    "        q = self.query_layer(inputs)\n",
    "        k = self.key_layer(inputs)\n",
    "        v = self.value_layer(inputs)\n",
    "        sft_m = tf.math.softmax(tf.matmul(q, tf.transpose(k, perm=[0, 2, 1]))/self.scale_factor, axis=-1)\n",
    "        return tf.matmul(sft_m, v)\n",
    "\n",
    "# Multihead attention\n",
    "class MultiHeadScaledDotProductAttention(tf.keras.layers.Layer):\n",
    "    def __init__(self, n_heads, qk_dim, v_dim, **kwargs):\n",
    "        super().__init__(**kwargs)\n",
    "        head_dim = qk_dim // n_heads\n",
    "        self.n_heads = n_heads\n",
    "        self.heads = []\n",
    "        for i in range(self.n_heads):\n",
    "            self.heads.append(ScaledDotProductAttention(qk_dim=head_dim, v_dim=v_dim))\n",
    "    \n",
    "    def call(self, inputs):\n",
    "        head_results = []\n",
    "        for i in range(self.n_heads):\n",
    "            head_results.append(self.heads[i](inputs))\n",
    "        return tf.concat(head_results, axis=-1)\n",
    "\n",
    "class ConvTransformerTest(tf.keras.Model):\n",
    "    def __init__(self, conv2d_filters, **kwargs):\n",
    "        super().__init__(**kwargs)\n",
    "        self.conv2d_1 = tf.keras.layers.Conv2D(conv2d_filters, 3, activation='relu')\n",
    "        self.conv2d_2 = tf.keras.layers.Conv2D(conv2d_filters, 3, activation='relu')\n",
    "        self.at_layer = MultiHeadScaledDotProductAttention(4, conv2d_filters//4, conv2d_filters//4)\n",
    "        self.dense_1 = tf.keras.layers.Dense(conv2d_filters*4)\n",
    "        self.dense_2 = tf.keras.layers.Dense(conv2d_filters)\n",
    "        self.dense_final = tf.keras.layers.Dense(10, activation='softmax')\n",
    "    \n",
    "    def call(self, inputs):\n",
    "        x = self.conv2d_1(inputs)\n",
    "        x = self.conv2d_2(x)\n",
    "        x_shape = tf.shape(x)\n",
    "        x = tf.reshape(x, [x_shape[0], x_shape[1]*x_shape[2], x_shape[3]])\n",
    "        at_x = self.at_layer(x)\n",
    "        x = x+at_x\n",
    "        x = tf.keras.layers.Flatten()(x)\n",
    "        x = self.dense_1(x)\n",
    "        x = self.dense_2(x)\n",
    "        x = self.dense_final(x)\n",
    "        return x"
   ]
  },
  {
   "cell_type": "code",
   "execution_count": 99,
   "id": "d16c4e1b-5d06-4c0f-9586-a78c8d974aaf",
   "metadata": {
    "execution": {
     "iopub.execute_input": "2022-11-21T22:50:04.952947Z",
     "iopub.status.busy": "2022-11-21T22:50:04.952666Z",
     "iopub.status.idle": "2022-11-21T22:50:04.956610Z",
     "shell.execute_reply": "2022-11-21T22:50:04.955756Z",
     "shell.execute_reply.started": "2022-11-21T22:50:04.952927Z"
    },
    "tags": []
   },
   "outputs": [],
   "source": [
    "from conv_transformer_test import ConvTransformerTest"
   ]
  },
  {
   "cell_type": "code",
   "execution_count": 103,
   "id": "7075cbb9-a112-4cee-b5c0-24d9519f0d44",
   "metadata": {
    "execution": {
     "iopub.execute_input": "2022-11-21T22:50:23.236843Z",
     "iopub.status.busy": "2022-11-21T22:50:23.236492Z",
     "iopub.status.idle": "2022-11-21T22:50:23.244096Z",
     "shell.execute_reply": "2022-11-21T22:50:23.242769Z",
     "shell.execute_reply.started": "2022-11-21T22:50:23.236810Z"
    },
    "tags": []
   },
   "outputs": [],
   "source": [
    "tf_transformer_test_mdl = dryml.models.tf.keras.Trainable(\n",
    "    model=dryml.models.tf.keras.ModelWrapper(\n",
    "        ConvTransformerTest,\n",
    "        32\n",
    "    ),\n",
    "    optimizer=dryml.models.tf.Wrapper(\n",
    "        tf.keras.optimizers.Adam\n",
    "    ),\n",
    "    loss=dryml.models.tf.Wrapper(\n",
    "        tf.keras.losses.SparseCategoricalCrossentropy,\n",
    "        from_logits=True\n",
    "    ),\n",
    "    train_fn=dryml.models.tf.keras.BasicEarlyStoppingTraining(\n",
    "    )\n",
    ")"
   ]
  },
  {
   "cell_type": "code",
   "execution_count": 104,
   "id": "706ab4c5-c2f0-470d-924a-2b57d2fa10c0",
   "metadata": {
    "execution": {
     "iopub.execute_input": "2022-11-21T22:50:24.162427Z",
     "iopub.status.busy": "2022-11-21T22:50:24.162069Z",
     "iopub.status.idle": "2022-11-21T22:50:24.165571Z",
     "shell.execute_reply": "2022-11-21T22:50:24.165100Z",
     "shell.execute_reply.started": "2022-11-21T22:50:24.162407Z"
    },
    "tags": []
   },
   "outputs": [],
   "source": [
    "tf_transformer_test_pipe = dryml.models.Pipe(\n",
    "    img_prep,\n",
    "    tf_transformer_test_mdl,\n",
    "    dryml.data.transforms.BestCat()\n",
    ")"
   ]
  },
  {
   "cell_type": "code",
   "execution_count": null,
   "id": "427096c3-21a2-4ab4-a668-b878ebb9629c",
   "metadata": {
    "execution": {
     "iopub.execute_input": "2022-11-21T22:50:24.340612Z",
     "iopub.status.busy": "2022-11-21T22:50:24.340335Z"
    },
    "tags": []
   },
   "outputs": [
    {
     "name": "stderr",
     "output_type": "stream",
     "text": [
      "2022-11-21 16:50:26.505289: I tensorflow/core/common_runtime/gpu/gpu_device.cc:1525] Created device /job:localhost/replica:0/task:0/device:GPU:0 with 7368 MB memory:  -> device: 1, name: NVIDIA GeForce GTX 1080, pci bus id: 0000:03:00.0, compute capability: 6.1\n"
     ]
    },
    {
     "name": "stdout",
     "output_type": "stream",
     "text": [
      "Epoch 1/10000\n"
     ]
    },
    {
     "name": "stderr",
     "output_type": "stream",
     "text": [
      "2022-11-21 16:50:35.775042: I tensorflow/stream_executor/cuda/cuda_dnn.cc:368] Loaded cuDNN version 8500\n"
     ]
    },
    {
     "name": "stdout",
     "output_type": "stream",
     "text": [
      "1500/1500 [==============================] - 48s 30ms/step - loss: 0.1619 - val_loss: 0.0987\n",
      "Epoch 2/10000\n",
      "1500/1500 [==============================] - 44s 29ms/step - loss: 0.0612 - val_loss: 0.0712\n",
      "Epoch 3/10000\n",
      "1500/1500 [==============================] - 44s 29ms/step - loss: 0.0426 - val_loss: 0.0648\n",
      "Epoch 4/10000\n",
      "1500/1500 [==============================] - 44s 29ms/step - loss: 0.0346 - val_loss: 0.0850\n",
      "Epoch 5/10000\n",
      "1500/1500 [==============================] - 44s 29ms/step - loss: 0.0255 - val_loss: 0.0733\n",
      "Epoch 6/10000\n",
      " 757/1500 [==============>...............] - ETA: 19s - loss: 0.0145"
     ]
    }
   ],
   "source": [
    "train_method(tf_transformer_test_pipe, call_context_reqs={'tf':{'gpu/1': 1.}})"
   ]
  },
  {
   "cell_type": "code",
   "execution_count": null,
   "id": "36c8400f-5e38-4932-be0e-15045ba57d85",
   "metadata": {},
   "outputs": [],
   "source": [
    "model_dict['tf_transformer_test_1'] = {\n",
    "    'model': tf_transformer_test_pipe,\n",
    "    'label': 'Convolutional Transformer Test (Tensorflow)'\n",
    "}"
   ]
  },
  {
   "cell_type": "markdown",
   "id": "77d68ad4-d681-479c-88b6-2a29093e74b8",
   "metadata": {},
   "source": [
    "# Model Comparison\n",
    "\n",
    "Let's compare these models directly and create a plot!"
   ]
  },
  {
   "cell_type": "code",
   "execution_count": 28,
   "id": "fd0e84a4-38bb-497b-aff2-3d11c2ba0901",
   "metadata": {
    "execution": {
     "iopub.execute_input": "2022-11-21T20:23:23.517275Z",
     "iopub.status.busy": "2022-11-21T20:23:23.517099Z",
     "iopub.status.idle": "2022-11-21T20:23:26.187232Z",
     "shell.execute_reply": "2022-11-21T20:23:26.186513Z",
     "shell.execute_reply.started": "2022-11-21T20:23:23.517258Z"
    },
    "tags": []
   },
   "outputs": [],
   "source": [
    "import matplotlib.pyplot as plt"
   ]
  },
  {
   "cell_type": "code",
   "execution_count": null,
   "id": "4f377fcc-2f92-4183-95fd-f051d6cfb87b",
   "metadata": {
    "tags": []
   },
   "outputs": [],
   "source": [
    "# compute model accuracies\n",
    "model_accs = {}\n",
    "for mdl_name in model_dict:\n",
    "    model_dict[mdl_name]['acc'] = test_method(model_dict[mdl_name]['model'], call_context_reqs={'tf': {}, 'torch': {}})"
   ]
  },
  {
   "cell_type": "code",
   "execution_count": null,
   "id": "cffe629e-c0b3-42ad-8175-d64685a75844",
   "metadata": {
    "tags": []
   },
   "outputs": [],
   "source": [
    "# Compute error rate\n",
    "for mdl_name in model_dict:\n",
    "    model_dict[mdl_name]['err'] = (1.-model_dict[mdl_name]['acc'])*100."
   ]
  },
  {
   "cell_type": "code",
   "execution_count": null,
   "id": "836d1e9a-5294-45e9-8119-2ee6587a76bb",
   "metadata": {
    "tags": []
   },
   "outputs": [],
   "source": [
    "model_names = model_dict.keys()"
   ]
  },
  {
   "cell_type": "code",
   "execution_count": null,
   "id": "e06996b3-9668-4df8-9795-989877866018",
   "metadata": {
    "tags": []
   },
   "outputs": [],
   "source": [
    "# put the models with lowest error rates last.\n",
    "model_names = sorted(model_names, key=lambda v: model_dict[v]['err'])"
   ]
  },
  {
   "cell_type": "code",
   "execution_count": null,
   "id": "d91e00f8-fc5a-49d4-8c9d-ae3880706883",
   "metadata": {
    "tags": []
   },
   "outputs": [],
   "source": [
    "y_pos = np.arange(len(model_names))"
   ]
  },
  {
   "cell_type": "code",
   "execution_count": null,
   "id": "f2ca4edb-86a8-4c86-8133-37bff5b2701a",
   "metadata": {
    "tags": []
   },
   "outputs": [],
   "source": [
    "fig, ax = plt.subplots()\n",
    "\n",
    "errs = [model_dict[n]['err'] for n in model_names]\n",
    "labels = [model_dict[n]['label'] for n in model_names]\n",
    "\n",
    "ax.barh(y_pos, errs, align='center')\n",
    "ax.set_yticks(y_pos, labels=labels)\n",
    "\n",
    "plt.show()"
   ]
  },
  {
   "cell_type": "code",
   "execution_count": null,
   "id": "f4d8521a-1858-42ed-b7a0-8f805c38f60a",
   "metadata": {},
   "outputs": [],
   "source": []
  }
 ],
 "metadata": {
  "kernelspec": {
   "display_name": "Python [conda env:venv_dryml_dev]",
   "language": "python",
   "name": "conda-env-venv_dryml_dev-py"
  },
  "language_info": {
   "codemirror_mode": {
    "name": "ipython",
    "version": 3
   },
   "file_extension": ".py",
   "mimetype": "text/x-python",
   "name": "python",
   "nbconvert_exporter": "python",
   "pygments_lexer": "ipython3",
   "version": "3.8.13"
  }
 },
 "nbformat": 4,
 "nbformat_minor": 5
}
