{
 "cells": [
  {
   "cell_type": "markdown",
   "id": "648cab59-a229-47ce-85ca-2a4463f8077e",
   "metadata": {},
   "source": [
    "# MNIST Digits Dataset\n",
    "\n",
    "In this example, we'll show several different models operating on the MNIST digits dataset. We use the customized `MNISTDigitsWorkshop`, `Workshop` type to define needed auxillary methods. Importantly the `data_prep` method which produces a `Dataset` with the train and test set we need. Additionally, we'll look at the effect of normalizing the input has on the performance of the models."
   ]
  },
  {
   "cell_type": "code",
   "execution_count": 1,
   "id": "0e197cb5",
   "metadata": {
    "ExecuteTime": {
     "end_time": "2022-09-06T20:33:56.219518Z",
     "start_time": "2022-09-06T20:33:45.008980Z"
    },
    "execution": {
     "iopub.execute_input": "2022-12-09T23:40:39.464769Z",
     "iopub.status.busy": "2022-12-09T23:40:39.464264Z",
     "iopub.status.idle": "2022-12-09T23:40:42.568811Z",
     "shell.execute_reply": "2022-12-09T23:40:42.568276Z",
     "shell.execute_reply.started": "2022-12-09T23:40:39.464689Z"
    },
    "tags": []
   },
   "outputs": [
    {
     "name": "stderr",
     "output_type": "stream",
     "text": [
      "/data0/matthew/Software/NCSA/DRYML/venv_dryml_dev/lib/python3.8/site-packages/tqdm/auto.py:22: TqdmWarning: IProgress not found. Please update jupyter and ipywidgets. See https://ipywidgets.readthedocs.io/en/stable/user_install.html\n",
      "  from .autonotebook import tqdm as notebook_tqdm\n",
      "/data0/matthew/Software/NCSA/DRYML/venv_dryml_dev/lib/python3.8/site-packages/xgboost/compat.py:36: FutureWarning: pandas.Int64Index is deprecated and will be removed from pandas in a future version. Use pandas.Index with the appropriate dtype instead.\n",
      "  from pandas import MultiIndex, Int64Index\n"
     ]
    }
   ],
   "source": [
    "import tensorflow as tf\n",
    "import torch\n",
    "import numpy as np\n",
    "\n",
    "import dryml\n",
    "import dryml.context\n",
    "import dryml.models.torch\n",
    "import dryml.models.tf\n",
    "import dryml.data.torch\n",
    "import dryml.examples.mnist_digits as dry_digits\n",
    "import sklearn.neighbors\n",
    "import dryml.models.sklearn\n",
    "import dryml.models.xgb"
   ]
  },
  {
   "cell_type": "markdown",
   "id": "c326819b",
   "metadata": {},
   "source": [
    "## Local analysis Prep\n",
    "\n",
    "We define a training method to allow remote process training."
   ]
  },
  {
   "cell_type": "code",
   "execution_count": 2,
   "id": "fabece2a-fb20-4fe2-a3cd-1851b5657500",
   "metadata": {
    "execution": {
     "iopub.execute_input": "2022-12-09T23:40:42.570425Z",
     "iopub.status.busy": "2022-12-09T23:40:42.570098Z",
     "iopub.status.idle": "2022-12-09T23:40:42.574245Z",
     "shell.execute_reply": "2022-12-09T23:40:42.573587Z",
     "shell.execute_reply.started": "2022-12-09T23:40:42.570405Z"
    },
    "tags": []
   },
   "outputs": [],
   "source": [
    "work_dir = './models'"
   ]
  },
  {
   "cell_type": "code",
   "execution_count": 3,
   "id": "87e0a8b7-21c2-4729-b1ed-0daabca7ac87",
   "metadata": {
    "execution": {
     "iopub.execute_input": "2022-12-09T23:40:42.574985Z",
     "iopub.status.busy": "2022-12-09T23:40:42.574819Z",
     "iopub.status.idle": "2022-12-09T23:40:42.587426Z",
     "shell.execute_reply": "2022-12-09T23:40:42.586821Z",
     "shell.execute_reply.started": "2022-12-09T23:40:42.574968Z"
    },
    "tags": []
   },
   "outputs": [],
   "source": [
    "@dryml.compute\n",
    "def test_method(trainable):\n",
    "    import dryml.examples.mnist_digits as dry_digits\n",
    "    import dryml.metrics\n",
    "    \n",
    "    repo = dry_digits.MNISTDigitsWorkshop()\n",
    "    repo.data_prep()\n",
    "    \n",
    "    trainable.prep_eval()\n",
    "    return dryml.metrics.scalar.categorical_accuracy(trainable, repo.test_ds)"
   ]
  },
  {
   "cell_type": "code",
   "execution_count": 4,
   "id": "4c24be56-fc03-467e-9d48-4024586cebc3",
   "metadata": {
    "execution": {
     "iopub.execute_input": "2022-12-09T23:40:42.588377Z",
     "iopub.status.busy": "2022-12-09T23:40:42.588140Z",
     "iopub.status.idle": "2022-12-09T23:40:42.593916Z",
     "shell.execute_reply": "2022-12-09T23:40:42.593249Z",
     "shell.execute_reply.started": "2022-12-09T23:40:42.588357Z"
    },
    "tags": []
   },
   "outputs": [],
   "source": [
    "@dryml.context.compute_context(ctx_update_objs=True)\n",
    "def train_method(trainable):\n",
    "    import dryml.examples.mnist_digits as dry_digits\n",
    "    import dryml.metrics\n",
    "    repo = dry_digits.MNISTDigitsWorkshop()\n",
    "    repo.data_prep()\n",
    "\n",
    "    trainable.prep_train()\n",
    "    trainable.train(repo.train_ds)\n",
    "    \n",
    "    return dryml.metrics.scalar.categorical_accuracy(trainable, repo.test_ds)"
   ]
  },
  {
   "cell_type": "code",
   "execution_count": 5,
   "id": "fd2ca826",
   "metadata": {
    "ExecuteTime": {
     "end_time": "2022-09-06T20:34:04.416206Z",
     "start_time": "2022-09-06T20:34:03.432236Z"
    },
    "execution": {
     "iopub.execute_input": "2022-12-09T23:40:42.595005Z",
     "iopub.status.busy": "2022-12-09T23:40:42.594741Z",
     "iopub.status.idle": "2022-12-09T23:40:42.600065Z",
     "shell.execute_reply": "2022-12-09T23:40:42.599318Z",
     "shell.execute_reply.started": "2022-12-09T23:40:42.594977Z"
    },
    "tags": []
   },
   "outputs": [],
   "source": [
    "shop = dry_digits.MNISTDigitsWorkshop(work_dir='./models')"
   ]
  },
  {
   "cell_type": "code",
   "execution_count": 6,
   "id": "d1965a0e-8eea-4620-b221-7cf42c0a7555",
   "metadata": {
    "execution": {
     "iopub.execute_input": "2022-12-09T23:40:42.601278Z",
     "iopub.status.busy": "2022-12-09T23:40:42.601022Z",
     "iopub.status.idle": "2022-12-09T23:40:42.605796Z",
     "shell.execute_reply": "2022-12-09T23:40:42.605277Z",
     "shell.execute_reply.started": "2022-12-09T23:40:42.601257Z"
    },
    "tags": []
   },
   "outputs": [],
   "source": [
    "# Let's make a dictionary to save the trained models so we can measure them later\n",
    "model_dict = {}"
   ]
  },
  {
   "cell_type": "code",
   "execution_count": 7,
   "id": "445c3722-81e4-481b-a98c-5b9c0f022eb9",
   "metadata": {
    "execution": {
     "iopub.execute_input": "2022-12-09T23:40:42.607575Z",
     "iopub.status.busy": "2022-12-09T23:40:42.607349Z",
     "iopub.status.idle": "2022-12-09T23:40:42.612720Z",
     "shell.execute_reply": "2022-12-09T23:40:42.612161Z",
     "shell.execute_reply.started": "2022-12-09T23:40:42.607558Z"
    },
    "tags": []
   },
   "outputs": [],
   "source": [
    "gpu_req = {'num_gpus': 2}"
   ]
  },
  {
   "cell_type": "markdown",
   "id": "9d7122ac-daf1-41d2-ad78-2c1fd1bd2238",
   "metadata": {},
   "source": [
    "# Preprocessing step preparation \n",
    "\n",
    "Here we prepare several preprocessing steps we're going to reuse for our models."
   ]
  },
  {
   "cell_type": "code",
   "execution_count": 8,
   "id": "8589b3b8-0b2c-48b0-9dc7-29c22b154d69",
   "metadata": {
    "execution": {
     "iopub.execute_input": "2022-12-09T23:40:42.613462Z",
     "iopub.status.busy": "2022-12-09T23:40:42.613287Z",
     "iopub.status.idle": "2022-12-09T23:40:42.617927Z",
     "shell.execute_reply": "2022-12-09T23:40:42.617042Z",
     "shell.execute_reply.started": "2022-12-09T23:40:42.613445Z"
    },
    "tags": []
   },
   "outputs": [],
   "source": [
    "# Create a necessary preprocessing step for most models to be successful\n",
    "def normalize_img(x, y):\n",
    "    return tf.cast(x, dtype=tf.float32)/255., tf.cast(y, dtype=tf.int32)\n",
    "img_prep_step = dryml.data.tf.FuncMap.from_function(normalize_img)"
   ]
  },
  {
   "cell_type": "code",
   "execution_count": 9,
   "id": "bece6027-7ce6-49ee-90dd-ff99f03cae28",
   "metadata": {
    "execution": {
     "iopub.execute_input": "2022-12-09T23:40:42.621445Z",
     "iopub.status.busy": "2022-12-09T23:40:42.620931Z",
     "iopub.status.idle": "2022-12-09T23:40:42.625205Z",
     "shell.execute_reply": "2022-12-09T23:40:42.624772Z",
     "shell.execute_reply.started": "2022-12-09T23:40:42.621414Z"
    },
    "tags": []
   },
   "outputs": [],
   "source": [
    "# For the Lenet5 models, we need to create a resize step.\n",
    "def resize_img(x):\n",
    "    return tf.image.resize_with_pad(x, 32, 32, method='bilinear')\n",
    "resize_step = dryml.data.tf.FuncXMap.from_function(resize_img)"
   ]
  },
  {
   "cell_type": "code",
   "execution_count": 10,
   "id": "101d859a-b522-4e12-8b92-c1367a6c992c",
   "metadata": {
    "execution": {
     "iopub.execute_input": "2022-12-09T23:40:42.626274Z",
     "iopub.status.busy": "2022-12-09T23:40:42.625865Z",
     "iopub.status.idle": "2022-12-09T23:40:42.633958Z",
     "shell.execute_reply": "2022-12-09T23:40:42.633344Z",
     "shell.execute_reply.started": "2022-12-09T23:40:42.626255Z"
    },
    "tags": []
   },
   "outputs": [],
   "source": [
    "# Permute operation since the tf dataset is in channels last format, and we need channels first for pytorch models using convolutions.\n",
    "channels_first_step = dryml.data.transforms.Transpose(axes=(2, 0, 1))"
   ]
  },
  {
   "cell_type": "code",
   "execution_count": 11,
   "id": "1c4ae670-ec7b-41e1-b4f7-8d59c2b31aac",
   "metadata": {
    "execution": {
     "iopub.execute_input": "2022-12-09T23:40:42.635045Z",
     "iopub.status.busy": "2022-12-09T23:40:42.634798Z",
     "iopub.status.idle": "2022-12-09T23:40:42.641273Z",
     "shell.execute_reply": "2022-12-09T23:40:42.640766Z",
     "shell.execute_reply.started": "2022-12-09T23:40:42.635020Z"
    },
    "tags": []
   },
   "outputs": [],
   "source": [
    "# A flatten operation we need for the sklearn based models\n",
    "flatten_step = dryml.data.transforms.Flatten()"
   ]
  },
  {
   "cell_type": "code",
   "execution_count": 12,
   "id": "7d13c9f7-9d77-4601-883a-24edc3d6aa2a",
   "metadata": {
    "execution": {
     "iopub.execute_input": "2022-12-09T23:40:42.642165Z",
     "iopub.status.busy": "2022-12-09T23:40:42.641976Z",
     "iopub.status.idle": "2022-12-09T23:40:42.647234Z",
     "shell.execute_reply": "2022-12-09T23:40:42.646797Z",
     "shell.execute_reply.started": "2022-12-09T23:40:42.642146Z"
    },
    "tags": []
   },
   "outputs": [],
   "source": [
    "# A best cat operation we need for all of our models.\n",
    "best_cat_step = dryml.data.transforms.BestCat()"
   ]
  },
  {
   "cell_type": "code",
   "execution_count": 13,
   "id": "414c8d2c-2b3a-402c-a3f5-a40b607f70c7",
   "metadata": {
    "execution": {
     "iopub.execute_input": "2022-12-09T23:40:42.647985Z",
     "iopub.status.busy": "2022-12-09T23:40:42.647815Z",
     "iopub.status.idle": "2022-12-09T23:40:42.653309Z",
     "shell.execute_reply": "2022-12-09T23:40:42.652787Z",
     "shell.execute_reply.started": "2022-12-09T23:40:42.647968Z"
    },
    "tags": []
   },
   "outputs": [],
   "source": [
    "# A needed step for pytorch\n",
    "to_cpu_step = dryml.data.torch.transforms.TorchDevice(device='cpu')"
   ]
  },
  {
   "cell_type": "code",
   "execution_count": 14,
   "id": "8e579fa3-e9ae-47ce-bc8f-28d268dd1331",
   "metadata": {
    "execution": {
     "iopub.execute_input": "2022-12-09T23:40:42.654146Z",
     "iopub.status.busy": "2022-12-09T23:40:42.653963Z",
     "iopub.status.idle": "2022-12-09T23:40:42.659488Z",
     "shell.execute_reply": "2022-12-09T23:40:42.658859Z",
     "shell.execute_reply.started": "2022-12-09T23:40:42.654128Z"
    },
    "tags": []
   },
   "outputs": [],
   "source": [
    "# We need to cast the target to an int64 for pytorch models trained with CrossEntropyLoss\n",
    "torch_target_cast_step = dryml.data.transforms.Cast(mode='Y', dtype='int64')"
   ]
  },
  {
   "cell_type": "code",
   "execution_count": 15,
   "id": "5ca17329-b8cb-4bfb-852d-d11120c83209",
   "metadata": {
    "execution": {
     "iopub.execute_input": "2022-12-09T23:40:42.660607Z",
     "iopub.status.busy": "2022-12-09T23:40:42.660328Z",
     "iopub.status.idle": "2022-12-09T23:40:42.665475Z",
     "shell.execute_reply": "2022-12-09T23:40:42.664934Z",
     "shell.execute_reply.started": "2022-12-09T23:40:42.660579Z"
    },
    "tags": []
   },
   "outputs": [],
   "source": [
    "# We need to cast the target to an int64 for pytorch models trained with CrossEntropyLoss\n",
    "torch_x_cast_step = dryml.data.transforms.Cast(mode='X', dtype='float32')"
   ]
  },
  {
   "cell_type": "markdown",
   "id": "ff043d96-4a57-4cc5-87c7-f25c69c6e817",
   "metadata": {},
   "source": [
    "## Sklearn Test\n",
    "\n",
    "Let's create a nearest neighbor version"
   ]
  },
  {
   "cell_type": "code",
   "execution_count": 16,
   "id": "0b4648d7-e8b5-4e4f-9b8e-3d652cc8b661",
   "metadata": {
    "execution": {
     "iopub.execute_input": "2022-12-09T23:26:17.765599Z",
     "iopub.status.busy": "2022-12-09T23:26:17.765244Z",
     "iopub.status.idle": "2022-12-09T23:26:17.770041Z",
     "shell.execute_reply": "2022-12-09T23:26:17.769568Z",
     "shell.execute_reply.started": "2022-12-09T23:26:17.765578Z"
    },
    "tags": []
   },
   "outputs": [],
   "source": [
    "sklearn_knn_10_bt_def = dryml.ObjectDef(\n",
    "    dryml.models.sklearn.ClassifierModel,\n",
    "    sklearn.neighbors.KNeighborsClassifier,\n",
    "    n_neighbors=10,\n",
    "    algorithm='ball_tree'\n",
    ")\n",
    "\n",
    "sklearn_knn_10_2000_bt_def = dryml.ObjectDef(\n",
    "    dryml.models.sklearn.Trainable,\n",
    "    model=sklearn_knn_10_bt_def,\n",
    "    train_fn=dryml.models.sklearn.BasicTraining(\n",
    "        num_examples=2000, shuffle=True, shuffle_buffer_size=20000\n",
    "    ),\n",
    ")"
   ]
  },
  {
   "cell_type": "code",
   "execution_count": 17,
   "id": "e1b72909-370a-4468-9fed-2c8532dc35f4",
   "metadata": {
    "execution": {
     "iopub.execute_input": "2022-12-09T23:26:17.770928Z",
     "iopub.status.busy": "2022-12-09T23:26:17.770728Z",
     "iopub.status.idle": "2022-12-09T23:26:17.778489Z",
     "shell.execute_reply": "2022-12-09T23:26:17.778010Z",
     "shell.execute_reply.started": "2022-12-09T23:26:17.770909Z"
    },
    "tags": []
   },
   "outputs": [],
   "source": [
    "sklearn_pipe = dryml.models.Pipe(\n",
    "    img_prep_step,\n",
    "    flatten_step,\n",
    "    sklearn_knn_10_2000_bt_def.build(),\n",
    "    best_cat_step,\n",
    ")"
   ]
  },
  {
   "cell_type": "code",
   "execution_count": 18,
   "id": "539e786c-1e4d-4514-9f2a-f1faf898e568",
   "metadata": {
    "execution": {
     "iopub.execute_input": "2022-12-09T23:26:17.779313Z",
     "iopub.status.busy": "2022-12-09T23:26:17.779080Z",
     "iopub.status.idle": "2022-12-09T23:26:38.540333Z",
     "shell.execute_reply": "2022-12-09T23:26:38.539672Z",
     "shell.execute_reply.started": "2022-12-09T23:26:17.779287Z"
    },
    "tags": []
   },
   "outputs": [
    {
     "name": "stderr",
     "output_type": "stream",
     "text": [
      "2022-12-09 17:26:21.128365: W tensorflow/core/kernels/data/cache_dataset_ops.cc:768] The calling iterator did not fully read the dataset being cached. In order to avoid unexpected truncation of the dataset, the partially cached contents of the dataset  will be discarded. This can happen if you have an input pipeline similar to `dataset.cache().take(k).repeat()`. You should use `dataset.take(k).cache().repeat()` instead.\n"
     ]
    },
    {
     "data": {
      "text/plain": [
       "0.9002403846153846"
      ]
     },
     "execution_count": 18,
     "metadata": {},
     "output_type": "execute_result"
    }
   ],
   "source": [
    "train_method(sklearn_pipe, call_context_reqs={'tf': {}})"
   ]
  },
  {
   "cell_type": "code",
   "execution_count": 19,
   "id": "aea56391-e637-47af-823c-f785b0df8796",
   "metadata": {
    "execution": {
     "iopub.execute_input": "2022-12-09T23:26:38.541540Z",
     "iopub.status.busy": "2022-12-09T23:26:38.541292Z",
     "iopub.status.idle": "2022-12-09T23:26:38.544427Z",
     "shell.execute_reply": "2022-12-09T23:26:38.543974Z",
     "shell.execute_reply.started": "2022-12-09T23:26:38.541517Z"
    },
    "tags": []
   },
   "outputs": [],
   "source": [
    "model_dict['sklearn_knn_10_2000_with_norm'] = {\n",
    "    'model': sklearn_pipe,\n",
    "    'label': 'K-NN 10 Neighbors (2000 points) (With Norm)',\n",
    "}"
   ]
  },
  {
   "cell_type": "code",
   "execution_count": 20,
   "id": "f2ca69b1-5dfd-458f-a164-2a33e6c5b630",
   "metadata": {
    "execution": {
     "iopub.execute_input": "2022-12-09T23:26:38.545237Z",
     "iopub.status.busy": "2022-12-09T23:26:38.545062Z",
     "iopub.status.idle": "2022-12-09T23:26:38.637304Z",
     "shell.execute_reply": "2022-12-09T23:26:38.636769Z",
     "shell.execute_reply.started": "2022-12-09T23:26:38.545219Z"
    },
    "tags": []
   },
   "outputs": [],
   "source": [
    "sklearn_pipe = dryml.models.Pipe(\n",
    "    flatten_step,\n",
    "    sklearn_knn_10_2000_bt_def.build(),\n",
    "    best_cat_step,\n",
    ")"
   ]
  },
  {
   "cell_type": "code",
   "execution_count": 21,
   "id": "c56d216c-8b3c-4703-97d1-1b096d510249",
   "metadata": {
    "execution": {
     "iopub.execute_input": "2022-12-09T23:26:38.638237Z",
     "iopub.status.busy": "2022-12-09T23:26:38.638007Z",
     "iopub.status.idle": "2022-12-09T23:26:58.952545Z",
     "shell.execute_reply": "2022-12-09T23:26:58.951709Z",
     "shell.execute_reply.started": "2022-12-09T23:26:38.638217Z"
    },
    "tags": []
   },
   "outputs": [
    {
     "name": "stderr",
     "output_type": "stream",
     "text": [
      "2022-12-09 17:26:41.747449: W tensorflow/core/kernels/data/cache_dataset_ops.cc:768] The calling iterator did not fully read the dataset being cached. In order to avoid unexpected truncation of the dataset, the partially cached contents of the dataset  will be discarded. This can happen if you have an input pipeline similar to `dataset.cache().take(k).repeat()`. You should use `dataset.take(k).cache().repeat()` instead.\n"
     ]
    },
    {
     "data": {
      "text/plain": [
       "0.8989383012820513"
      ]
     },
     "execution_count": 21,
     "metadata": {},
     "output_type": "execute_result"
    }
   ],
   "source": [
    "train_method(sklearn_pipe, call_context_reqs={'tf': {}})"
   ]
  },
  {
   "cell_type": "code",
   "execution_count": 22,
   "id": "0099fcaa-9dc5-44d7-ba2d-6ad7dbcf4541",
   "metadata": {
    "execution": {
     "iopub.execute_input": "2022-12-09T23:26:58.953545Z",
     "iopub.status.busy": "2022-12-09T23:26:58.953351Z",
     "iopub.status.idle": "2022-12-09T23:26:58.956853Z",
     "shell.execute_reply": "2022-12-09T23:26:58.956381Z",
     "shell.execute_reply.started": "2022-12-09T23:26:58.953523Z"
    },
    "tags": []
   },
   "outputs": [],
   "source": [
    "model_dict['sklearn_knn_10_2000_no_norm'] = {\n",
    "    'model': sklearn_pipe,\n",
    "    'label': 'K-NN 10 Neighbors (2000 points) (No Norm)',\n",
    "}"
   ]
  },
  {
   "cell_type": "markdown",
   "id": "2bdc6b6f-cc02-4060-9004-a81ae2e50805",
   "metadata": {},
   "source": [
    "## XGB Test"
   ]
  },
  {
   "cell_type": "code",
   "execution_count": 23,
   "id": "0dd0fe2e-cab0-4ad0-b72f-8a179b110884",
   "metadata": {
    "execution": {
     "iopub.execute_input": "2022-12-09T23:26:58.957638Z",
     "iopub.status.busy": "2022-12-09T23:26:58.957456Z",
     "iopub.status.idle": "2022-12-09T23:26:58.970534Z",
     "shell.execute_reply": "2022-12-09T23:26:58.970003Z",
     "shell.execute_reply.started": "2022-12-09T23:26:58.957620Z"
    },
    "tags": []
   },
   "outputs": [],
   "source": [
    "xgb_2000_def = dryml.ObjectDef(\n",
    "    dryml.models.xgb.ClassifierModel\n",
    ")"
   ]
  },
  {
   "cell_type": "code",
   "execution_count": 24,
   "id": "8835140d-9ff9-47bc-b5a1-a5ea6d10d1e9",
   "metadata": {
    "execution": {
     "iopub.execute_input": "2022-12-09T23:26:58.971412Z",
     "iopub.status.busy": "2022-12-09T23:26:58.971234Z",
     "iopub.status.idle": "2022-12-09T23:26:58.976082Z",
     "shell.execute_reply": "2022-12-09T23:26:58.975529Z",
     "shell.execute_reply.started": "2022-12-09T23:26:58.971393Z"
    },
    "tags": []
   },
   "outputs": [],
   "source": [
    "xgb_2000_mdl_def = dryml.ObjectDef(\n",
    "    dryml.models.sklearn.Trainable,\n",
    "    model=dryml.models.xgb.ClassifierModel(),\n",
    "    train_fn=dryml.models.sklearn.BasicTraining(\n",
    "        num_examples=2000, shuffle=True, shuffle_buffer_size=20000\n",
    "    ),\n",
    ")"
   ]
  },
  {
   "cell_type": "code",
   "execution_count": 25,
   "id": "0b2d29c2-2a0a-417f-a4e9-e028924f232f",
   "metadata": {
    "ExecuteTime": {
     "end_time": "2022-08-12T18:19:34.966634Z",
     "start_time": "2022-08-12T18:19:34.957657Z"
    },
    "execution": {
     "iopub.execute_input": "2022-12-09T23:26:58.976924Z",
     "iopub.status.busy": "2022-12-09T23:26:58.976723Z",
     "iopub.status.idle": "2022-12-09T23:26:58.981492Z",
     "shell.execute_reply": "2022-12-09T23:26:58.980888Z",
     "shell.execute_reply.started": "2022-12-09T23:26:58.976906Z"
    },
    "tags": []
   },
   "outputs": [],
   "source": [
    "xgb_pipe = dryml.models.Pipe(\n",
    "    flatten_step,\n",
    "    xgb_2000_mdl_def.build(),\n",
    "    best_cat_step)"
   ]
  },
  {
   "cell_type": "code",
   "execution_count": 26,
   "id": "e0b660ea-7cec-47a5-86b3-739af5657e63",
   "metadata": {
    "ExecuteTime": {
     "end_time": "2022-08-12T18:23:31.614583Z",
     "start_time": "2022-08-12T18:19:37.681390Z"
    },
    "execution": {
     "iopub.execute_input": "2022-12-09T23:26:58.982501Z",
     "iopub.status.busy": "2022-12-09T23:26:58.982333Z",
     "iopub.status.idle": "2022-12-09T23:27:14.754972Z",
     "shell.execute_reply": "2022-12-09T23:27:14.754412Z",
     "shell.execute_reply.started": "2022-12-09T23:26:58.982484Z"
    },
    "tags": []
   },
   "outputs": [
    {
     "name": "stderr",
     "output_type": "stream",
     "text": [
      "2022-12-09 17:27:02.163678: W tensorflow/core/kernels/data/cache_dataset_ops.cc:768] The calling iterator did not fully read the dataset being cached. In order to avoid unexpected truncation of the dataset, the partially cached contents of the dataset  will be discarded. This can happen if you have an input pipeline similar to `dataset.cache().take(k).repeat()`. You should use `dataset.take(k).cache().repeat()` instead.\n"
     ]
    },
    {
     "name": "stdout",
     "output_type": "stream",
     "text": [
      "[17:27:02] WARNING: /home/conda/feedstock_root/build_artifacts/xgboost-split_1645117766796/work/src/learner.cc:1115: Starting in XGBoost 1.3.0, the default evaluation metric used with the objective 'multi:softprob' was changed from 'merror' to 'mlogloss'. Explicitly set eval_metric if you'd like to restore the old behavior.\n"
     ]
    },
    {
     "name": "stderr",
     "output_type": "stream",
     "text": [
      "/data0/matthew/Software/NCSA/DRYML/venv_dryml_dev/lib/python3.8/site-packages/xgboost/compat.py:36: FutureWarning: pandas.Int64Index is deprecated and will be removed from pandas in a future version. Use pandas.Index with the appropriate dtype instead.\n",
      "  from pandas import MultiIndex, Int64Index\n",
      "/data0/matthew/Software/NCSA/DRYML/venv_dryml_dev/lib/python3.8/site-packages/xgboost/sklearn.py:1224: UserWarning: The use of label encoder in XGBClassifier is deprecated and will be removed in a future release. To remove this warning, do the following: 1) Pass option use_label_encoder=False when constructing XGBClassifier object; and 2) Encode your labels (y) as integers starting with 0, i.e. 0, 1, 2, ..., [num_class - 1].\n",
      "  warnings.warn(label_encoder_deprecation_msg, UserWarning)\n"
     ]
    },
    {
     "data": {
      "text/plain": [
       "0.9079527243589743"
      ]
     },
     "execution_count": 26,
     "metadata": {},
     "output_type": "execute_result"
    }
   ],
   "source": [
    "train_method(xgb_pipe, call_context_reqs={'tf': {}})"
   ]
  },
  {
   "cell_type": "code",
   "execution_count": 27,
   "id": "c8f23279-3a44-4b77-8ffd-ce63dd61122a",
   "metadata": {
    "execution": {
     "iopub.execute_input": "2022-12-09T23:27:14.756127Z",
     "iopub.status.busy": "2022-12-09T23:27:14.755831Z",
     "iopub.status.idle": "2022-12-09T23:27:14.759278Z",
     "shell.execute_reply": "2022-12-09T23:27:14.758750Z",
     "shell.execute_reply.started": "2022-12-09T23:27:14.756104Z"
    },
    "tags": []
   },
   "outputs": [],
   "source": [
    "model_dict['xgb_no_norm'] = {\n",
    "    'model': xgb_pipe,\n",
    "    'label': 'XGB (2000 points) (No Norm)',\n",
    "}"
   ]
  },
  {
   "cell_type": "code",
   "execution_count": 28,
   "id": "0d514027-887b-40d7-bf0d-c46043a1a670",
   "metadata": {
    "ExecuteTime": {
     "end_time": "2022-08-12T18:19:34.966634Z",
     "start_time": "2022-08-12T18:19:34.957657Z"
    },
    "execution": {
     "iopub.execute_input": "2022-12-09T23:27:14.760054Z",
     "iopub.status.busy": "2022-12-09T23:27:14.759847Z",
     "iopub.status.idle": "2022-12-09T23:27:14.774186Z",
     "shell.execute_reply": "2022-12-09T23:27:14.773564Z",
     "shell.execute_reply.started": "2022-12-09T23:27:14.760036Z"
    },
    "tags": []
   },
   "outputs": [],
   "source": [
    "xgb_pipe = dryml.models.Pipe(\n",
    "    img_prep_step,\n",
    "    flatten_step,\n",
    "    xgb_2000_mdl_def.build(),\n",
    "    best_cat_step)"
   ]
  },
  {
   "cell_type": "code",
   "execution_count": 29,
   "id": "3b7d7305-8ad1-4724-b863-07e520f012dc",
   "metadata": {
    "ExecuteTime": {
     "end_time": "2022-08-12T18:23:31.614583Z",
     "start_time": "2022-08-12T18:19:37.681390Z"
    },
    "execution": {
     "iopub.execute_input": "2022-12-09T23:27:14.775117Z",
     "iopub.status.busy": "2022-12-09T23:27:14.774892Z",
     "iopub.status.idle": "2022-12-09T23:27:32.451714Z",
     "shell.execute_reply": "2022-12-09T23:27:32.450985Z",
     "shell.execute_reply.started": "2022-12-09T23:27:14.775097Z"
    },
    "tags": []
   },
   "outputs": [
    {
     "name": "stderr",
     "output_type": "stream",
     "text": [
      "2022-12-09 17:27:18.091440: W tensorflow/core/kernels/data/cache_dataset_ops.cc:768] The calling iterator did not fully read the dataset being cached. In order to avoid unexpected truncation of the dataset, the partially cached contents of the dataset  will be discarded. This can happen if you have an input pipeline similar to `dataset.cache().take(k).repeat()`. You should use `dataset.take(k).cache().repeat()` instead.\n"
     ]
    },
    {
     "name": "stdout",
     "output_type": "stream",
     "text": [
      "[17:27:18] WARNING: /home/conda/feedstock_root/build_artifacts/xgboost-split_1645117766796/work/src/learner.cc:1115: Starting in XGBoost 1.3.0, the default evaluation metric used with the objective 'multi:softprob' was changed from 'merror' to 'mlogloss'. Explicitly set eval_metric if you'd like to restore the old behavior.\n"
     ]
    },
    {
     "name": "stderr",
     "output_type": "stream",
     "text": [
      "/data0/matthew/Software/NCSA/DRYML/venv_dryml_dev/lib/python3.8/site-packages/xgboost/compat.py:36: FutureWarning: pandas.Int64Index is deprecated and will be removed from pandas in a future version. Use pandas.Index with the appropriate dtype instead.\n",
      "  from pandas import MultiIndex, Int64Index\n",
      "/data0/matthew/Software/NCSA/DRYML/venv_dryml_dev/lib/python3.8/site-packages/xgboost/sklearn.py:1224: UserWarning: The use of label encoder in XGBClassifier is deprecated and will be removed in a future release. To remove this warning, do the following: 1) Pass option use_label_encoder=False when constructing XGBClassifier object; and 2) Encode your labels (y) as integers starting with 0, i.e. 0, 1, 2, ..., [num_class - 1].\n",
      "  warnings.warn(label_encoder_deprecation_msg, UserWarning)\n"
     ]
    },
    {
     "data": {
      "text/plain": [
       "0.9050480769230769"
      ]
     },
     "execution_count": 29,
     "metadata": {},
     "output_type": "execute_result"
    }
   ],
   "source": [
    "train_method(xgb_pipe, call_context_reqs={'tf': {}})"
   ]
  },
  {
   "cell_type": "code",
   "execution_count": 30,
   "id": "e738d36a-1c45-4531-bc62-4ba8fbe5b0e7",
   "metadata": {
    "execution": {
     "iopub.execute_input": "2022-12-09T23:27:32.453200Z",
     "iopub.status.busy": "2022-12-09T23:27:32.452950Z",
     "iopub.status.idle": "2022-12-09T23:27:32.456450Z",
     "shell.execute_reply": "2022-12-09T23:27:32.455871Z",
     "shell.execute_reply.started": "2022-12-09T23:27:32.453178Z"
    },
    "tags": []
   },
   "outputs": [],
   "source": [
    "model_dict['xgb_norm'] = {\n",
    "    'model': xgb_pipe,\n",
    "    'label': 'XGB (2000 points) (With Norm)',\n",
    "}"
   ]
  },
  {
   "cell_type": "markdown",
   "id": "359fd989",
   "metadata": {},
   "source": [
    "# pytorch\n",
    "\n",
    "First, we'll do a couple of pytorch models.\n",
    "\n",
    "## Simple 2d convolutional model\n",
    "\n",
    "First, we'll do a simple 2d convolutional model."
   ]
  },
  {
   "cell_type": "code",
   "execution_count": 31,
   "id": "74c7c33d",
   "metadata": {
    "ExecuteTime": {
     "end_time": "2022-09-06T20:34:04.578382Z",
     "start_time": "2022-09-06T20:34:04.575440Z"
    },
    "execution": {
     "iopub.execute_input": "2022-12-09T23:27:32.457267Z",
     "iopub.status.busy": "2022-12-09T23:27:32.457086Z",
     "iopub.status.idle": "2022-12-09T23:27:32.471128Z",
     "shell.execute_reply": "2022-12-09T23:27:32.470499Z",
     "shell.execute_reply.started": "2022-12-09T23:27:32.457248Z"
    },
    "tags": []
   },
   "outputs": [],
   "source": [
    "import torch\n",
    "import dryml.models.torch\n",
    "import dryml.data.torch\n",
    "import dryml.data.transforms"
   ]
  },
  {
   "cell_type": "code",
   "execution_count": 32,
   "id": "21af6120",
   "metadata": {
    "ExecuteTime": {
     "end_time": "2022-09-06T20:34:04.620194Z",
     "start_time": "2022-09-06T20:34:04.579624Z"
    },
    "execution": {
     "iopub.execute_input": "2022-12-09T23:27:32.472019Z",
     "iopub.status.busy": "2022-12-09T23:27:32.471832Z",
     "iopub.status.idle": "2022-12-09T23:27:32.478743Z",
     "shell.execute_reply": "2022-12-09T23:27:32.478047Z",
     "shell.execute_reply.started": "2022-12-09T23:27:32.472001Z"
    },
    "tags": []
   },
   "outputs": [],
   "source": [
    "mdl_def = dryml.ObjectDef(\n",
    "    dryml.models.torch.generic.Sequential,\n",
    "    layer_defs = [\n",
    "        [ torch.nn.LazyConv2d, (32, 3), {} ],\n",
    "        [ torch.nn.ReLU, (), {}],\n",
    "        [ torch.nn.LazyConv2d, (32, 3), {} ],\n",
    "        [ torch.nn.ReLU, (), {}],\n",
    "        [ torch.nn.Flatten, (), {}],\n",
    "        [ torch.nn.LazyLinear, (10,), {}],\n",
    "    ]\n",
    ")\n",
    "\n",
    "trainable_def = dryml.ObjectDef(\n",
    "    dryml.models.torch.generic.Trainable,\n",
    "    model=mdl_def,\n",
    "    train_fn=dryml.ObjectDef(\n",
    "        dryml.models.torch.generic.BasicTraining,\n",
    "        epochs=3,\n",
    "        optimizer=dryml.ObjectDef(\n",
    "            dryml.models.torch.generic.TorchOptimizer,\n",
    "            torch.optim.Adam,\n",
    "            mdl_def),\n",
    "        loss=dryml.models.torch.Wrapper(torch.nn.CrossEntropyLoss),\n",
    "    ),\n",
    ")"
   ]
  },
  {
   "cell_type": "code",
   "execution_count": 33,
   "id": "f64e7da7-eebc-4e9f-897a-a788066a6259",
   "metadata": {
    "execution": {
     "iopub.execute_input": "2022-12-09T23:27:32.479621Z",
     "iopub.status.busy": "2022-12-09T23:27:32.479434Z",
     "iopub.status.idle": "2022-12-09T23:27:32.494647Z",
     "shell.execute_reply": "2022-12-09T23:27:32.493822Z",
     "shell.execute_reply.started": "2022-12-09T23:27:32.479602Z"
    },
    "tags": []
   },
   "outputs": [],
   "source": [
    "torch_model = dryml.models.Pipe(\n",
    "    img_prep_step,\n",
    "    channels_first_step,\n",
    "    torch_target_cast_step,\n",
    "    trainable_def.build(),\n",
    "    best_cat_step,\n",
    "    to_cpu_step\n",
    ")"
   ]
  },
  {
   "cell_type": "code",
   "execution_count": 34,
   "id": "37dfc93e-dee0-4480-9373-e0dbcec5e217",
   "metadata": {
    "execution": {
     "iopub.execute_input": "2022-12-09T23:27:32.495741Z",
     "iopub.status.busy": "2022-12-09T23:27:32.495556Z",
     "iopub.status.idle": "2022-12-09T23:28:36.439635Z",
     "shell.execute_reply": "2022-12-09T23:28:36.439046Z",
     "shell.execute_reply.started": "2022-12-09T23:27:32.495722Z"
    },
    "tags": []
   },
   "outputs": [
    {
     "name": "stderr",
     "output_type": "stream",
     "text": [
      "/data0/matthew/Software/NCSA/DRYML/venv_dryml_dev/lib/python3.8/site-packages/torch/nn/modules/lazy.py:178: UserWarning: Lazy modules are a new feature under heavy development so changes to the API or functionality can happen at any moment.\n",
      "  warnings.warn('Lazy modules are a new feature under heavy development '\n",
      "100%|██████████| 1875/1875 [00:16<00:00, 110.40it/s, loss=0.00454]\n",
      "  0%|          | 0/1875 [00:00<?, ?it/s]"
     ]
    },
    {
     "name": "stdout",
     "output_type": "stream",
     "text": [
      "Epoch 1 - Average Loss: 0.004541296210648337\n"
     ]
    },
    {
     "name": "stderr",
     "output_type": "stream",
     "text": [
      "100%|██████████| 1875/1875 [00:14<00:00, 126.88it/s, loss=0.00158]\n",
      "  0%|          | 0/1875 [00:00<?, ?it/s]"
     ]
    },
    {
     "name": "stdout",
     "output_type": "stream",
     "text": [
      "Epoch 2 - Average Loss: 0.0015752436498412863\n"
     ]
    },
    {
     "name": "stderr",
     "output_type": "stream",
     "text": [
      "100%|██████████| 1875/1875 [00:14<00:00, 126.72it/s, loss=0.000975]"
     ]
    },
    {
     "name": "stdout",
     "output_type": "stream",
     "text": [
      "Epoch 3 - Average Loss: 0.0009754337974461426\n"
     ]
    },
    {
     "name": "stderr",
     "output_type": "stream",
     "text": [
      "\n"
     ]
    },
    {
     "data": {
      "text/plain": [
       "0.9834735576923077"
      ]
     },
     "execution_count": 34,
     "metadata": {},
     "output_type": "execute_result"
    }
   ],
   "source": [
    "train_method(torch_model, call_context_reqs={'tf': {}, 'torch': gpu_req})"
   ]
  },
  {
   "cell_type": "code",
   "execution_count": 35,
   "id": "951d5927-d7f7-4a5a-aa0e-19e79b0bbce7",
   "metadata": {
    "execution": {
     "iopub.execute_input": "2022-12-09T23:28:36.440640Z",
     "iopub.status.busy": "2022-12-09T23:28:36.440454Z",
     "iopub.status.idle": "2022-12-09T23:28:36.443970Z",
     "shell.execute_reply": "2022-12-09T23:28:36.443332Z",
     "shell.execute_reply.started": "2022-12-09T23:28:36.440618Z"
    },
    "tags": []
   },
   "outputs": [],
   "source": [
    "model_dict['torch_simple_2layer_conv2d_with_norm'] = {\n",
    "    'model': torch_model,\n",
    "    'label': 'Simple 2 layer convolutional (With Norm) (PyTorch)',\n",
    "}"
   ]
  },
  {
   "cell_type": "code",
   "execution_count": 36,
   "id": "816bd0d2-d373-441b-bced-3347dc4144be",
   "metadata": {
    "execution": {
     "iopub.execute_input": "2022-12-09T23:28:36.445174Z",
     "iopub.status.busy": "2022-12-09T23:28:36.444887Z",
     "iopub.status.idle": "2022-12-09T23:28:36.461037Z",
     "shell.execute_reply": "2022-12-09T23:28:36.460531Z",
     "shell.execute_reply.started": "2022-12-09T23:28:36.445145Z"
    },
    "tags": []
   },
   "outputs": [],
   "source": [
    "torch_model = dryml.models.Pipe(\n",
    "    channels_first_step,\n",
    "    torch_x_cast_step,\n",
    "    torch_target_cast_step,\n",
    "    trainable_def.build(),\n",
    "    best_cat_step,\n",
    "    to_cpu_step\n",
    ")"
   ]
  },
  {
   "cell_type": "code",
   "execution_count": 37,
   "id": "837a3bbf-ab25-4b78-992f-d9c449ed4407",
   "metadata": {
    "execution": {
     "iopub.execute_input": "2022-12-09T23:28:36.461864Z",
     "iopub.status.busy": "2022-12-09T23:28:36.461690Z",
     "iopub.status.idle": "2022-12-09T23:29:39.719675Z",
     "shell.execute_reply": "2022-12-09T23:29:39.718995Z",
     "shell.execute_reply.started": "2022-12-09T23:28:36.461846Z"
    },
    "tags": []
   },
   "outputs": [
    {
     "name": "stderr",
     "output_type": "stream",
     "text": [
      "/data0/matthew/Software/NCSA/DRYML/venv_dryml_dev/lib/python3.8/site-packages/torch/nn/modules/lazy.py:178: UserWarning: Lazy modules are a new feature under heavy development so changes to the API or functionality can happen at any moment.\n",
      "  warnings.warn('Lazy modules are a new feature under heavy development '\n",
      "100%|██████████| 1875/1875 [00:16<00:00, 112.20it/s, loss=0.00841]\n",
      "  0%|          | 0/1875 [00:00<?, ?it/s, loss=0.00199] "
     ]
    },
    {
     "name": "stdout",
     "output_type": "stream",
     "text": [
      "Epoch 1 - Average Loss: 0.00840864681971046\n"
     ]
    },
    {
     "name": "stderr",
     "output_type": "stream",
     "text": [
      "100%|██████████| 1875/1875 [00:14<00:00, 127.89it/s, loss=0.00265]\n",
      "  1%|          | 10/1875 [00:00<00:19, 96.60it/s, loss=0.00161]"
     ]
    },
    {
     "name": "stdout",
     "output_type": "stream",
     "text": [
      "Epoch 2 - Average Loss: 0.0026458228423231352\n"
     ]
    },
    {
     "name": "stderr",
     "output_type": "stream",
     "text": [
      "100%|██████████| 1875/1875 [00:14<00:00, 127.95it/s, loss=0.00169]"
     ]
    },
    {
     "name": "stdout",
     "output_type": "stream",
     "text": [
      "Epoch 3 - Average Loss: 0.0016949125157928392\n"
     ]
    },
    {
     "name": "stderr",
     "output_type": "stream",
     "text": [
      "\n"
     ]
    },
    {
     "data": {
      "text/plain": [
       "0.9665464743589743"
      ]
     },
     "execution_count": 37,
     "metadata": {},
     "output_type": "execute_result"
    }
   ],
   "source": [
    "train_method(torch_model, call_context_reqs={'tf': {}, 'torch': gpu_req})"
   ]
  },
  {
   "cell_type": "code",
   "execution_count": 38,
   "id": "c6a4ba4f-e352-4169-a070-6a2867368112",
   "metadata": {
    "execution": {
     "iopub.execute_input": "2022-12-09T23:29:39.721317Z",
     "iopub.status.busy": "2022-12-09T23:29:39.720783Z",
     "iopub.status.idle": "2022-12-09T23:29:39.724520Z",
     "shell.execute_reply": "2022-12-09T23:29:39.723960Z",
     "shell.execute_reply.started": "2022-12-09T23:29:39.721285Z"
    },
    "tags": []
   },
   "outputs": [],
   "source": [
    "model_dict['torch_simple_2layer_conv2d_no_norm'] = {\n",
    "    'model': torch_model,\n",
    "    'label': 'Simple 2 layer convolutional (No Norm) (PyTorch)',\n",
    "}"
   ]
  },
  {
   "cell_type": "markdown",
   "id": "7af49c1a-46f4-4622-b296-2fe92ddd707c",
   "metadata": {},
   "source": [
    "## Pytorch Lenet5\n",
    "\n",
    "Let's create a lenet5 pytorch model, and use the `ModelWrapper` to use it directly with `dryml`."
   ]
  },
  {
   "cell_type": "code",
   "execution_count": 39,
   "id": "adc8c8f8-1306-456f-98a0-ed7f059f7ac5",
   "metadata": {
    "execution": {
     "iopub.execute_input": "2022-12-09T23:29:39.725835Z",
     "iopub.status.busy": "2022-12-09T23:29:39.725357Z",
     "iopub.status.idle": "2022-12-09T23:29:39.739514Z",
     "shell.execute_reply": "2022-12-09T23:29:39.739017Z",
     "shell.execute_reply.started": "2022-12-09T23:29:39.725808Z"
    },
    "tags": []
   },
   "outputs": [
    {
     "name": "stdout",
     "output_type": "stream",
     "text": [
      "Overwriting torchlenet5_temp.py\n"
     ]
    }
   ],
   "source": [
    "%%writefile torchlenet5_temp.py\n",
    "\n",
    "import torch\n",
    "\n",
    "# From medium post:\n",
    "# https://towardsdatascience.com/implementing-yann-lecuns-lenet-5-in-pytorch-5e05a0911320\n",
    "class TorchLenet5(torch.nn.Module):\n",
    "    def __init__(self, n_classes):\n",
    "        super().__init__()\n",
    "        \n",
    "        self.feature_extractor = torch.nn.Sequential(\n",
    "            torch.nn.Conv2d(in_channels=1, out_channels=6, kernel_size=5, stride=1),\n",
    "            torch.nn.Tanh(),\n",
    "            torch.nn.AvgPool2d(kernel_size=2),\n",
    "            torch.nn.Conv2d(in_channels=6, out_channels=16, kernel_size=5, stride=1),\n",
    "            torch.nn.Tanh(),\n",
    "            torch.nn.AvgPool2d(kernel_size=2),\n",
    "            torch.nn.Conv2d(in_channels=16, out_channels=120, kernel_size=5, stride=1),\n",
    "            torch.nn.Tanh(),\n",
    "        )\n",
    "        \n",
    "        self.classifier = torch.nn.Sequential(\n",
    "            torch.nn.Linear(in_features=120, out_features=84),\n",
    "            torch.nn.Tanh(),\n",
    "            torch.nn.Linear(in_features=84, out_features=n_classes),\n",
    "        )\n",
    "    \n",
    "    def forward(self, x):\n",
    "        x = self.feature_extractor(x)\n",
    "        x = torch.flatten(x, start_dim=1)\n",
    "        logits = self.classifier(x)\n",
    "        #probs = torch.nn.functional.softmax(x, dim=1)\n",
    "        return logits"
   ]
  },
  {
   "cell_type": "code",
   "execution_count": 40,
   "id": "e51ebdcc-81f8-4062-8370-7de2b79642d8",
   "metadata": {
    "execution": {
     "iopub.execute_input": "2022-12-09T23:29:39.740384Z",
     "iopub.status.busy": "2022-12-09T23:29:39.740166Z",
     "iopub.status.idle": "2022-12-09T23:29:39.747052Z",
     "shell.execute_reply": "2022-12-09T23:29:39.746456Z",
     "shell.execute_reply.started": "2022-12-09T23:29:39.740365Z"
    },
    "tags": []
   },
   "outputs": [],
   "source": [
    "from torchlenet5_temp import TorchLenet5"
   ]
  },
  {
   "cell_type": "code",
   "execution_count": 41,
   "id": "978b2b95-df6c-462e-a3c6-f7771c2218a7",
   "metadata": {
    "execution": {
     "iopub.execute_input": "2022-12-09T23:29:39.755368Z",
     "iopub.status.busy": "2022-12-09T23:29:39.755122Z",
     "iopub.status.idle": "2022-12-09T23:29:39.759488Z",
     "shell.execute_reply": "2022-12-09T23:29:39.759016Z",
     "shell.execute_reply.started": "2022-12-09T23:29:39.755349Z"
    },
    "tags": []
   },
   "outputs": [],
   "source": [
    "# We can now build and train a pipeline containing this model!\n",
    "torch_lenet5_mdl_def = dryml.ObjectDef(\n",
    "    dryml.models.torch.generic.ModelWrapper,\n",
    "    TorchLenet5,\n",
    "    10\n",
    ")\n",
    "\n",
    "torch_lenet5_trainable_def = dryml.ObjectDef(\n",
    "    dryml.models.torch.generic.Trainable,\n",
    "    model=torch_lenet5_mdl_def,\n",
    "    train_fn=dryml.ObjectDef(\n",
    "        dryml.models.torch.generic.BasicTraining,\n",
    "        optimizer=dryml.ObjectDef(\n",
    "            dryml.models.torch.generic.TorchOptimizer,\n",
    "            torch.optim.Adam,\n",
    "            torch_lenet5_mdl_def\n",
    "        ),\n",
    "        loss=dryml.models.torch.Wrapper(\n",
    "            torch.nn.CrossEntropyLoss\n",
    "        ),\n",
    "        epochs=5\n",
    "    )\n",
    ")"
   ]
  },
  {
   "cell_type": "code",
   "execution_count": 42,
   "id": "07cab22a-a0d9-4a39-af04-a770fad68185",
   "metadata": {
    "execution": {
     "iopub.execute_input": "2022-12-09T23:29:39.760415Z",
     "iopub.status.busy": "2022-12-09T23:29:39.760047Z",
     "iopub.status.idle": "2022-12-09T23:29:39.768811Z",
     "shell.execute_reply": "2022-12-09T23:29:39.768291Z",
     "shell.execute_reply.started": "2022-12-09T23:29:39.760382Z"
    },
    "tags": []
   },
   "outputs": [],
   "source": [
    "torch_lenet5_pipe = dryml.models.Pipe(\n",
    "    resize_step,\n",
    "    img_prep_step,\n",
    "    channels_first_step,\n",
    "    torch_target_cast_step,\n",
    "    torch_lenet5_trainable_def.build(),\n",
    "    best_cat_step,\n",
    "    to_cpu_step,\n",
    ")"
   ]
  },
  {
   "cell_type": "code",
   "execution_count": 43,
   "id": "6c34b2ba-c1df-482b-9785-a9d6a00b46ce",
   "metadata": {
    "execution": {
     "iopub.execute_input": "2022-12-09T23:29:39.769671Z",
     "iopub.status.busy": "2022-12-09T23:29:39.769474Z",
     "iopub.status.idle": "2022-12-09T23:31:23.740123Z",
     "shell.execute_reply": "2022-12-09T23:31:23.739484Z",
     "shell.execute_reply.started": "2022-12-09T23:29:39.769653Z"
    },
    "tags": []
   },
   "outputs": [
    {
     "name": "stderr",
     "output_type": "stream",
     "text": [
      "100%|██████████| 1875/1875 [00:17<00:00, 106.85it/s, loss=0.00703]\n",
      "  0%|          | 6/1875 [00:00<00:33, 55.93it/s, loss=0.00258]"
     ]
    },
    {
     "name": "stdout",
     "output_type": "stream",
     "text": [
      "Epoch 1 - Average Loss: 0.007032527755666524\n"
     ]
    },
    {
     "name": "stderr",
     "output_type": "stream",
     "text": [
      "100%|██████████| 1875/1875 [00:16<00:00, 112.00it/s, loss=0.00245]\n",
      "  0%|          | 0/1875 [00:00<?, ?it/s]"
     ]
    },
    {
     "name": "stdout",
     "output_type": "stream",
     "text": [
      "Epoch 2 - Average Loss: 0.0024532282122022783\n"
     ]
    },
    {
     "name": "stderr",
     "output_type": "stream",
     "text": [
      "100%|██████████| 1875/1875 [00:16<00:00, 112.87it/s, loss=0.00173]\n",
      "  0%|          | 0/1875 [00:00<?, ?it/s]"
     ]
    },
    {
     "name": "stdout",
     "output_type": "stream",
     "text": [
      "Epoch 3 - Average Loss: 0.0017285096634256964\n"
     ]
    },
    {
     "name": "stderr",
     "output_type": "stream",
     "text": [
      "100%|██████████| 1875/1875 [00:17<00:00, 110.00it/s, loss=0.00132]\n",
      "  0%|          | 0/1875 [00:00<?, ?it/s, loss=0.00144] "
     ]
    },
    {
     "name": "stdout",
     "output_type": "stream",
     "text": [
      "Epoch 4 - Average Loss: 0.0013239631879065808\n"
     ]
    },
    {
     "name": "stderr",
     "output_type": "stream",
     "text": [
      "100%|██████████| 1875/1875 [00:16<00:00, 110.78it/s, loss=0.00108]"
     ]
    },
    {
     "name": "stdout",
     "output_type": "stream",
     "text": [
      "Epoch 5 - Average Loss: 0.001078672293821243\n"
     ]
    },
    {
     "name": "stderr",
     "output_type": "stream",
     "text": [
      "\n"
     ]
    },
    {
     "data": {
      "text/plain": [
       "0.9814703525641025"
      ]
     },
     "execution_count": 43,
     "metadata": {},
     "output_type": "execute_result"
    }
   ],
   "source": [
    "train_method(torch_lenet5_pipe, call_context_reqs={'tf': {}, 'torch': gpu_req})"
   ]
  },
  {
   "cell_type": "code",
   "execution_count": 44,
   "id": "97792e6d-7870-48fa-8a61-3a3341708079",
   "metadata": {
    "execution": {
     "iopub.execute_input": "2022-12-09T23:31:23.741437Z",
     "iopub.status.busy": "2022-12-09T23:31:23.741095Z",
     "iopub.status.idle": "2022-12-09T23:31:23.744713Z",
     "shell.execute_reply": "2022-12-09T23:31:23.744160Z",
     "shell.execute_reply.started": "2022-12-09T23:31:23.741399Z"
    },
    "tags": []
   },
   "outputs": [],
   "source": [
    "model_dict['torch_lenet5_with_norm'] = {\n",
    "    'model': torch_lenet5_pipe,\n",
    "    'label': 'Lenet-5 (With Norm) (PyTorch)',\n",
    "}"
   ]
  },
  {
   "cell_type": "code",
   "execution_count": 45,
   "id": "d4a01ca0-bb0c-4ceb-aee5-691d7e8ab8a2",
   "metadata": {
    "execution": {
     "iopub.execute_input": "2022-12-09T23:31:23.746414Z",
     "iopub.status.busy": "2022-12-09T23:31:23.745929Z",
     "iopub.status.idle": "2022-12-09T23:31:23.760488Z",
     "shell.execute_reply": "2022-12-09T23:31:23.759988Z",
     "shell.execute_reply.started": "2022-12-09T23:31:23.746387Z"
    },
    "tags": []
   },
   "outputs": [],
   "source": [
    "torch_lenet5_pipe = dryml.models.Pipe(\n",
    "    resize_step,\n",
    "    channels_first_step,\n",
    "    torch_x_cast_step,\n",
    "    torch_target_cast_step,\n",
    "    torch_lenet5_trainable_def.build(),\n",
    "    best_cat_step,\n",
    "    to_cpu_step,\n",
    ")"
   ]
  },
  {
   "cell_type": "code",
   "execution_count": 46,
   "id": "543eee86-b2a9-400b-9186-fbfd98a90439",
   "metadata": {
    "execution": {
     "iopub.execute_input": "2022-12-09T23:31:23.761517Z",
     "iopub.status.busy": "2022-12-09T23:31:23.761196Z",
     "iopub.status.idle": "2022-12-09T23:33:06.741876Z",
     "shell.execute_reply": "2022-12-09T23:33:06.741313Z",
     "shell.execute_reply.started": "2022-12-09T23:31:23.761496Z"
    },
    "tags": []
   },
   "outputs": [
    {
     "name": "stderr",
     "output_type": "stream",
     "text": [
      "100%|██████████| 1875/1875 [00:17<00:00, 106.77it/s, loss=0.00513]\n",
      "  0%|          | 7/1875 [00:00<00:27, 67.18it/s, loss=0.00185]"
     ]
    },
    {
     "name": "stdout",
     "output_type": "stream",
     "text": [
      "Epoch 1 - Average Loss: 0.005134942951511281\n"
     ]
    },
    {
     "name": "stderr",
     "output_type": "stream",
     "text": [
      "100%|██████████| 1875/1875 [00:16<00:00, 112.21it/s, loss=0.00195]\n",
      "  0%|          | 0/1875 [00:00<?, ?it/s, loss=0.0005]  "
     ]
    },
    {
     "name": "stdout",
     "output_type": "stream",
     "text": [
      "Epoch 2 - Average Loss: 0.0019529745913188284\n"
     ]
    },
    {
     "name": "stderr",
     "output_type": "stream",
     "text": [
      "100%|██████████| 1875/1875 [00:16<00:00, 112.00it/s, loss=0.00142]\n",
      "  0%|          | 7/1875 [00:00<00:27, 67.39it/s, loss=0.00157]"
     ]
    },
    {
     "name": "stdout",
     "output_type": "stream",
     "text": [
      "Epoch 3 - Average Loss: 0.0014228214631885445\n"
     ]
    },
    {
     "name": "stderr",
     "output_type": "stream",
     "text": [
      "100%|██████████| 1875/1875 [00:16<00:00, 112.44it/s, loss=0.00112]\n",
      "  0%|          | 7/1875 [00:00<00:28, 66.14it/s, loss=0.00128]"
     ]
    },
    {
     "name": "stdout",
     "output_type": "stream",
     "text": [
      "Epoch 4 - Average Loss: 0.0011156551241263515\n"
     ]
    },
    {
     "name": "stderr",
     "output_type": "stream",
     "text": [
      "100%|██████████| 1875/1875 [00:16<00:00, 112.91it/s, loss=0.000899]"
     ]
    },
    {
     "name": "stdout",
     "output_type": "stream",
     "text": [
      "Epoch 5 - Average Loss: 0.000898826320404866\n"
     ]
    },
    {
     "name": "stderr",
     "output_type": "stream",
     "text": [
      "\n"
     ]
    },
    {
     "data": {
      "text/plain": [
       "0.9846754807692307"
      ]
     },
     "execution_count": 46,
     "metadata": {},
     "output_type": "execute_result"
    }
   ],
   "source": [
    "train_method(torch_lenet5_pipe, call_context_reqs={'tf': {}, 'torch': gpu_req})"
   ]
  },
  {
   "cell_type": "code",
   "execution_count": 47,
   "id": "2953be4b-1e64-4b66-bb93-ca7986f167a2",
   "metadata": {
    "execution": {
     "iopub.execute_input": "2022-12-09T23:33:06.742921Z",
     "iopub.status.busy": "2022-12-09T23:33:06.742715Z",
     "iopub.status.idle": "2022-12-09T23:33:06.746477Z",
     "shell.execute_reply": "2022-12-09T23:33:06.745719Z",
     "shell.execute_reply.started": "2022-12-09T23:33:06.742895Z"
    },
    "tags": []
   },
   "outputs": [],
   "source": [
    "model_dict['torch_lenet5_no_norm'] = {\n",
    "    'model': torch_lenet5_pipe,\n",
    "    'label': 'Lenet-5 (No Norm) (PyTorch)',\n",
    "}"
   ]
  },
  {
   "cell_type": "markdown",
   "id": "f2a6bb2e-5a39-4e78-b7ec-1effe2e2be4a",
   "metadata": {},
   "source": [
    "## Convolutional transformer"
   ]
  },
  {
   "cell_type": "code",
   "execution_count": 48,
   "id": "82fc0785-4be5-47ba-a778-e976296bf841",
   "metadata": {
    "execution": {
     "iopub.execute_input": "2022-12-09T23:33:06.747927Z",
     "iopub.status.busy": "2022-12-09T23:33:06.747570Z",
     "iopub.status.idle": "2022-12-09T23:33:06.784437Z",
     "shell.execute_reply": "2022-12-09T23:33:06.783786Z",
     "shell.execute_reply.started": "2022-12-09T23:33:06.747905Z"
    },
    "tags": []
   },
   "outputs": [
    {
     "name": "stdout",
     "output_type": "stream",
     "text": [
      "Overwriting torch_conv_transformer_test.py\n"
     ]
    }
   ],
   "source": [
    "%%writefile torch_conv_transformer_test.py\n",
    "\n",
    "import torch\n",
    "import torch.nn.functional as F\n",
    "import numpy as np\n",
    "\n",
    "# Define the scaled dotproduct attention\n",
    "class TorchScaledDotProductAttention(torch.nn.Module):\n",
    "    def __init__(self, in_features, qk_dim=None, v_dim=None, **kwargs):\n",
    "        super().__init__(**kwargs)\n",
    "        if v_dim is None and qk_dim is not None:\n",
    "            v_dim = qk_dim\n",
    "        self.scale_factor = np.sqrt(qk_dim)\n",
    "        self.query_layer = torch.nn.Linear(in_features, qk_dim)\n",
    "        self.key_layer = torch.nn.Linear(in_features, qk_dim)\n",
    "        self.value_layer = torch.nn.Linear(in_features, v_dim)\n",
    "\n",
    "    def forward(self, inputs):\n",
    "        q = self.query_layer(inputs)\n",
    "        k = self.key_layer(inputs)\n",
    "        v = self.value_layer(inputs)\n",
    "        sft_m = F.softmax(torch.bmm(q, k.transpose(1, 2))/self.scale_factor, dim=-1)\n",
    "        return torch.bmm(sft_m, v)\n",
    "\n",
    "# Multihead attention\n",
    "class TorchMultiHeadScaledDotProductAttention(torch.nn.Module):\n",
    "    def __init__(self, n_heads, in_features, qk_dim, v_dim, **kwargs):\n",
    "        super().__init__(**kwargs)\n",
    "        head_dim = qk_dim // n_heads\n",
    "        self.n_heads = n_heads\n",
    "        heads = []\n",
    "        for i in range(self.n_heads):\n",
    "            heads.append(TorchScaledDotProductAttention(in_features, qk_dim=head_dim, v_dim=v_dim))\n",
    "        self.heads = torch.nn.ModuleList(heads)\n",
    "\n",
    "    def forward(self, inputs):\n",
    "        head_results = []\n",
    "        for i in range(self.n_heads):\n",
    "            head_results.append(self.heads[i](inputs))\n",
    "        return torch.concat(head_results, dim=-1)\n",
    "\n",
    "class TorchConvTransformerTest(torch.nn.Module):\n",
    "    def __init__(self, conv2d_filters, **kwargs):\n",
    "        super().__init__(**kwargs)\n",
    "        self.conv2d_1 = torch.nn.Conv2d(1, conv2d_filters, 3)\n",
    "        self.relu = torch.nn.ReLU()\n",
    "        self.conv2d_2 = torch.nn.Conv2d(conv2d_filters, conv2d_filters, 3)\n",
    "        self.at_layer = TorchMultiHeadScaledDotProductAttention(4, conv2d_filters, conv2d_filters//4, conv2d_filters//4)\n",
    "        self.dense_1 = torch.nn.Linear(conv2d_filters, conv2d_filters*4)\n",
    "        self.dense_2 = torch.nn.Linear(conv2d_filters*4, conv2d_filters)\n",
    "        self.dense_final = torch.nn.Linear(24*24*conv2d_filters, 10)\n",
    "\n",
    "    def forward(self, inputs):\n",
    "        # in channels first format\n",
    "        x = self.relu(self.conv2d_1(inputs))\n",
    "        x = self.relu(self.conv2d_2(x))\n",
    "        # Need to reshape and permute\n",
    "        x_shape = x.shape\n",
    "        x = torch.reshape(x, [x_shape[0], x_shape[1], x_shape[2]*x_shape[3]])\n",
    "        x = torch.permute(x, (0, 2, 1))\n",
    "        # Do attention\n",
    "        at_x = self.at_layer(x)\n",
    "        x = x+at_x\n",
    "        # Expansion block\n",
    "        x = self.relu(self.dense_1(x))\n",
    "        x = self.relu(self.dense_2(x))\n",
    "        # Flatten\n",
    "        x = torch.flatten(x, start_dim=1)\n",
    "        # Classification head\n",
    "        x = self.dense_final(x)\n",
    "        # ?? Need softmax?\n",
    "        return x"
   ]
  },
  {
   "cell_type": "code",
   "execution_count": 49,
   "id": "b6840856-5c8f-4396-97b9-b2c6aee3b580",
   "metadata": {
    "execution": {
     "iopub.execute_input": "2022-12-09T23:33:06.785440Z",
     "iopub.status.busy": "2022-12-09T23:33:06.785204Z",
     "iopub.status.idle": "2022-12-09T23:33:06.828777Z",
     "shell.execute_reply": "2022-12-09T23:33:06.828151Z",
     "shell.execute_reply.started": "2022-12-09T23:33:06.785420Z"
    },
    "tags": []
   },
   "outputs": [],
   "source": [
    "from torch_conv_transformer_test import TorchConvTransformerTest"
   ]
  },
  {
   "cell_type": "code",
   "execution_count": 50,
   "id": "a0aa2237-da53-4719-b3d8-afee1e5c7609",
   "metadata": {
    "execution": {
     "iopub.execute_input": "2022-12-09T23:33:06.829760Z",
     "iopub.status.busy": "2022-12-09T23:33:06.829518Z",
     "iopub.status.idle": "2022-12-09T23:33:06.834199Z",
     "shell.execute_reply": "2022-12-09T23:33:06.833656Z",
     "shell.execute_reply.started": "2022-12-09T23:33:06.829741Z"
    },
    "tags": []
   },
   "outputs": [],
   "source": [
    "torch_transformer_mdl_def = dryml.ObjectDef(\n",
    "    dryml.models.torch.generic.ModelWrapper,\n",
    "    TorchConvTransformerTest,\n",
    "    32)\n",
    "\n",
    "torch_transformer_test_mdl_def = dryml.ObjectDef(\n",
    "    dryml.models.torch.generic.Trainable,\n",
    "    model=torch_transformer_mdl_def,\n",
    "    train_fn=dryml.ObjectDef(\n",
    "        dryml.models.torch.generic.BasicTraining,\n",
    "        optimizer=dryml.ObjectDef(\n",
    "            dryml.models.torch.generic.TorchOptimizer,\n",
    "            torch.optim.Adam,\n",
    "            model=torch_transformer_mdl_def\n",
    "        ),\n",
    "        loss=dryml.models.torch.generic.Wrapper(\n",
    "            torch.nn.CrossEntropyLoss\n",
    "        ),\n",
    "        epochs=3\n",
    "    )\n",
    ")"
   ]
  },
  {
   "cell_type": "code",
   "execution_count": 51,
   "id": "28ff0c11-eb64-4ef1-8be8-f3a59bb12561",
   "metadata": {
    "execution": {
     "iopub.execute_input": "2022-12-09T23:33:06.835411Z",
     "iopub.status.busy": "2022-12-09T23:33:06.835106Z",
     "iopub.status.idle": "2022-12-09T23:33:06.894188Z",
     "shell.execute_reply": "2022-12-09T23:33:06.893649Z",
     "shell.execute_reply.started": "2022-12-09T23:33:06.835392Z"
    },
    "tags": []
   },
   "outputs": [],
   "source": [
    "torch_transformer_test_pipe = dryml.models.Pipe(\n",
    "    img_prep_step,\n",
    "    channels_first_step,\n",
    "    torch_target_cast_step,\n",
    "    torch_transformer_test_mdl_def.build(),\n",
    "    best_cat_step,\n",
    "    to_cpu_step,\n",
    ")"
   ]
  },
  {
   "cell_type": "code",
   "execution_count": 52,
   "id": "89d86e21-bb4a-45c8-bf02-598aec781d65",
   "metadata": {
    "execution": {
     "iopub.execute_input": "2022-12-09T23:33:06.895165Z",
     "iopub.status.busy": "2022-12-09T23:33:06.894940Z",
     "iopub.status.idle": "2022-12-09T23:36:26.356845Z",
     "shell.execute_reply": "2022-12-09T23:36:26.356228Z",
     "shell.execute_reply.started": "2022-12-09T23:33:06.895147Z"
    },
    "tags": []
   },
   "outputs": [
    {
     "name": "stderr",
     "output_type": "stream",
     "text": [
      "100%|██████████| 1875/1875 [00:59<00:00, 31.27it/s, loss=0.00638]\n",
      "  0%|          | 3/1875 [00:00<01:18, 23.75it/s, loss=0.00201] "
     ]
    },
    {
     "name": "stdout",
     "output_type": "stream",
     "text": [
      "Epoch 1 - Average Loss: 0.006383662279639005\n"
     ]
    },
    {
     "name": "stderr",
     "output_type": "stream",
     "text": [
      "100%|██████████| 1875/1875 [00:59<00:00, 31.68it/s, loss=0.00192]\n",
      "  0%|          | 0/1875 [00:00<?, ?it/s, loss=0.000151]"
     ]
    },
    {
     "name": "stdout",
     "output_type": "stream",
     "text": [
      "Epoch 2 - Average Loss: 0.001918178413102578\n"
     ]
    },
    {
     "name": "stderr",
     "output_type": "stream",
     "text": [
      "100%|██████████| 1875/1875 [00:59<00:00, 31.74it/s, loss=0.00121]"
     ]
    },
    {
     "name": "stdout",
     "output_type": "stream",
     "text": [
      "Epoch 3 - Average Loss: 0.0012148515647911458\n"
     ]
    },
    {
     "name": "stderr",
     "output_type": "stream",
     "text": [
      "\n"
     ]
    },
    {
     "data": {
      "text/plain": [
       "0.9845753205128205"
      ]
     },
     "execution_count": 52,
     "metadata": {},
     "output_type": "execute_result"
    }
   ],
   "source": [
    "train_method(torch_transformer_test_pipe, call_context_reqs={'tf': {}, 'torch': gpu_req})"
   ]
  },
  {
   "cell_type": "code",
   "execution_count": 53,
   "id": "7145407d-685d-481d-bc94-844a96c23318",
   "metadata": {
    "execution": {
     "iopub.execute_input": "2022-12-09T23:36:26.357911Z",
     "iopub.status.busy": "2022-12-09T23:36:26.357667Z",
     "iopub.status.idle": "2022-12-09T23:36:26.361039Z",
     "shell.execute_reply": "2022-12-09T23:36:26.360448Z",
     "shell.execute_reply.started": "2022-12-09T23:36:26.357889Z"
    },
    "tags": []
   },
   "outputs": [],
   "source": [
    "model_dict['torch_transformer_test_norm'] = {\n",
    "    'model': torch_transformer_test_pipe,\n",
    "    'label': 'Convolutional Transformer Test (With Norm) (PyTorch)'\n",
    "}"
   ]
  },
  {
   "cell_type": "code",
   "execution_count": 54,
   "id": "4b3d711f-7d98-4706-9c0b-7462e326de10",
   "metadata": {
    "execution": {
     "iopub.execute_input": "2022-12-09T23:36:26.361941Z",
     "iopub.status.busy": "2022-12-09T23:36:26.361728Z",
     "iopub.status.idle": "2022-12-09T23:36:26.376208Z",
     "shell.execute_reply": "2022-12-09T23:36:26.375511Z",
     "shell.execute_reply.started": "2022-12-09T23:36:26.361923Z"
    },
    "tags": []
   },
   "outputs": [],
   "source": [
    "torch_transformer_test_pipe = dryml.models.Pipe(\n",
    "    channels_first_step,\n",
    "    torch_target_cast_step,\n",
    "    torch_x_cast_step,\n",
    "    torch_transformer_test_mdl_def.build(),\n",
    "    best_cat_step,\n",
    "    to_cpu_step,\n",
    ")"
   ]
  },
  {
   "cell_type": "code",
   "execution_count": 55,
   "id": "c03eec70-2037-40a8-b0a4-c7fd96ccfc75",
   "metadata": {
    "execution": {
     "iopub.execute_input": "2022-12-09T23:36:26.377041Z",
     "iopub.status.busy": "2022-12-09T23:36:26.376866Z",
     "iopub.status.idle": "2022-12-09T23:39:48.556865Z",
     "shell.execute_reply": "2022-12-09T23:39:48.556050Z",
     "shell.execute_reply.started": "2022-12-09T23:36:26.377023Z"
    },
    "tags": []
   },
   "outputs": [
    {
     "name": "stderr",
     "output_type": "stream",
     "text": [
      "100%|██████████| 1875/1875 [01:00<00:00, 31.22it/s, loss=0.00557]\n",
      "  0%|          | 0/1875 [00:00<?, ?it/s, loss=0.00127] "
     ]
    },
    {
     "name": "stdout",
     "output_type": "stream",
     "text": [
      "Epoch 1 - Average Loss: 0.005565646504743199\n"
     ]
    },
    {
     "name": "stderr",
     "output_type": "stream",
     "text": [
      "100%|██████████| 1875/1875 [01:00<00:00, 31.10it/s, loss=0.00249]\n",
      "  0%|          | 0/1875 [00:00<?, ?it/s]"
     ]
    },
    {
     "name": "stdout",
     "output_type": "stream",
     "text": [
      "Epoch 2 - Average Loss: 0.00248566318638647\n"
     ]
    },
    {
     "name": "stderr",
     "output_type": "stream",
     "text": [
      "100%|██████████| 1875/1875 [01:00<00:00, 31.10it/s, loss=0.00172]"
     ]
    },
    {
     "name": "stdout",
     "output_type": "stream",
     "text": [
      "Epoch 3 - Average Loss: 0.0017240369595531472\n"
     ]
    },
    {
     "name": "stderr",
     "output_type": "stream",
     "text": [
      "\n"
     ]
    },
    {
     "data": {
      "text/plain": [
       "0.9736578525641025"
      ]
     },
     "execution_count": 55,
     "metadata": {},
     "output_type": "execute_result"
    }
   ],
   "source": [
    "train_method(torch_transformer_test_pipe, call_context_reqs={'tf': {}, 'torch': gpu_req})"
   ]
  },
  {
   "cell_type": "code",
   "execution_count": 56,
   "id": "391a853d-fef8-4582-8c43-6bd6e473bc65",
   "metadata": {
    "execution": {
     "iopub.execute_input": "2022-12-09T23:39:48.557894Z",
     "iopub.status.busy": "2022-12-09T23:39:48.557695Z",
     "iopub.status.idle": "2022-12-09T23:39:48.561080Z",
     "shell.execute_reply": "2022-12-09T23:39:48.560622Z",
     "shell.execute_reply.started": "2022-12-09T23:39:48.557871Z"
    },
    "tags": []
   },
   "outputs": [],
   "source": [
    "model_dict['torch_transformer_test_no_norm'] = {\n",
    "    'model': torch_transformer_test_pipe,\n",
    "    'label': 'Convolutional Transformer Test (No Norm) (PyTorch)'\n",
    "}"
   ]
  },
  {
   "cell_type": "markdown",
   "id": "57eab020-9db6-4d4b-b907-ed6379243dc4",
   "metadata": {},
   "source": [
    "# Tensorflow\n",
    "\n",
    "Now we'll do the same for tensorflow.\n",
    "\n",
    "## Simple 2-layer convolutional"
   ]
  },
  {
   "cell_type": "code",
   "execution_count": 16,
   "id": "8ac293f3-2d40-4656-b6e1-a3ffc9913479",
   "metadata": {
    "ExecuteTime": {
     "end_time": "2022-09-06T20:34:04.578382Z",
     "start_time": "2022-09-06T20:34:04.575440Z"
    },
    "execution": {
     "iopub.execute_input": "2022-12-09T23:40:53.426339Z",
     "iopub.status.busy": "2022-12-09T23:40:53.426018Z",
     "iopub.status.idle": "2022-12-09T23:40:53.429546Z",
     "shell.execute_reply": "2022-12-09T23:40:53.428967Z",
     "shell.execute_reply.started": "2022-12-09T23:40:53.426319Z"
    },
    "tags": []
   },
   "outputs": [],
   "source": [
    "import tensorflow as tf\n",
    "import dryml.models.tf\n",
    "import dryml.data.tf\n",
    "import dryml.data.transforms"
   ]
  },
  {
   "cell_type": "code",
   "execution_count": 17,
   "id": "e2a303d6-2200-413d-8b8b-882ee1ff7a96",
   "metadata": {
    "ExecuteTime": {
     "end_time": "2022-09-06T20:34:04.620194Z",
     "start_time": "2022-09-06T20:34:04.579624Z"
    },
    "execution": {
     "iopub.execute_input": "2022-12-09T23:40:53.631320Z",
     "iopub.status.busy": "2022-12-09T23:40:53.631077Z",
     "iopub.status.idle": "2022-12-09T23:40:53.637852Z",
     "shell.execute_reply": "2022-12-09T23:40:53.636914Z",
     "shell.execute_reply.started": "2022-12-09T23:40:53.631301Z"
    },
    "tags": []
   },
   "outputs": [],
   "source": [
    "model_def = dryml.ObjectDef(\n",
    "    dryml.models.tf.keras.Sequential,\n",
    "    layer_defs = [\n",
    "        [ 'Conv2D', (), {'filters': 32, 'kernel_size': 3, 'activation': 'relu', 'input_shape': (28, 28, 1)} ],\n",
    "        [ 'Conv2D', (), {'filters': 32, 'kernel_size': 3, 'activation': 'relu'} ],\n",
    "        [ 'Flatten', (), {}],\n",
    "        [ 'Dense', (), {'units': 10, 'activation': 'softmax'}],\n",
    "    ]\n",
    ")\n",
    "\n",
    "trainable_def = dryml.ObjectDef(\n",
    "    dryml.models.tf.keras.Trainable,\n",
    "    model=model_def,\n",
    "    optimizer=dryml.models.tf.Wrapper(tf.keras.optimizers.Adam),\n",
    "    loss=dryml.models.tf.Wrapper(\n",
    "        tf.keras.losses.SparseCategoricalCrossentropy),\n",
    "    train_fn=dryml.models.tf.keras.BasicTraining(\n",
    "        epochs=3),\n",
    ")"
   ]
  },
  {
   "cell_type": "code",
   "execution_count": 18,
   "id": "76683863-b482-472e-94c5-ccee3f2319d6",
   "metadata": {
    "execution": {
     "iopub.execute_input": "2022-12-09T23:40:54.082121Z",
     "iopub.status.busy": "2022-12-09T23:40:54.081650Z",
     "iopub.status.idle": "2022-12-09T23:40:54.087969Z",
     "shell.execute_reply": "2022-12-09T23:40:54.087342Z",
     "shell.execute_reply.started": "2022-12-09T23:40:54.082091Z"
    },
    "tags": []
   },
   "outputs": [],
   "source": [
    "tf_model_1 = dryml.models.Pipe(\n",
    "    img_prep_step,\n",
    "    trainable_def.build(),\n",
    "    best_cat_step,\n",
    ")"
   ]
  },
  {
   "cell_type": "code",
   "execution_count": 19,
   "id": "7e10eb84-16a4-4da1-9f30-6d79374e334e",
   "metadata": {
    "execution": {
     "iopub.execute_input": "2022-12-09T23:40:54.950752Z",
     "iopub.status.busy": "2022-12-09T23:40:54.949563Z",
     "iopub.status.idle": "2022-12-09T23:41:31.206203Z",
     "shell.execute_reply": "2022-12-09T23:41:31.205282Z",
     "shell.execute_reply.started": "2022-12-09T23:40:54.950696Z"
    },
    "tags": []
   },
   "outputs": [
    {
     "name": "stderr",
     "output_type": "stream",
     "text": [
      "2022-12-09 17:40:57.653236: I tensorflow/core/common_runtime/gpu/gpu_device.cc:1525] Created device /job:localhost/replica:0/task:0/device:GPU:0 with 6293 MB memory:  -> device: 0, name: NVIDIA GeForce GTX 1080, pci bus id: 0000:02:00.0, compute capability: 6.1\n",
      "2022-12-09 17:40:57.653986: I tensorflow/core/common_runtime/gpu/gpu_device.cc:1525] Created device /job:localhost/replica:0/task:0/device:GPU:1 with 7368 MB memory:  -> device: 1, name: NVIDIA GeForce GTX 1080, pci bus id: 0000:03:00.0, compute capability: 6.1\n",
      "2022-12-09 17:41:04.288051: W tensorflow/core/grappler/optimizers/data/auto_shard.cc:547] The `assert_cardinality` transformation is currently not handled by the auto-shard rewrite and will be removed.\n"
     ]
    },
    {
     "name": "stdout",
     "output_type": "stream",
     "text": [
      "Epoch 1/3\n"
     ]
    },
    {
     "name": "stderr",
     "output_type": "stream",
     "text": [
      "2022-12-09 17:41:08.411161: I tensorflow/stream_executor/cuda/cuda_dnn.cc:368] Loaded cuDNN version 8600\n",
      "2022-12-09 17:41:08.683418: I tensorflow/stream_executor/cuda/cuda_dnn.cc:368] Loaded cuDNN version 8600\n"
     ]
    },
    {
     "name": "stdout",
     "output_type": "stream",
     "text": [
      "1497/1500 [============================>.] - ETA: 0s - loss: 0.1501"
     ]
    },
    {
     "name": "stderr",
     "output_type": "stream",
     "text": [
      "2022-12-09 17:41:14.024228: W tensorflow/core/grappler/optimizers/data/auto_shard.cc:547] The `assert_cardinality` transformation is currently not handled by the auto-shard rewrite and will be removed.\n"
     ]
    },
    {
     "name": "stdout",
     "output_type": "stream",
     "text": [
      "1500/1500 [==============================] - 12s 5ms/step - loss: 0.1499 - val_loss: 0.0737\n",
      "Epoch 2/3\n",
      "1500/1500 [==============================] - 6s 4ms/step - loss: 0.0544 - val_loss: 0.0611\n",
      "Epoch 3/3\n",
      "1500/1500 [==============================] - 6s 4ms/step - loss: 0.0340 - val_loss: 0.0580\n"
     ]
    },
    {
     "data": {
      "text/plain": [
       "0.9856770833333334"
      ]
     },
     "execution_count": 19,
     "metadata": {},
     "output_type": "execute_result"
    }
   ],
   "source": [
    "train_method(tf_model_1, call_context_reqs={'tf': gpu_req })"
   ]
  },
  {
   "cell_type": "code",
   "execution_count": null,
   "id": "90ec4881-c175-4972-8ed1-5cf8a57d8832",
   "metadata": {
    "execution": {
     "iopub.status.busy": "2022-12-09T23:39:59.406534Z",
     "iopub.status.idle": "2022-12-09T23:39:59.406789Z",
     "shell.execute_reply": "2022-12-09T23:39:59.406679Z",
     "shell.execute_reply.started": "2022-12-09T23:39:59.406665Z"
    },
    "tags": []
   },
   "outputs": [],
   "source": [
    "model_dict['tf_simple_2layer_conv2d_norm'] = {\n",
    "    'model': tf_model_1,\n",
    "    'label': 'Simple 2 layer convolutional (With Norm) (Tensorflow)',\n",
    "}"
   ]
  },
  {
   "cell_type": "code",
   "execution_count": null,
   "id": "fb2fdedb-4274-49a8-8560-faf56c84cf3f",
   "metadata": {
    "execution": {
     "iopub.status.busy": "2022-12-09T23:39:59.407865Z",
     "iopub.status.idle": "2022-12-09T23:39:59.408191Z",
     "shell.execute_reply": "2022-12-09T23:39:59.408074Z",
     "shell.execute_reply.started": "2022-12-09T23:39:59.408061Z"
    }
   },
   "outputs": [],
   "source": [
    "tf_model_1 = dryml.models.Pipe(\n",
    "    trainable_def.build(),\n",
    "    best_cat_step,\n",
    ")"
   ]
  },
  {
   "cell_type": "code",
   "execution_count": null,
   "id": "cf92697f-a5ca-4b35-a9de-0ecf2562a046",
   "metadata": {
    "execution": {
     "iopub.status.busy": "2022-12-09T23:39:59.409016Z",
     "iopub.status.idle": "2022-12-09T23:39:59.409447Z",
     "shell.execute_reply": "2022-12-09T23:39:59.409331Z",
     "shell.execute_reply.started": "2022-12-09T23:39:59.409318Z"
    },
    "tags": []
   },
   "outputs": [],
   "source": [
    "train_method(tf_model_1, call_context_reqs={'tf': gpu_req })"
   ]
  },
  {
   "cell_type": "code",
   "execution_count": null,
   "id": "a5a1d6d4-ef04-4010-b4b5-df0e646286c2",
   "metadata": {
    "execution": {
     "iopub.status.busy": "2022-12-09T23:39:59.410234Z",
     "iopub.status.idle": "2022-12-09T23:39:59.410472Z",
     "shell.execute_reply": "2022-12-09T23:39:59.410363Z",
     "shell.execute_reply.started": "2022-12-09T23:39:59.410351Z"
    },
    "tags": []
   },
   "outputs": [],
   "source": [
    "model_dict['tf_simple_2layer_conv2d_no_norm'] = {\n",
    "    'model': tf_model_1,\n",
    "    'label': 'Simple 2 layer convolutional (No Norm) (Tensorflow)',\n",
    "}"
   ]
  },
  {
   "cell_type": "markdown",
   "id": "f6774a39-a02d-494a-bfc2-92e9f36fe764",
   "metadata": {},
   "source": [
    "## Lenet5\n",
    "\n",
    "Let's create a lenet5 tensorflow model, and use the `ModelWrapper` to use it directly with `dryml`."
   ]
  },
  {
   "cell_type": "code",
   "execution_count": null,
   "id": "68fef519-87fe-4692-b980-6ef89a602ce6",
   "metadata": {
    "execution": {
     "iopub.status.busy": "2022-12-09T23:39:59.411358Z",
     "iopub.status.idle": "2022-12-09T23:39:59.411637Z",
     "shell.execute_reply": "2022-12-09T23:39:59.411524Z",
     "shell.execute_reply.started": "2022-12-09T23:39:59.411511Z"
    },
    "tags": []
   },
   "outputs": [],
   "source": [
    "%%writefile tflenet5_temp.py\n",
    "\n",
    "import tensorflow as tf\n",
    "\n",
    "# From medium post:\n",
    "# https://towardsdatascience.com/implementing-yann-lecuns-lenet-5-in-pytorch-5e05a0911320\n",
    "class TFLenet5(tf.keras.Model):\n",
    "    def __init__(self, n_classes, **kwargs):\n",
    "        super().__init__(**kwargs)\n",
    "\n",
    "        self.feature_extractor = tf.keras.Sequential([\n",
    "            tf.keras.layers.Conv2D(filters=6, kernel_size=5, activation='tanh', input_shape=(32, 32, 1)),\n",
    "            tf.keras.layers.AveragePooling2D(pool_size=2),\n",
    "            tf.keras.layers.Conv2D(filters=16, kernel_size=5, activation='tanh'),\n",
    "            tf.keras.layers.AveragePooling2D(pool_size=2),\n",
    "            tf.keras.layers.Conv2D(filters=120, kernel_size=5, activation='tanh'),\n",
    "        ])\n",
    "\n",
    "        self.classifier = tf.keras.Sequential([\n",
    "            tf.keras.layers.Dense(80, input_shape=(120,), activation='tanh'),\n",
    "            tf.keras.layers.Dense(n_classes, activation='linear'),\n",
    "        ])\n",
    "    \n",
    "    def call(self, x, training=True):\n",
    "        x = self.feature_extractor(x)\n",
    "        x = tf.keras.layers.Flatten()(x)\n",
    "        logits = self.classifier(x)\n",
    "        if not training:\n",
    "            return tf.nn.softmax(logits, axis=-1)\n",
    "        else:\n",
    "            return logits"
   ]
  },
  {
   "cell_type": "code",
   "execution_count": null,
   "id": "2886d578-8006-45b2-8ad6-ba790d0c75ae",
   "metadata": {
    "execution": {
     "iopub.status.busy": "2022-12-09T23:39:59.412476Z",
     "iopub.status.idle": "2022-12-09T23:39:59.412760Z",
     "shell.execute_reply": "2022-12-09T23:39:59.412647Z",
     "shell.execute_reply.started": "2022-12-09T23:39:59.412634Z"
    },
    "tags": []
   },
   "outputs": [],
   "source": [
    "from tflenet5_temp import TFLenet5"
   ]
  },
  {
   "cell_type": "code",
   "execution_count": null,
   "id": "8cec788e-2417-43a7-8ef3-12837d610de5",
   "metadata": {
    "execution": {
     "iopub.status.busy": "2022-12-09T23:39:59.413577Z",
     "iopub.status.idle": "2022-12-09T23:39:59.413851Z",
     "shell.execute_reply": "2022-12-09T23:39:59.413738Z",
     "shell.execute_reply.started": "2022-12-09T23:39:59.413725Z"
    },
    "tags": []
   },
   "outputs": [],
   "source": [
    "# We can now build and train a pipeline containing this model!\n",
    "tf_lenet5_mdl_def = dryml.ObjectDef(\n",
    "    dryml.models.tf.keras.ModelWrapper,\n",
    "    TFLenet5,\n",
    "    10\n",
    ")\n",
    "\n",
    "tf_lenet5_trainable_def = dryml.ObjectDef(\n",
    "    dryml.models.tf.keras.Trainable,\n",
    "    model=tf_lenet5_mdl_def,\n",
    "    optimizer=dryml.models.tf.Wrapper(\n",
    "        tf.keras.optimizers.Adam\n",
    "    ),\n",
    "    loss=dryml.models.tf.Wrapper(\n",
    "        tf.keras.losses.SparseCategoricalCrossentropy,\n",
    "        from_logits=True,\n",
    "    ),\n",
    "    train_fn=dryml.models.tf.keras.BasicTraining(\n",
    "        epochs=5\n",
    "    )\n",
    ")"
   ]
  },
  {
   "cell_type": "code",
   "execution_count": null,
   "id": "99872f4a-b522-4c9a-93ca-0d5c27360e06",
   "metadata": {
    "execution": {
     "iopub.status.busy": "2022-12-09T23:39:59.414661Z",
     "iopub.status.idle": "2022-12-09T23:39:59.414936Z",
     "shell.execute_reply": "2022-12-09T23:39:59.414824Z",
     "shell.execute_reply.started": "2022-12-09T23:39:59.414812Z"
    },
    "tags": []
   },
   "outputs": [],
   "source": [
    "# We need to change the device of the final result\n",
    "tf_lenet5_pipe = dryml.models.Pipe(\n",
    "    resize_step,\n",
    "    img_prep_step,\n",
    "    tf_lenet5_trainable_def.build(),\n",
    "    best_cat_step,\n",
    ")"
   ]
  },
  {
   "cell_type": "code",
   "execution_count": null,
   "id": "8549b023-2198-4dbc-b182-81a84a89f0c1",
   "metadata": {
    "execution": {
     "iopub.status.busy": "2022-12-09T23:39:59.415741Z",
     "iopub.status.idle": "2022-12-09T23:39:59.416027Z",
     "shell.execute_reply": "2022-12-09T23:39:59.415913Z",
     "shell.execute_reply.started": "2022-12-09T23:39:59.415900Z"
    },
    "tags": []
   },
   "outputs": [],
   "source": [
    "train_method(tf_lenet5_pipe, call_context_reqs={'tf': gpu_req})"
   ]
  },
  {
   "cell_type": "code",
   "execution_count": null,
   "id": "8ff20775-6393-45f5-84f9-ab9fee4ff3fd",
   "metadata": {
    "execution": {
     "iopub.status.busy": "2022-12-09T23:39:59.416854Z",
     "iopub.status.idle": "2022-12-09T23:39:59.417142Z",
     "shell.execute_reply": "2022-12-09T23:39:59.417031Z",
     "shell.execute_reply.started": "2022-12-09T23:39:59.417018Z"
    },
    "tags": []
   },
   "outputs": [],
   "source": [
    "model_dict['tf_lenet5_norm'] = {\n",
    "    'model': tf_lenet5_pipe,\n",
    "    'label': 'Lenet-5 (With Norm) (Tensorflow)',\n",
    "}"
   ]
  },
  {
   "cell_type": "code",
   "execution_count": null,
   "id": "5a151cc7-b25b-4163-a1b2-4f68c5d8b185",
   "metadata": {
    "execution": {
     "iopub.status.busy": "2022-12-09T23:39:59.418036Z",
     "iopub.status.idle": "2022-12-09T23:39:59.418540Z",
     "shell.execute_reply": "2022-12-09T23:39:59.418410Z",
     "shell.execute_reply.started": "2022-12-09T23:39:59.418394Z"
    },
    "tags": []
   },
   "outputs": [],
   "source": [
    "# We need to change the device of the final result\n",
    "tf_lenet5_pipe = dryml.models.Pipe(\n",
    "    resize_step,\n",
    "    tf_lenet5_trainable_def.build(),\n",
    "    best_cat_step,\n",
    ")"
   ]
  },
  {
   "cell_type": "code",
   "execution_count": null,
   "id": "ab7c6c94-bc08-4424-95f7-5f60d3a2da47",
   "metadata": {
    "execution": {
     "iopub.status.busy": "2022-12-09T23:39:59.419297Z",
     "iopub.status.idle": "2022-12-09T23:39:59.419717Z",
     "shell.execute_reply": "2022-12-09T23:39:59.419603Z",
     "shell.execute_reply.started": "2022-12-09T23:39:59.419590Z"
    },
    "tags": []
   },
   "outputs": [],
   "source": [
    "train_method(tf_lenet5_pipe, call_context_reqs={'tf': gpu_req})"
   ]
  },
  {
   "cell_type": "code",
   "execution_count": null,
   "id": "c56262d6-1732-4524-8c67-b6c8c9ad32dc",
   "metadata": {
    "execution": {
     "iopub.status.busy": "2022-12-09T23:39:59.420343Z",
     "iopub.status.idle": "2022-12-09T23:39:59.420792Z",
     "shell.execute_reply": "2022-12-09T23:39:59.420655Z",
     "shell.execute_reply.started": "2022-12-09T23:39:59.420640Z"
    },
    "tags": []
   },
   "outputs": [],
   "source": [
    "model_dict['tf_lenet5_no_norm'] = {\n",
    "    'model': tf_lenet5_pipe,\n",
    "    'label': 'Lenet-5 (No Norm) (Tensorflow)',\n",
    "}"
   ]
  },
  {
   "cell_type": "markdown",
   "id": "4cdc6755-046c-434f-9b9b-57171a196452",
   "metadata": {},
   "source": [
    "## Convolutional transformer"
   ]
  },
  {
   "cell_type": "code",
   "execution_count": null,
   "id": "92992bde-507d-48d9-bf45-c3a62d77706f",
   "metadata": {
    "execution": {
     "iopub.status.busy": "2022-12-09T23:39:59.421525Z",
     "iopub.status.idle": "2022-12-09T23:39:59.421763Z",
     "shell.execute_reply": "2022-12-09T23:39:59.421652Z",
     "shell.execute_reply.started": "2022-12-09T23:39:59.421640Z"
    },
    "tags": []
   },
   "outputs": [],
   "source": [
    "%%writefile tf_conv_transformer_test.py\n",
    "\n",
    "import tensorflow as tf\n",
    "import numpy as np\n",
    "\n",
    "# Define the scaled dotproduct attention\n",
    "class TFScaledDotProductAttention(tf.keras.layers.Layer):\n",
    "    def __init__(self, qk_dim=None, v_dim=None, **kwargs):\n",
    "        super().__init__(**kwargs)\n",
    "        if v_dim is None and qk_dim is not None:\n",
    "            v_dim = qk_dim\n",
    "        self.scale_factor = np.sqrt(qk_dim)\n",
    "        self.query_layer = tf.keras.layers.Dense(qk_dim)\n",
    "        self.key_layer = tf.keras.layers.Dense(qk_dim)\n",
    "        self.value_layer = tf.keras.layers.Dense(v_dim)\n",
    "    \n",
    "    def call(self, inputs):\n",
    "        q = self.query_layer(inputs)\n",
    "        k = self.key_layer(inputs)\n",
    "        v = self.value_layer(inputs)\n",
    "        sft_m = tf.math.softmax(tf.matmul(q, tf.transpose(k, perm=[0, 2, 1]))/self.scale_factor, axis=-1)\n",
    "        return tf.matmul(sft_m, v)\n",
    "\n",
    "# Multihead attention\n",
    "class TFMultiHeadScaledDotProductAttention(tf.keras.layers.Layer):\n",
    "    def __init__(self, n_heads, qk_dim, v_dim, **kwargs):\n",
    "        super().__init__(**kwargs)\n",
    "        head_dim = qk_dim // n_heads\n",
    "        self.n_heads = n_heads\n",
    "        self.heads = []\n",
    "        for i in range(self.n_heads):\n",
    "            self.heads.append(TFScaledDotProductAttention(qk_dim=head_dim, v_dim=v_dim))\n",
    "    \n",
    "    def call(self, inputs):\n",
    "        head_results = []\n",
    "        for i in range(self.n_heads):\n",
    "            head_results.append(self.heads[i](inputs))\n",
    "        return tf.concat(head_results, axis=-1)\n",
    "\n",
    "class TFConvTransformerTest(tf.keras.Model):\n",
    "    def __init__(self, conv2d_filters, **kwargs):\n",
    "        super().__init__(**kwargs)\n",
    "        self.conv2d_1 = tf.keras.layers.Conv2D(conv2d_filters, 3, activation='relu')\n",
    "        self.conv2d_2 = tf.keras.layers.Conv2D(conv2d_filters, 3, activation='relu')\n",
    "        self.at_layer = TFMultiHeadScaledDotProductAttention(4, conv2d_filters//4, conv2d_filters//4)\n",
    "        self.dense_1 = tf.keras.layers.Dense(conv2d_filters*4)\n",
    "        self.dense_2 = tf.keras.layers.Dense(conv2d_filters)\n",
    "        self.dense_final = tf.keras.layers.Dense(10, activation='softmax')\n",
    "    \n",
    "    def call(self, inputs):\n",
    "        x = self.conv2d_1(inputs)\n",
    "        x = self.conv2d_2(x)\n",
    "        x_shape = tf.shape(x)\n",
    "        x = tf.reshape(x, [x_shape[0], x_shape[1]*x_shape[2], x_shape[3]])\n",
    "        at_x = self.at_layer(x)\n",
    "        x = x+at_x\n",
    "        x = tf.keras.layers.Flatten()(x)\n",
    "        x = self.dense_1(x)\n",
    "        x = self.dense_2(x)\n",
    "        x = self.dense_final(x)\n",
    "        return x"
   ]
  },
  {
   "cell_type": "code",
   "execution_count": null,
   "id": "d16c4e1b-5d06-4c0f-9586-a78c8d974aaf",
   "metadata": {
    "execution": {
     "iopub.status.busy": "2022-12-09T23:39:59.422485Z",
     "iopub.status.idle": "2022-12-09T23:39:59.422932Z",
     "shell.execute_reply": "2022-12-09T23:39:59.422817Z",
     "shell.execute_reply.started": "2022-12-09T23:39:59.422804Z"
    },
    "tags": []
   },
   "outputs": [],
   "source": [
    "from tf_conv_transformer_test import TFConvTransformerTest"
   ]
  },
  {
   "cell_type": "code",
   "execution_count": null,
   "id": "7075cbb9-a112-4cee-b5c0-24d9519f0d44",
   "metadata": {
    "execution": {
     "iopub.status.busy": "2022-12-09T23:39:59.423659Z",
     "iopub.status.idle": "2022-12-09T23:39:59.423942Z",
     "shell.execute_reply": "2022-12-09T23:39:59.423828Z",
     "shell.execute_reply.started": "2022-12-09T23:39:59.423815Z"
    },
    "tags": []
   },
   "outputs": [],
   "source": [
    "tf_transformer_mdl_def = dryml.ObjectDef(\n",
    "    dryml.models.tf.keras.ModelWrapper,\n",
    "    TFConvTransformerTest,\n",
    "    32\n",
    ")\n",
    "\n",
    "tf_transformer_test_mdl_def = dryml.ObjectDef(\n",
    "    dryml.models.tf.keras.Trainable,\n",
    "    model=tf_transformer_mdl_def,\n",
    "    optimizer=dryml.models.tf.Wrapper(\n",
    "        tf.keras.optimizers.Adam\n",
    "    ),\n",
    "    loss=dryml.models.tf.Wrapper(\n",
    "        tf.keras.losses.SparseCategoricalCrossentropy,\n",
    "        from_logits=True\n",
    "    ),\n",
    "    train_fn=dryml.models.tf.keras.BasicTraining(\n",
    "        callbacks=[\n",
    "            dryml.models.tf.Wrapper(\n",
    "                tf.keras.callbacks.EarlyStopping(\n",
    "                    patience=2\n",
    "                    restore_best_weights=True\n",
    "                )\n",
    "            )\n",
    "        ]\n",
    "    )\n",
    ")"
   ]
  },
  {
   "cell_type": "code",
   "execution_count": null,
   "id": "706ab4c5-c2f0-470d-924a-2b57d2fa10c0",
   "metadata": {
    "execution": {
     "iopub.status.busy": "2022-12-09T23:39:59.424717Z",
     "iopub.status.idle": "2022-12-09T23:39:59.425010Z",
     "shell.execute_reply": "2022-12-09T23:39:59.424890Z",
     "shell.execute_reply.started": "2022-12-09T23:39:59.424875Z"
    },
    "tags": []
   },
   "outputs": [],
   "source": [
    "tf_transformer_test_pipe = dryml.models.Pipe(\n",
    "    img_prep_step,\n",
    "    tf_transformer_test_mdl_def.build(),\n",
    "    best_cat_step,\n",
    ")"
   ]
  },
  {
   "cell_type": "code",
   "execution_count": null,
   "id": "427096c3-21a2-4ab4-a668-b878ebb9629c",
   "metadata": {
    "execution": {
     "iopub.status.busy": "2022-12-09T23:39:59.425937Z",
     "iopub.status.idle": "2022-12-09T23:39:59.426535Z",
     "shell.execute_reply": "2022-12-09T23:39:59.426339Z",
     "shell.execute_reply.started": "2022-12-09T23:39:59.426318Z"
    },
    "tags": []
   },
   "outputs": [],
   "source": [
    "train_method(tf_transformer_test_pipe, call_context_reqs={'tf': gpu_req})"
   ]
  },
  {
   "cell_type": "code",
   "execution_count": null,
   "id": "36c8400f-5e38-4932-be0e-15045ba57d85",
   "metadata": {
    "execution": {
     "iopub.status.busy": "2022-12-09T23:39:59.427204Z",
     "iopub.status.idle": "2022-12-09T23:39:59.427556Z",
     "shell.execute_reply": "2022-12-09T23:39:59.427442Z",
     "shell.execute_reply.started": "2022-12-09T23:39:59.427429Z"
    },
    "tags": []
   },
   "outputs": [],
   "source": [
    "model_dict['tf_transformer_test_1_norm'] = {\n",
    "    'model': tf_transformer_test_pipe,\n",
    "    'label': 'Convolutional Transformer Test (With Norm) (Tensorflow)'\n",
    "}"
   ]
  },
  {
   "cell_type": "code",
   "execution_count": null,
   "id": "887dbead-6440-4af0-a988-9547422df178",
   "metadata": {
    "execution": {
     "iopub.status.busy": "2022-12-09T23:39:59.428227Z",
     "iopub.status.idle": "2022-12-09T23:39:59.428568Z",
     "shell.execute_reply": "2022-12-09T23:39:59.428456Z",
     "shell.execute_reply.started": "2022-12-09T23:39:59.428443Z"
    },
    "tags": []
   },
   "outputs": [],
   "source": [
    "tf_transformer_test_pipe = dryml.models.Pipe(\n",
    "    dryml.data.transforms.Cast(mode='X', dtype='float32'),\n",
    "    tf_transformer_test_mdl_def.build(),\n",
    "    best_cat_step,\n",
    ")"
   ]
  },
  {
   "cell_type": "code",
   "execution_count": null,
   "id": "d213c322-6732-4b3e-b4f2-638cd8fd4eb1",
   "metadata": {
    "execution": {
     "iopub.status.busy": "2022-12-09T23:39:59.429114Z",
     "iopub.status.idle": "2022-12-09T23:39:59.429368Z",
     "shell.execute_reply": "2022-12-09T23:39:59.429256Z",
     "shell.execute_reply.started": "2022-12-09T23:39:59.429243Z"
    },
    "tags": []
   },
   "outputs": [],
   "source": [
    "train_method(tf_transformer_test_pipe, call_context_reqs={'tf': gpu_req})"
   ]
  },
  {
   "cell_type": "code",
   "execution_count": null,
   "id": "f4481368-1cef-4b3a-93fe-394eeb79e027",
   "metadata": {
    "execution": {
     "iopub.status.busy": "2022-12-09T23:39:59.430165Z",
     "iopub.status.idle": "2022-12-09T23:39:59.430393Z",
     "shell.execute_reply": "2022-12-09T23:39:59.430285Z",
     "shell.execute_reply.started": "2022-12-09T23:39:59.430273Z"
    },
    "tags": []
   },
   "outputs": [],
   "source": [
    "model_dict['tf_transformer_test_1_no_norm'] = {\n",
    "    'model': tf_transformer_test_pipe,\n",
    "    'label': 'Convolutional Transformer Test (No Norm) (Tensorflow)'\n",
    "}"
   ]
  },
  {
   "cell_type": "markdown",
   "id": "77d68ad4-d681-479c-88b6-2a29093e74b8",
   "metadata": {},
   "source": [
    "# Model Comparison\n",
    "\n",
    "Let's compare these models directly and create a plot! We'll create a function which takes a dictionary with models and their labels, and creates the plot."
   ]
  },
  {
   "cell_type": "code",
   "execution_count": null,
   "id": "fd0e84a4-38bb-497b-aff2-3d11c2ba0901",
   "metadata": {
    "execution": {
     "iopub.status.busy": "2022-12-09T23:39:59.431358Z",
     "iopub.status.idle": "2022-12-09T23:39:59.431600Z",
     "shell.execute_reply": "2022-12-09T23:39:59.431490Z",
     "shell.execute_reply.started": "2022-12-09T23:39:59.431478Z"
    },
    "tags": []
   },
   "outputs": [],
   "source": [
    "import matplotlib.pyplot as plt"
   ]
  },
  {
   "cell_type": "code",
   "execution_count": null,
   "id": "4f377fcc-2f92-4183-95fd-f051d6cfb87b",
   "metadata": {
    "execution": {
     "iopub.status.busy": "2022-12-09T23:39:59.432627Z",
     "iopub.status.idle": "2022-12-09T23:39:59.433025Z",
     "shell.execute_reply": "2022-12-09T23:39:59.432907Z",
     "shell.execute_reply.started": "2022-12-09T23:39:59.432894Z"
    },
    "tags": []
   },
   "outputs": [],
   "source": [
    "# define method for computing accuracy\n",
    "def compute_accuracies(model_dict):\n",
    "    message = False\n",
    "    # compute model accuracies\n",
    "    for mdl_name in model_dict:\n",
    "        if 'acc' not in model_dict[mdl_name]:\n",
    "            if not message:\n",
    "                print(\"Computing Accuracies\")\n",
    "                message = True\n",
    "            print(f\"model: {mdl_name}\")\n",
    "            model_dict[mdl_name]['acc'] = test_method(model_dict[mdl_name]['model'], call_context_reqs={'tf': {'gpu/1': 1.}, 'torch': {'gpu/0': 1.}})"
   ]
  },
  {
   "cell_type": "code",
   "execution_count": null,
   "id": "4275eb50-d7ae-45b4-acd4-763afd5ca328",
   "metadata": {
    "execution": {
     "iopub.status.busy": "2022-12-09T23:39:59.433662Z",
     "iopub.status.idle": "2022-12-09T23:39:59.433950Z",
     "shell.execute_reply": "2022-12-09T23:39:59.433837Z",
     "shell.execute_reply.started": "2022-12-09T23:39:59.433822Z"
    },
    "tags": []
   },
   "outputs": [],
   "source": [
    "# refresh accuracies\n",
    "compute_accuracies(model_dict)"
   ]
  },
  {
   "cell_type": "code",
   "execution_count": null,
   "id": "cffe629e-c0b3-42ad-8175-d64685a75844",
   "metadata": {
    "execution": {
     "iopub.status.busy": "2022-12-09T23:39:59.434666Z",
     "iopub.status.idle": "2022-12-09T23:39:59.435085Z",
     "shell.execute_reply": "2022-12-09T23:39:59.434973Z",
     "shell.execute_reply.started": "2022-12-09T23:39:59.434960Z"
    },
    "tags": []
   },
   "outputs": [],
   "source": [
    "# Define a method to build a full plot\n",
    "def plot_model_errors(model_dict):\n",
    "    # Compute error rate\n",
    "    for mdl_name in model_dict:\n",
    "        if 'acc' in model_dict[mdl_name]:\n",
    "            model_dict[mdl_name]['err'] = (1.-model_dict[mdl_name]['acc'])*100.\n",
    "\n",
    "    model_names = model_dict.keys()\n",
    "    # put the models with lowest error rates last.\n",
    "    model_names = sorted(model_names, key=lambda v: model_dict[v]['err'])\n",
    "    y_pos = np.arange(len(model_names))\n",
    "\n",
    "    fig, ax = plt.subplots()\n",
    "\n",
    "    errs = [model_dict[n]['err'] for n in model_names]\n",
    "    labels = [model_dict[n]['label'] for n in model_names]\n",
    "\n",
    "    ax.barh(y_pos, errs, align='center')\n",
    "    ax.set_yticks(y_pos, labels=labels)\n",
    "    ax.set_xlabel(\"Error rate [Percentage]\")\n",
    "\n",
    "    plt.show()"
   ]
  },
  {
   "cell_type": "code",
   "execution_count": null,
   "id": "f2ca4edb-86a8-4c86-8133-37bff5b2701a",
   "metadata": {
    "execution": {
     "iopub.status.busy": "2022-12-09T23:39:59.435823Z",
     "iopub.status.idle": "2022-12-09T23:39:59.436131Z",
     "shell.execute_reply": "2022-12-09T23:39:59.436015Z",
     "shell.execute_reply.started": "2022-12-09T23:39:59.436001Z"
    },
    "tags": []
   },
   "outputs": [],
   "source": [
    "plot_model_errors(model_dict)"
   ]
  },
  {
   "cell_type": "markdown",
   "id": "d3f86e41-c7e0-456c-a93a-a49964111b4a",
   "metadata": {},
   "source": [
    "# Can we do better?\n",
    "\n",
    "There are a few techniques we've left on the cutting room floor so-to-speak.\n",
    "\n",
    "* **Data Augmentation**: We can apply transformations to the dataset to expose the model to 'new' image examples\n",
    "* **L2 Regularization**: We can restrict the size of the weights of some layers by applying an l2 regularization term. This term is penalizes the model for having weights with large magnitudes.\n",
    "* **Learning Rate Scheduling**: As training proceeds, the model will reach a plateau. This is a sign we should reduce the learning rate.\n",
    "* **Dropout Regularization**: Commonly, Dropout is used to make the model more robust. Dropout encourages the model to learn useful features so it can still do well when a random selection of features is removed.\n",
    "* **Batch Normalization**: this technique helps gradients propogate through the network.\n",
    "\n",
    "Models and techniques throughout this section are taken from the following article: (Thanks to Jay Gupta)\n",
    "https://towardsdatascience.com/going-beyond-99-mnist-handwritten-digits-recognition-cfff96337392"
   ]
  },
  {
   "cell_type": "markdown",
   "id": "6955d19b-cff0-46ae-ab6a-b0d3212e81b2",
   "metadata": {},
   "source": [
    "## Data Augmentation\n",
    "\n",
    "First, let's apply some data augmentation to the dataset to give the model more 'examples' to learn from. We'll add random scaling, rotations, flips, and some noise. We'll have to create our own data transform object for that."
   ]
  },
  {
   "cell_type": "code",
   "execution_count": 20,
   "id": "07e411e3-79bd-4b10-a1c5-4c37baac2faa",
   "metadata": {
    "execution": {
     "iopub.execute_input": "2022-12-09T23:41:39.788012Z",
     "iopub.status.busy": "2022-12-09T23:41:39.787694Z",
     "iopub.status.idle": "2022-12-09T23:41:39.793070Z",
     "shell.execute_reply": "2022-12-09T23:41:39.792520Z",
     "shell.execute_reply.started": "2022-12-09T23:41:39.787988Z"
    },
    "tags": []
   },
   "outputs": [
    {
     "name": "stdout",
     "output_type": "stream",
     "text": [
      "Overwriting image_augmentation.py\n"
     ]
    }
   ],
   "source": [
    "%%writefile image_augmentation.py\n",
    "import tensorflow as tf\n",
    "import dryml.models\n",
    "import dryml.data\n",
    "\n",
    "class ImageAugmentation(dryml.models.Trainable):\n",
    "    def __init__(\n",
    "            self,\n",
    "            noise_stddev=0.0,\n",
    "            min_max=(0., 1.),\n",
    "            zoom=(0., 0.),\n",
    "            rot=(0., 0.),\n",
    "            trans_w=(0., 0.),\n",
    "            trans_h=(0., 0.),\n",
    "            fill_mode='constant',\n",
    "            seed=42,\n",
    "            batch_size=32,\n",
    "            channels=3):\n",
    "        # Noise\n",
    "        self.noise_stddev = noise_stddev\n",
    "        self.min_max = min_max\n",
    "        # Scaling\n",
    "        self.zoom = zoom\n",
    "        # Rotation\n",
    "        self.rot = rot\n",
    "        # Translation\n",
    "        self.trans_w = trans_w\n",
    "        self.trans_h = trans_h\n",
    "        # Seed\n",
    "        self.seed = seed\n",
    "        self.fill_mode = fill_mode\n",
    "        self.batch_size = batch_size\n",
    "        self.channels = channels\n",
    "\n",
    "    def compute_prepare_imp(self):\n",
    "        inp = tf.keras.layers.Input((None, None, self.channels))\n",
    "        last_layer = inp\n",
    "\n",
    "        # Noise\n",
    "        last_layer = tf.keras.layers.GaussianNoise(\n",
    "            self.noise_stddev,\n",
    "            seed=self.seed,\n",
    "        )(last_layer)\n",
    "\n",
    "        # Scaling\n",
    "        last_layer = tf.keras.layers.RandomZoom(\n",
    "            self.zoom,\n",
    "            seed=self.seed,\n",
    "            fill_mode=self.fill_mode\n",
    "        )(last_layer)\n",
    "        # Rotation\n",
    "        last_layer = tf.keras.layers.RandomRotation(\n",
    "            self.rot,\n",
    "            seed=self.seed,\n",
    "            fill_mode=self.fill_mode,\n",
    "        )(last_layer)\n",
    "        # Translation\n",
    "        last_layer = tf.keras.layers.RandomTranslation(\n",
    "            self.trans_h,\n",
    "            self.trans_w,\n",
    "            fill_mode=self.fill_mode\n",
    "        )(last_layer)\n",
    "        # Clip value\n",
    "        last_layer = tf.clip_by_value(last_layer, self.min_max[0], self.min_max[1])\n",
    "\n",
    "        self.augmenter = tf.keras.Model(\n",
    "            inputs=inp,\n",
    "            outputs=last_layer\n",
    "        )\n",
    "    \n",
    "    def compute_cleanup_imp(self):\n",
    "        del self.augmenter\n",
    "    \n",
    "    def eval(self, data: dryml.data.dataset.Dataset, *args, **kwargs):\n",
    "        if not data.batched:\n",
    "            data = data.batch(batch_size=self.batch_size)\n",
    "        return data.apply_X(\n",
    "            lambda X: self.augmenter(X, training=True)\n",
    "        )"
   ]
  },
  {
   "cell_type": "code",
   "execution_count": 21,
   "id": "bd6dd521-d249-4b8a-93d9-73f0868fd913",
   "metadata": {
    "execution": {
     "iopub.execute_input": "2022-12-09T23:41:40.575793Z",
     "iopub.status.busy": "2022-12-09T23:41:40.575234Z",
     "iopub.status.idle": "2022-12-09T23:41:40.580000Z",
     "shell.execute_reply": "2022-12-09T23:41:40.579420Z",
     "shell.execute_reply.started": "2022-12-09T23:41:40.575771Z"
    },
    "tags": []
   },
   "outputs": [],
   "source": [
    "from image_augmentation import ImageAugmentation"
   ]
  },
  {
   "cell_type": "code",
   "execution_count": 22,
   "id": "48406332-22de-405b-9e7f-0c6672661360",
   "metadata": {
    "execution": {
     "iopub.execute_input": "2022-12-09T23:41:40.891665Z",
     "iopub.status.busy": "2022-12-09T23:41:40.890706Z",
     "iopub.status.idle": "2022-12-09T23:41:40.897755Z",
     "shell.execute_reply": "2022-12-09T23:41:40.896690Z",
     "shell.execute_reply.started": "2022-12-09T23:41:40.891613Z"
    },
    "tags": []
   },
   "outputs": [],
   "source": [
    "# Create the image augmenter\n",
    "img_augmenter = ImageAugmentation(\n",
    "    noise_stddev=0.0,\n",
    "    zoom=(-0.1, 0.1),\n",
    "    rot=(-0.2, 0.2),\n",
    "    trans_w=(-0.1, 0.1),\n",
    "    trans_h=(-0.1, 0.1),\n",
    "    channels=1,\n",
    ")"
   ]
  },
  {
   "cell_type": "markdown",
   "id": "c3299a0c-5984-499b-b4a9-92b3595f081f",
   "metadata": {},
   "source": [
    "We need to create a new training method which can apply the image augmentation to the training set."
   ]
  },
  {
   "cell_type": "code",
   "execution_count": 23,
   "id": "12c1c0a0-1e2f-4943-acd1-da82881a8d0c",
   "metadata": {
    "execution": {
     "iopub.execute_input": "2022-12-09T23:41:44.417806Z",
     "iopub.status.busy": "2022-12-09T23:41:44.417499Z",
     "iopub.status.idle": "2022-12-09T23:41:44.421403Z",
     "shell.execute_reply": "2022-12-09T23:41:44.420957Z",
     "shell.execute_reply.started": "2022-12-09T23:41:44.417786Z"
    },
    "tags": []
   },
   "outputs": [],
   "source": [
    "@dryml.context.compute_context(ctx_update_objs=True)\n",
    "def train_method_aug(trainable, augmenter):\n",
    "    import dryml.examples.mnist_digits as dry_digits\n",
    "    import dryml.metrics\n",
    "\n",
    "    shop = dry_digits.MNISTDigitsWorkshop()\n",
    "    shop.data_prep()\n",
    "    train_ds = augmenter.eval(shop.train_ds)\n",
    "\n",
    "    trainable.prep_train()\n",
    "    trainable.train(train_ds)\n",
    "\n",
    "    return dryml.metrics.scalar.categorical_accuracy(trainable, shop.test_ds)"
   ]
  },
  {
   "cell_type": "markdown",
   "id": "14a6dfdd-2d90-4179-9d68-9a1f1c4cf638",
   "metadata": {},
   "source": [
    "## Adjusting the Learning Rate\n",
    "\n",
    "We can now add a callback to our training method, `tf.keras.callbacks.ReduceLROnPlateau`"
   ]
  },
  {
   "cell_type": "code",
   "execution_count": 24,
   "id": "4a39f888-d93b-44b8-ab04-13a537629a88",
   "metadata": {
    "execution": {
     "iopub.execute_input": "2022-12-09T23:41:46.694601Z",
     "iopub.status.busy": "2022-12-09T23:41:46.693986Z",
     "iopub.status.idle": "2022-12-09T23:41:46.700873Z",
     "shell.execute_reply": "2022-12-09T23:41:46.700019Z",
     "shell.execute_reply.started": "2022-12-09T23:41:46.694555Z"
    },
    "tags": []
   },
   "outputs": [],
   "source": [
    "# Let's define the callback\n",
    "lr_callback = dryml.models.tf.Wrapper(\n",
    "    tf.keras.callbacks.ReduceLROnPlateau,\n",
    "    factor=0.2,\n",
    "    patience=5,\n",
    ")"
   ]
  },
  {
   "cell_type": "markdown",
   "id": "489f0845-7264-4965-890f-0d183d968c12",
   "metadata": {},
   "source": [
    "## Bigger Model\n",
    "\n",
    "We'll now improve the Lenet-5 model with more techniques like `Dropout`, and l2regularization"
   ]
  },
  {
   "cell_type": "code",
   "execution_count": 25,
   "id": "d99aaff1-cf26-4b7a-ad90-5c06676b89cb",
   "metadata": {
    "execution": {
     "iopub.execute_input": "2022-12-09T23:41:48.728311Z",
     "iopub.status.busy": "2022-12-09T23:41:48.727443Z",
     "iopub.status.idle": "2022-12-09T23:41:48.737361Z",
     "shell.execute_reply": "2022-12-09T23:41:48.736472Z",
     "shell.execute_reply.started": "2022-12-09T23:41:48.728259Z"
    },
    "tags": []
   },
   "outputs": [
    {
     "name": "stdout",
     "output_type": "stream",
     "text": [
      "Overwriting tf_better_lenet5.py\n"
     ]
    }
   ],
   "source": [
    "%%writefile tf_better_lenet5.py\n",
    "\n",
    "import tensorflow as tf\n",
    "\n",
    "class TFBetterLenet5(tf.keras.Model):\n",
    "    def __init__(self):\n",
    "        inp = tf.keras.layers.Input((32, 32, 1))\n",
    "        last_layer = inp\n",
    "        # Layer 1\n",
    "        last_layer = tf.keras.layers.Conv2D(\n",
    "            filters=32,\n",
    "            kernel_size=5,\n",
    "            strides=1,\n",
    "            activation='relu',\n",
    "            kernel_regularizer=tf.keras.regularizers.l2(0.0005))(last_layer)\n",
    "        # Layer 2\n",
    "        last_layer = tf.keras.layers.Conv2D(\n",
    "            filters=32,\n",
    "            kernel_size=5,\n",
    "            strides=1,\n",
    "            use_bias=False)(last_layer)\n",
    "        last_layer = tf.keras.layers.BatchNormalization()(last_layer)\n",
    "        last_layer = tf.keras.layers.Activation('relu')(last_layer)\n",
    "        # Layer 3\n",
    "        last_layer = tf.keras.layers.MaxPooling2D(\n",
    "            pool_size=2,\n",
    "            strides=2)(last_layer)\n",
    "        last_layer = tf.keras.layers.Dropout(0.25)(last_layer)\n",
    "        # Layer 4\n",
    "        last_layer = tf.keras.layers.Conv2D(\n",
    "            filters=64,\n",
    "            kernel_size=3,\n",
    "            strides=1,\n",
    "            activation='relu',\n",
    "            kernel_regularizer=tf.keras.regularizers.l2(0.0005))(last_layer)\n",
    "        # Layer 5\n",
    "        last_layer = tf.keras.layers.Conv2D(\n",
    "            filters=64,\n",
    "            kernel_size=3,\n",
    "            strides=1,\n",
    "            use_bias=False)(last_layer)\n",
    "        last_layer = tf.keras.layers.BatchNormalization()(last_layer)\n",
    "        last_layer = tf.keras.layers.Activation('relu')(last_layer)\n",
    "        # Layer 6\n",
    "        last_layer = tf.keras.layers.MaxPooling2D(\n",
    "            pool_size=2,\n",
    "            strides=2)(last_layer)\n",
    "        last_layer = tf.keras.layers.Dropout(0.25)(last_layer)\n",
    "        last_layer = tf.keras.layers.Flatten()(last_layer)\n",
    "        # Layer 7\n",
    "        last_layer = tf.keras.layers.Dense(\n",
    "            units=256,\n",
    "            use_bias=False)(last_layer)\n",
    "        last_layer = tf.keras.layers.BatchNormalization()(last_layer)\n",
    "        last_layer = tf.keras.layers.Activation('relu')(last_layer)\n",
    "        # Layer 8\n",
    "        last_layer = tf.keras.layers.Dense(\n",
    "            units=128,\n",
    "            use_bias=False)(last_layer)\n",
    "        last_layer = tf.keras.layers.BatchNormalization()(last_layer)\n",
    "        last_layer = tf.keras.layers.Activation('relu')(last_layer)\n",
    "        # Layer 9\n",
    "        last_layer = tf.keras.layers.Dense(\n",
    "            units=84,\n",
    "            use_bias=False)(last_layer)\n",
    "        last_layer = tf.keras.layers.BatchNormalization()(last_layer)\n",
    "        last_layer = tf.keras.layers.Activation('relu')(last_layer)\n",
    "        last_layer = tf.keras.layers.Dropout(0.25)(last_layer)\n",
    "        # Layer 10\n",
    "        last_layer = tf.keras.layers.Dense(units = 10, activation = 'softmax')(last_layer)\n",
    "        \n",
    "        super().__init__(inputs=inp, outputs=last_layer)"
   ]
  },
  {
   "cell_type": "code",
   "execution_count": 26,
   "id": "299b6fbb-3bb8-4d16-82bd-f6fab2ce92b9",
   "metadata": {
    "execution": {
     "iopub.execute_input": "2022-12-09T23:41:49.932278Z",
     "iopub.status.busy": "2022-12-09T23:41:49.932010Z",
     "iopub.status.idle": "2022-12-09T23:41:49.936925Z",
     "shell.execute_reply": "2022-12-09T23:41:49.936415Z",
     "shell.execute_reply.started": "2022-12-09T23:41:49.932255Z"
    },
    "tags": []
   },
   "outputs": [],
   "source": [
    "from tf_better_lenet5 import TFBetterLenet5"
   ]
  },
  {
   "cell_type": "markdown",
   "id": "958cff11-7d52-4252-89fc-cf62484c5d3d",
   "metadata": {},
   "source": [
    "Now we have access to all the improvements mentioned before. Let's create a model which we hope will train better."
   ]
  },
  {
   "cell_type": "code",
   "execution_count": 28,
   "id": "efb5048b-9053-498e-8f3b-f7101cb66aa2",
   "metadata": {
    "execution": {
     "iopub.execute_input": "2022-12-09T23:41:57.962303Z",
     "iopub.status.busy": "2022-12-09T23:41:57.961992Z",
     "iopub.status.idle": "2022-12-09T23:41:57.968205Z",
     "shell.execute_reply": "2022-12-09T23:41:57.967381Z",
     "shell.execute_reply.started": "2022-12-09T23:41:57.962282Z"
    },
    "tags": []
   },
   "outputs": [],
   "source": [
    "tflenet5_2_mdl_def = dryml.ObjectDef(\n",
    "    dryml.models.tf.keras.ModelWrapper,\n",
    "    TFBetterLenet5,\n",
    ")\n",
    "\n",
    "tflenet5_mdl_comp_def = dryml.ObjectDef(\n",
    "    dryml.models.tf.keras.Trainable,\n",
    "    model=tflenet5_2_mdl_def,\n",
    "    optimizer=dryml.models.tf.Wrapper(\n",
    "        tf.keras.optimizers.Adam\n",
    "    ),\n",
    "    loss=dryml.models.tf.Wrapper(\n",
    "        tf.keras.losses.SparseCategoricalCrossentropy\n",
    "    ),\n",
    "    train_fn=dryml.models.tf.keras.BasicTraining(\n",
    "        epochs=30,\n",
    "        callbacks=[\n",
    "            dryml.models.tf.Wrapper(\n",
    "                tf.keras.callbacks.ReduceLROnPlateau,\n",
    "                factor=0.2,\n",
    "                patience=2,\n",
    "            )\n",
    "        ],\n",
    "        train_transform=ImageAugmentation(\n",
    "            noise_stddev=0.0,\n",
    "            zoom=(-0.1, 0.1),\n",
    "            rot=(-0.2, 0.2),\n",
    "            trans_w=(-0.1, 0.1),\n",
    "            trans_h=(-0.1, 0.1),\n",
    "            channels=1,\n",
    "        )\n",
    "    )\n",
    ")"
   ]
  },
  {
   "cell_type": "code",
   "execution_count": 29,
   "id": "25107f68-41ec-4116-8c6c-1d934af8cb2a",
   "metadata": {
    "execution": {
     "iopub.execute_input": "2022-12-09T23:42:00.802527Z",
     "iopub.status.busy": "2022-12-09T23:42:00.802200Z",
     "iopub.status.idle": "2022-12-09T23:42:00.806797Z",
     "shell.execute_reply": "2022-12-09T23:42:00.806194Z",
     "shell.execute_reply.started": "2022-12-09T23:42:00.802507Z"
    },
    "tags": []
   },
   "outputs": [],
   "source": [
    "tflenet_5_pipe_norm = dryml.models.Pipe(\n",
    "    img_prep_step,\n",
    "    resize_step,\n",
    "    tflenet5_mdl_comp_def.build(),\n",
    "    best_cat_step,\n",
    ")"
   ]
  },
  {
   "cell_type": "code",
   "execution_count": 30,
   "id": "5f8edab8-7871-439f-8007-26be7abe1dad",
   "metadata": {
    "execution": {
     "iopub.execute_input": "2022-12-09T23:42:03.176968Z",
     "iopub.status.busy": "2022-12-09T23:42:03.175833Z",
     "iopub.status.idle": "2022-12-09T23:42:14.074220Z",
     "shell.execute_reply": "2022-12-09T23:42:14.073470Z",
     "shell.execute_reply.started": "2022-12-09T23:42:03.176914Z"
    },
    "tags": []
   },
   "outputs": [
    {
     "name": "stderr",
     "output_type": "stream",
     "text": [
      "2022-12-09 17:42:05.875060: I tensorflow/core/common_runtime/gpu/gpu_device.cc:1525] Created device /job:localhost/replica:0/task:0/device:GPU:0 with 6292 MB memory:  -> device: 0, name: NVIDIA GeForce GTX 1080, pci bus id: 0000:02:00.0, compute capability: 6.1\n",
      "2022-12-09 17:42:05.875480: I tensorflow/core/common_runtime/gpu/gpu_device.cc:1525] Created device /job:localhost/replica:0/task:0/device:GPU:1 with 7368 MB memory:  -> device: 1, name: NVIDIA GeForce GTX 1080, pci bus id: 0000:03:00.0, compute capability: 6.1\n"
     ]
    },
    {
     "name": "stdout",
     "output_type": "stream",
     "text": [
      "Exception encountered in context thread! pid: 2324434\n",
      "Traceback (most recent call last):\n",
      "  File \"/data0/matthew/Software/NCSA/DRYML/src/dryml/context/process.py\", line 34, in run\n",
      "    super().run()\n",
      "  File \"/data0/matthew/Software/NCSA/DRYML/venv_dryml_dev/lib/python3.8/multiprocessing/process.py\", line 108, in run\n",
      "    self._target(*self._args, **self._kwargs)\n",
      "  File \"/data0/matthew/Software/NCSA/DRYML/src/dryml/context/process.py\", line 186, in __call__\n",
      "    self.final_call(f, ctx_send_q, ctx_ret_q, *args, **kwargs)\n",
      "  File \"/data0/matthew/Software/NCSA/DRYML/src/dryml/context/process.py\", line 129, in final_call\n",
      "    res = f(*args, **kwargs)\n",
      "  File \"/tmp/ipykernel_2323505/602169870.py\", line 9, in train_method\n",
      "  File \"/data0/matthew/Software/NCSA/DRYML/src/dryml/context/process.py\", line 268, in wrapped_func\n",
      "    res = f(*args, **kwargs)\n",
      "  File \"/data0/matthew/Software/NCSA/DRYML/src/dryml/models/pipe.py\", line 37, in train\n",
      "    step.train(\n",
      "  File \"/data0/matthew/Software/NCSA/DRYML/src/dryml/context/process.py\", line 268, in wrapped_func\n",
      "    res = f(*args, **kwargs)\n",
      "  File \"/data0/matthew/Software/NCSA/DRYML/src/dryml/models/tf/keras/base.py\", line 522, in train\n",
      "    self.train_fn(\n",
      "  File \"/data0/matthew/Software/NCSA/DRYML/src/dryml/context/process.py\", line 268, in wrapped_func\n",
      "    res = f(*args, **kwargs)\n",
      "  File \"/data0/matthew/Software/NCSA/DRYML/src/dryml/models/tf/keras/base.py\", line 385, in __call__\n",
      "    ds_train = self.train_transform.eval(ds_train)\n",
      "  File \"/data0/matthew/Software/NCSA/DRYML/src/dryml/context/process.py\", line 268, in wrapped_func\n",
      "    res = f(*args, **kwargs)\n",
      "  File \"/data0/matthew/Software/NCSA/DRYML/examples/image_augmentation.py\", line 74, in eval\n",
      "    if not data.batched:\n",
      "AttributeError: 'PrefetchDataset' object has no attribute 'batched'\n",
      "\n"
     ]
    },
    {
     "ename": "AttributeError",
     "evalue": "'PrefetchDataset' object has no attribute 'batched'",
     "output_type": "error",
     "traceback": [
      "\u001b[0;31m---------------------------------------------------------------------------\u001b[0m",
      "\u001b[0;31mAttributeError\u001b[0m                            Traceback (most recent call last)",
      "Input \u001b[0;32mIn [30]\u001b[0m, in \u001b[0;36m<cell line: 1>\u001b[0;34m()\u001b[0m\n\u001b[0;32m----> 1\u001b[0m \u001b[43mtrain_method\u001b[49m\u001b[43m(\u001b[49m\u001b[43mtflenet_5_pipe_norm\u001b[49m\u001b[43m,\u001b[49m\u001b[43m \u001b[49m\u001b[43mcall_context_reqs\u001b[49m\u001b[38;5;241;43m=\u001b[39;49m\u001b[43m{\u001b[49m\u001b[38;5;124;43m'\u001b[39;49m\u001b[38;5;124;43mtf\u001b[39;49m\u001b[38;5;124;43m'\u001b[39;49m\u001b[43m:\u001b[49m\u001b[43m \u001b[49m\u001b[43mgpu_req\u001b[49m\u001b[43m}\u001b[49m\u001b[43m)\u001b[49m\n",
      "File \u001b[0;32m/data0/matthew/Software/NCSA/DRYML/src/dryml/context/process.py:370\u001b[0m, in \u001b[0;36mcompute_context.<locals>._func_dec.<locals>.wrapped_func\u001b[0;34m(call_context_reqs, call_use_existing_context, call_dont_create_context, call_update_objs, call_update_skiplist, call_verbose, *args, **kwargs)\u001b[0m\n\u001b[1;32m    368\u001b[0m     p\u001b[38;5;241m.\u001b[39mjoin()\n\u001b[1;32m    369\u001b[0m     \u001b[38;5;66;03m# Reraise\u001b[39;00m\n\u001b[0;32m--> 370\u001b[0m     \u001b[38;5;28;01mraise\u001b[39;00m e\n\u001b[1;32m    372\u001b[0m \u001b[38;5;66;03m# Get results, we need to do this before the join\u001b[39;00m\n\u001b[1;32m    373\u001b[0m \u001b[38;5;66;03m# to prevent deadlock from large data being shuttled\u001b[39;00m\n\u001b[1;32m    374\u001b[0m \u001b[38;5;66;03m# through the queue.\u001b[39;00m\n\u001b[1;32m    375\u001b[0m check_queue()\n",
      "\u001b[0;31mAttributeError\u001b[0m: 'PrefetchDataset' object has no attribute 'batched'"
     ]
    }
   ],
   "source": [
    "train_method(tflenet_5_pipe_norm, call_context_reqs={'tf': gpu_req})"
   ]
  },
  {
   "cell_type": "code",
   "execution_count": null,
   "id": "ec68dc9b-3d8a-4d68-bf9b-1e25de9a70fa",
   "metadata": {
    "execution": {
     "iopub.status.busy": "2022-12-09T23:39:59.448292Z",
     "iopub.status.idle": "2022-12-09T23:39:59.448528Z",
     "shell.execute_reply": "2022-12-09T23:39:59.448418Z",
     "shell.execute_reply.started": "2022-12-09T23:39:59.448406Z"
    },
    "tags": []
   },
   "outputs": [],
   "source": [
    "model_dict['tflenet5_better_norm'] = {\n",
    "    'model': tflenet_5_pipe_norm,\n",
    "    'label': \"Lenet-5 Improved (With Norm) (Tensorflow)\"\n",
    "}"
   ]
  },
  {
   "cell_type": "code",
   "execution_count": null,
   "id": "b7741b46-653a-4822-9d13-c1ede0d36ede",
   "metadata": {
    "execution": {
     "iopub.status.busy": "2022-12-09T23:39:59.449343Z",
     "iopub.status.idle": "2022-12-09T23:39:59.449581Z",
     "shell.execute_reply": "2022-12-09T23:39:59.449470Z",
     "shell.execute_reply.started": "2022-12-09T23:39:59.449458Z"
    }
   },
   "outputs": [],
   "source": [
    "compute_accuracies(model_dict)"
   ]
  },
  {
   "cell_type": "code",
   "execution_count": null,
   "id": "58724ff5-0f4d-411a-b91e-e836816ad635",
   "metadata": {
    "execution": {
     "iopub.status.busy": "2022-12-09T23:39:59.450293Z",
     "iopub.status.idle": "2022-12-09T23:39:59.450527Z",
     "shell.execute_reply": "2022-12-09T23:39:59.450418Z",
     "shell.execute_reply.started": "2022-12-09T23:39:59.450406Z"
    }
   },
   "outputs": [],
   "source": [
    "plot_model_errors(model_dict)"
   ]
  },
  {
   "cell_type": "code",
   "execution_count": null,
   "id": "736ded2d-f9ae-4ccb-8a6c-9ce7261619d3",
   "metadata": {},
   "outputs": [],
   "source": []
  }
 ],
 "metadata": {
  "kernelspec": {
   "display_name": "Python [conda env:venv_dryml_dev]",
   "language": "python",
   "name": "conda-env-venv_dryml_dev-py"
  },
  "language_info": {
   "codemirror_mode": {
    "name": "ipython",
    "version": 3
   },
   "file_extension": ".py",
   "mimetype": "text/x-python",
   "name": "python",
   "nbconvert_exporter": "python",
   "pygments_lexer": "ipython3",
   "version": "3.8.13"
  }
 },
 "nbformat": 4,
 "nbformat_minor": 5
}
